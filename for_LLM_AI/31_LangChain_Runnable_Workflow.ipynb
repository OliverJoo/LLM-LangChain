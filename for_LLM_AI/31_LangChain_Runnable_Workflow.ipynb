{
 "cells": [
  {
   "cell_type": "code",
   "execution_count": 20,
   "id": "initial_id",
   "metadata": {
    "collapsed": true,
    "ExecuteTime": {
     "end_time": "2025-03-03T07:31:46.306266Z",
     "start_time": "2025-03-03T07:31:46.295361Z"
    }
   },
   "outputs": [
    {
     "data": {
      "text/plain": "False"
     },
     "execution_count": 20,
     "metadata": {},
     "output_type": "execute_result"
    }
   ],
   "source": [
    "import os\n",
    "import time\n",
    "from openai import OpenAI\n",
    "from dotenv import load_dotenv\n",
    "\n",
    "load_dotenv()"
   ]
  },
  {
   "cell_type": "code",
   "outputs": [
    {
     "data": {
      "text/plain": "'ko'"
     },
     "execution_count": 21,
     "metadata": {},
     "output_type": "execute_result"
    }
   ],
   "source": [
    "import fasttext\n",
    "\n",
    "\n",
    "def detect_language(text):\n",
    "    model = fasttext.load_model('./data/lid.176.ftz')\n",
    "    predictions = model.predict(text, k=1)\n",
    "    lang = predictions[0][0].split('__')[-1]\n",
    "    return lang\n",
    "\n",
    "\n",
    "detect_language(\"안녕하세요\")"
   ],
   "metadata": {
    "collapsed": false,
    "ExecuteTime": {
     "end_time": "2025-03-03T07:31:46.324588Z",
     "start_time": "2025-03-03T07:31:46.307733Z"
    }
   },
   "id": "fe043b3200fabaed",
   "execution_count": 21
  },
  {
   "cell_type": "code",
   "outputs": [],
   "source": [
    "from langchain_openai import ChatOpenAI\n",
    "from langchain_upstage import ChatUpstage\n",
    "from langchain.prompts import ChatPromptTemplate\n",
    "from langchain.schema.runnable import RunnablePassthrough\n",
    "from langchain.schema.output_parser import StrOutputParser\n",
    "import pandas as pd"
   ],
   "metadata": {
    "collapsed": false,
    "ExecuteTime": {
     "end_time": "2025-03-03T07:31:46.327554Z",
     "start_time": "2025-03-03T07:31:46.325264Z"
    }
   },
   "id": "f5bc34a4dc3a17be",
   "execution_count": 22
  },
  {
   "cell_type": "code",
   "outputs": [],
   "source": [
    "from langchain_openai import ChatOpenAI\n",
    "from langchain.prompts import ChatPromptTemplate\n",
    "\n",
    "chat_openai = ChatOpenAI(model_name=\"gpt-4o-mini\")\n",
    "\n",
    "# Multi Language to English Translation by ChatOpenAI\n",
    "translate_to_en_prompt = ChatPromptTemplate.from_template(\n",
    "    \"Translate the following text to English. If it's already in English, return it as is: {text}\"\n",
    ")\n",
    "translate_to_en_chain = translate_to_en_prompt | chat_openai | StrOutputParser()\n",
    "     \n",
    "# Eng to Ko Translation Chain\n",
    "translate_to_ko_prompt = ChatPromptTemplate.from_template(\n",
    "    \"\"\"You are a professional translator who is fluent in English and Korean.\n",
    "    Your task is to translate the following text to Korean accurately and naturally.\n",
    "    Please pay close attention to grammar and idiomatic expressions.\n",
    "    You must only respond in Korean and should never add any additional English sentences to your responses.\n",
    "    If the text is Korean, you must return text without any changes.\n",
    "    The text to translate is: {text}\"\"\"\n",
    ")\n",
    "\n",
    "# Chain Creation for translate_to_ko function\n",
    "translate_to_ko_chain = translate_to_ko_prompt | chat_openai | StrOutputParser()\n",
    "\n",
    "# English to Korean\n",
    "def translate_to_ko(text):\n",
    "    return translate_to_ko_chain.invoke({\"text\": text})"
   ],
   "metadata": {
    "collapsed": false,
    "ExecuteTime": {
     "end_time": "2025-03-03T07:44:40.707301Z",
     "start_time": "2025-03-03T07:44:40.685671Z"
    }
   },
   "id": "2579d47ffe658f0e",
   "execution_count": 37
  },
  {
   "cell_type": "code",
   "outputs": [],
   "source": [
    "from langchain.output_parsers import PydanticOutputParser\n",
    "from pydantic import BaseModel, Field\n",
    "from typing import List\n",
    "import json\n",
    "\n",
    "\n",
    "# Pydantic Model\n",
    "class SentimentAnalysis(BaseModel):\n",
    "    overall_sentiment: str = Field(\n",
    "        description=\"The overall sentiment of the review (Very Positive, Positive, Negative, Very Negative, or Neutral)\")\n",
    "    key_points: List[str] = Field(description=\"List of key points extracted from the review\")\n",
    "\n",
    "\n",
    "# Pydantic Output Parser\n",
    "parser = PydanticOutputParser(pydantic_object=SentimentAnalysis)\n",
    "\n",
    "# Output Key Point and Sentimental Analysis Prompt \n",
    "extract_points_sentiment_prompt = ChatPromptTemplate.from_template(\n",
    "    \"\"\"You are analyzing a review for the 'Book Creator Guide' GPT model. Your task is to extract key points from the given review text and determine the overall sentiment.\n",
    "\n",
    "    Review: {text}\n",
    "\n",
    "    Instructions:\n",
    "    1. Determine the overall sentiment of the review.\n",
    "    2. You must select one of the following options and reply in Korean ONLY: \"매우 긍정적\", \"긍정적\", \"중립적\", \"부정적\", or \"매우 부정적\".\n",
    "    3. Never include any additional sentences, explanations, or examples in English.\n",
    "    4. Only return the option selected.\n",
    "    5. Extract up to 3 key points from the review that align with this overall sentiment.\n",
    "    6. Each point must be directly derived from the review text and should reflect the tone and sentiment of the original review.\n",
    "    7. If the review is very short or lacks detail, it's okay to extract fewer than 3 points.\n",
    "    8. If you can't find any clear points, provide a single point stating \"No specific points could be extracted from this short review.\"\n",
    "\n",
    "    {format_instructions}\n",
    "\n",
    "    Ensure that your response is a valid JSON object with 'overall_sentiment' and 'key_points' fields.\n",
    "\n",
    "    Analysis:\"\"\"\n",
    ")\n",
    "\n",
    "# Chain\n",
    "extract_points_sentiment_chain = extract_points_sentiment_prompt | chat_openai | parser\n",
    "\n",
    "# suffix remover\n",
    "def remove_korean_suffix(text):\n",
    "    suffix_list = [\"입니다.\", \"요.\", \"예요.\", \"입니다\", \"요\"]\n",
    "    for suffix in suffix_list:\n",
    "        if text.endswith(suffix):\n",
    "            return text[:-len(suffix)]\n",
    "    return text"
   ],
   "metadata": {
    "collapsed": false,
    "ExecuteTime": {
     "end_time": "2025-03-03T07:44:40.715829Z",
     "start_time": "2025-03-03T07:44:40.711427Z"
    }
   },
   "id": "1100869e51f5bc9b",
   "execution_count": 39
  },
  {
   "cell_type": "code",
   "outputs": [],
   "source": [
    "# Review List\n",
    "reviews = [\n",
    "    \"This is FANTASTICO! I've wanted to write books my entire life, but lack the executive functioning skills to ever know where to begin. This AI book creator does all the things my ADHD brain can't and all I have to do is punch in the ideas.\",\n",
    "    \"fluixet en la representación d'imatges\",\n",
    "    \"Muadili diğer uygulamalar ile kıyaslanamayacak kadar güzel. Lütfen Microsoft un bu uygulamanın içine sıçmasına izin vermeyin, teşekkürler\",\n",
    "    \"buono il risultato ma la storia dovrebbe essere maggiormente dettagliata\",\n",
    "    \"j'adore\",\n",
    "    \"感觉还是不行\",\n",
    "    \"świetne\",\n",
    "    \"no logic. no consistency. confused very easily.\",\n",
    "    \"가톨릭에서는 마리아와 성인을 숭배하는 것이 아니라 신앙의 모범으로 공경하고 있습니다. 한국어로 숭배하다라고 해석하는 것은 신으로 숭배하는 것으로 오해를 불러일으킬 수 있는 번역입니다. 따라서 공경하다로 수정하여야 합니다.\",\n",
    "]"
   ],
   "metadata": {
    "collapsed": false,
    "ExecuteTime": {
     "end_time": "2025-03-03T07:44:40.719219Z",
     "start_time": "2025-03-03T07:44:40.717154Z"
    }
   },
   "id": "8521c91debf44bfd",
   "execution_count": 40
  },
  {
   "cell_type": "code",
   "outputs": [
    {
     "name": "stdout",
     "output_type": "stream",
     "text": [
      "============ 워크플로우 종료 ============\n"
     ]
    }
   ],
   "source": [
    "# --- Workflow ---\n",
    "workflow = (\n",
    "    {\"text\": RunnablePassthrough()}  # 1. Original Text Input (input: {\"text\": review})\n",
    "    | {\"lang\": lambda x: detect_language(x[\"text\"]), \"text\": lambda x: x[\"text\"]}  # 2. Language Detection (output: {\"lang\": detected_lang, \"text\": original_text})\n",
    "    | RunnablePassthrough.assign(en_text=lambda x: translate_to_en_chain.invoke({\"text\": x[\"text\"]}) if x[\"lang\"] != \"en\" else x[\"text\"])  # 3. Translation to Eng or stay original language (output: {\"lang\": detected_lang, \"text\": original_text, \"en_text\": translated_en_text or original_text})\n",
    "    | RunnablePassthrough.assign(analysis=lambda x: extract_points_sentiment_chain.invoke({\"text\": x[\"en_text\"], \"format_instructions\": parser.get_format_instructions()})) # 4. Sentimental Analysis and Key Point Extraction (output: {\"lang\": detected_lang, \"text\": original_text, \"en_text\": translated_en_text or original_text, \"analysis\": SentimentAnalysis object})\n",
    "    | {\n",
    "        \"ko_sentiment\": lambda x: translate_to_ko_chain.invoke({\"text\": x[\"analysis\"].overall_sentiment}),  # 5. Analysis result translation to Kor (output: \"매우 긍정적\", \"긍정적\", \"중립적\", \"부정적\", \"매우 부정적\" 중 하나)\n",
    "        \"ko_points\": lambda x: [translate_to_ko_chain.invoke({\"text\": point}) for point in x[\"analysis\"].key_points],  # 6. Translation of the Keypoint to Kor (output: [translated_ko_point1, translated_ko_point2, ...])\n",
    "        \"ko_review\": lambda x: translate_to_ko_chain.invoke({\"text\": x[\"en_text\"]}) if x[\"lang\"] != \"ko\" else x[\"text\"], # 7. Korean Translation from English Review (output: translated_ko_review or original_text)\n",
    "        \"original_text\":lambda x: x[\"text\"], # 8. original text Extraction\n",
    "        \"detected_language\":lambda x: x[\"lang\"] # 9. detected language Extraction\n",
    "\n",
    "    } # 10. Combination all work results (output: {\"ko_sentiment\": translated_ko_sentiment, \"ko_points\": translated_ko_points, \"ko_review\": translated_ko_review, \"original_text\": original_text, \"detected_language\": detected_language})\n",
    "    | {\"원문\":lambda x: x[\"original_text\"], \"감지된 언어\":lambda x: x[\"detected_language\"], \"한국어 리뷰\": lambda x: x[\"ko_review\"], \"전체 감성\": lambda x: remove_korean_suffix(x[\"ko_sentiment\"]), \"주요 포인트\": lambda x: x[\"ko_points\"]}  # 11. Final Result Formatting (output: {\"원문\": original_text, \"감지된 언어\": detected_language, \"한국어 리뷰\": translated_ko_review, \"전체 감성\": translated_ko_sentiment, \"주요 포인트\": translated_ko_points})\n",
    ")\n",
    "\n",
    "print(\"============ 워크플로우 종료 ============\")\n",
    "\n",
    "# --- Main Execution ---\n",
    "results = workflow.batch([{\"text\": review} for review in reviews])\n",
    "\n",
    "df = pd.DataFrame(results)\n"
   ],
   "metadata": {
    "collapsed": false,
    "ExecuteTime": {
     "end_time": "2025-03-03T07:44:49.662189Z",
     "start_time": "2025-03-03T07:44:40.720009Z"
    }
   },
   "id": "8ec0255288f5a1fd",
   "execution_count": 41
  },
  {
   "cell_type": "code",
   "outputs": [
    {
     "data": {
      "text/plain": "                                                  원문 감지된 언어  \\\n0  This is FANTASTICO! I've wanted to write books...     en   \n1             fluixet en la representación d'imatges     ca   \n2  Muadili diğer uygulamalar ile kıyaslanamayacak...     tr   \n3  buono il risultato ma la storia dovrebbe esser...     it   \n4                                            j'adore     fr   \n5                                             感觉还是不行     ja   \n6                                            świetne     pl   \n7    no logic. no consistency. confused very easily.     en   \n8  가톨릭에서는 마리아와 성인을 숭배하는 것이 아니라 신앙의 모범으로 공경하고 있습니다...     ko   \n\n                                              한국어 리뷰   전체 감성  \\\n0  이것은 환상적이에요! 저는 평생 책을 쓰고 싶었지만, 어디서 시작해야 할지 알 수 ...  매우 긍정적   \n1                                        이미지 표현의 희미함     부정적   \n2  동등한 애플리케이션은 다른 애플리케이션들과 비교할 수 없을 만큼 아름답습니다. 이 ...  매우 긍정적   \n3                       결과는 좋지만, 이야기가 좀 더 자세했으면 좋겠다.     긍정적   \n4                                            나는 사랑해.  매우 긍정적   \n5                                 나는 여전히 괜찮지 않다고 느껴.     부정적   \n6                                                 멋진  매우 긍정적   \n7                    논리가 없다. 일관성이 없다. 매우 쉽게 혼란스러워한다.  매우 부정적   \n8  가톨릭에서는 마리아와 성인을 숭배하는 것이 아니라 신앙의 모범으로 공경하고 있습니다...     중립적   \n\n                                              주요 포인트  \n0  [책을 쓰고 싶었지만, 시작할 방법을 몰랐다., AI 책 생성기가 ADHD 브레인으...  \n1                                    [이미지 표현이 희미하다.]  \n2  [이 애플리케이션은 다른 애플리케이션과 비교할 수 없을 만큼 아름답다., Micro...  \n3                         [결과가 좋다., 이야기가 더 자세해야 한다.]  \n4                                          [나는 사랑해.]  \n5                                [전반적으로 좋지 않다고 느낀다.]  \n6  [작품의 질이 뛰어나다., 사용자가 만족하는 경험을 제공한다., 강력하게 추천할 만...  \n7                [논리가 없다., 일관성이 없다., 아주 쉽게 혼란스러워진다.]  \n8  [가톨릭에서 마리아와 성인들은 신으로서 숭배되지 않고 믿음의 본보기로서 존경받는다....  ",
      "text/html": "<div>\n<style scoped>\n    .dataframe tbody tr th:only-of-type {\n        vertical-align: middle;\n    }\n\n    .dataframe tbody tr th {\n        vertical-align: top;\n    }\n\n    .dataframe thead th {\n        text-align: right;\n    }\n</style>\n<table border=\"1\" class=\"dataframe\">\n  <thead>\n    <tr style=\"text-align: right;\">\n      <th></th>\n      <th>원문</th>\n      <th>감지된 언어</th>\n      <th>한국어 리뷰</th>\n      <th>전체 감성</th>\n      <th>주요 포인트</th>\n    </tr>\n  </thead>\n  <tbody>\n    <tr>\n      <th>0</th>\n      <td>This is FANTASTICO! I've wanted to write books...</td>\n      <td>en</td>\n      <td>이것은 환상적이에요! 저는 평생 책을 쓰고 싶었지만, 어디서 시작해야 할지 알 수 ...</td>\n      <td>매우 긍정적</td>\n      <td>[책을 쓰고 싶었지만, 시작할 방법을 몰랐다., AI 책 생성기가 ADHD 브레인으...</td>\n    </tr>\n    <tr>\n      <th>1</th>\n      <td>fluixet en la representación d'imatges</td>\n      <td>ca</td>\n      <td>이미지 표현의 희미함</td>\n      <td>부정적</td>\n      <td>[이미지 표현이 희미하다.]</td>\n    </tr>\n    <tr>\n      <th>2</th>\n      <td>Muadili diğer uygulamalar ile kıyaslanamayacak...</td>\n      <td>tr</td>\n      <td>동등한 애플리케이션은 다른 애플리케이션들과 비교할 수 없을 만큼 아름답습니다. 이 ...</td>\n      <td>매우 긍정적</td>\n      <td>[이 애플리케이션은 다른 애플리케이션과 비교할 수 없을 만큼 아름답다., Micro...</td>\n    </tr>\n    <tr>\n      <th>3</th>\n      <td>buono il risultato ma la storia dovrebbe esser...</td>\n      <td>it</td>\n      <td>결과는 좋지만, 이야기가 좀 더 자세했으면 좋겠다.</td>\n      <td>긍정적</td>\n      <td>[결과가 좋다., 이야기가 더 자세해야 한다.]</td>\n    </tr>\n    <tr>\n      <th>4</th>\n      <td>j'adore</td>\n      <td>fr</td>\n      <td>나는 사랑해.</td>\n      <td>매우 긍정적</td>\n      <td>[나는 사랑해.]</td>\n    </tr>\n    <tr>\n      <th>5</th>\n      <td>感觉还是不行</td>\n      <td>ja</td>\n      <td>나는 여전히 괜찮지 않다고 느껴.</td>\n      <td>부정적</td>\n      <td>[전반적으로 좋지 않다고 느낀다.]</td>\n    </tr>\n    <tr>\n      <th>6</th>\n      <td>świetne</td>\n      <td>pl</td>\n      <td>멋진</td>\n      <td>매우 긍정적</td>\n      <td>[작품의 질이 뛰어나다., 사용자가 만족하는 경험을 제공한다., 강력하게 추천할 만...</td>\n    </tr>\n    <tr>\n      <th>7</th>\n      <td>no logic. no consistency. confused very easily.</td>\n      <td>en</td>\n      <td>논리가 없다. 일관성이 없다. 매우 쉽게 혼란스러워한다.</td>\n      <td>매우 부정적</td>\n      <td>[논리가 없다., 일관성이 없다., 아주 쉽게 혼란스러워진다.]</td>\n    </tr>\n    <tr>\n      <th>8</th>\n      <td>가톨릭에서는 마리아와 성인을 숭배하는 것이 아니라 신앙의 모범으로 공경하고 있습니다...</td>\n      <td>ko</td>\n      <td>가톨릭에서는 마리아와 성인을 숭배하는 것이 아니라 신앙의 모범으로 공경하고 있습니다...</td>\n      <td>중립적</td>\n      <td>[가톨릭에서 마리아와 성인들은 신으로서 숭배되지 않고 믿음의 본보기로서 존경받는다....</td>\n    </tr>\n  </tbody>\n</table>\n</div>"
     },
     "execution_count": 42,
     "metadata": {},
     "output_type": "execute_result"
    }
   ],
   "source": [
    "df"
   ],
   "metadata": {
    "collapsed": false,
    "ExecuteTime": {
     "end_time": "2025-03-03T07:44:49.670352Z",
     "start_time": "2025-03-03T07:44:49.663300Z"
    }
   },
   "id": "f86c63dab21ef31a",
   "execution_count": 42
  },
  {
   "cell_type": "code",
   "outputs": [
    {
     "data": {
      "text/plain": "0    ((__label__ko,), [0.8072137236595154])\nName: text, dtype: object"
     },
     "execution_count": 46,
     "metadata": {},
     "output_type": "execute_result"
    }
   ],
   "source": [
    "import fasttext\n",
    "import pandas as pd\n",
    "\n",
    "# Loading Model\n",
    "model = fasttext.load_model('./data/lid.176.ftz')\n",
    "\n",
    "df = pd.DataFrame({'text': [\"Hello 안녕하세요 그렇지요?this is a test\"]})\n",
    "\n",
    "# 언어 예측\n",
    "predictions = df['text'].apply(lambda x: model.predict(x))\n",
    "predictions"
   ],
   "metadata": {
    "collapsed": false,
    "ExecuteTime": {
     "end_time": "2025-03-03T08:15:36.608630Z",
     "start_time": "2025-03-03T08:15:36.588064Z"
    }
   },
   "id": "a6367e4470a15ed3",
   "execution_count": 46
  }
 ],
 "metadata": {
  "kernelspec": {
   "display_name": "Python 3",
   "language": "python",
   "name": "python3"
  },
  "language_info": {
   "codemirror_mode": {
    "name": "ipython",
    "version": 2
   },
   "file_extension": ".py",
   "mimetype": "text/x-python",
   "name": "python",
   "nbconvert_exporter": "python",
   "pygments_lexer": "ipython2",
   "version": "2.7.6"
  }
 },
 "nbformat": 4,
 "nbformat_minor": 5
}
