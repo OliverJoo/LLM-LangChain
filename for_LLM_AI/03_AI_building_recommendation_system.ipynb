{
 "cells": [
  {
   "cell_type": "code",
   "execution_count": 3,
   "id": "initial_id",
   "metadata": {
    "collapsed": true,
    "ExecuteTime": {
     "end_time": "2025-01-13T06:55:57.126771Z",
     "start_time": "2025-01-13T06:55:56.846494Z"
    }
   },
   "outputs": [
    {
     "data": {
      "text/plain": "   adult                              belongs_to_collection    budget  \\\n0  False  {'id': 10194, 'name': 'Toy Story Collection', ...  30000000   \n1  False                                                NaN  65000000   \n2  False  {'id': 119050, 'name': 'Grumpy Old Men Collect...         0   \n3  False                                                NaN  16000000   \n4  False  {'id': 96871, 'name': 'Father of the Bride Col...         0   \n\n                                              genres  \\\n0  [{'id': 16, 'name': 'Animation'}, {'id': 35, '...   \n1  [{'id': 12, 'name': 'Adventure'}, {'id': 14, '...   \n2  [{'id': 10749, 'name': 'Romance'}, {'id': 35, ...   \n3  [{'id': 35, 'name': 'Comedy'}, {'id': 18, 'nam...   \n4                     [{'id': 35, 'name': 'Comedy'}]   \n\n                               homepage     id    imdb_id original_language  \\\n0  http://toystory.disney.com/toy-story    862  tt0114709                en   \n1                                   NaN   8844  tt0113497                en   \n2                                   NaN  15602  tt0113228                en   \n3                                   NaN  31357  tt0114885                en   \n4                                   NaN  11862  tt0113041                en   \n\n                original_title  \\\n0                    Toy Story   \n1                      Jumanji   \n2             Grumpier Old Men   \n3            Waiting to Exhale   \n4  Father of the Bride Part II   \n\n                                            overview  ... release_date  \\\n0  Led by Woody, Andy's toys live happily in his ...  ...   1995-10-30   \n1  When siblings Judy and Peter discover an encha...  ...   1995-12-15   \n2  A family wedding reignites the ancient feud be...  ...   1995-12-22   \n3  Cheated on, mistreated and stepped on, the wom...  ...   1995-12-22   \n4  Just when George Banks has recovered from his ...  ...   1995-02-10   \n\n       revenue runtime                                   spoken_languages  \\\n0  373554033.0    81.0           [{'iso_639_1': 'en', 'name': 'English'}]   \n1  262797249.0   104.0  [{'iso_639_1': 'en', 'name': 'English'}, {'iso...   \n2          0.0   101.0           [{'iso_639_1': 'en', 'name': 'English'}]   \n3   81452156.0   127.0           [{'iso_639_1': 'en', 'name': 'English'}]   \n4   76578911.0   106.0           [{'iso_639_1': 'en', 'name': 'English'}]   \n\n     status                                            tagline  \\\n0  Released                                                NaN   \n1  Released          Roll the dice and unleash the excitement!   \n2  Released  Still Yelling. Still Fighting. Still Ready for...   \n3  Released  Friends are the people who let you be yourself...   \n4  Released  Just When His World Is Back To Normal... He's ...   \n\n                         title  video vote_average vote_count  \n0                    Toy Story  False          7.7     5415.0  \n1                      Jumanji  False          6.9     2413.0  \n2             Grumpier Old Men  False          6.5       92.0  \n3            Waiting to Exhale  False          6.1       34.0  \n4  Father of the Bride Part II  False          5.7      173.0  \n\n[5 rows x 24 columns]",
      "text/html": "<div>\n<style scoped>\n    .dataframe tbody tr th:only-of-type {\n        vertical-align: middle;\n    }\n\n    .dataframe tbody tr th {\n        vertical-align: top;\n    }\n\n    .dataframe thead th {\n        text-align: right;\n    }\n</style>\n<table border=\"1\" class=\"dataframe\">\n  <thead>\n    <tr style=\"text-align: right;\">\n      <th></th>\n      <th>adult</th>\n      <th>belongs_to_collection</th>\n      <th>budget</th>\n      <th>genres</th>\n      <th>homepage</th>\n      <th>id</th>\n      <th>imdb_id</th>\n      <th>original_language</th>\n      <th>original_title</th>\n      <th>overview</th>\n      <th>...</th>\n      <th>release_date</th>\n      <th>revenue</th>\n      <th>runtime</th>\n      <th>spoken_languages</th>\n      <th>status</th>\n      <th>tagline</th>\n      <th>title</th>\n      <th>video</th>\n      <th>vote_average</th>\n      <th>vote_count</th>\n    </tr>\n  </thead>\n  <tbody>\n    <tr>\n      <th>0</th>\n      <td>False</td>\n      <td>{'id': 10194, 'name': 'Toy Story Collection', ...</td>\n      <td>30000000</td>\n      <td>[{'id': 16, 'name': 'Animation'}, {'id': 35, '...</td>\n      <td>http://toystory.disney.com/toy-story</td>\n      <td>862</td>\n      <td>tt0114709</td>\n      <td>en</td>\n      <td>Toy Story</td>\n      <td>Led by Woody, Andy's toys live happily in his ...</td>\n      <td>...</td>\n      <td>1995-10-30</td>\n      <td>373554033.0</td>\n      <td>81.0</td>\n      <td>[{'iso_639_1': 'en', 'name': 'English'}]</td>\n      <td>Released</td>\n      <td>NaN</td>\n      <td>Toy Story</td>\n      <td>False</td>\n      <td>7.7</td>\n      <td>5415.0</td>\n    </tr>\n    <tr>\n      <th>1</th>\n      <td>False</td>\n      <td>NaN</td>\n      <td>65000000</td>\n      <td>[{'id': 12, 'name': 'Adventure'}, {'id': 14, '...</td>\n      <td>NaN</td>\n      <td>8844</td>\n      <td>tt0113497</td>\n      <td>en</td>\n      <td>Jumanji</td>\n      <td>When siblings Judy and Peter discover an encha...</td>\n      <td>...</td>\n      <td>1995-12-15</td>\n      <td>262797249.0</td>\n      <td>104.0</td>\n      <td>[{'iso_639_1': 'en', 'name': 'English'}, {'iso...</td>\n      <td>Released</td>\n      <td>Roll the dice and unleash the excitement!</td>\n      <td>Jumanji</td>\n      <td>False</td>\n      <td>6.9</td>\n      <td>2413.0</td>\n    </tr>\n    <tr>\n      <th>2</th>\n      <td>False</td>\n      <td>{'id': 119050, 'name': 'Grumpy Old Men Collect...</td>\n      <td>0</td>\n      <td>[{'id': 10749, 'name': 'Romance'}, {'id': 35, ...</td>\n      <td>NaN</td>\n      <td>15602</td>\n      <td>tt0113228</td>\n      <td>en</td>\n      <td>Grumpier Old Men</td>\n      <td>A family wedding reignites the ancient feud be...</td>\n      <td>...</td>\n      <td>1995-12-22</td>\n      <td>0.0</td>\n      <td>101.0</td>\n      <td>[{'iso_639_1': 'en', 'name': 'English'}]</td>\n      <td>Released</td>\n      <td>Still Yelling. Still Fighting. Still Ready for...</td>\n      <td>Grumpier Old Men</td>\n      <td>False</td>\n      <td>6.5</td>\n      <td>92.0</td>\n    </tr>\n    <tr>\n      <th>3</th>\n      <td>False</td>\n      <td>NaN</td>\n      <td>16000000</td>\n      <td>[{'id': 35, 'name': 'Comedy'}, {'id': 18, 'nam...</td>\n      <td>NaN</td>\n      <td>31357</td>\n      <td>tt0114885</td>\n      <td>en</td>\n      <td>Waiting to Exhale</td>\n      <td>Cheated on, mistreated and stepped on, the wom...</td>\n      <td>...</td>\n      <td>1995-12-22</td>\n      <td>81452156.0</td>\n      <td>127.0</td>\n      <td>[{'iso_639_1': 'en', 'name': 'English'}]</td>\n      <td>Released</td>\n      <td>Friends are the people who let you be yourself...</td>\n      <td>Waiting to Exhale</td>\n      <td>False</td>\n      <td>6.1</td>\n      <td>34.0</td>\n    </tr>\n    <tr>\n      <th>4</th>\n      <td>False</td>\n      <td>{'id': 96871, 'name': 'Father of the Bride Col...</td>\n      <td>0</td>\n      <td>[{'id': 35, 'name': 'Comedy'}]</td>\n      <td>NaN</td>\n      <td>11862</td>\n      <td>tt0113041</td>\n      <td>en</td>\n      <td>Father of the Bride Part II</td>\n      <td>Just when George Banks has recovered from his ...</td>\n      <td>...</td>\n      <td>1995-02-10</td>\n      <td>76578911.0</td>\n      <td>106.0</td>\n      <td>[{'iso_639_1': 'en', 'name': 'English'}]</td>\n      <td>Released</td>\n      <td>Just When His World Is Back To Normal... He's ...</td>\n      <td>Father of the Bride Part II</td>\n      <td>False</td>\n      <td>5.7</td>\n      <td>173.0</td>\n    </tr>\n  </tbody>\n</table>\n<p>5 rows × 24 columns</p>\n</div>"
     },
     "execution_count": 3,
     "metadata": {},
     "output_type": "execute_result"
    }
   ],
   "source": [
    "# data preprocessing\n",
    "import pandas as pd\n",
    "\n",
    "md = pd.read_csv('./movies_metadata.csv', low_memory=False)\n",
    "md.head()"
   ]
  },
  {
   "cell_type": "code",
   "outputs": [
    {
     "data": {
      "text/plain": "   adult                              belongs_to_collection    budget  \\\n0  False  {'id': 10194, 'name': 'Toy Story Collection', ...  30000000   \n1  False                                                NaN  65000000   \n2  False  {'id': 119050, 'name': 'Grumpy Old Men Collect...         0   \n3  False                                                NaN  16000000   \n4  False  {'id': 96871, 'name': 'Father of the Bride Col...         0   \n\n                         genres                              homepage     id  \\\n0   [Animation, Comedy, Family]  http://toystory.disney.com/toy-story    862   \n1  [Adventure, Fantasy, Family]                                   NaN   8844   \n2             [Romance, Comedy]                                   NaN  15602   \n3      [Comedy, Drama, Romance]                                   NaN  31357   \n4                      [Comedy]                                   NaN  11862   \n\n     imdb_id original_language               original_title  \\\n0  tt0114709                en                    Toy Story   \n1  tt0113497                en                      Jumanji   \n2  tt0113228                en             Grumpier Old Men   \n3  tt0114885                en            Waiting to Exhale   \n4  tt0113041                en  Father of the Bride Part II   \n\n                                            overview  ... release_date  \\\n0  Led by Woody, Andy's toys live happily in his ...  ...   1995-10-30   \n1  When siblings Judy and Peter discover an encha...  ...   1995-12-15   \n2  A family wedding reignites the ancient feud be...  ...   1995-12-22   \n3  Cheated on, mistreated and stepped on, the wom...  ...   1995-12-22   \n4  Just when George Banks has recovered from his ...  ...   1995-02-10   \n\n       revenue runtime                                   spoken_languages  \\\n0  373554033.0    81.0           [{'iso_639_1': 'en', 'name': 'English'}]   \n1  262797249.0   104.0  [{'iso_639_1': 'en', 'name': 'English'}, {'iso...   \n2          0.0   101.0           [{'iso_639_1': 'en', 'name': 'English'}]   \n3   81452156.0   127.0           [{'iso_639_1': 'en', 'name': 'English'}]   \n4   76578911.0   106.0           [{'iso_639_1': 'en', 'name': 'English'}]   \n\n     status                                            tagline  \\\n0  Released                                                NaN   \n1  Released          Roll the dice and unleash the excitement!   \n2  Released  Still Yelling. Still Fighting. Still Ready for...   \n3  Released  Friends are the people who let you be yourself...   \n4  Released  Just When His World Is Back To Normal... He's ...   \n\n                         title  video vote_average vote_count  \n0                    Toy Story  False          7.7     5415.0  \n1                      Jumanji  False          6.9     2413.0  \n2             Grumpier Old Men  False          6.5       92.0  \n3            Waiting to Exhale  False          6.1       34.0  \n4  Father of the Bride Part II  False          5.7      173.0  \n\n[5 rows x 24 columns]",
      "text/html": "<div>\n<style scoped>\n    .dataframe tbody tr th:only-of-type {\n        vertical-align: middle;\n    }\n\n    .dataframe tbody tr th {\n        vertical-align: top;\n    }\n\n    .dataframe thead th {\n        text-align: right;\n    }\n</style>\n<table border=\"1\" class=\"dataframe\">\n  <thead>\n    <tr style=\"text-align: right;\">\n      <th></th>\n      <th>adult</th>\n      <th>belongs_to_collection</th>\n      <th>budget</th>\n      <th>genres</th>\n      <th>homepage</th>\n      <th>id</th>\n      <th>imdb_id</th>\n      <th>original_language</th>\n      <th>original_title</th>\n      <th>overview</th>\n      <th>...</th>\n      <th>release_date</th>\n      <th>revenue</th>\n      <th>runtime</th>\n      <th>spoken_languages</th>\n      <th>status</th>\n      <th>tagline</th>\n      <th>title</th>\n      <th>video</th>\n      <th>vote_average</th>\n      <th>vote_count</th>\n    </tr>\n  </thead>\n  <tbody>\n    <tr>\n      <th>0</th>\n      <td>False</td>\n      <td>{'id': 10194, 'name': 'Toy Story Collection', ...</td>\n      <td>30000000</td>\n      <td>[Animation, Comedy, Family]</td>\n      <td>http://toystory.disney.com/toy-story</td>\n      <td>862</td>\n      <td>tt0114709</td>\n      <td>en</td>\n      <td>Toy Story</td>\n      <td>Led by Woody, Andy's toys live happily in his ...</td>\n      <td>...</td>\n      <td>1995-10-30</td>\n      <td>373554033.0</td>\n      <td>81.0</td>\n      <td>[{'iso_639_1': 'en', 'name': 'English'}]</td>\n      <td>Released</td>\n      <td>NaN</td>\n      <td>Toy Story</td>\n      <td>False</td>\n      <td>7.7</td>\n      <td>5415.0</td>\n    </tr>\n    <tr>\n      <th>1</th>\n      <td>False</td>\n      <td>NaN</td>\n      <td>65000000</td>\n      <td>[Adventure, Fantasy, Family]</td>\n      <td>NaN</td>\n      <td>8844</td>\n      <td>tt0113497</td>\n      <td>en</td>\n      <td>Jumanji</td>\n      <td>When siblings Judy and Peter discover an encha...</td>\n      <td>...</td>\n      <td>1995-12-15</td>\n      <td>262797249.0</td>\n      <td>104.0</td>\n      <td>[{'iso_639_1': 'en', 'name': 'English'}, {'iso...</td>\n      <td>Released</td>\n      <td>Roll the dice and unleash the excitement!</td>\n      <td>Jumanji</td>\n      <td>False</td>\n      <td>6.9</td>\n      <td>2413.0</td>\n    </tr>\n    <tr>\n      <th>2</th>\n      <td>False</td>\n      <td>{'id': 119050, 'name': 'Grumpy Old Men Collect...</td>\n      <td>0</td>\n      <td>[Romance, Comedy]</td>\n      <td>NaN</td>\n      <td>15602</td>\n      <td>tt0113228</td>\n      <td>en</td>\n      <td>Grumpier Old Men</td>\n      <td>A family wedding reignites the ancient feud be...</td>\n      <td>...</td>\n      <td>1995-12-22</td>\n      <td>0.0</td>\n      <td>101.0</td>\n      <td>[{'iso_639_1': 'en', 'name': 'English'}]</td>\n      <td>Released</td>\n      <td>Still Yelling. Still Fighting. Still Ready for...</td>\n      <td>Grumpier Old Men</td>\n      <td>False</td>\n      <td>6.5</td>\n      <td>92.0</td>\n    </tr>\n    <tr>\n      <th>3</th>\n      <td>False</td>\n      <td>NaN</td>\n      <td>16000000</td>\n      <td>[Comedy, Drama, Romance]</td>\n      <td>NaN</td>\n      <td>31357</td>\n      <td>tt0114885</td>\n      <td>en</td>\n      <td>Waiting to Exhale</td>\n      <td>Cheated on, mistreated and stepped on, the wom...</td>\n      <td>...</td>\n      <td>1995-12-22</td>\n      <td>81452156.0</td>\n      <td>127.0</td>\n      <td>[{'iso_639_1': 'en', 'name': 'English'}]</td>\n      <td>Released</td>\n      <td>Friends are the people who let you be yourself...</td>\n      <td>Waiting to Exhale</td>\n      <td>False</td>\n      <td>6.1</td>\n      <td>34.0</td>\n    </tr>\n    <tr>\n      <th>4</th>\n      <td>False</td>\n      <td>{'id': 96871, 'name': 'Father of the Bride Col...</td>\n      <td>0</td>\n      <td>[Comedy]</td>\n      <td>NaN</td>\n      <td>11862</td>\n      <td>tt0113041</td>\n      <td>en</td>\n      <td>Father of the Bride Part II</td>\n      <td>Just when George Banks has recovered from his ...</td>\n      <td>...</td>\n      <td>1995-02-10</td>\n      <td>76578911.0</td>\n      <td>106.0</td>\n      <td>[{'iso_639_1': 'en', 'name': 'English'}]</td>\n      <td>Released</td>\n      <td>Just When His World Is Back To Normal... He's ...</td>\n      <td>Father of the Bride Part II</td>\n      <td>False</td>\n      <td>5.7</td>\n      <td>173.0</td>\n    </tr>\n  </tbody>\n</table>\n<p>5 rows × 24 columns</p>\n</div>"
     },
     "execution_count": 4,
     "metadata": {},
     "output_type": "execute_result"
    }
   ],
   "source": [
    "import ast\n",
    "\n",
    "# Convert string representation of dictionaries to actual dictionaries\n",
    "md['genres'] = md['genres'].apply(ast.literal_eval)\n",
    "\n",
    "# Transforming the 'genres' column\n",
    "md['genres'] = md['genres'].apply(lambda x: [genre['name'] for genre in x])\n",
    "\n",
    "md.head()"
   ],
   "metadata": {
    "collapsed": false,
    "ExecuteTime": {
     "end_time": "2025-01-13T06:58:37.941470Z",
     "start_time": "2025-01-13T06:58:37.327474Z"
    }
   },
   "id": "2fa4e224f251640b",
   "execution_count": 4
  },
  {
   "cell_type": "code",
   "outputs": [
    {
     "data": {
      "text/plain": "   adult                              belongs_to_collection    budget  \\\n0  False  {'id': 10194, 'name': 'Toy Story Collection', ...  30000000   \n1  False                                                NaN  65000000   \n2  False  {'id': 119050, 'name': 'Grumpy Old Men Collect...         0   \n3  False                                                NaN  16000000   \n4  False  {'id': 96871, 'name': 'Father of the Bride Col...         0   \n\n                         genres                              homepage     id  \\\n0   [Animation, Comedy, Family]  http://toystory.disney.com/toy-story    862   \n1  [Adventure, Fantasy, Family]                                   NaN   8844   \n2             [Romance, Comedy]                                   NaN  15602   \n3      [Comedy, Drama, Romance]                                   NaN  31357   \n4                      [Comedy]                                   NaN  11862   \n\n     imdb_id original_language               original_title  \\\n0  tt0114709                en                    Toy Story   \n1  tt0113497                en                      Jumanji   \n2  tt0113228                en             Grumpier Old Men   \n3  tt0114885                en            Waiting to Exhale   \n4  tt0113041                en  Father of the Bride Part II   \n\n                                            overview  ...      revenue  \\\n0  Led by Woody, Andy's toys live happily in his ...  ...  373554033.0   \n1  When siblings Judy and Peter discover an encha...  ...  262797249.0   \n2  A family wedding reignites the ancient feud be...  ...          0.0   \n3  Cheated on, mistreated and stepped on, the wom...  ...   81452156.0   \n4  Just when George Banks has recovered from his ...  ...   76578911.0   \n\n  runtime                                   spoken_languages    status  \\\n0    81.0           [{'iso_639_1': 'en', 'name': 'English'}]  Released   \n1   104.0  [{'iso_639_1': 'en', 'name': 'English'}, {'iso...  Released   \n2   101.0           [{'iso_639_1': 'en', 'name': 'English'}]  Released   \n3   127.0           [{'iso_639_1': 'en', 'name': 'English'}]  Released   \n4   106.0           [{'iso_639_1': 'en', 'name': 'English'}]  Released   \n\n                                             tagline  \\\n0                                                NaN   \n1          Roll the dice and unleash the excitement!   \n2  Still Yelling. Still Fighting. Still Ready for...   \n3  Friends are the people who let you be yourself...   \n4  Just When His World Is Back To Normal... He's ...   \n\n                         title  video vote_average vote_count weighted_rate  \n0                    Toy Story  False          7.7     5415.0      7.499658  \n1                      Jumanji  False          6.9     2413.0      6.610362  \n2             Grumpier Old Men  False          6.5       92.0      5.262357  \n3            Waiting to Exhale  False          6.1       34.0      5.079915  \n4  Father of the Bride Part II  False          5.7      173.0      5.199506  \n\n[5 rows x 25 columns]",
      "text/html": "<div>\n<style scoped>\n    .dataframe tbody tr th:only-of-type {\n        vertical-align: middle;\n    }\n\n    .dataframe tbody tr th {\n        vertical-align: top;\n    }\n\n    .dataframe thead th {\n        text-align: right;\n    }\n</style>\n<table border=\"1\" class=\"dataframe\">\n  <thead>\n    <tr style=\"text-align: right;\">\n      <th></th>\n      <th>adult</th>\n      <th>belongs_to_collection</th>\n      <th>budget</th>\n      <th>genres</th>\n      <th>homepage</th>\n      <th>id</th>\n      <th>imdb_id</th>\n      <th>original_language</th>\n      <th>original_title</th>\n      <th>overview</th>\n      <th>...</th>\n      <th>revenue</th>\n      <th>runtime</th>\n      <th>spoken_languages</th>\n      <th>status</th>\n      <th>tagline</th>\n      <th>title</th>\n      <th>video</th>\n      <th>vote_average</th>\n      <th>vote_count</th>\n      <th>weighted_rate</th>\n    </tr>\n  </thead>\n  <tbody>\n    <tr>\n      <th>0</th>\n      <td>False</td>\n      <td>{'id': 10194, 'name': 'Toy Story Collection', ...</td>\n      <td>30000000</td>\n      <td>[Animation, Comedy, Family]</td>\n      <td>http://toystory.disney.com/toy-story</td>\n      <td>862</td>\n      <td>tt0114709</td>\n      <td>en</td>\n      <td>Toy Story</td>\n      <td>Led by Woody, Andy's toys live happily in his ...</td>\n      <td>...</td>\n      <td>373554033.0</td>\n      <td>81.0</td>\n      <td>[{'iso_639_1': 'en', 'name': 'English'}]</td>\n      <td>Released</td>\n      <td>NaN</td>\n      <td>Toy Story</td>\n      <td>False</td>\n      <td>7.7</td>\n      <td>5415.0</td>\n      <td>7.499658</td>\n    </tr>\n    <tr>\n      <th>1</th>\n      <td>False</td>\n      <td>NaN</td>\n      <td>65000000</td>\n      <td>[Adventure, Fantasy, Family]</td>\n      <td>NaN</td>\n      <td>8844</td>\n      <td>tt0113497</td>\n      <td>en</td>\n      <td>Jumanji</td>\n      <td>When siblings Judy and Peter discover an encha...</td>\n      <td>...</td>\n      <td>262797249.0</td>\n      <td>104.0</td>\n      <td>[{'iso_639_1': 'en', 'name': 'English'}, {'iso...</td>\n      <td>Released</td>\n      <td>Roll the dice and unleash the excitement!</td>\n      <td>Jumanji</td>\n      <td>False</td>\n      <td>6.9</td>\n      <td>2413.0</td>\n      <td>6.610362</td>\n    </tr>\n    <tr>\n      <th>2</th>\n      <td>False</td>\n      <td>{'id': 119050, 'name': 'Grumpy Old Men Collect...</td>\n      <td>0</td>\n      <td>[Romance, Comedy]</td>\n      <td>NaN</td>\n      <td>15602</td>\n      <td>tt0113228</td>\n      <td>en</td>\n      <td>Grumpier Old Men</td>\n      <td>A family wedding reignites the ancient feud be...</td>\n      <td>...</td>\n      <td>0.0</td>\n      <td>101.0</td>\n      <td>[{'iso_639_1': 'en', 'name': 'English'}]</td>\n      <td>Released</td>\n      <td>Still Yelling. Still Fighting. Still Ready for...</td>\n      <td>Grumpier Old Men</td>\n      <td>False</td>\n      <td>6.5</td>\n      <td>92.0</td>\n      <td>5.262357</td>\n    </tr>\n    <tr>\n      <th>3</th>\n      <td>False</td>\n      <td>NaN</td>\n      <td>16000000</td>\n      <td>[Comedy, Drama, Romance]</td>\n      <td>NaN</td>\n      <td>31357</td>\n      <td>tt0114885</td>\n      <td>en</td>\n      <td>Waiting to Exhale</td>\n      <td>Cheated on, mistreated and stepped on, the wom...</td>\n      <td>...</td>\n      <td>81452156.0</td>\n      <td>127.0</td>\n      <td>[{'iso_639_1': 'en', 'name': 'English'}]</td>\n      <td>Released</td>\n      <td>Friends are the people who let you be yourself...</td>\n      <td>Waiting to Exhale</td>\n      <td>False</td>\n      <td>6.1</td>\n      <td>34.0</td>\n      <td>5.079915</td>\n    </tr>\n    <tr>\n      <th>4</th>\n      <td>False</td>\n      <td>{'id': 96871, 'name': 'Father of the Bride Col...</td>\n      <td>0</td>\n      <td>[Comedy]</td>\n      <td>NaN</td>\n      <td>11862</td>\n      <td>tt0113041</td>\n      <td>en</td>\n      <td>Father of the Bride Part II</td>\n      <td>Just when George Banks has recovered from his ...</td>\n      <td>...</td>\n      <td>76578911.0</td>\n      <td>106.0</td>\n      <td>[{'iso_639_1': 'en', 'name': 'English'}]</td>\n      <td>Released</td>\n      <td>Just When His World Is Back To Normal... He's ...</td>\n      <td>Father of the Bride Part II</td>\n      <td>False</td>\n      <td>5.7</td>\n      <td>173.0</td>\n      <td>5.199506</td>\n    </tr>\n  </tbody>\n</table>\n<p>5 rows × 25 columns</p>\n</div>"
     },
     "execution_count": 5,
     "metadata": {},
     "output_type": "execute_result"
    }
   ],
   "source": [
    "# Calculate weighted rate (IMDb formula)\n",
    "def calculate_weighted_rate(vote_average, vote_count, min_vote_count=10):\n",
    "    return (vote_count / (vote_count + min_vote_count)) * vote_average + (\n",
    "            min_vote_count / (vote_count + min_vote_count)) * 5.0\n",
    "\n",
    "\n",
    "# Minimum vote count to prevent skewed results\n",
    "vote_counts = md[md['vote_count'].notnull()]['vote_count'].astype('int')\n",
    "min_vote_count = vote_counts.quantile(0.95)\n",
    "\n",
    "# Create a new column 'weighted_rate'\n",
    "md['weighted_rate'] = md.apply(\n",
    "    lambda row: calculate_weighted_rate(row['vote_average'], row['vote_count'], min_vote_count), axis=1)\n",
    "md.head()"
   ],
   "metadata": {
    "collapsed": false,
    "ExecuteTime": {
     "end_time": "2025-01-13T07:02:46.743804Z",
     "start_time": "2025-01-13T07:02:46.536951Z"
    }
   },
   "id": "f21f4649e6d70309",
   "execution_count": 5
  },
  {
   "cell_type": "code",
   "outputs": [
    {
     "data": {
      "text/plain": "                                              genres  \\\n0                      [Adventure, Action, Thriller]   \n1                                           [Comedy]   \n2                  [Horror, Action, Thriller, Crime]   \n3                                           [Comedy]   \n4  [Action, Adventure, Science Fiction, Family, F...   \n\n                                     title  \\\n0                                GoldenEye   \n1                                   Friday   \n2                      From Dusk Till Dawn   \n3                         Blue in the Face   \n4  Mighty Morphin Power Rangers: The Movie   \n\n                                            overview  weighted_rate  \n0  James Bond must unmask the mysterious head of ...       6.173464  \n1  Craig and Smokey are two guys in Los Angeles h...       6.083421  \n2  Seth Gecko and his younger brother Richard are...       6.503176  \n3  Auggie runs a small tobacco shop in Brooklyn, ...       5.109091  \n4  Power up with six incredible teens who out-man...       5.052129  ",
      "text/html": "<div>\n<style scoped>\n    .dataframe tbody tr th:only-of-type {\n        vertical-align: middle;\n    }\n\n    .dataframe tbody tr th {\n        vertical-align: top;\n    }\n\n    .dataframe thead th {\n        text-align: right;\n    }\n</style>\n<table border=\"1\" class=\"dataframe\">\n  <thead>\n    <tr style=\"text-align: right;\">\n      <th></th>\n      <th>genres</th>\n      <th>title</th>\n      <th>overview</th>\n      <th>weighted_rate</th>\n    </tr>\n  </thead>\n  <tbody>\n    <tr>\n      <th>0</th>\n      <td>[Adventure, Action, Thriller]</td>\n      <td>GoldenEye</td>\n      <td>James Bond must unmask the mysterious head of ...</td>\n      <td>6.173464</td>\n    </tr>\n    <tr>\n      <th>1</th>\n      <td>[Comedy]</td>\n      <td>Friday</td>\n      <td>Craig and Smokey are two guys in Los Angeles h...</td>\n      <td>6.083421</td>\n    </tr>\n    <tr>\n      <th>2</th>\n      <td>[Horror, Action, Thriller, Crime]</td>\n      <td>From Dusk Till Dawn</td>\n      <td>Seth Gecko and his younger brother Richard are...</td>\n      <td>6.503176</td>\n    </tr>\n    <tr>\n      <th>3</th>\n      <td>[Comedy]</td>\n      <td>Blue in the Face</td>\n      <td>Auggie runs a small tobacco shop in Brooklyn, ...</td>\n      <td>5.109091</td>\n    </tr>\n    <tr>\n      <th>4</th>\n      <td>[Action, Adventure, Science Fiction, Family, F...</td>\n      <td>Mighty Morphin Power Rangers: The Movie</td>\n      <td>Power up with six incredible teens who out-man...</td>\n      <td>5.052129</td>\n    </tr>\n  </tbody>\n</table>\n</div>"
     },
     "execution_count": 6,
     "metadata": {},
     "output_type": "execute_result"
    }
   ],
   "source": [
    "md = md.dropna()\n",
    "md_final = md[['genres', 'title', 'overview', 'weighted_rate']].reset_index(drop=True)\n",
    "md_final.head()"
   ],
   "metadata": {
    "collapsed": false,
    "ExecuteTime": {
     "end_time": "2025-01-13T07:26:38.691928Z",
     "start_time": "2025-01-13T07:26:38.651676Z"
    }
   },
   "id": "bc709b469d4897c7",
   "execution_count": 6
  },
  {
   "cell_type": "code",
   "outputs": [
    {
     "data": {
      "text/plain": "\"Title: From Dusk Till Dawn. Overview: Seth Gecko and his younger brother Richard are on the run after a bloody bank robbery in Texas. They escape across the border into Mexico and will be home-free the next morning, when they pay off the local kingpin. They just have to survive 'from dusk till dawn' at the rendezvous point, which turns out to be a Hell of a strip joint. Genres: Horror, Action, Thriller, Crime. Rating: 6.503176130895092\""
     },
     "execution_count": 11,
     "metadata": {},
     "output_type": "execute_result"
    }
   ],
   "source": [
    "# Create a new column by combining 'title', 'overview', and 'genre'\n",
    "md_final['combined_info'] = md_final.apply(lambda\n",
    "                                               row: f\"Title: {row['title']}. Overview: {row['overview']} Genres: {', '.join(row['genres'])}. Rating: {row['weighted_rate']}\",\n",
    "                                           axis=1)\n",
    "md_final['combined_info'][2]"
   ],
   "metadata": {
    "collapsed": false,
    "ExecuteTime": {
     "end_time": "2025-01-13T07:27:19.535511Z",
     "start_time": "2025-01-13T07:27:19.523003Z"
    }
   },
   "id": "113445c56d8b7f9f",
   "execution_count": 11
  },
  {
   "cell_type": "code",
   "outputs": [
    {
     "data": {
      "text/plain": "693"
     },
     "execution_count": 12,
     "metadata": {},
     "output_type": "execute_result"
    }
   ],
   "source": [
    "# Embeddings\n",
    "import tiktoken\n",
    "from openai import OpenAI\n",
    "\n",
    "# embedding model parameters\n",
    "embedding_model = \"text-embedding-ada-002\"\n",
    "embedding_encoding = \"cl100k_base\"  # Tokenizer name of OpenAI Embedding API for text-embedding-ada-002\n",
    "max_tokens = 8000  # the maximum for text-embedding-ada-002 is 8191\n",
    "\n",
    "client = OpenAI()\n",
    "\n",
    "encoding = tiktoken.get_encoding(embedding_encoding)\n",
    "\n",
    "\n",
    "def get_embedding(text, engine=embedding_model):\n",
    "    text = text.replace(\"\\n\", \" \")\n",
    "    return client.embeddings.create(input=[text], model=engine).data[0].embedding\n",
    "\n",
    "\n",
    "# omit reviews that are too long to embed\n",
    "md_final[\"n_tokens\"] = md_final.combined_info.apply(lambda x: len(encoding.encode(x)))\n",
    "md_final = md_final[md_final.n_tokens <= max_tokens]\n",
    "len(md_final)"
   ],
   "metadata": {
    "collapsed": false,
    "ExecuteTime": {
     "end_time": "2025-01-13T07:49:59.520779Z",
     "start_time": "2025-01-13T07:49:59.008990Z"
    }
   },
   "id": "82121baefabe096c",
   "execution_count": 12
  },
  {
   "cell_type": "code",
   "outputs": [
    {
     "data": {
      "text/plain": "                                              genres  \\\n0                      [Adventure, Action, Thriller]   \n1                                           [Comedy]   \n2                  [Horror, Action, Thriller, Crime]   \n3                                           [Comedy]   \n4  [Action, Adventure, Science Fiction, Family, F...   \n\n                                     title  \\\n0                                GoldenEye   \n1                                   Friday   \n2                      From Dusk Till Dawn   \n3                         Blue in the Face   \n4  Mighty Morphin Power Rangers: The Movie   \n\n                                            overview  weighted_rate  \\\n0  James Bond must unmask the mysterious head of ...       6.173464   \n1  Craig and Smokey are two guys in Los Angeles h...       6.083421   \n2  Seth Gecko and his younger brother Richard are...       6.503176   \n3  Auggie runs a small tobacco shop in Brooklyn, ...       5.109091   \n4  Power up with six incredible teens who out-man...       5.052129   \n\n                                       combined_info  n_tokens  \n0  Title: GoldenEye. Overview: James Bond must un...        59  \n1  Title: Friday. Overview: Craig and Smokey are ...        52  \n2  Title: From Dusk Till Dawn. Overview: Seth Gec...       105  \n3  Title: Blue in the Face. Overview: Auggie runs...        87  \n4  Title: Mighty Morphin Power Rangers: The Movie...        89  ",
      "text/html": "<div>\n<style scoped>\n    .dataframe tbody tr th:only-of-type {\n        vertical-align: middle;\n    }\n\n    .dataframe tbody tr th {\n        vertical-align: top;\n    }\n\n    .dataframe thead th {\n        text-align: right;\n    }\n</style>\n<table border=\"1\" class=\"dataframe\">\n  <thead>\n    <tr style=\"text-align: right;\">\n      <th></th>\n      <th>genres</th>\n      <th>title</th>\n      <th>overview</th>\n      <th>weighted_rate</th>\n      <th>combined_info</th>\n      <th>n_tokens</th>\n    </tr>\n  </thead>\n  <tbody>\n    <tr>\n      <th>0</th>\n      <td>[Adventure, Action, Thriller]</td>\n      <td>GoldenEye</td>\n      <td>James Bond must unmask the mysterious head of ...</td>\n      <td>6.173464</td>\n      <td>Title: GoldenEye. Overview: James Bond must un...</td>\n      <td>59</td>\n    </tr>\n    <tr>\n      <th>1</th>\n      <td>[Comedy]</td>\n      <td>Friday</td>\n      <td>Craig and Smokey are two guys in Los Angeles h...</td>\n      <td>6.083421</td>\n      <td>Title: Friday. Overview: Craig and Smokey are ...</td>\n      <td>52</td>\n    </tr>\n    <tr>\n      <th>2</th>\n      <td>[Horror, Action, Thriller, Crime]</td>\n      <td>From Dusk Till Dawn</td>\n      <td>Seth Gecko and his younger brother Richard are...</td>\n      <td>6.503176</td>\n      <td>Title: From Dusk Till Dawn. Overview: Seth Gec...</td>\n      <td>105</td>\n    </tr>\n    <tr>\n      <th>3</th>\n      <td>[Comedy]</td>\n      <td>Blue in the Face</td>\n      <td>Auggie runs a small tobacco shop in Brooklyn, ...</td>\n      <td>5.109091</td>\n      <td>Title: Blue in the Face. Overview: Auggie runs...</td>\n      <td>87</td>\n    </tr>\n    <tr>\n      <th>4</th>\n      <td>[Action, Adventure, Science Fiction, Family, F...</td>\n      <td>Mighty Morphin Power Rangers: The Movie</td>\n      <td>Power up with six incredible teens who out-man...</td>\n      <td>5.052129</td>\n      <td>Title: Mighty Morphin Power Rangers: The Movie...</td>\n      <td>89</td>\n    </tr>\n  </tbody>\n</table>\n</div>"
     },
     "execution_count": 13,
     "metadata": {},
     "output_type": "execute_result"
    }
   ],
   "source": [
    "md_final.head()"
   ],
   "metadata": {
    "collapsed": false,
    "ExecuteTime": {
     "end_time": "2025-01-13T07:52:50.202952Z",
     "start_time": "2025-01-13T07:52:50.196858Z"
    }
   },
   "id": "d09c96190876535a",
   "execution_count": 13
  },
  {
   "cell_type": "code",
   "outputs": [
    {
     "data": {
      "text/plain": "                                              genres  \\\n0                      [Adventure, Action, Thriller]   \n1                                           [Comedy]   \n2                  [Horror, Action, Thriller, Crime]   \n3                                           [Comedy]   \n4  [Action, Adventure, Science Fiction, Family, F...   \n\n                                     title  \\\n0                                GoldenEye   \n1                                   Friday   \n2                      From Dusk Till Dawn   \n3                         Blue in the Face   \n4  Mighty Morphin Power Rangers: The Movie   \n\n                                            overview  weighted_rate  \\\n0  James Bond must unmask the mysterious head of ...       6.173464   \n1  Craig and Smokey are two guys in Los Angeles h...       6.083421   \n2  Seth Gecko and his younger brother Richard are...       6.503176   \n3  Auggie runs a small tobacco shop in Brooklyn, ...       5.109091   \n4  Power up with six incredible teens who out-man...       5.052129   \n\n                                       combined_info  n_tokens  \\\n0  Title: GoldenEye. Overview: James Bond must un...        59   \n1  Title: Friday. Overview: Craig and Smokey are ...        52   \n2  Title: From Dusk Till Dawn. Overview: Seth Gec...       105   \n3  Title: Blue in the Face. Overview: Auggie runs...        87   \n4  Title: Mighty Morphin Power Rangers: The Movie...        89   \n\n                                           embedding  \n0  [-0.023320907726883888, -0.016039660200476646,...  \n1  [0.001543616526760161, -0.01077578030526638, -...  \n2  [-0.008703107945621014, -0.004671914037317038,...  \n3  [-0.020313598215579987, -0.012282016687095165,...  \n4  [-0.0038929283618927, -0.03924328088760376, -0...  ",
      "text/html": "<div>\n<style scoped>\n    .dataframe tbody tr th:only-of-type {\n        vertical-align: middle;\n    }\n\n    .dataframe tbody tr th {\n        vertical-align: top;\n    }\n\n    .dataframe thead th {\n        text-align: right;\n    }\n</style>\n<table border=\"1\" class=\"dataframe\">\n  <thead>\n    <tr style=\"text-align: right;\">\n      <th></th>\n      <th>genres</th>\n      <th>title</th>\n      <th>overview</th>\n      <th>weighted_rate</th>\n      <th>combined_info</th>\n      <th>n_tokens</th>\n      <th>embedding</th>\n    </tr>\n  </thead>\n  <tbody>\n    <tr>\n      <th>0</th>\n      <td>[Adventure, Action, Thriller]</td>\n      <td>GoldenEye</td>\n      <td>James Bond must unmask the mysterious head of ...</td>\n      <td>6.173464</td>\n      <td>Title: GoldenEye. Overview: James Bond must un...</td>\n      <td>59</td>\n      <td>[-0.023320907726883888, -0.016039660200476646,...</td>\n    </tr>\n    <tr>\n      <th>1</th>\n      <td>[Comedy]</td>\n      <td>Friday</td>\n      <td>Craig and Smokey are two guys in Los Angeles h...</td>\n      <td>6.083421</td>\n      <td>Title: Friday. Overview: Craig and Smokey are ...</td>\n      <td>52</td>\n      <td>[0.001543616526760161, -0.01077578030526638, -...</td>\n    </tr>\n    <tr>\n      <th>2</th>\n      <td>[Horror, Action, Thriller, Crime]</td>\n      <td>From Dusk Till Dawn</td>\n      <td>Seth Gecko and his younger brother Richard are...</td>\n      <td>6.503176</td>\n      <td>Title: From Dusk Till Dawn. Overview: Seth Gec...</td>\n      <td>105</td>\n      <td>[-0.008703107945621014, -0.004671914037317038,...</td>\n    </tr>\n    <tr>\n      <th>3</th>\n      <td>[Comedy]</td>\n      <td>Blue in the Face</td>\n      <td>Auggie runs a small tobacco shop in Brooklyn, ...</td>\n      <td>5.109091</td>\n      <td>Title: Blue in the Face. Overview: Auggie runs...</td>\n      <td>87</td>\n      <td>[-0.020313598215579987, -0.012282016687095165,...</td>\n    </tr>\n    <tr>\n      <th>4</th>\n      <td>[Action, Adventure, Science Fiction, Family, F...</td>\n      <td>Mighty Morphin Power Rangers: The Movie</td>\n      <td>Power up with six incredible teens who out-man...</td>\n      <td>5.052129</td>\n      <td>Title: Mighty Morphin Power Rangers: The Movie...</td>\n      <td>89</td>\n      <td>[-0.0038929283618927, -0.03924328088760376, -0...</td>\n    </tr>\n  </tbody>\n</table>\n</div>"
     },
     "execution_count": 14,
     "metadata": {},
     "output_type": "execute_result"
    }
   ],
   "source": [
    "md_final[\"embedding\"] = md_final.overview.apply(lambda x: get_embedding(x, engine=embedding_model))\n",
    "md_final.head()"
   ],
   "metadata": {
    "collapsed": false,
    "ExecuteTime": {
     "end_time": "2025-01-13T07:57:48.562938Z",
     "start_time": "2025-01-13T07:53:10.299693Z"
    }
   },
   "id": "83fa02a4a79e0969",
   "execution_count": 14
  },
  {
   "cell_type": "code",
   "outputs": [],
   "source": [
    "md_final.rename(columns={'embedding': 'vector'}, inplace=True)\n",
    "md_final.rename(columns={'combined_info': 'text'}, inplace=True)\n",
    "md_final.to_pickle('./movies.pkl')"
   ],
   "metadata": {
    "collapsed": false,
    "ExecuteTime": {
     "end_time": "2025-01-13T07:58:04.848861Z",
     "start_time": "2025-01-13T07:58:04.817367Z"
    }
   },
   "id": "642e8b15979193cd",
   "execution_count": 15
  },
  {
   "cell_type": "code",
   "outputs": [
    {
     "data": {
      "text/plain": "                          genres      title  \\\n0  [Adventure, Action, Thriller]  GoldenEye   \n1                       [Comedy]     Friday   \n\n                                            overview  weighted_rate  \\\n0  James Bond must unmask the mysterious head of ...       6.173464   \n1  Craig and Smokey are two guys in Los Angeles h...       6.083421   \n\n                                                text  n_tokens  \\\n0  Title: GoldenEye. Overview: James Bond must un...        59   \n1  Title: Friday. Overview: Craig and Smokey are ...        52   \n\n                                              vector  \n0  [-0.023320907726883888, -0.016039660200476646,...  \n1  [0.001543616526760161, -0.01077578030526638, -...  ",
      "text/html": "<div>\n<style scoped>\n    .dataframe tbody tr th:only-of-type {\n        vertical-align: middle;\n    }\n\n    .dataframe tbody tr th {\n        vertical-align: top;\n    }\n\n    .dataframe thead th {\n        text-align: right;\n    }\n</style>\n<table border=\"1\" class=\"dataframe\">\n  <thead>\n    <tr style=\"text-align: right;\">\n      <th></th>\n      <th>genres</th>\n      <th>title</th>\n      <th>overview</th>\n      <th>weighted_rate</th>\n      <th>text</th>\n      <th>n_tokens</th>\n      <th>vector</th>\n    </tr>\n  </thead>\n  <tbody>\n    <tr>\n      <th>0</th>\n      <td>[Adventure, Action, Thriller]</td>\n      <td>GoldenEye</td>\n      <td>James Bond must unmask the mysterious head of ...</td>\n      <td>6.173464</td>\n      <td>Title: GoldenEye. Overview: James Bond must un...</td>\n      <td>59</td>\n      <td>[-0.023320907726883888, -0.016039660200476646,...</td>\n    </tr>\n    <tr>\n      <th>1</th>\n      <td>[Comedy]</td>\n      <td>Friday</td>\n      <td>Craig and Smokey are two guys in Los Angeles h...</td>\n      <td>6.083421</td>\n      <td>Title: Friday. Overview: Craig and Smokey are ...</td>\n      <td>52</td>\n      <td>[0.001543616526760161, -0.01077578030526638, -...</td>\n    </tr>\n  </tbody>\n</table>\n</div>"
     },
     "execution_count": 16,
     "metadata": {},
     "output_type": "execute_result"
    }
   ],
   "source": [
    "# Start working with LLMs\n",
    "md = pd.read_pickle('movies.pkl')\n",
    "md.head(2)"
   ],
   "metadata": {
    "collapsed": false,
    "ExecuteTime": {
     "end_time": "2025-01-13T07:58:57.687806Z",
     "start_time": "2025-01-13T07:58:57.475408Z"
    }
   },
   "id": "33fa2ccb08038406",
   "execution_count": 16
  },
  {
   "cell_type": "code",
   "outputs": [
    {
     "data": {
      "text/plain": "'Title: Friday. Overview: Craig and Smokey are two guys in Los Angeles hanging out on their porch on a Friday afternoon, smoking and drinking, looking for something to do. Genres: Comedy. Rating: 6.083421330517423'"
     },
     "execution_count": 18,
     "metadata": {},
     "output_type": "execute_result"
    }
   ],
   "source": [
    "md['text'][1]"
   ],
   "metadata": {
    "collapsed": false,
    "ExecuteTime": {
     "end_time": "2025-01-13T07:59:13.764860Z",
     "start_time": "2025-01-13T07:59:13.762615Z"
    }
   },
   "id": "bd1ded3036f11d4",
   "execution_count": 18
  },
  {
   "cell_type": "code",
   "outputs": [
    {
     "data": {
      "text/plain": "                                                genres  \\\n0                        [Adventure, Action, Thriller]   \n1                                             [Comedy]   \n2                    [Horror, Action, Thriller, Crime]   \n3                                             [Comedy]   \n4    [Action, Adventure, Science Fiction, Family, F...   \n..                                                 ...   \n688                      [Drama, Science Fiction, War]   \n689                                           [Comedy]   \n690    [Adventure, Fantasy, Animation, Action, Family]   \n691     [Action, Science Fiction, Thriller, Adventure]   \n692                            [Crime, Comedy, Action]   \n\n                                       title  \\\n0                                  GoldenEye   \n1                                     Friday   \n2                        From Dusk Till Dawn   \n3                           Blue in the Face   \n4    Mighty Morphin Power Rangers: The Movie   \n..                                       ...   \n688           War for the Planet of the Apes   \n689              Goon: Last of the Enforcers   \n690            Pokémon: Spell of the Unknown   \n691            Transformers: The Last Knight   \n692                        Bon Cop Bad Cop 2   \n\n                                              overview  weighted_rate  \\\n0    James Bond must unmask the mysterious head of ...       6.173464   \n1    Craig and Smokey are two guys in Los Angeles h...       6.083421   \n2    Seth Gecko and his younger brother Richard are...       6.503176   \n3    Auggie runs a small tobacco shop in Brooklyn, ...       5.109091   \n4    Power up with six incredible teens who out-man...       5.052129   \n..                                                 ...            ...   \n688  Caesar and his apes are forced into a deadly c...       6.350166   \n689  During a pro lockout, Doug \"The Thug\" Glatt is...       5.074627   \n690  When Molly Hale's sadness of her father's disa...       5.249135   \n691  Autobots and Decepticons are at war, with huma...       5.922092   \n692  Ward and Bouchard must face an important car t...       5.020501   \n\n                                                  text  n_tokens  \\\n0    Title: GoldenEye. Overview: James Bond must un...        59   \n1    Title: Friday. Overview: Craig and Smokey are ...        52   \n2    Title: From Dusk Till Dawn. Overview: Seth Gec...       105   \n3    Title: Blue in the Face. Overview: Auggie runs...        87   \n4    Title: Mighty Morphin Power Rangers: The Movie...        89   \n..                                                 ...       ...   \n688  Title: War for the Planet of the Apes. Overvie...       124   \n689  Title: Goon: Last of the Enforcers. Overview: ...        75   \n690  Title: Pokémon: Spell of the Unknown. Overview...       112   \n691  Title: Transformers: The Last Knight. Overview...        80   \n692  Title: Bon Cop Bad Cop 2. Overview: Ward and B...        72   \n\n                                                vector  \\\n0    [-0.023320907726883888, -0.016039660200476646,...   \n1    [0.001543616526760161, -0.01077578030526638, -...   \n2    [-0.008703107945621014, -0.004671914037317038,...   \n3    [-0.020313598215579987, -0.012282016687095165,...   \n4    [-0.0038929283618927, -0.03924328088760376, -0...   \n..                                                 ...   \n688  [0.005834217183291912, -0.031243767589330673, ...   \n689  [-0.02065904252231121, -0.0281628780066967, -0...   \n690  [0.011081325821578503, -0.016071241348981857, ...   \n691  [0.003477891441434622, -0.05650625005364418, -...   \n692  [-0.01270974799990654, -0.02567436173558235, 0...   \n\n                                              metadata  \n0    {'genres': ['Adventure', 'Action', 'Thriller']...  \n1    {'genres': ['Comedy'], 'title': 'Friday', 'ove...  \n2    {'genres': ['Horror', 'Action', 'Thriller', 'C...  \n3    {'genres': ['Comedy'], 'title': 'Blue in the F...  \n4    {'genres': ['Action', 'Adventure', 'Science Fi...  \n..                                                 ...  \n688  {'genres': ['Drama', 'Science Fiction', 'War']...  \n689  {'genres': ['Comedy'], 'title': 'Goon: Last of...  \n690  {'genres': ['Adventure', 'Fantasy', 'Animation...  \n691  {'genres': ['Action', 'Science Fiction', 'Thri...  \n692  {'genres': ['Crime', 'Comedy', 'Action'], 'tit...  \n\n[693 rows x 8 columns]",
      "text/html": "<div>\n<style scoped>\n    .dataframe tbody tr th:only-of-type {\n        vertical-align: middle;\n    }\n\n    .dataframe tbody tr th {\n        vertical-align: top;\n    }\n\n    .dataframe thead th {\n        text-align: right;\n    }\n</style>\n<table border=\"1\" class=\"dataframe\">\n  <thead>\n    <tr style=\"text-align: right;\">\n      <th></th>\n      <th>genres</th>\n      <th>title</th>\n      <th>overview</th>\n      <th>weighted_rate</th>\n      <th>text</th>\n      <th>n_tokens</th>\n      <th>vector</th>\n      <th>metadata</th>\n    </tr>\n  </thead>\n  <tbody>\n    <tr>\n      <th>0</th>\n      <td>[Adventure, Action, Thriller]</td>\n      <td>GoldenEye</td>\n      <td>James Bond must unmask the mysterious head of ...</td>\n      <td>6.173464</td>\n      <td>Title: GoldenEye. Overview: James Bond must un...</td>\n      <td>59</td>\n      <td>[-0.023320907726883888, -0.016039660200476646,...</td>\n      <td>{'genres': ['Adventure', 'Action', 'Thriller']...</td>\n    </tr>\n    <tr>\n      <th>1</th>\n      <td>[Comedy]</td>\n      <td>Friday</td>\n      <td>Craig and Smokey are two guys in Los Angeles h...</td>\n      <td>6.083421</td>\n      <td>Title: Friday. Overview: Craig and Smokey are ...</td>\n      <td>52</td>\n      <td>[0.001543616526760161, -0.01077578030526638, -...</td>\n      <td>{'genres': ['Comedy'], 'title': 'Friday', 'ove...</td>\n    </tr>\n    <tr>\n      <th>2</th>\n      <td>[Horror, Action, Thriller, Crime]</td>\n      <td>From Dusk Till Dawn</td>\n      <td>Seth Gecko and his younger brother Richard are...</td>\n      <td>6.503176</td>\n      <td>Title: From Dusk Till Dawn. Overview: Seth Gec...</td>\n      <td>105</td>\n      <td>[-0.008703107945621014, -0.004671914037317038,...</td>\n      <td>{'genres': ['Horror', 'Action', 'Thriller', 'C...</td>\n    </tr>\n    <tr>\n      <th>3</th>\n      <td>[Comedy]</td>\n      <td>Blue in the Face</td>\n      <td>Auggie runs a small tobacco shop in Brooklyn, ...</td>\n      <td>5.109091</td>\n      <td>Title: Blue in the Face. Overview: Auggie runs...</td>\n      <td>87</td>\n      <td>[-0.020313598215579987, -0.012282016687095165,...</td>\n      <td>{'genres': ['Comedy'], 'title': 'Blue in the F...</td>\n    </tr>\n    <tr>\n      <th>4</th>\n      <td>[Action, Adventure, Science Fiction, Family, F...</td>\n      <td>Mighty Morphin Power Rangers: The Movie</td>\n      <td>Power up with six incredible teens who out-man...</td>\n      <td>5.052129</td>\n      <td>Title: Mighty Morphin Power Rangers: The Movie...</td>\n      <td>89</td>\n      <td>[-0.0038929283618927, -0.03924328088760376, -0...</td>\n      <td>{'genres': ['Action', 'Adventure', 'Science Fi...</td>\n    </tr>\n    <tr>\n      <th>...</th>\n      <td>...</td>\n      <td>...</td>\n      <td>...</td>\n      <td>...</td>\n      <td>...</td>\n      <td>...</td>\n      <td>...</td>\n      <td>...</td>\n    </tr>\n    <tr>\n      <th>688</th>\n      <td>[Drama, Science Fiction, War]</td>\n      <td>War for the Planet of the Apes</td>\n      <td>Caesar and his apes are forced into a deadly c...</td>\n      <td>6.350166</td>\n      <td>Title: War for the Planet of the Apes. Overvie...</td>\n      <td>124</td>\n      <td>[0.005834217183291912, -0.031243767589330673, ...</td>\n      <td>{'genres': ['Drama', 'Science Fiction', 'War']...</td>\n    </tr>\n    <tr>\n      <th>689</th>\n      <td>[Comedy]</td>\n      <td>Goon: Last of the Enforcers</td>\n      <td>During a pro lockout, Doug \"The Thug\" Glatt is...</td>\n      <td>5.074627</td>\n      <td>Title: Goon: Last of the Enforcers. Overview: ...</td>\n      <td>75</td>\n      <td>[-0.02065904252231121, -0.0281628780066967, -0...</td>\n      <td>{'genres': ['Comedy'], 'title': 'Goon: Last of...</td>\n    </tr>\n    <tr>\n      <th>690</th>\n      <td>[Adventure, Fantasy, Animation, Action, Family]</td>\n      <td>Pokémon: Spell of the Unknown</td>\n      <td>When Molly Hale's sadness of her father's disa...</td>\n      <td>5.249135</td>\n      <td>Title: Pokémon: Spell of the Unknown. Overview...</td>\n      <td>112</td>\n      <td>[0.011081325821578503, -0.016071241348981857, ...</td>\n      <td>{'genres': ['Adventure', 'Fantasy', 'Animation...</td>\n    </tr>\n    <tr>\n      <th>691</th>\n      <td>[Action, Science Fiction, Thriller, Adventure]</td>\n      <td>Transformers: The Last Knight</td>\n      <td>Autobots and Decepticons are at war, with huma...</td>\n      <td>5.922092</td>\n      <td>Title: Transformers: The Last Knight. Overview...</td>\n      <td>80</td>\n      <td>[0.003477891441434622, -0.05650625005364418, -...</td>\n      <td>{'genres': ['Action', 'Science Fiction', 'Thri...</td>\n    </tr>\n    <tr>\n      <th>692</th>\n      <td>[Crime, Comedy, Action]</td>\n      <td>Bon Cop Bad Cop 2</td>\n      <td>Ward and Bouchard must face an important car t...</td>\n      <td>5.020501</td>\n      <td>Title: Bon Cop Bad Cop 2. Overview: Ward and B...</td>\n      <td>72</td>\n      <td>[-0.01270974799990654, -0.02567436173558235, 0...</td>\n      <td>{'genres': ['Crime', 'Comedy', 'Action'], 'tit...</td>\n    </tr>\n  </tbody>\n</table>\n<p>693 rows × 8 columns</p>\n</div>"
     },
     "execution_count": 28,
     "metadata": {},
     "output_type": "execute_result"
    }
   ],
   "source": [
    "md"
   ],
   "metadata": {
    "collapsed": false,
    "ExecuteTime": {
     "end_time": "2025-01-13T08:04:41.735769Z",
     "start_time": "2025-01-13T08:04:41.719418Z"
    }
   },
   "id": "3397ae6771c8290a",
   "execution_count": 28
  },
  {
   "cell_type": "code",
   "outputs": [],
   "source": [
    "# To avoid the error 'KeyError: 'Field \"metadata\" does not exist in schema', add a metadata field\n",
    "md['metadata'] = md.apply(lambda row: {'genres': row['genres'], 'title': row['title'], 'overview': row['overview'],\n",
    "                                       'weighted_rate': row['weighted_rate']}, axis=1)"
   ],
   "metadata": {
    "collapsed": false,
    "ExecuteTime": {
     "end_time": "2025-01-13T08:04:50.250280Z",
     "start_time": "2025-01-13T08:04:50.239076Z"
    }
   },
   "id": "a06999dfa8d5f96a",
   "execution_count": 29
  },
  {
   "cell_type": "code",
   "outputs": [
    {
     "data": {
      "text/plain": "                                                genres  \\\n0                        [Adventure, Action, Thriller]   \n1                                             [Comedy]   \n2                    [Horror, Action, Thriller, Crime]   \n3                                             [Comedy]   \n4    [Action, Adventure, Science Fiction, Family, F...   \n..                                                 ...   \n688                      [Drama, Science Fiction, War]   \n689                                           [Comedy]   \n690    [Adventure, Fantasy, Animation, Action, Family]   \n691     [Action, Science Fiction, Thriller, Adventure]   \n692                            [Crime, Comedy, Action]   \n\n                                       title  \\\n0                                  GoldenEye   \n1                                     Friday   \n2                        From Dusk Till Dawn   \n3                           Blue in the Face   \n4    Mighty Morphin Power Rangers: The Movie   \n..                                       ...   \n688           War for the Planet of the Apes   \n689              Goon: Last of the Enforcers   \n690            Pokémon: Spell of the Unknown   \n691            Transformers: The Last Knight   \n692                        Bon Cop Bad Cop 2   \n\n                                              overview  weighted_rate  \\\n0    James Bond must unmask the mysterious head of ...       6.173464   \n1    Craig and Smokey are two guys in Los Angeles h...       6.083421   \n2    Seth Gecko and his younger brother Richard are...       6.503176   \n3    Auggie runs a small tobacco shop in Brooklyn, ...       5.109091   \n4    Power up with six incredible teens who out-man...       5.052129   \n..                                                 ...            ...   \n688  Caesar and his apes are forced into a deadly c...       6.350166   \n689  During a pro lockout, Doug \"The Thug\" Glatt is...       5.074627   \n690  When Molly Hale's sadness of her father's disa...       5.249135   \n691  Autobots and Decepticons are at war, with huma...       5.922092   \n692  Ward and Bouchard must face an important car t...       5.020501   \n\n                                                  text  n_tokens  \\\n0    Title: GoldenEye. Overview: James Bond must un...        59   \n1    Title: Friday. Overview: Craig and Smokey are ...        52   \n2    Title: From Dusk Till Dawn. Overview: Seth Gec...       105   \n3    Title: Blue in the Face. Overview: Auggie runs...        87   \n4    Title: Mighty Morphin Power Rangers: The Movie...        89   \n..                                                 ...       ...   \n688  Title: War for the Planet of the Apes. Overvie...       124   \n689  Title: Goon: Last of the Enforcers. Overview: ...        75   \n690  Title: Pokémon: Spell of the Unknown. Overview...       112   \n691  Title: Transformers: The Last Knight. Overview...        80   \n692  Title: Bon Cop Bad Cop 2. Overview: Ward and B...        72   \n\n                                                vector  \\\n0    [-0.023320907726883888, -0.016039660200476646,...   \n1    [0.001543616526760161, -0.01077578030526638, -...   \n2    [-0.008703107945621014, -0.004671914037317038,...   \n3    [-0.020313598215579987, -0.012282016687095165,...   \n4    [-0.0038929283618927, -0.03924328088760376, -0...   \n..                                                 ...   \n688  [0.005834217183291912, -0.031243767589330673, ...   \n689  [-0.02065904252231121, -0.0281628780066967, -0...   \n690  [0.011081325821578503, -0.016071241348981857, ...   \n691  [0.003477891441434622, -0.05650625005364418, -...   \n692  [-0.01270974799990654, -0.02567436173558235, 0...   \n\n                                              metadata  \n0    {'genres': ['Adventure', 'Action', 'Thriller']...  \n1    {'genres': ['Comedy'], 'title': 'Friday', 'ove...  \n2    {'genres': ['Horror', 'Action', 'Thriller', 'C...  \n3    {'genres': ['Comedy'], 'title': 'Blue in the F...  \n4    {'genres': ['Action', 'Adventure', 'Science Fi...  \n..                                                 ...  \n688  {'genres': ['Drama', 'Science Fiction', 'War']...  \n689  {'genres': ['Comedy'], 'title': 'Goon: Last of...  \n690  {'genres': ['Adventure', 'Fantasy', 'Animation...  \n691  {'genres': ['Action', 'Science Fiction', 'Thri...  \n692  {'genres': ['Crime', 'Comedy', 'Action'], 'tit...  \n\n[693 rows x 8 columns]",
      "text/html": "<div>\n<style scoped>\n    .dataframe tbody tr th:only-of-type {\n        vertical-align: middle;\n    }\n\n    .dataframe tbody tr th {\n        vertical-align: top;\n    }\n\n    .dataframe thead th {\n        text-align: right;\n    }\n</style>\n<table border=\"1\" class=\"dataframe\">\n  <thead>\n    <tr style=\"text-align: right;\">\n      <th></th>\n      <th>genres</th>\n      <th>title</th>\n      <th>overview</th>\n      <th>weighted_rate</th>\n      <th>text</th>\n      <th>n_tokens</th>\n      <th>vector</th>\n      <th>metadata</th>\n    </tr>\n  </thead>\n  <tbody>\n    <tr>\n      <th>0</th>\n      <td>[Adventure, Action, Thriller]</td>\n      <td>GoldenEye</td>\n      <td>James Bond must unmask the mysterious head of ...</td>\n      <td>6.173464</td>\n      <td>Title: GoldenEye. Overview: James Bond must un...</td>\n      <td>59</td>\n      <td>[-0.023320907726883888, -0.016039660200476646,...</td>\n      <td>{'genres': ['Adventure', 'Action', 'Thriller']...</td>\n    </tr>\n    <tr>\n      <th>1</th>\n      <td>[Comedy]</td>\n      <td>Friday</td>\n      <td>Craig and Smokey are two guys in Los Angeles h...</td>\n      <td>6.083421</td>\n      <td>Title: Friday. Overview: Craig and Smokey are ...</td>\n      <td>52</td>\n      <td>[0.001543616526760161, -0.01077578030526638, -...</td>\n      <td>{'genres': ['Comedy'], 'title': 'Friday', 'ove...</td>\n    </tr>\n    <tr>\n      <th>2</th>\n      <td>[Horror, Action, Thriller, Crime]</td>\n      <td>From Dusk Till Dawn</td>\n      <td>Seth Gecko and his younger brother Richard are...</td>\n      <td>6.503176</td>\n      <td>Title: From Dusk Till Dawn. Overview: Seth Gec...</td>\n      <td>105</td>\n      <td>[-0.008703107945621014, -0.004671914037317038,...</td>\n      <td>{'genres': ['Horror', 'Action', 'Thriller', 'C...</td>\n    </tr>\n    <tr>\n      <th>3</th>\n      <td>[Comedy]</td>\n      <td>Blue in the Face</td>\n      <td>Auggie runs a small tobacco shop in Brooklyn, ...</td>\n      <td>5.109091</td>\n      <td>Title: Blue in the Face. Overview: Auggie runs...</td>\n      <td>87</td>\n      <td>[-0.020313598215579987, -0.012282016687095165,...</td>\n      <td>{'genres': ['Comedy'], 'title': 'Blue in the F...</td>\n    </tr>\n    <tr>\n      <th>4</th>\n      <td>[Action, Adventure, Science Fiction, Family, F...</td>\n      <td>Mighty Morphin Power Rangers: The Movie</td>\n      <td>Power up with six incredible teens who out-man...</td>\n      <td>5.052129</td>\n      <td>Title: Mighty Morphin Power Rangers: The Movie...</td>\n      <td>89</td>\n      <td>[-0.0038929283618927, -0.03924328088760376, -0...</td>\n      <td>{'genres': ['Action', 'Adventure', 'Science Fi...</td>\n    </tr>\n    <tr>\n      <th>...</th>\n      <td>...</td>\n      <td>...</td>\n      <td>...</td>\n      <td>...</td>\n      <td>...</td>\n      <td>...</td>\n      <td>...</td>\n      <td>...</td>\n    </tr>\n    <tr>\n      <th>688</th>\n      <td>[Drama, Science Fiction, War]</td>\n      <td>War for the Planet of the Apes</td>\n      <td>Caesar and his apes are forced into a deadly c...</td>\n      <td>6.350166</td>\n      <td>Title: War for the Planet of the Apes. Overvie...</td>\n      <td>124</td>\n      <td>[0.005834217183291912, -0.031243767589330673, ...</td>\n      <td>{'genres': ['Drama', 'Science Fiction', 'War']...</td>\n    </tr>\n    <tr>\n      <th>689</th>\n      <td>[Comedy]</td>\n      <td>Goon: Last of the Enforcers</td>\n      <td>During a pro lockout, Doug \"The Thug\" Glatt is...</td>\n      <td>5.074627</td>\n      <td>Title: Goon: Last of the Enforcers. Overview: ...</td>\n      <td>75</td>\n      <td>[-0.02065904252231121, -0.0281628780066967, -0...</td>\n      <td>{'genres': ['Comedy'], 'title': 'Goon: Last of...</td>\n    </tr>\n    <tr>\n      <th>690</th>\n      <td>[Adventure, Fantasy, Animation, Action, Family]</td>\n      <td>Pokémon: Spell of the Unknown</td>\n      <td>When Molly Hale's sadness of her father's disa...</td>\n      <td>5.249135</td>\n      <td>Title: Pokémon: Spell of the Unknown. Overview...</td>\n      <td>112</td>\n      <td>[0.011081325821578503, -0.016071241348981857, ...</td>\n      <td>{'genres': ['Adventure', 'Fantasy', 'Animation...</td>\n    </tr>\n    <tr>\n      <th>691</th>\n      <td>[Action, Science Fiction, Thriller, Adventure]</td>\n      <td>Transformers: The Last Knight</td>\n      <td>Autobots and Decepticons are at war, with huma...</td>\n      <td>5.922092</td>\n      <td>Title: Transformers: The Last Knight. Overview...</td>\n      <td>80</td>\n      <td>[0.003477891441434622, -0.05650625005364418, -...</td>\n      <td>{'genres': ['Action', 'Science Fiction', 'Thri...</td>\n    </tr>\n    <tr>\n      <th>692</th>\n      <td>[Crime, Comedy, Action]</td>\n      <td>Bon Cop Bad Cop 2</td>\n      <td>Ward and Bouchard must face an important car t...</td>\n      <td>5.020501</td>\n      <td>Title: Bon Cop Bad Cop 2. Overview: Ward and B...</td>\n      <td>72</td>\n      <td>[-0.01270974799990654, -0.02567436173558235, 0...</td>\n      <td>{'genres': ['Crime', 'Comedy', 'Action'], 'tit...</td>\n    </tr>\n  </tbody>\n</table>\n<p>693 rows × 8 columns</p>\n</div>"
     },
     "execution_count": 44,
     "metadata": {},
     "output_type": "execute_result"
    }
   ],
   "source": [
    "md"
   ],
   "metadata": {
    "collapsed": false,
    "ExecuteTime": {
     "end_time": "2025-01-14T05:39:28.004426Z",
     "start_time": "2025-01-14T05:39:27.965635Z"
    }
   },
   "id": "3e0ad9e106bc884a",
   "execution_count": 44
  },
  {
   "cell_type": "code",
   "outputs": [],
   "source": [
    "import lancedb\n",
    "\n",
    "uri = \"data/sample-lancedb\"\n",
    "db = lancedb.connect(uri)\n",
    "table = db.create_table(\"movies\", md)"
   ],
   "metadata": {
    "collapsed": false,
    "ExecuteTime": {
     "end_time": "2025-01-13T08:04:54.144964Z",
     "start_time": "2025-01-13T08:04:54.105345Z"
    }
   },
   "id": "de54e88e7bfa594f",
   "execution_count": 30
  },
  {
   "cell_type": "code",
   "outputs": [],
   "source": [
    "# db.drop_table('movies')"
   ],
   "metadata": {
    "collapsed": false,
    "ExecuteTime": {
     "end_time": "2025-01-13T08:04:23.845590Z",
     "start_time": "2025-01-13T08:04:23.838211Z"
    }
   },
   "id": "7f6987a57293cdbe",
   "execution_count": 27
  },
  {
   "cell_type": "code",
   "outputs": [],
   "source": [
    "from langchain_openai import OpenAIEmbeddings\n",
    "from langchain_community.vectorstores import LanceDB\n",
    "from langchain.llms import OpenAI\n",
    "from langchain.chains import RetrievalQA\n",
    "\n",
    "embeddings = OpenAIEmbeddings()\n",
    "docsearch = LanceDB(connection=db, embedding=embeddings, table_name=\"movies\")"
   ],
   "metadata": {
    "collapsed": false,
    "ExecuteTime": {
     "end_time": "2025-01-13T08:04:58.686980Z",
     "start_time": "2025-01-13T08:04:58.666556Z"
    }
   },
   "id": "7f98dfae15180b58",
   "execution_count": 31
  },
  {
   "cell_type": "code",
   "outputs": [
    {
     "data": {
      "text/plain": "[Document(metadata={'genres': ['Action', 'Crime', 'Thriller'], 'overview': 'An assassin teams up with a woman to help her find her father and uncover the mysteries of her ancestry.', 'title': 'Hitman: Agent 47', 'weighted_rate': 5.365800865800866}, page_content='Title: Hitman: Agent 47. Overview: An assassin teams up with a woman to help her find her father and uncover the mysteries of her ancestry. Genres: Action, Crime, Thriller. Rating: 5.365800865800866'),\n Document(metadata={'genres': ['Action', 'Thriller'], 'overview': 'Iconoclastic, take-no-prisoners cop John McClane, finds himself for the first time on foreign soil after traveling to Moscow to help his wayward son Jack - unaware that Jack is really a highly-trained CIA operative out to stop a nuclear weapons heist. With the Russian underworld in pursuit, and battling a countdown to war, the two McClanes discover that their opposing methods make them unstoppable heroes.', 'title': 'A Good Day to Die Hard', 'weighted_rate': 5.178041993422717}, page_content='Title: A Good Day to Die Hard. Overview: Iconoclastic, take-no-prisoners cop John McClane, finds himself for the first time on foreign soil after traveling to Moscow to help his wayward son Jack - unaware that Jack is really a highly-trained CIA operative out to stop a nuclear weapons heist. With the Russian underworld in pursuit, and battling a countdown to war, the two McClanes discover that their opposing methods make them unstoppable heroes. Genres: Action, Thriller. Rating: 5.178041993422717'),\n Document(metadata={'genres': ['Adventure', 'Science Fiction', 'Action'], 'overview': 'Young teenager, Sam Witwicky becomes involved in the ancient struggle between two extraterrestrial factions of transforming robots – the heroic Autobots and the evil Decepticons. Sam holds the clue to unimaginable power and the Decepticons will stop at nothing to retrieve it.', 'title': 'Transformers', 'weighted_rate': 6.447283923466021}, page_content='Title: Transformers. Overview: Young teenager, Sam Witwicky becomes involved in the ancient struggle between two extraterrestrial factions of transforming robots – the heroic Autobots and the evil Decepticons. Sam holds the clue to unimaginable power and the Decepticons will stop at nothing to retrieve it. Genres: Adventure, Science Fiction, Action. Rating: 6.447283923466021'),\n Document(metadata={'genres': ['Animation', 'Comedy', 'Family', 'Adventure'], 'overview': 'Times are changing for Manny the moody mammoth, Sid the motor mouthed sloth and Diego the crafty saber-toothed tiger. Life heats up for our heroes when they meet some new and none-too-friendly neighbors – the mighty dinosaurs.', 'title': 'Ice Age: Dawn of the Dinosaurs', 'weighted_rate': 6.264471780028944}, page_content='Title: Ice Age: Dawn of the Dinosaurs. Overview: Times are changing for Manny the moody mammoth, Sid the motor mouthed sloth and Diego the crafty saber-toothed tiger. Life heats up for our heroes when they meet some new and none-too-friendly neighbors – the mighty dinosaurs. Genres: Animation, Comedy, Family, Adventure. Rating: 6.264471780028944')]"
     },
     "execution_count": 32,
     "metadata": {},
     "output_type": "execute_result"
    }
   ],
   "source": [
    "query = \"I'm looking for an animated action movie. What could you suggest to me?\"\n",
    "docs = docsearch.similarity_search(query)\n",
    "docs"
   ],
   "metadata": {
    "collapsed": false,
    "ExecuteTime": {
     "end_time": "2025-01-13T08:05:01.303618Z",
     "start_time": "2025-01-13T08:05:00.794863Z"
    }
   },
   "id": "7e984b57ca209b6f",
   "execution_count": 32
  },
  {
   "cell_type": "code",
   "outputs": [
    {
     "data": {
      "text/plain": "'Title: Hitman: Agent 47. Overview: An assassin teams up with a woman to help her find her father and uncover the mysteries of her ancestry. Genres: Action, Crime, Thriller. Rating: 5.365800865800866'"
     },
     "execution_count": 40,
     "metadata": {},
     "output_type": "execute_result"
    }
   ],
   "source": [
    "docs[0].page_content"
   ],
   "metadata": {
    "collapsed": false,
    "ExecuteTime": {
     "end_time": "2025-01-13T08:21:43.581706Z",
     "start_time": "2025-01-13T08:21:43.579176Z"
    }
   },
   "id": "d76259b096d55a15",
   "execution_count": 40
  },
  {
   "cell_type": "code",
   "outputs": [
    {
     "data": {
      "text/plain": "' Ice Age: Dawn of the Dinosaurs or Transformers could be good options for an animated action movie.'"
     },
     "execution_count": 45,
     "metadata": {},
     "output_type": "execute_result"
    }
   ],
   "source": [
    "qa = RetrievalQA.from_chain_type(\n",
    "    llm=OpenAI(),\n",
    "    chain_type=\"stuff\",\n",
    "    retriever=docsearch.as_retriever(),\n",
    "    return_source_documents=True  # True = source chk is available \n",
    ")\n",
    "\n",
    "query = \"I'm looking for an animated action movie. What could you suggest to me?\"\n",
    "result = qa({\"query\": query})\n",
    "result['result']"
   ],
   "metadata": {
    "collapsed": false,
    "ExecuteTime": {
     "end_time": "2025-01-14T05:43:05.437311Z",
     "start_time": "2025-01-14T05:43:02.747332Z"
    }
   },
   "id": "d5590eb74e882b89",
   "execution_count": 45
  },
  {
   "cell_type": "code",
   "outputs": [
    {
     "data": {
      "text/plain": "[Document(metadata={'genres': ['Action', 'Crime', 'Thriller'], 'overview': 'An assassin teams up with a woman to help her find her father and uncover the mysteries of her ancestry.', 'title': 'Hitman: Agent 47', 'weighted_rate': 5.365800865800866}, page_content='Title: Hitman: Agent 47. Overview: An assassin teams up with a woman to help her find her father and uncover the mysteries of her ancestry. Genres: Action, Crime, Thriller. Rating: 5.365800865800866'),\n Document(metadata={'genres': ['Action', 'Thriller'], 'overview': 'Iconoclastic, take-no-prisoners cop John McClane, finds himself for the first time on foreign soil after traveling to Moscow to help his wayward son Jack - unaware that Jack is really a highly-trained CIA operative out to stop a nuclear weapons heist. With the Russian underworld in pursuit, and battling a countdown to war, the two McClanes discover that their opposing methods make them unstoppable heroes.', 'title': 'A Good Day to Die Hard', 'weighted_rate': 5.178041993422717}, page_content='Title: A Good Day to Die Hard. Overview: Iconoclastic, take-no-prisoners cop John McClane, finds himself for the first time on foreign soil after traveling to Moscow to help his wayward son Jack - unaware that Jack is really a highly-trained CIA operative out to stop a nuclear weapons heist. With the Russian underworld in pursuit, and battling a countdown to war, the two McClanes discover that their opposing methods make them unstoppable heroes. Genres: Action, Thriller. Rating: 5.178041993422717'),\n Document(metadata={'genres': ['Adventure', 'Science Fiction', 'Action'], 'overview': 'Young teenager, Sam Witwicky becomes involved in the ancient struggle between two extraterrestrial factions of transforming robots – the heroic Autobots and the evil Decepticons. Sam holds the clue to unimaginable power and the Decepticons will stop at nothing to retrieve it.', 'title': 'Transformers', 'weighted_rate': 6.447283923466021}, page_content='Title: Transformers. Overview: Young teenager, Sam Witwicky becomes involved in the ancient struggle between two extraterrestrial factions of transforming robots – the heroic Autobots and the evil Decepticons. Sam holds the clue to unimaginable power and the Decepticons will stop at nothing to retrieve it. Genres: Adventure, Science Fiction, Action. Rating: 6.447283923466021'),\n Document(metadata={'genres': ['Animation', 'Comedy', 'Family', 'Adventure'], 'overview': 'Times are changing for Manny the moody mammoth, Sid the motor mouthed sloth and Diego the crafty saber-toothed tiger. Life heats up for our heroes when they meet some new and none-too-friendly neighbors – the mighty dinosaurs.', 'title': 'Ice Age: Dawn of the Dinosaurs', 'weighted_rate': 6.264471780028944}, page_content='Title: Ice Age: Dawn of the Dinosaurs. Overview: Times are changing for Manny the moody mammoth, Sid the motor mouthed sloth and Diego the crafty saber-toothed tiger. Life heats up for our heroes when they meet some new and none-too-friendly neighbors – the mighty dinosaurs. Genres: Animation, Comedy, Family, Adventure. Rating: 6.264471780028944')]"
     },
     "execution_count": 48,
     "metadata": {},
     "output_type": "execute_result"
    }
   ],
   "source": [
    "result['source_documents']"
   ],
   "metadata": {
    "collapsed": false,
    "ExecuteTime": {
     "end_time": "2025-01-14T05:46:19.722185Z",
     "start_time": "2025-01-14T05:46:19.718512Z"
    }
   },
   "id": "1a466b5aa17cad5a",
   "execution_count": 48
  },
  {
   "cell_type": "code",
   "outputs": [
    {
     "data": {
      "text/plain": "{'query': \"I'm looking for a movie with animals and an adventurous plot.\",\n 'result': ' Ice Age and The Curse of the Were-Rabbit both have animals and adventurous plots.',\n 'source_documents': [Document(metadata={'genres': ['Comedy', 'Family'], 'overview': 'The ongoing war between the canine and feline species is put on hold when they join forces to thwart a rogue cat spy with her own sinister plans for conquest.', 'title': 'Cats & Dogs 2 : The Revenge of Kitty Galore', 'weighted_rate': 4.978057553956835}, page_content='Title: Cats & Dogs 2 : The Revenge of Kitty Galore. Overview: The ongoing war between the canine and feline species is put on hold when they join forces to thwart a rogue cat spy with her own sinister plans for conquest. Genres: Comedy, Family. Rating: 4.978057553956835'),\n  Document(metadata={'genres': ['Adventure', 'Animation', 'Comedy', 'Family'], 'overview': \"Cheese-loving eccentric Wallace and his cunning canine pal, Gromit, investigate a mystery in Nick Park's animated adventure, in which the lovable inventor and his intrepid pup run a business ridding the town of garden pests. Using only humane methods that turn their home into a halfway house for evicted vermin, the pair stumble upon a mystery involving a voracious vegetarian monster that threatens to ruin the annual veggie-growing contest.\", 'title': 'The Curse of the Were-Rabbit', 'weighted_rate': 6.085923217550274}, page_content=\"Title: The Curse of the Were-Rabbit. Overview: Cheese-loving eccentric Wallace and his cunning canine pal, Gromit, investigate a mystery in Nick Park's animated adventure, in which the lovable inventor and his intrepid pup run a business ridding the town of garden pests. Using only humane methods that turn their home into a halfway house for evicted vermin, the pair stumble upon a mystery involving a voracious vegetarian monster that threatens to ruin the annual veggie-growing contest. Genres: Adventure, Animation, Comedy, Family. Rating: 6.085923217550274\"),\n  Document(metadata={'genres': ['Comedy', 'Family'], 'overview': \"A newly married couple who, in the process of starting a family, learn many of life's important lessons from their trouble-loving retriever, Marley. Packed with plenty of laughs to lighten the load, the film explores the highs and lows of marriage, maturity and confronting one's own mortality, as seen through the lens of family life with a dog.\", 'title': 'Marley & Me', 'weighted_rate': 6.44841182913472}, page_content=\"Title: Marley & Me. Overview: A newly married couple who, in the process of starting a family, learn many of life's important lessons from their trouble-loving retriever, Marley. Packed with plenty of laughs to lighten the load, the film explores the highs and lows of marriage, maturity and confronting one's own mortality, as seen through the lens of family life with a dog. Genres: Comedy, Family. Rating: 6.44841182913472\"),\n  Document(metadata={'genres': ['Animation', 'Comedy', 'Family', 'Adventure'], 'overview': 'With the impending ice age almost upon them, a mismatched trio of prehistoric critters – Manny the woolly mammoth, Diego the saber-toothed tiger and Sid the giant sloth – find an orphaned infant and decide to return it to its human parents. Along the way, the unlikely allies become friends but, when enemies attack, their quest takes on far nobler aims.', 'title': 'Ice Age', 'weighted_rate': 6.892297174111213}, page_content='Title: Ice Age. Overview: With the impending ice age almost upon them, a mismatched trio of prehistoric critters – Manny the woolly mammoth, Diego the saber-toothed tiger and Sid the giant sloth – find an orphaned infant and decide to return it to its human parents. Along the way, the unlikely allies become friends but, when enemies attack, their quest takes on far nobler aims. Genres: Animation, Comedy, Family, Adventure. Rating: 6.892297174111213')]}"
     },
     "execution_count": 49,
     "metadata": {},
     "output_type": "execute_result"
    }
   ],
   "source": [
    "# NOTI: Filtering Method 1st Example\n",
    "# NOTI: option : search_kwargs={'data': df_filtered}\n",
    "df_filtered = md[md['genres'].apply(lambda x: 'Comedy' in x)]\n",
    "qa = RetrievalQA.from_chain_type(\n",
    "    llm=OpenAI(),\n",
    "    chain_type=\"stuff\",\n",
    "    retriever=docsearch.as_retriever(\n",
    "        search_kwargs={'data': df_filtered}\n",
    "    ),\n",
    "    return_source_documents=True)\n",
    "\n",
    "query = \"I'm looking for a movie with animals and an adventurous plot.\"\n",
    "result = qa({\"query\": query})\n",
    "result"
   ],
   "metadata": {
    "collapsed": false,
    "ExecuteTime": {
     "end_time": "2025-01-14T05:48:45.596863Z",
     "start_time": "2025-01-14T05:48:43.769371Z"
    }
   },
   "id": "d8958c2c0b49c32e",
   "execution_count": 49
  },
  {
   "cell_type": "code",
   "outputs": [
    {
     "data": {
      "text/plain": "' Ice Age and The Curse of the Were-Rabbit both have animals and adventurous plots.'"
     },
     "execution_count": 50,
     "metadata": {},
     "output_type": "execute_result"
    }
   ],
   "source": [
    "result['result']"
   ],
   "metadata": {
    "collapsed": false,
    "ExecuteTime": {
     "end_time": "2025-01-14T05:50:20.227442Z",
     "start_time": "2025-01-14T05:50:20.224069Z"
    }
   },
   "id": "f5f632f24ae1518d",
   "execution_count": 50
  },
  {
   "cell_type": "code",
   "outputs": [
    {
     "data": {
      "text/plain": "{'query': \"I'm looking for a movie with animals and an adventurous plot.\",\n 'result': ' Ice Age.',\n 'source_documents': [Document(metadata={'genres': ['Animation', 'Comedy', 'Family', 'Adventure'], 'overview': 'With the impending ice age almost upon them, a mismatched trio of prehistoric critters – Manny the woolly mammoth, Diego the saber-toothed tiger and Sid the giant sloth – find an orphaned infant and decide to return it to its human parents. Along the way, the unlikely allies become friends but, when enemies attack, their quest takes on far nobler aims.', 'title': 'Ice Age', 'weighted_rate': 6.892297174111213}, page_content='Title: Ice Age. Overview: With the impending ice age almost upon them, a mismatched trio of prehistoric critters – Manny the woolly mammoth, Diego the saber-toothed tiger and Sid the giant sloth – find an orphaned infant and decide to return it to its human parents. Along the way, the unlikely allies become friends but, when enemies attack, their quest takes on far nobler aims. Genres: Animation, Comedy, Family, Adventure. Rating: 6.892297174111213')]}"
     },
     "execution_count": 51,
     "metadata": {},
     "output_type": "execute_result"
    }
   ],
   "source": [
    "# NOTI: Filtering Method 2nd Example\n",
    "# NOTI: option : search_kwargs={'filter': \"weighted_rate > 6.5\"}\n",
    "qa = RetrievalQA.from_chain_type(\n",
    "    llm=OpenAI(),\n",
    "    chain_type=\"stuff\",\n",
    "    retriever=docsearch.as_retriever(\n",
    "        search_kwargs={'filter': \"weighted_rate > 6.5\"}\n",
    "    ),\n",
    "    return_source_documents=True\n",
    ")\n",
    "\n",
    "query = \"I'm looking for a movie with animals and an adventurous plot.\"\n",
    "result = qa({\"query\": query})\n",
    "result"
   ],
   "metadata": {
    "collapsed": false,
    "ExecuteTime": {
     "end_time": "2025-01-14T05:54:56.691110Z",
     "start_time": "2025-01-14T05:54:55.325874Z"
    }
   },
   "id": "48fc064d04e63eed",
   "execution_count": 51
  },
  {
   "cell_type": "code",
   "outputs": [
    {
     "data": {
      "text/plain": "' Ice Age.'"
     },
     "execution_count": 52,
     "metadata": {},
     "output_type": "execute_result"
    }
   ],
   "source": [
    "result['result']"
   ],
   "metadata": {
    "collapsed": false,
    "ExecuteTime": {
     "end_time": "2025-01-14T05:55:05.222133Z",
     "start_time": "2025-01-14T05:55:05.219059Z"
    }
   },
   "id": "3a5481be8cfc35a4",
   "execution_count": 52
  },
  {
   "cell_type": "code",
   "outputs": [
    {
     "name": "stderr",
     "output_type": "stream",
     "text": [
      "/var/folders/c4/_knlqzks04q67bz6n79k4z2r0000gn/T/ipykernel_57751/2229338743.py:4: LangChainDeprecationWarning: The class `ChatOpenAI` was deprecated in LangChain 0.0.10 and will be removed in 1.0. An updated version of the class exists in the :class:`~langchain-openai package and should be used instead. To use it run `pip install -U :class:`~langchain-openai` and import as `from :class:`~langchain_openai import ChatOpenAI``.\n",
      "  llm = ChatOpenAI(temperature=0)\n"
     ]
    },
    {
     "name": "stdout",
     "output_type": "stream",
     "text": [
      "\n",
      "\n",
      "\u001B[1m> Entering new AgentExecutor chain...\u001B[0m\n",
      "\u001B[32;1m\u001B[1;3m\n",
      "Invoking: `movies` with `{'query': 'action'}`\n",
      "\n",
      "\n",
      "\u001B[0m\u001B[36;1m\u001B[1;3mTitle: [REC]². Overview: The action continues from [REC], with the medical officer and a SWAT team outfitted with video cameras are sent into the sealed off apartment to control the situation. Genres: Thriller, Horror. Rating: 5.800000000000001\n",
      "\n",
      "Title: The Boondock Saints. Overview: With a God-inspired moral obligation to act against evil, twin brothers Conner and Murphy set out to rid Boston of criminals. However, rather than working within the system, these Irish Americans decide to take swift retribution into their own hands. Genres: Action, Thriller, Crime. Rating: 6.455226209048361\n",
      "\n",
      "Title: The Gamers. Overview: Sent on a quest to rescue a princess, four clueless players must guide their players through dangerous forests, ancient ruins, and past the girl next door. Genres: Action, Comedy, Thriller, Foreign. Rating: 5.049440715883669\n",
      "\n",
      "Title: Atlas Shrugged Part III: Who is John Galt?. Overview: Approaching collapse, the nation's economy is quickly eroding. As crime and fear take over the countryside, the government continues to exert its brutal force against the nation's most productive who are mysteriously vanishing - leaving behind a wake of despair. One man has the answer. One woman stands in his way. Some will stop at nothing to control him. Others will stop at nothing to save him. He swore by his life. They swore to find him. Genres: Drama, Science Fiction, Mystery. Rating: 4.96325167037862\u001B[0m\u001B[32;1m\u001B[1;3mHere are some action movies that I recommend:\n",
      "\n",
      "1. [REC]²: The action continues from [REC], with the medical officer and a SWAT team sent into a sealed-off apartment to control the situation. Genres: Thriller, Horror. Rating: 5.8\n",
      "\n",
      "2. The Boondock Saints: Twin brothers set out to rid Boston of criminals, taking swift retribution into their own hands. Genres: Action, Thriller, Crime. Rating: 6.46\n",
      "\n",
      "3. The Gamers: Four clueless players are sent on a quest to rescue a princess, navigating dangerous forests and ancient ruins. Genres: Action, Comedy, Thriller, Foreign. Rating: 5.05\n",
      "\n",
      "4. Atlas Shrugged Part III: Who is John Galt?: The nation's economy is eroding, and one man holds the answer while others try to control or save him. Genres: Drama, Science Fiction, Mystery. Rating: 4.96\n",
      "\n",
      "These movies offer a mix of action, thriller, and other genres for your entertainment.\u001B[0m\n",
      "\n",
      "\u001B[1m> Finished chain.\u001B[0m\n"
     ]
    }
   ],
   "source": [
    "# NOTI: Agent Method\n",
    "from langchain.agents.agent_toolkits import create_retriever_tool, create_conversational_retrieval_agent\n",
    "from langchain.chat_models import ChatOpenAI\n",
    "\n",
    "llm = ChatOpenAI(temperature=0)\n",
    "retriever = docsearch.as_retriever(return_source_documents=True)\n",
    "\n",
    "tool = create_retriever_tool(\n",
    "    retriever,\n",
    "    \"movies\",\n",
    "    \"Searches and returns recommendations about movies.\"\n",
    ")\n",
    "\n",
    "tools = [tool]\n",
    "\n",
    "agent_executor = create_conversational_retrieval_agent(llm, tools, verbose=True)\n",
    "\n",
    "result = agent_executor({\"input\": \"suggest me some action movies\"})  # utilizing user input"
   ],
   "metadata": {
    "collapsed": false,
    "ExecuteTime": {
     "end_time": "2025-01-14T06:19:28.916306Z",
     "start_time": "2025-01-14T06:19:25.480576Z"
    }
   },
   "id": "2bb903751a0e3b9",
   "execution_count": 53
  },
  {
   "cell_type": "code",
   "outputs": [
    {
     "name": "stdout",
     "output_type": "stream",
     "text": [
      "\n",
      "\n",
      "\u001B[1m> Entering new AgentExecutor chain...\u001B[0m\n",
      "\u001B[32;1m\u001B[1;3m\n",
      "Invoking: `movies` with `{'query': 'kung fu panda'}`\n",
      "\n",
      "\n",
      "\u001B[0m\u001B[36;1m\u001B[1;3mTitle: Kung Fu Panda. Overview: When the Valley of Peace is threatened, lazy Po the panda discovers his destiny as the \"chosen one\" and trains to become a kung fu hero, but transforming the unsleek slacker into a brave warrior won't be easy. It's up to Master Shifu and the Furious Five -- Tigress, Crane, Mantis, Viper and Monkey -- to give it a try. Genres: Adventure, Animation, Family, Comedy. Rating: 6.675006821282402\n",
      "\n",
      "Title: Kung Fu Panda 2. Overview: Po is now living his dream as The Dragon Warrior, protecting the Valley of Peace alongside his friends and fellow kung fu masters, The Furious Five - Tigress, Crane, Mantis, Viper and Monkey. But Po’s new life of awesomeness is threatened by the emergence of a formidable villain, who plans to use a secret, unstoppable weapon to conquer China and destroy kung fu. It is up to Po and The Furious Five to journey across China to face this threat and vanquish it. But how can Po stop a weapon that can stop kung fu? He must look to his past and uncover the secrets of his mysterious origins; only then will he be able to unlock the strength he needs to succeed. Genres: Animation, Family. Rating: 6.387240356083087\n",
      "\n",
      "Title: Chinese Zodiac. Overview: Asian Hawk (Jackie Chan) leads a mercenary team to recover several lost artifacts from the Old Summer Palace, the bronze heads of the 12 Chinese Zodiac animals which were sacked by the French and British armies from the imperial Summer Palace in Beijing in 1860. Assisted by a Chinese student & a Parisian lady, Hawk stops at nothing to accomplish the mission. Genres: Action, Adventure. Rating: 5.380000000000001\n",
      "\n",
      "Title: Ip Man 2. Overview: Having defeated the best fighters of the Imperial Japanese army in occupied Shanghai, Ip Man and his family settle in post-war Hong Kong.Struggling to make a living, Master Ip opens a kung fu school to bring his celebrated art of Wing Chun to the troubled youth of Hong Kong. His growing reputation soon brings challenges from powerful enemies, including pre-eminent Hung Gar master, Hung Quan. However, when corrupt colonial officials stage a life-or-death contest with formidable British boxer, Twister, to humiliate the Chinese people, the masters quickly forget their differences. Soon, the eyes of the nation are on the one man capable of securing a victory-Grandmaster Ip Man! Genres: Action, History, Drama. Rating: 6.345974955277281\u001B[0m\u001B[32;1m\u001B[1;3mHere are some movies similar to Kung Fu Panda 1 and 2 that you might enjoy:\n",
      "\n",
      "1. Kung Fu Panda: When the Valley of Peace is threatened, lazy Po the panda discovers his destiny as the \"chosen one\" and trains to become a kung fu hero with the help of Master Shifu and the Furious Five. Genres: Adventure, Animation, Family, Comedy. Rating: 6.68\n",
      "\n",
      "2. Kung Fu Panda 2: Po, now The Dragon Warrior, protects the Valley of Peace alongside his friends and fellow kung fu masters, The Furious Five. They face a formidable villain threatening China with a secret weapon. Genres: Animation, Family. Rating: 6.39\n",
      "\n",
      "3. Chinese Zodiac: Asian Hawk leads a mercenary team to recover lost artifacts, including the bronze heads of the 12 Chinese Zodiac animals. Genres: Action, Adventure. Rating: 5.38\n",
      "\n",
      "4. Ip Man 2: Master Ip opens a kung fu school in post-war Hong Kong, facing challenges from powerful enemies and a life-or-death contest. Genres: Action, History, Drama. Rating: 6.35\n",
      "\n",
      "These movies feature martial arts, adventure, and comedy similar to Kung Fu Panda 1 and 2. Enjoy watching!\u001B[0m\n",
      "\n",
      "\u001B[1m> Finished chain.\u001B[0m\n"
     ]
    }
   ],
   "source": [
    "result = agent_executor({\"input\": \"I liked a lot kung fu panda 1 and 2. Could you suggest me some similar movies?\"})"
   ],
   "metadata": {
    "collapsed": false,
    "ExecuteTime": {
     "end_time": "2025-01-14T06:28:13.755803Z",
     "start_time": "2025-01-14T06:28:09.813024Z"
    }
   },
   "id": "67111e5048224a13",
   "execution_count": 55
  },
  {
   "cell_type": "code",
   "outputs": [
    {
     "name": "stdout",
     "output_type": "stream",
     "text": [
      "Use the following pieces of context to answer the question at the end. If you don't know the answer, just say that you don't know, don't try to make up an answer.\n",
      "\n",
      "{context}\n",
      "\n",
      "Question: {question}\n",
      "Helpful Answer:\n"
     ]
    }
   ],
   "source": [
    "# Prompt engineering\n",
    "\n",
    "# NOTI: to check current prompt\n",
    "print(qa.combine_documents_chain.llm_chain.prompt.template)"
   ],
   "metadata": {
    "collapsed": false,
    "ExecuteTime": {
     "end_time": "2025-01-14T06:30:04.187848Z",
     "start_time": "2025-01-14T06:30:04.185379Z"
    }
   },
   "id": "fc319b0fea76108",
   "execution_count": 56
  },
  {
   "cell_type": "code",
   "outputs": [
    {
     "name": "stdout",
     "output_type": "stream",
     "text": [
      "\n",
      "1. The Lego Movie - When an ordinary LEGO construction worker is mistakenly identified as the prophesied \"special\", he is recruited to join a quest to stop an evil tyrant from gluing the LEGO universe into eternal stasis. This movie is filled with clever jokes and humor that will appeal to both kids and adults.\n",
      "\n",
      "2. Zootopia - In a city of anthropomorphic animals, a rookie bunny cop and a cynical con artist fox must work together to uncover a conspiracy that threatens the peace in their city. This movie has a great balance of witty humor and heartfelt messages that will leave you laughing and touched.\n",
      "\n",
      "3. Finding Nemo - After his son is captured in the Great Barrier Reef and taken to Sydney, a timid clownfish sets out on a journey to bring him home. Along the way, he meets a forgetful blue tang fish and they embark on a hilarious adventure. This movie has a perfect blend of humor, heart, and stunning animation.\n"
     ]
    }
   ],
   "source": [
    "from langchain.prompts import PromptTemplate\n",
    "\n",
    "template = \"\"\"You are a movie recommender system that help users to find movies that match their preferences. \n",
    "Use the following pieces of context to answer the question at the end. \n",
    "For each question, suggest three movies, with a short description of the plot and the reason why the user migth like it.\n",
    "If you don't know the answer, just say that you don't know, don't try to make up an answer.\n",
    "\n",
    "{context}\n",
    "\n",
    "Question: {question}\n",
    "Your response:\"\"\"\n",
    "\n",
    "PROMPT = PromptTemplate(\n",
    "    template=template, input_variables=[\"context\", \"question\"]\n",
    ")\n",
    "\n",
    "chain_type_kwargs = {\"prompt\": PROMPT}\n",
    "qa = RetrievalQA.from_chain_type(\n",
    "    llm=OpenAI(),\n",
    "    chain_type=\"stuff\",\n",
    "    retriever=docsearch.as_retriever(),\n",
    "    return_source_documents=True,\n",
    "    chain_type_kwargs=chain_type_kwargs\n",
    ")\n",
    "\n",
    "query = \"I'm looking for a funny animated movie, any suggestion?\"\n",
    "result = qa({'query': query})\n",
    "print(result['result'])"
   ],
   "metadata": {
    "collapsed": false,
    "ExecuteTime": {
     "end_time": "2025-01-14T06:33:17.445997Z",
     "start_time": "2025-01-14T06:33:14.690693Z"
    }
   },
   "id": "d4071033a7b62db7",
   "execution_count": 58
  },
  {
   "cell_type": "code",
   "outputs": [
    {
     "name": "stdout",
     "output_type": "stream",
     "text": [
      "You are a movie recommender system that help users to find movies that match their preferences. \n",
      "Use the following pieces of context to answer the question at the end. \n",
      "If you don't know the answer, just say that you don't know, don't try to make up an answer.\n",
      "\n",
      "{context}\n",
      "This is what we know about the user, and you can use this information to better tune your research:\n",
      "Age: 28\n",
      "Gender: female\n",
      "Question: {question}\n",
      "Your response:\n"
     ]
    }
   ],
   "source": [
    "# NOTI: add more user info for more specific movie recommendation in prompt\n",
    "from langchain.prompts import PromptTemplate\n",
    "\n",
    "template_prefix = \"\"\"You are a movie recommender system that help users to find movies that match their preferences. \n",
    "Use the following pieces of context to answer the question at the end. \n",
    "If you don't know the answer, just say that you don't know, don't try to make up an answer.\n",
    "\n",
    "{context}\"\"\"\n",
    "\n",
    "user_info = \"\"\"This is what we know about the user, and you can use this information to better tune your research:\n",
    "Age: {age}\n",
    "Gender: {gender}\"\"\"\n",
    "\n",
    "template_suffix = \"\"\"Question: {question}\n",
    "Your response:\"\"\"\n",
    "\n",
    "user_info = user_info.format(age=28, gender='female')\n",
    "\n",
    "COMBINED_PROMPT = template_prefix + '\\n' + user_info + '\\n' + template_suffix\n",
    "print(COMBINED_PROMPT)"
   ],
   "metadata": {
    "collapsed": false,
    "ExecuteTime": {
     "end_time": "2025-01-14T06:36:26.890104Z",
     "start_time": "2025-01-14T06:36:26.887589Z"
    }
   },
   "id": "89219b0f8e1c1b6d",
   "execution_count": 60
  },
  {
   "cell_type": "code",
   "outputs": [
    {
     "data": {
      "text/plain": "' Based on your age and gender, some horror movies that you might enjoy are \"Halloween\", \"Fright Night\", and \"A Nightmare on Elm Street.\" These films have received good ratings and fall under the horror genre, which you have expressed an interest in. You may also enjoy \"Boogeyman 2\", which has a similar rating and falls under the horror and thriller genres.'"
     },
     "execution_count": 63,
     "metadata": {},
     "output_type": "execute_result"
    }
   ],
   "source": [
    "PROMPT = PromptTemplate(\n",
    "    template=COMBINED_PROMPT, input_variables=[\"context\", \"question\"]\n",
    ")\n",
    "\n",
    "chain_type_kwargs = {\"prompt\": PROMPT}\n",
    "qa = RetrievalQA.from_chain_type(\n",
    "    llm=OpenAI(),\n",
    "    chain_type=\"stuff\",\n",
    "    retriever=docsearch.as_retriever(),\n",
    "    return_source_documents=True,\n",
    "    chain_type_kwargs=chain_type_kwargs\n",
    ")\n",
    "\n",
    "query = \"Can you suggest me some horror movies?\"\n",
    "result = qa({'query': query})\n",
    "result['result']"
   ],
   "metadata": {
    "collapsed": false,
    "ExecuteTime": {
     "end_time": "2025-01-14T06:39:09.224848Z",
     "start_time": "2025-01-14T06:39:06.885855Z"
    }
   },
   "id": "64fc4b6e9e45a496",
   "execution_count": 63
  },
  {
   "cell_type": "code",
   "outputs": [
    {
     "data": {
      "text/plain": "{'query': 'Can you suggest me some horror movies?',\n 'result': ' Based on your age and gender, some horror movies that you might enjoy are \"Halloween\", \"Fright Night\", and \"A Nightmare on Elm Street.\" These films have received good ratings and fall under the horror genre, which you have expressed an interest in. You may also enjoy \"Boogeyman 2\", which has a similar rating and falls under the horror and thriller genres.',\n 'source_documents': [Document(metadata={'genres': ['Horror', 'Thriller'], 'overview': \"In John Carpenter's horror classic, a psychotic murderer, institutionalized since childhood for the murder of his sister, escapes and stalks a bookish teenage girl and her friends while his doctor chases him through the streets.\", 'title': 'Halloween', 'weighted_rate': 6.7056000000000004}, page_content=\"Title: Halloween. Overview: In John Carpenter's horror classic, a psychotic murderer, institutionalized since childhood for the murder of his sister, escapes and stalks a bookish teenage girl and her friends while his doctor chases him through the streets. Genres: Horror, Thriller. Rating: 6.7056000000000004\"),\n  Document(metadata={'genres': ['Horror', 'Comedy'], 'overview': 'A teenager suspects his new neighbour is a vampire. Unable to convince anyone, he tries to enlist the help of a self-proclaimed vampire hunter and magician in this remake of the 1985 comedy-horror classic.', 'title': 'Fright Night', 'weighted_rate': 5.587059942911512}, page_content='Title: Fright Night. Overview: A teenager suspects his new neighbour is a vampire. Unable to convince anyone, he tries to enlist the help of a self-proclaimed vampire hunter and magician in this remake of the 1985 comedy-horror classic. Genres: Horror, Comedy. Rating: 5.587059942911512'),\n  Document(metadata={'genres': ['Horror', 'Mystery', 'Thriller'], 'overview': 'The film that brings back horror icon Freddy Krueger as a darker and more sinister character than ever before. While Freddy is on the prowl a group of teenagers being stalked soon learn they all have a common factor making them targets for this twisted killer.', 'title': 'A Nightmare on Elm Street', 'weighted_rate': 5.3199170124481325}, page_content='Title: A Nightmare on Elm Street. Overview: The film that brings back horror icon Freddy Krueger as a darker and more sinister character than ever before. While Freddy is on the prowl a group of teenagers being stalked soon learn they all have a common factor making them targets for this twisted killer. Genres: Horror, Mystery, Thriller. Rating: 5.3199170124481325'),\n  Document(metadata={'genres': ['Horror', 'Thriller'], 'overview': 'A young woman attempts to cure her phobia of the boogeyman by checking herself into a mental health facility, only to realize too little too late that she is now helplessly trapped with her own greatest fear.', 'title': 'Boogeyman 2', 'weighted_rate': 5.027777777777778}, page_content='Title: Boogeyman 2. Overview: A young woman attempts to cure her phobia of the boogeyman by checking herself into a mental health facility, only to realize too little too late that she is now helplessly trapped with her own greatest fear. Genres: Horror, Thriller. Rating: 5.027777777777778')]}"
     },
     "execution_count": 64,
     "metadata": {},
     "output_type": "execute_result"
    }
   ],
   "source": [
    "result"
   ],
   "metadata": {
    "collapsed": false,
    "ExecuteTime": {
     "end_time": "2025-01-14T06:39:18.191756Z",
     "start_time": "2025-01-14T06:39:18.189272Z"
    }
   },
   "id": "85a86ea0c8783279",
   "execution_count": 64
  },
  {
   "cell_type": "code",
   "outputs": [
    {
     "data": {
      "text/plain": "[Document(metadata={'genres': ['Horror', 'Thriller'], 'overview': \"In John Carpenter's horror classic, a psychotic murderer, institutionalized since childhood for the murder of his sister, escapes and stalks a bookish teenage girl and her friends while his doctor chases him through the streets.\", 'title': 'Halloween', 'weighted_rate': 6.7056000000000004}, page_content=\"Title: Halloween. Overview: In John Carpenter's horror classic, a psychotic murderer, institutionalized since childhood for the murder of his sister, escapes and stalks a bookish teenage girl and her friends while his doctor chases him through the streets. Genres: Horror, Thriller. Rating: 6.7056000000000004\"),\n Document(metadata={'genres': ['Horror', 'Comedy'], 'overview': 'A teenager suspects his new neighbour is a vampire. Unable to convince anyone, he tries to enlist the help of a self-proclaimed vampire hunter and magician in this remake of the 1985 comedy-horror classic.', 'title': 'Fright Night', 'weighted_rate': 5.587059942911512}, page_content='Title: Fright Night. Overview: A teenager suspects his new neighbour is a vampire. Unable to convince anyone, he tries to enlist the help of a self-proclaimed vampire hunter and magician in this remake of the 1985 comedy-horror classic. Genres: Horror, Comedy. Rating: 5.587059942911512'),\n Document(metadata={'genres': ['Horror', 'Mystery', 'Thriller'], 'overview': 'The film that brings back horror icon Freddy Krueger as a darker and more sinister character than ever before. While Freddy is on the prowl a group of teenagers being stalked soon learn they all have a common factor making them targets for this twisted killer.', 'title': 'A Nightmare on Elm Street', 'weighted_rate': 5.3199170124481325}, page_content='Title: A Nightmare on Elm Street. Overview: The film that brings back horror icon Freddy Krueger as a darker and more sinister character than ever before. While Freddy is on the prowl a group of teenagers being stalked soon learn they all have a common factor making them targets for this twisted killer. Genres: Horror, Mystery, Thriller. Rating: 5.3199170124481325'),\n Document(metadata={'genres': ['Horror', 'Thriller'], 'overview': 'A young woman attempts to cure her phobia of the boogeyman by checking herself into a mental health facility, only to realize too little too late that she is now helplessly trapped with her own greatest fear.', 'title': 'Boogeyman 2', 'weighted_rate': 5.027777777777778}, page_content='Title: Boogeyman 2. Overview: A young woman attempts to cure her phobia of the boogeyman by checking herself into a mental health facility, only to realize too little too late that she is now helplessly trapped with her own greatest fear. Genres: Horror, Thriller. Rating: 5.027777777777778')]"
     },
     "execution_count": 65,
     "metadata": {},
     "output_type": "execute_result"
    }
   ],
   "source": [
    "result['source_documents']"
   ],
   "metadata": {
    "collapsed": false,
    "ExecuteTime": {
     "end_time": "2025-01-14T06:40:03.740221Z",
     "start_time": "2025-01-14T06:40:03.737344Z"
    }
   },
   "id": "e3acd50591cb11a5",
   "execution_count": 65
  },
  {
   "cell_type": "code",
   "outputs": [
    {
     "data": {
      "text/plain": "  username  age gender                                             movies\n0    Alice   25      F  {'Transformers: The Last Knight': 7, 'Pokémon:...\n1      Bob   32      M  {'Bon Cop Bad Cop 2': 8, 'Goon: Last of the En...",
      "text/html": "<div>\n<style scoped>\n    .dataframe tbody tr th:only-of-type {\n        vertical-align: middle;\n    }\n\n    .dataframe tbody tr th {\n        vertical-align: top;\n    }\n\n    .dataframe thead th {\n        text-align: right;\n    }\n</style>\n<table border=\"1\" class=\"dataframe\">\n  <thead>\n    <tr style=\"text-align: right;\">\n      <th></th>\n      <th>username</th>\n      <th>age</th>\n      <th>gender</th>\n      <th>movies</th>\n    </tr>\n  </thead>\n  <tbody>\n    <tr>\n      <th>0</th>\n      <td>Alice</td>\n      <td>25</td>\n      <td>F</td>\n      <td>{'Transformers: The Last Knight': 7, 'Pokémon:...</td>\n    </tr>\n    <tr>\n      <th>1</th>\n      <td>Bob</td>\n      <td>32</td>\n      <td>M</td>\n      <td>{'Bon Cop Bad Cop 2': 8, 'Goon: Last of the En...</td>\n    </tr>\n  </tbody>\n</table>\n</div>"
     },
     "execution_count": 66,
     "metadata": {},
     "output_type": "execute_result"
    }
   ],
   "source": [
    "# Content based Recommendation\n",
    "import pandas as pd\n",
    "\n",
    "data = {\n",
    "    \"username\": [\"Alice\", \"Bob\"],\n",
    "    \"age\": [25, 32],\n",
    "    \"gender\": [\"F\", \"M\"],\n",
    "    \"movies\": [\n",
    "        [(\"Transformers: The Last Knight\", 7), (\"Pokémon: Spell of the Unknown\", 5)],\n",
    "        [(\"Bon Cop Bad Cop 2\", 8), (\"Goon: Last of the Enforcers\", 9)]\n",
    "    ]\n",
    "}\n",
    "\n",
    "# Convert the \"movies\" column into dictionaries\n",
    "for i, row_movies in enumerate(data[\"movies\"]):\n",
    "    movie_dict = {}\n",
    "    for movie, rating in row_movies:\n",
    "        movie_dict[movie] = rating\n",
    "    data[\"movies\"][i] = movie_dict\n",
    "\n",
    "# Create a pandas DataFrame\n",
    "df = pd.DataFrame(data)\n",
    "\n",
    "df.head()"
   ],
   "metadata": {
    "collapsed": false,
    "ExecuteTime": {
     "end_time": "2025-01-14T06:41:09.436186Z",
     "start_time": "2025-01-14T06:41:09.422963Z"
    }
   },
   "id": "a4fcc1aee7eb4a98",
   "execution_count": 66
  },
  {
   "cell_type": "code",
   "outputs": [],
   "source": [
    "template_prefix = \"\"\"You are a movie recommender system that help users to find movies that match their preferences. \n",
    "Use the following pieces of context to answer the question at the end. \n",
    "If you don't know the answer, just say that you don't know, don't try to make up an answer.\n",
    "\n",
    "{context}\"\"\"\n",
    "\n",
    "user_info = \"\"\"This is what we know about the user, and you can use this information to better tune your research:\n",
    "Age: {age}\n",
    "Gender: {gender}\n",
    "Movies already seen alongside with rating: {movies}\"\"\"\n",
    "\n",
    "template_suffix = \"\"\"Question: {question}\n",
    "Your response:\"\"\""
   ],
   "metadata": {
    "collapsed": false,
    "ExecuteTime": {
     "end_time": "2025-01-14T06:41:54.270110Z",
     "start_time": "2025-01-14T06:41:54.268027Z"
    }
   },
   "id": "141430206935b01d",
   "execution_count": 67
  },
  {
   "cell_type": "code",
   "outputs": [
    {
     "name": "stdout",
     "output_type": "stream",
     "text": [
      "You are a movie recommender system that help users to find movies that match their preferences. \n",
      "Use the following pieces of context to answer the question at the end. \n",
      "If you don't know the answer, just say that you don't know, don't try to make up an answer.\n",
      "\n",
      "{context}\n",
      "This is what we know about the user, and you can use this information to better tune your research:\n",
      "Age: 25\n",
      "Gender: F\n",
      "Movies already seen alongside with rating: Movie: Transformers: The Last Knight, Rating: 7\n",
      "Movie: Pokémon: Spell of the Unknown, Rating: 5\n",
      "\n",
      "Question: {question}\n",
      "Your response:\n"
     ]
    }
   ],
   "source": [
    "age = df.loc[df['username'] == 'Alice']['age'][0]\n",
    "gender = df.loc[df['username'] == 'Alice']['gender'][0]\n",
    "\n",
    "movies = ''\n",
    "# Iterate over the dictionary and output movie name and rating\n",
    "for movie, rating in df['movies'][0].items():\n",
    "    output_string = f\"Movie: {movie}, Rating: {rating}\" + \"\\n\"\n",
    "    movies += output_string\n",
    "    #print(output_string)\n",
    "\n",
    "user_info = user_info.format(age=age, gender=gender, movies=movies)\n",
    "\n",
    "COMBINED_PROMPT = template_prefix + '\\n' + user_info + '\\n' + template_suffix\n",
    "print(COMBINED_PROMPT)"
   ],
   "metadata": {
    "collapsed": false,
    "ExecuteTime": {
     "end_time": "2025-01-14T06:42:27.447534Z",
     "start_time": "2025-01-14T06:42:27.439720Z"
    }
   },
   "id": "87c3c3c8bbe7bd3d",
   "execution_count": 68
  },
  {
   "cell_type": "code",
   "outputs": [
    {
     "data": {
      "text/plain": "' Based on your background, I would recommend the following action movies: \\n1. Mad Max: Fury Road - This intense and visually stunning film follows a group of rebels trying to escape from a tyrannical ruler in a post-apocalyptic world. (Rating: 7.5)\\n2. Wonder Woman - This empowering superhero film follows the journey of a powerful warrior princess as she fights for justice and peace during World War I. (Rating: 7.4)\\n3. John Wick - This fast-paced and action-packed film follows a former hitman who seeks revenge against the people who killed his dog. (Rating: 7.4)\\n4. Atomic Blonde - Set in the late 1980s, this spy thriller follows a top-level MI6 agent as she navigates a dangerous mission in Berlin. (Rating: 6.7)\\n5. Red Sparrow - This espionage film follows a former ballerina who becomes a trained seductress for the Russian intelligence service. (Rating: 6.6)'"
     },
     "execution_count": 69,
     "metadata": {},
     "output_type": "execute_result"
    }
   ],
   "source": [
    "PROMPT = PromptTemplate(\n",
    "    template=COMBINED_PROMPT, input_variables=[\"context\", \"question\"]\n",
    ")\n",
    "\n",
    "chain_type_kwargs = {\"prompt\": PROMPT}\n",
    "qa = RetrievalQA.from_chain_type(\n",
    "    llm=OpenAI(),\n",
    "    chain_type=\"stuff\",\n",
    "    retriever=docsearch.as_retriever(),\n",
    "    return_source_documents=True,\n",
    "    chain_type_kwargs=chain_type_kwargs\n",
    ")\n",
    "\n",
    "query = \"Can you suggest me some action movie based on my background?\"\n",
    "result = qa({'query': query})\n",
    "result['result']"
   ],
   "metadata": {
    "collapsed": false,
    "ExecuteTime": {
     "end_time": "2025-01-14T06:43:01.711583Z",
     "start_time": "2025-01-14T06:42:58.447795Z"
    }
   },
   "id": "f8d5b3a055dee3b9",
   "execution_count": 69
  },
  {
   "cell_type": "code",
   "outputs": [
    {
     "data": {
      "text/plain": "[Document(metadata={'genres': ['Action', 'Crime', 'Thriller'], 'overview': 'After fighting his way through an apartment building populated by an army of dangerous criminals and escaping with his life, SWAT team member Rama goes undercover, joining a powerful Indonesian crime syndicate to protect his family and uncover corrupt members of his own force.', 'title': 'The Raid 2', 'weighted_rate': 6.7086887835703}, page_content='Title: The Raid 2. Overview: After fighting his way through an apartment building populated by an army of dangerous criminals and escaping with his life, SWAT team member Rama goes undercover, joining a powerful Indonesian crime syndicate to protect his family and uncover corrupt members of his own force. Genres: Action, Crime, Thriller. Rating: 6.7086887835703'),\n Document(metadata={'genres': ['Adventure', 'Action', 'Thriller'], 'overview': 'Moments from death a young man is rescued by a renowned warrior. Realizing unsurpassed physical potential in the young boy he trains him into the most dangerous man alive. As he becomes a young man he goes on a lone mission of vengeance against the vicious slave traders who enslaved him as a youth and the treacherous warlord who killed his father.', 'title': 'Ong Bak 2', 'weighted_rate': 5.237966101694916}, page_content='Title: Ong Bak 2. Overview: Moments from death a young man is rescued by a renowned warrior. Realizing unsurpassed physical potential in the young boy he trains him into the most dangerous man alive. As he becomes a young man he goes on a lone mission of vengeance against the vicious slave traders who enslaved him as a youth and the treacherous warlord who killed his father. Genres: Adventure, Action, Thriller. Rating: 5.237966101694916'),\n Document(metadata={'genres': ['Action', 'Crime', 'Thriller'], 'overview': 'An assassin teams up with a woman to help her find her father and uncover the mysteries of her ancestry.', 'title': 'Hitman: Agent 47', 'weighted_rate': 5.365800865800866}, page_content='Title: Hitman: Agent 47. Overview: An assassin teams up with a woman to help her find her father and uncover the mysteries of her ancestry. Genres: Action, Crime, Thriller. Rating: 5.365800865800866'),\n Document(metadata={'genres': ['Action', 'Thriller'], 'overview': 'Forced into a deadly cat-and-mouse game, a disgraced mixed martial arts fighter is hunted through the jungles of Southeast Asia.', 'title': 'Hard Target 2', 'weighted_rate': 5.055230125523012}, page_content='Title: Hard Target 2. Overview: Forced into a deadly cat-and-mouse game, a disgraced mixed martial arts fighter is hunted through the jungles of Southeast Asia. Genres: Action, Thriller. Rating: 5.055230125523012')]"
     },
     "execution_count": 70,
     "metadata": {},
     "output_type": "execute_result"
    }
   ],
   "source": [
    "result['source_documents']"
   ],
   "metadata": {
    "collapsed": false,
    "ExecuteTime": {
     "end_time": "2025-01-14T06:43:10.641736Z",
     "start_time": "2025-01-14T06:43:10.638461Z"
    }
   },
   "id": "d61b0110aaf7d790",
   "execution_count": 70
  },
  {
   "cell_type": "code",
   "outputs": [],
   "source": [],
   "metadata": {
    "collapsed": false
   },
   "id": "fa75104fbc24e2cb"
  },
  {
   "cell_type": "code",
   "outputs": [],
   "source": [],
   "metadata": {
    "collapsed": false
   },
   "id": "3b8725736afc0257"
  },
  {
   "cell_type": "code",
   "outputs": [],
   "source": [],
   "metadata": {
    "collapsed": false
   },
   "id": "af8aa4eb801ec54d"
  },
  {
   "cell_type": "code",
   "outputs": [],
   "source": [],
   "metadata": {
    "collapsed": false
   },
   "id": "e18a4e99829bb30c"
  }
 ],
 "metadata": {
  "kernelspec": {
   "display_name": "Python 3",
   "language": "python",
   "name": "python3"
  },
  "language_info": {
   "codemirror_mode": {
    "name": "ipython",
    "version": 2
   },
   "file_extension": ".py",
   "mimetype": "text/x-python",
   "name": "python",
   "nbconvert_exporter": "python",
   "pygments_lexer": "ipython2",
   "version": "2.7.6"
  }
 },
 "nbformat": 4,
 "nbformat_minor": 5
}
