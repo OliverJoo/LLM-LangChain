{
 "cells": [
  {
   "cell_type": "code",
   "execution_count": 8,
   "id": "initial_id",
   "metadata": {
    "collapsed": true,
    "ExecuteTime": {
     "end_time": "2025-01-22T04:30:50.074118Z",
     "start_time": "2025-01-22T04:30:50.068410Z"
    }
   },
   "outputs": [
    {
     "data": {
      "text/plain": "               name   type\n0            albums  table\n1   sqlite_sequence  table\n2           artists  table\n3         customers  table\n4         employees  table\n5            genres  table\n6          invoices  table\n7     invoice_items  table\n8       media_types  table\n9         playlists  table\n10   playlist_track  table\n11           tracks  table\n12     sqlite_stat1  table",
      "text/html": "<div>\n<style scoped>\n    .dataframe tbody tr th:only-of-type {\n        vertical-align: middle;\n    }\n\n    .dataframe tbody tr th {\n        vertical-align: top;\n    }\n\n    .dataframe thead th {\n        text-align: right;\n    }\n</style>\n<table border=\"1\" class=\"dataframe\">\n  <thead>\n    <tr style=\"text-align: right;\">\n      <th></th>\n      <th>name</th>\n      <th>type</th>\n    </tr>\n  </thead>\n  <tbody>\n    <tr>\n      <th>0</th>\n      <td>albums</td>\n      <td>table</td>\n    </tr>\n    <tr>\n      <th>1</th>\n      <td>sqlite_sequence</td>\n      <td>table</td>\n    </tr>\n    <tr>\n      <th>2</th>\n      <td>artists</td>\n      <td>table</td>\n    </tr>\n    <tr>\n      <th>3</th>\n      <td>customers</td>\n      <td>table</td>\n    </tr>\n    <tr>\n      <th>4</th>\n      <td>employees</td>\n      <td>table</td>\n    </tr>\n    <tr>\n      <th>5</th>\n      <td>genres</td>\n      <td>table</td>\n    </tr>\n    <tr>\n      <th>6</th>\n      <td>invoices</td>\n      <td>table</td>\n    </tr>\n    <tr>\n      <th>7</th>\n      <td>invoice_items</td>\n      <td>table</td>\n    </tr>\n    <tr>\n      <th>8</th>\n      <td>media_types</td>\n      <td>table</td>\n    </tr>\n    <tr>\n      <th>9</th>\n      <td>playlists</td>\n      <td>table</td>\n    </tr>\n    <tr>\n      <th>10</th>\n      <td>playlist_track</td>\n      <td>table</td>\n    </tr>\n    <tr>\n      <th>11</th>\n      <td>tracks</td>\n      <td>table</td>\n    </tr>\n    <tr>\n      <th>12</th>\n      <td>sqlite_stat1</td>\n      <td>table</td>\n    </tr>\n  </tbody>\n</table>\n</div>"
     },
     "execution_count": 8,
     "metadata": {},
     "output_type": "execute_result"
    }
   ],
   "source": [
    "import sqlite3\n",
    "import pandas as pd\n",
    "\n",
    "## creating a connection\n",
    "database = './chinook.db'\n",
    "\n",
    "conn = sqlite3.connect(database)\n",
    "\n",
    "## importing tables \n",
    "tables = pd.read_sql(\"\"\"SELECT name, type FROM sqlite_master WHERE type IN (\"table\", \"view\");\"\"\", conn)\n",
    "\n",
    "tables"
   ]
  },
  {
   "cell_type": "code",
   "outputs": [
    {
     "data": {
      "text/plain": "    cid          name          type  notnull dflt_value  pk\n0     0    CustomerId       INTEGER        1       None   1\n1     1     FirstName  NVARCHAR(40)        1       None   0\n2     2      LastName  NVARCHAR(20)        1       None   0\n3     3       Company  NVARCHAR(80)        0       None   0\n4     4       Address  NVARCHAR(70)        0       None   0\n5     5          City  NVARCHAR(40)        0       None   0\n6     6         State  NVARCHAR(40)        0       None   0\n7     7       Country  NVARCHAR(40)        0       None   0\n8     8    PostalCode  NVARCHAR(10)        0       None   0\n9     9         Phone  NVARCHAR(24)        0       None   0\n10   10           Fax  NVARCHAR(24)        0       None   0\n11   11         Email  NVARCHAR(60)        1       None   0\n12   12  SupportRepId       INTEGER        0       None   0",
      "text/html": "<div>\n<style scoped>\n    .dataframe tbody tr th:only-of-type {\n        vertical-align: middle;\n    }\n\n    .dataframe tbody tr th {\n        vertical-align: top;\n    }\n\n    .dataframe thead th {\n        text-align: right;\n    }\n</style>\n<table border=\"1\" class=\"dataframe\">\n  <thead>\n    <tr style=\"text-align: right;\">\n      <th></th>\n      <th>cid</th>\n      <th>name</th>\n      <th>type</th>\n      <th>notnull</th>\n      <th>dflt_value</th>\n      <th>pk</th>\n    </tr>\n  </thead>\n  <tbody>\n    <tr>\n      <th>0</th>\n      <td>0</td>\n      <td>CustomerId</td>\n      <td>INTEGER</td>\n      <td>1</td>\n      <td>None</td>\n      <td>1</td>\n    </tr>\n    <tr>\n      <th>1</th>\n      <td>1</td>\n      <td>FirstName</td>\n      <td>NVARCHAR(40)</td>\n      <td>1</td>\n      <td>None</td>\n      <td>0</td>\n    </tr>\n    <tr>\n      <th>2</th>\n      <td>2</td>\n      <td>LastName</td>\n      <td>NVARCHAR(20)</td>\n      <td>1</td>\n      <td>None</td>\n      <td>0</td>\n    </tr>\n    <tr>\n      <th>3</th>\n      <td>3</td>\n      <td>Company</td>\n      <td>NVARCHAR(80)</td>\n      <td>0</td>\n      <td>None</td>\n      <td>0</td>\n    </tr>\n    <tr>\n      <th>4</th>\n      <td>4</td>\n      <td>Address</td>\n      <td>NVARCHAR(70)</td>\n      <td>0</td>\n      <td>None</td>\n      <td>0</td>\n    </tr>\n    <tr>\n      <th>5</th>\n      <td>5</td>\n      <td>City</td>\n      <td>NVARCHAR(40)</td>\n      <td>0</td>\n      <td>None</td>\n      <td>0</td>\n    </tr>\n    <tr>\n      <th>6</th>\n      <td>6</td>\n      <td>State</td>\n      <td>NVARCHAR(40)</td>\n      <td>0</td>\n      <td>None</td>\n      <td>0</td>\n    </tr>\n    <tr>\n      <th>7</th>\n      <td>7</td>\n      <td>Country</td>\n      <td>NVARCHAR(40)</td>\n      <td>0</td>\n      <td>None</td>\n      <td>0</td>\n    </tr>\n    <tr>\n      <th>8</th>\n      <td>8</td>\n      <td>PostalCode</td>\n      <td>NVARCHAR(10)</td>\n      <td>0</td>\n      <td>None</td>\n      <td>0</td>\n    </tr>\n    <tr>\n      <th>9</th>\n      <td>9</td>\n      <td>Phone</td>\n      <td>NVARCHAR(24)</td>\n      <td>0</td>\n      <td>None</td>\n      <td>0</td>\n    </tr>\n    <tr>\n      <th>10</th>\n      <td>10</td>\n      <td>Fax</td>\n      <td>NVARCHAR(24)</td>\n      <td>0</td>\n      <td>None</td>\n      <td>0</td>\n    </tr>\n    <tr>\n      <th>11</th>\n      <td>11</td>\n      <td>Email</td>\n      <td>NVARCHAR(60)</td>\n      <td>1</td>\n      <td>None</td>\n      <td>0</td>\n    </tr>\n    <tr>\n      <th>12</th>\n      <td>12</td>\n      <td>SupportRepId</td>\n      <td>INTEGER</td>\n      <td>0</td>\n      <td>None</td>\n      <td>0</td>\n    </tr>\n  </tbody>\n</table>\n</div>"
     },
     "execution_count": 9,
     "metadata": {},
     "output_type": "execute_result"
    }
   ],
   "source": [
    "pd.read_sql(\"\"\"PRAGMA table_info(customers);\"\"\", conn)"
   ],
   "metadata": {
    "collapsed": false,
    "ExecuteTime": {
     "end_time": "2025-01-22T04:38:44.528196Z",
     "start_time": "2025-01-22T04:38:44.520790Z"
    }
   },
   "id": "7bcf1f101e8f5122",
   "execution_count": 9
  },
  {
   "cell_type": "code",
   "outputs": [
    {
     "data": {
      "text/plain": "   Country   Sales\n0      USA  523.06\n1   Canada  303.96\n2   France  195.10\n3   Brazil  190.10\n4  Germany  156.48",
      "text/html": "<div>\n<style scoped>\n    .dataframe tbody tr th:only-of-type {\n        vertical-align: middle;\n    }\n\n    .dataframe tbody tr th {\n        vertical-align: top;\n    }\n\n    .dataframe thead th {\n        text-align: right;\n    }\n</style>\n<table border=\"1\" class=\"dataframe\">\n  <thead>\n    <tr style=\"text-align: right;\">\n      <th></th>\n      <th>Country</th>\n      <th>Sales</th>\n    </tr>\n  </thead>\n  <tbody>\n    <tr>\n      <th>0</th>\n      <td>USA</td>\n      <td>523.06</td>\n    </tr>\n    <tr>\n      <th>1</th>\n      <td>Canada</td>\n      <td>303.96</td>\n    </tr>\n    <tr>\n      <th>2</th>\n      <td>France</td>\n      <td>195.10</td>\n    </tr>\n    <tr>\n      <th>3</th>\n      <td>Brazil</td>\n      <td>190.10</td>\n    </tr>\n    <tr>\n      <th>4</th>\n      <td>Germany</td>\n      <td>156.48</td>\n    </tr>\n  </tbody>\n</table>\n</div>"
     },
     "execution_count": 11,
     "metadata": {},
     "output_type": "execute_result"
    }
   ],
   "source": [
    "pd.read_sql(\"\"\"\n",
    "SELECT c.country AS Country, SUM(i.total) AS Sales FROM customers c\n",
    "JOIN invoices i ON c.CustomerId = i.CustomerId\n",
    "GROUP BY Country ORDER BY Sales DESC LIMIT 5; \n",
    "\"\"\", conn)"
   ],
   "metadata": {
    "collapsed": false,
    "ExecuteTime": {
     "end_time": "2025-01-22T04:39:17.078360Z",
     "start_time": "2025-01-22T04:39:17.070396Z"
    }
   },
   "id": "c963adc9a0736cb8",
   "execution_count": 11
  },
  {
   "cell_type": "code",
   "outputs": [
    {
     "data": {
      "text/plain": "<Figure size 640x480 with 1 Axes>",
      "image/png": "[encoded data removed]"
     },
     "metadata": {},
     "output_type": "display_data"
    }
   ],
   "source": [
    "import matplotlib.pyplot as plt\n",
    "\n",
    "# Define the SQL query\n",
    "sql = \"\"\"\n",
    "SELECT g.Name AS Genre, COUNT(t.TrackId) AS Tracks\n",
    "FROM genres g JOIN tracks t ON g.GenreId = t.GenreId\n",
    "GROUP BY Genre ORDER BY Tracks DESC;\n",
    "\"\"\"\n",
    "\n",
    "# Read the data into a dataframe\n",
    "data = pd.read_sql(sql, conn)\n",
    "\n",
    "# Plot the data as a bar chart\n",
    "plt.bar(data.Genre, data.Tracks)\n",
    "plt.title(\"Number of Tracks by Genre\")\n",
    "plt.xlabel(\"Genre\")\n",
    "plt.ylabel(\"Tracks\")\n",
    "plt.xticks(rotation=90)\n",
    "plt.show()"
   ],
   "metadata": {
    "collapsed": false,
    "ExecuteTime": {
     "end_time": "2025-01-22T04:40:02.459512Z",
     "start_time": "2025-01-22T04:40:02.358765Z"
    }
   },
   "id": "23b56f798983a57e",
   "execution_count": 14
  },
  {
   "cell_type": "code",
   "outputs": [],
   "source": [
    "# Start using LLMs\n",
    "import os\n",
    "from dotenv import load_dotenv\n",
    "\n",
    "load_dotenv()\n",
    "\n",
    "#os.environ[\"HUGGINGFACEHUB_API_TOKEN\"]\n",
    "openai_api_key = os.environ['OPENAI_API_KEY']"
   ],
   "metadata": {
    "collapsed": false,
    "ExecuteTime": {
     "end_time": "2025-01-22T05:57:16.411910Z",
     "start_time": "2025-01-22T05:57:16.405092Z"
    }
   },
   "id": "a44656fc36f7642c",
   "execution_count": 1
  },
  {
   "cell_type": "code",
   "outputs": [],
   "source": [
    "# create_sql_agent : an agent designed to interact with RDBMS\n",
    "# SQLDatabaseToolkit : a toolkit providing non-parametric schema information for the agent, such as table structures and query examples.\n",
    "from langchain_community.agent_toolkits import create_sql_agent\n",
    "from langchain_community.agent_toolkits.sql.toolkit import SQLDatabaseToolkit\n",
    "from langchain_community.utilities import SQLDatabase\n",
    "from langchain.agents import AgentExecutor\n",
    "from langchain_openai import ChatOpenAI\n",
    "\n",
    "llm = ChatOpenAI(model=\"gpt-4o-mini\")\n",
    "\n",
    "db = SQLDatabase.from_uri('sqlite:///chinook.db')\n",
    "\n",
    "toolkit = SQLDatabaseToolkit(db=db, llm=llm)\n",
    "agent_executor = create_sql_agent(\n",
    "    llm=llm,\n",
    "    toolkit=toolkit,\n",
    "    verbose=True,\n",
    ")"
   ],
   "metadata": {
    "collapsed": false,
    "ExecuteTime": {
     "end_time": "2025-01-22T06:10:37.545505Z",
     "start_time": "2025-01-22T06:10:37.519593Z"
    }
   },
   "id": "888927d44b71329f",
   "execution_count": 8
  },
  {
   "cell_type": "code",
   "outputs": [
    {
     "data": {
      "text/plain": "['sql_db_query', 'sql_db_schema', 'sql_db_list_tables', 'sql_db_query_checker']"
     },
     "execution_count": 9,
     "metadata": {},
     "output_type": "execute_result"
    }
   ],
   "source": [
    "# available tools\n",
    "# sql_db_query: Executes the provided SQL query and returns the results. Displays an error message if the query is invalid.\n",
    "# sql_db_schema: Provides the schema (table structure) and sample rows from the specified table(s).\n",
    "# sql_db_list_tables: Lists all tables within the database when given no input.\n",
    "# sql_db_query_checker: Verifies the syntax and validity of the SQL query before execution to prevent errors.\n",
    "[tool.name for tool in toolkit.get_tools()]"
   ],
   "metadata": {
    "collapsed": false,
    "ExecuteTime": {
     "end_time": "2025-01-22T06:10:40.718804Z",
     "start_time": "2025-01-22T06:10:40.715107Z"
    }
   },
   "id": "ba6a17ba01f0d481",
   "execution_count": 9
  },
  {
   "cell_type": "code",
   "outputs": [
    {
     "name": "stdout",
     "output_type": "stream",
     "text": [
      "\n",
      "\n",
      "\u001B[1m> Entering new SQL Agent Executor chain...\u001B[0m\n",
      "\u001B[32;1m\u001B[1;3mAction: sql_db_list_tables  \n",
      "Action Input: \"\"  \u001B[0m\u001B[38;5;200m\u001B[1;3malbums, artists, customers, employees, genres, invoice_items, invoices, media_types, playlist_track, playlists, tracks\u001B[0m\u001B[32;1m\u001B[1;3mThe table \"playlist_track\" exists in the database. Now, I will query the schema to understand its structure and fields.  \n",
      "Action: sql_db_schema  \n",
      "Action Input: \"playlist_track\"  \u001B[0m\u001B[33;1m\u001B[1;3m\n",
      "CREATE TABLE playlist_track (\n",
      "\t\"PlaylistId\" INTEGER NOT NULL, \n",
      "\t\"TrackId\" INTEGER NOT NULL, \n",
      "\tPRIMARY KEY (\"PlaylistId\", \"TrackId\"), \n",
      "\tFOREIGN KEY(\"TrackId\") REFERENCES tracks (\"TrackId\"), \n",
      "\tFOREIGN KEY(\"PlaylistId\") REFERENCES playlists (\"PlaylistId\")\n",
      ")\n",
      "\n",
      "/*\n",
      "3 rows from playlist_track table:\n",
      "PlaylistId\tTrackId\n",
      "1\t3402\n",
      "1\t3389\n",
      "1\t3390\n",
      "*/\u001B[0m\u001B[32;1m\u001B[1;3mI now know the final answer. The `playlist_track` table contains two columns: `PlaylistId` and `TrackId`. It has a composite primary key consisting of both columns and includes foreign key references to the `tracks` and `playlists` tables. \n",
      "\n",
      "Final Answer: The `playlist_track` table has two columns: `PlaylistId` (INTEGER, NOT NULL) and `TrackId` (INTEGER, NOT NULL). It has a primary key on both columns and foreign keys referencing the `tracks` and `playlists` tables.\u001B[0m\n",
      "\n",
      "\u001B[1m> Finished chain.\u001B[0m\n"
     ]
    },
    {
     "data": {
      "text/plain": "{'input': 'Describe the playlisttrack table',\n 'output': 'The `playlist_track` table has two columns: `PlaylistId` (INTEGER, NOT NULL) and `TrackId` (INTEGER, NOT NULL). It has a primary key on both columns and foreign keys referencing the `tracks` and `playlists` tables.'}"
     },
     "execution_count": 18,
     "metadata": {},
     "output_type": "execute_result"
    }
   ],
   "source": [
    "agent_executor.invoke(\"Describe the playlisttrack table\")"
   ],
   "metadata": {
    "collapsed": false,
    "ExecuteTime": {
     "end_time": "2025-01-22T04:44:22.725424Z",
     "start_time": "2025-01-22T04:44:17.703848Z"
    }
   },
   "id": "bd5c60f90f30c18d",
   "execution_count": 18
  },
  {
   "cell_type": "code",
   "outputs": [
    {
     "data": {
      "text/plain": "[PromptTemplate(input_variables=['agent_scratchpad', 'input'], input_types={}, partial_variables={'tools': \"sql_db_query - Input to this tool is a detailed and correct SQL query, output is a result from the database. If the query is not correct, an error message will be returned. If an error is returned, rewrite the query, check the query, and try again. If you encounter an issue with Unknown column 'xxxx' in 'field list', use sql_db_schema to query the correct table fields.\\nsql_db_schema - Input to this tool is a comma-separated list of tables, output is the schema and sample rows for those tables. Be sure that the tables actually exist by calling sql_db_list_tables first! Example Input: table1, table2, table3\\nsql_db_list_tables - Input is an empty string, output is a comma-separated list of tables in the database.\\nsql_db_query_checker - Use this tool to double check if your query is correct before executing it. Always use this tool before executing a query with sql_db_query!\", 'tool_names': 'sql_db_query, sql_db_schema, sql_db_list_tables, sql_db_query_checker'}, template=' \\n##Instructions:\\nYou are an agent designed to interact with a SQL database.\\nGiven an input question, create a syntactically correct sqlite query to run, then look at the results of the query and return the answer.\\nUnless the user specifies a specific number of examples they wish to obtain, always limit your query to at most 10 results.\\nYou can order the results by a relevant column to return the most interesting examples in the database.\\nNever query for all the columns from a specific table, only ask for the relevant columns given the question.\\nYou have access to tools for interacting with the database.\\nOnly use the below tools. Only use the information returned by the below tools to construct your final answer.\\nYou MUST double check your query before executing it. If you get an error while executing a query, rewrite the query and try again.\\nAs part of your final answer, ALWAYS include an explanation of how to got to the final answer, including the SQL query you run. Include the explanation and the SQL query in the section that starts with \"Explanation:\".\\n\\nDO NOT make any DML statements (INSERT, UPDATE, DELETE, DROP etc.) to the database.\\n\\nIf the question does not seem related to the database, just return \"I don\\'t know\" as the answer.\\n\\n##Tools:\\n\\n\\n\\n{tools}\\n\\n \\nUse the following format:\\n\\nQuestion: the input question you must answer\\nThought: you should always think about what to do\\nAction: the action to take, should be one of [{tool_names}]\\nAction Input: the input to the action\\nObservation: the result of the action\\n... (this Thought/Action/Action Input/Observation can repeat N times)\\nThought: I now know the final answer\\nFinal Answer: the final answer to the original input question.\\n\\nExplanation:\\n\\n<===Beging of an Example of Explanation:\\n\\nI joined the invoices and customers tables on the customer_id column, which is the common key between them. This will allowed me to access the Total and Country columns from both tables. Then I grouped the records by the country column and calculate the sum of the Total column for each country, ordered them in descending order and limited the SELECT to the top 5.\\n\\n```sql\\nSELECT c.country AS Country, SUM(i.total) AS Sales\\nFROM customers c\\nJOIN invoices i ON c.CustomerId = i.CustomerId\\nGROUP BY Country\\nORDER BY Sales DESC\\nLIMIT 5;\\n```\\n\\n===>End of an Example of Explanation\\n\\n\\nBegin!\\n\\nQuestion: {input}\\nThought: I should look at the tables in the database to see what I can query.  Then I should query the schema of the most relevant tables.\\n{agent_scratchpad}')]"
     },
     "execution_count": 38,
     "metadata": {},
     "output_type": "execute_result"
    }
   ],
   "source": [
    "agent_executor.agent.runnable.get_prompts()"
   ],
   "metadata": {
    "collapsed": false,
    "ExecuteTime": {
     "end_time": "2025-01-22T05:19:20.939039Z",
     "start_time": "2025-01-22T05:19:20.934582Z"
    }
   },
   "id": "cc36bf4b454d0ee0",
   "execution_count": 38
  },
  {
   "cell_type": "code",
   "outputs": [
    {
     "name": "stdout",
     "output_type": "stream",
     "text": [
      "\n",
      "\n",
      "\u001B[1m> Entering new SQL Agent Executor chain...\u001B[0m\n",
      "\u001B[32;1m\u001B[1;3mAction: sql_db_list_tables  \n",
      "Action Input: \"\"  \u001B[0m\u001B[38;5;200m\u001B[1;3malbums, artists, customers, employees, genres, invoice_items, invoices, media_types, playlist_track, playlists, tracks\u001B[0m\u001B[32;1m\u001B[1;3mI see that the `playlist_track` table exists. Now, I will check its schema to provide the structure in Korean.  \n",
      "Action: sql_db_schema  \n",
      "Action Input: \"playlist_track\"  \u001B[0m\u001B[33;1m\u001B[1;3m\n",
      "CREATE TABLE playlist_track (\n",
      "\t\"PlaylistId\" INTEGER NOT NULL, \n",
      "\t\"TrackId\" INTEGER NOT NULL, \n",
      "\tPRIMARY KEY (\"PlaylistId\", \"TrackId\"), \n",
      "\tFOREIGN KEY(\"TrackId\") REFERENCES tracks (\"TrackId\"), \n",
      "\tFOREIGN KEY(\"PlaylistId\") REFERENCES playlists (\"PlaylistId\")\n",
      ")\n",
      "\n",
      "/*\n",
      "3 rows from playlist_track table:\n",
      "PlaylistId\tTrackId\n",
      "1\t3402\n",
      "1\t3389\n",
      "1\t3390\n",
      "*/\u001B[0m\u001B[32;1m\u001B[1;3mI can now summarize the structure of the `playlist_track` table in Korean.\n",
      "\n",
      "Final Answer: `playlist_track` 테이블은 두 개의 열로 구성되어 있습니다: \n",
      "1. `PlaylistId` (정수형, 필수) - 재생 목록의 ID\n",
      "2. `TrackId` (정수형, 필수) - 트랙의 ID\n",
      "\n",
      "이 두 열은 복합 기본 키로 설정되어 있으며, 각각 `tracks` 테이블의 `TrackId`와 `playlists` 테이블의 `PlaylistId`를 참조하는 외래 키입니다.\u001B[0m\n",
      "\n",
      "\u001B[1m> Finished chain.\u001B[0m\n"
     ]
    },
    {
     "data": {
      "text/plain": "{'input': 'playlist_track 테이블 구조를 한국어로 알려줘',\n 'output': '`playlist_track` 테이블은 두 개의 열로 구성되어 있습니다: \\n1. `PlaylistId` (정수형, 필수) - 재생 목록의 ID\\n2. `TrackId` (정수형, 필수) - 트랙의 ID\\n\\n이 두 열은 복합 기본 키로 설정되어 있으며, 각각 `tracks` 테이블의 `TrackId`와 `playlists` 테이블의 `PlaylistId`를 참조하는 외래 키입니다.'}"
     },
     "execution_count": 19,
     "metadata": {},
     "output_type": "execute_result"
    }
   ],
   "source": [
    "agent_executor.invoke(\"playlist_track 테이블 구조를 한국어로 알려줘\")"
   ],
   "metadata": {
    "collapsed": false,
    "ExecuteTime": {
     "end_time": "2025-01-22T04:44:45.987143Z",
     "start_time": "2025-01-22T04:44:42.308131Z"
    }
   },
   "id": "765420e4cae38692",
   "execution_count": 19
  },
  {
   "cell_type": "code",
   "outputs": [
    {
     "data": {
      "text/plain": "[PromptTemplate(input_variables=['agent_scratchpad', 'input'], input_types={}, partial_variables={'tools': \"sql_db_query - Input to this tool is a detailed and correct SQL query, output is a result from the database. If the query is not correct, an error message will be returned. If an error is returned, rewrite the query, check the query, and try again. If you encounter an issue with Unknown column 'xxxx' in 'field list', use sql_db_schema to query the correct table fields.\\nsql_db_schema - Input to this tool is a comma-separated list of tables, output is the schema and sample rows for those tables. Be sure that the tables actually exist by calling sql_db_list_tables first! Example Input: table1, table2, table3\\nsql_db_list_tables - Input is an empty string, output is a comma-separated list of tables in the database.\\nsql_db_query_checker - Use this tool to double check if your query is correct before executing it. Always use this tool before executing a query with sql_db_query!\", 'tool_names': 'sql_db_query, sql_db_schema, sql_db_list_tables, sql_db_query_checker'}, template='You are an agent designed to interact with a SQL database.\\nGiven an input question, create a syntactically correct sqlite query to run, then look at the results of the query and return the answer.\\nUnless the user specifies a specific number of examples they wish to obtain, always limit your query to at most 10 results.\\nYou can order the results by a relevant column to return the most interesting examples in the database.\\nNever query for all the columns from a specific table, only ask for the relevant columns given the question.\\nYou have access to tools for interacting with the database.\\nOnly use the below tools. Only use the information returned by the below tools to construct your final answer.\\nYou MUST double check your query before executing it. If you get an error while executing a query, rewrite the query and try again.\\n\\nDO NOT make any DML statements (INSERT, UPDATE, DELETE, DROP etc.) to the database.\\n\\nIf the question does not seem related to the database, just return \"I don\\'t know\" as the answer.\\n\\n\\n{tools}\\n\\nUse the following format:\\n\\nQuestion: the input question you must answer\\nThought: you should always think about what to do\\nAction: the action to take, should be one of [{tool_names}]\\nAction Input: the input to the action\\nObservation: the result of the action\\n... (this Thought/Action/Action Input/Observation can repeat N times)\\nThought: I now know the final answer\\nFinal Answer: the final answer to the original input question\\n\\nBegin!\\n\\nQuestion: {input}\\nThought: I should look at the tables in the database to see what I can query.  Then I should query the schema of the most relevant tables.\\n{agent_scratchpad}')]"
     },
     "execution_count": 20,
     "metadata": {},
     "output_type": "execute_result"
    }
   ],
   "source": [
    "agent_executor.agent.runnable.get_prompts()"
   ],
   "metadata": {
    "collapsed": false,
    "ExecuteTime": {
     "end_time": "2025-01-22T04:45:24.172615Z",
     "start_time": "2025-01-22T04:45:24.146739Z"
    }
   },
   "id": "b4442c7754bbce1",
   "execution_count": 20
  },
  {
   "cell_type": "code",
   "outputs": [
    {
     "name": "stdout",
     "output_type": "stream",
     "text": [
      "\n",
      "\n",
      "\u001B[1m> Entering new SQL Agent Executor chain...\u001B[0m\n",
      "\u001B[32;1m\u001B[1;3mAction: sql_db_list_tables  \n",
      "Action Input: \"\"  \u001B[0m\u001B[38;5;200m\u001B[1;3malbums, artists, customers, employees, genres, invoice_items, invoices, media_types, playlist_track, playlists, tracks\u001B[0m\u001B[32;1m\u001B[1;3mThe relevant table for revenue data seems to be the `invoices` table, which likely contains information about sales and the corresponding customers. I'll check the schema of the `invoices` and `customers` tables to find the necessary columns to identify the countries with the highest sales.\n",
      "\n",
      "Action: sql_db_schema  \n",
      "Action Input: invoices, customers  \u001B[0m\u001B[33;1m\u001B[1;3m\n",
      "CREATE TABLE customers (\n",
      "\t\"CustomerId\" INTEGER NOT NULL, \n",
      "\t\"FirstName\" NVARCHAR(40) NOT NULL, \n",
      "\t\"LastName\" NVARCHAR(20) NOT NULL, \n",
      "\t\"Company\" NVARCHAR(80), \n",
      "\t\"Address\" NVARCHAR(70), \n",
      "\t\"City\" NVARCHAR(40), \n",
      "\t\"State\" NVARCHAR(40), \n",
      "\t\"Country\" NVARCHAR(40), \n",
      "\t\"PostalCode\" NVARCHAR(10), \n",
      "\t\"Phone\" NVARCHAR(24), \n",
      "\t\"Fax\" NVARCHAR(24), \n",
      "\t\"Email\" NVARCHAR(60) NOT NULL, \n",
      "\t\"SupportRepId\" INTEGER, \n",
      "\tPRIMARY KEY (\"CustomerId\"), \n",
      "\tFOREIGN KEY(\"SupportRepId\") REFERENCES employees (\"EmployeeId\")\n",
      ")\n",
      "\n",
      "/*\n",
      "3 rows from customers table:\n",
      "CustomerId\tFirstName\tLastName\tCompany\tAddress\tCity\tState\tCountry\tPostalCode\tPhone\tFax\tEmail\tSupportRepId\n",
      "1\tLuís\tGonçalves\tEmbraer - Empresa Brasileira de Aeronáutica S.A.\tAv. Brigadeiro Faria Lima, 2170\tSão José dos Campos\tSP\tBrazil\t12227-000\t+55 (12) 3923-5555\t+55 (12) 3923-5566\tluisg@embraer.com.br\t3\n",
      "2\tLeonie\tKöhler\tNone\tTheodor-Heuss-Straße 34\tStuttgart\tNone\tGermany\t70174\t+49 0711 2842222\tNone\tleonekohler@surfeu.de\t5\n",
      "3\tFrançois\tTremblay\tNone\t1498 rue Bélanger\tMontréal\tQC\tCanada\tH2G 1A7\t+1 (514) 721-4711\tNone\tftremblay@gmail.com\t3\n",
      "*/\n",
      "\n",
      "\n",
      "CREATE TABLE invoices (\n",
      "\t\"InvoiceId\" INTEGER NOT NULL, \n",
      "\t\"CustomerId\" INTEGER NOT NULL, \n",
      "\t\"InvoiceDate\" DATETIME NOT NULL, \n",
      "\t\"BillingAddress\" NVARCHAR(70), \n",
      "\t\"BillingCity\" NVARCHAR(40), \n",
      "\t\"BillingState\" NVARCHAR(40), \n",
      "\t\"BillingCountry\" NVARCHAR(40), \n",
      "\t\"BillingPostalCode\" NVARCHAR(10), \n",
      "\t\"Total\" NUMERIC(10, 2) NOT NULL, \n",
      "\tPRIMARY KEY (\"InvoiceId\"), \n",
      "\tFOREIGN KEY(\"CustomerId\") REFERENCES customers (\"CustomerId\")\n",
      ")\n",
      "\n",
      "/*\n",
      "3 rows from invoices table:\n",
      "InvoiceId\tCustomerId\tInvoiceDate\tBillingAddress\tBillingCity\tBillingState\tBillingCountry\tBillingPostalCode\tTotal\n",
      "1\t2\t2009-01-01 00:00:00\tTheodor-Heuss-Straße 34\tStuttgart\tNone\tGermany\t70174\t1.98\n",
      "2\t4\t2009-01-02 00:00:00\tUllevålsveien 14\tOslo\tNone\tNorway\t0171\t3.96\n",
      "3\t8\t2009-01-03 00:00:00\tGrétrystraat 63\tBrussels\tNone\tBelgium\t1000\t5.94\n",
      "*/\u001B[0m\u001B[32;1m\u001B[1;3mTo find the top five countries with the highest revenue, I need to aggregate the total sales from the `invoices` table and join it with the `customers` table to get the country information. I will sum the `Total` from the `invoices` table, group by the `BillingCountry`, and order by the total sales in descending order.\n",
      "\n",
      "Action: sql_db_query_checker  \n",
      "Action Input: \"SELECT c.BillingCountry, SUM(i.Total) AS TotalSales FROM invoices i JOIN customers c ON i.CustomerId = c.CustomerId GROUP BY c.BillingCountry ORDER BY TotalSales DESC LIMIT 5;\"  \u001B[0m\u001B[36;1m\u001B[1;3m```sql\n",
      "SELECT c.BillingCountry, SUM(i.Total) AS TotalSales \n",
      "FROM invoices i \n",
      "JOIN customers c ON i.CustomerId = c.CustomerId \n",
      "GROUP BY c.BillingCountry \n",
      "ORDER BY TotalSales DESC \n",
      "LIMIT 5;\n",
      "```\u001B[0m\u001B[32;1m\u001B[1;3mThe query syntax looks correct, so I will execute it to retrieve the top five countries with the highest sales.\n",
      "\n",
      "Action: sql_db_query  \n",
      "Action Input: \"SELECT c.Country, SUM(i.Total) AS TotalSales FROM invoices i JOIN customers c ON i.CustomerId = c.CustomerId GROUP BY c.Country ORDER BY TotalSales DESC LIMIT 5;\"  \u001B[0m\u001B[36;1m\u001B[1;3m[('USA', 523.06), ('Canada', 303.96), ('France', 195.1), ('Brazil', 190.1), ('Germany', 156.48)]\u001B[0m\u001B[32;1m\u001B[1;3mI now know the final answer. The top five countries with the highest sales are:\n",
      "\n",
      "1. 미국 (USA) - 523.06\n",
      "2. 캐나다 (Canada) - 303.96\n",
      "3. 프랑스 (France) - 195.1\n",
      "4. 브라질 (Brazil) - 190.1\n",
      "5. 독일 (Germany) - 156.48\n",
      "\n",
      "Final Answer: 미국, 캐나다, 프랑스, 브라질, 독일\u001B[0m\n",
      "\n",
      "\u001B[1m> Finished chain.\u001B[0m\n"
     ]
    },
    {
     "data": {
      "text/plain": "{'input': '매출이 가장 많은 국가 다섯 곳을 한국어로 알려줘', 'output': '미국, 캐나다, 프랑스, 브라질, 독일'}"
     },
     "execution_count": 21,
     "metadata": {},
     "output_type": "execute_result"
    }
   ],
   "source": [
    "agent_executor.invoke('매출이 가장 많은 국가 다섯 곳을 한국어로 알려줘')"
   ],
   "metadata": {
    "collapsed": false,
    "ExecuteTime": {
     "end_time": "2025-01-22T04:46:01.199423Z",
     "start_time": "2025-01-22T04:45:47.753959Z"
    }
   },
   "id": "d3d1c3f804fbd37b",
   "execution_count": 21
  },
  {
   "cell_type": "code",
   "outputs": [
    {
     "name": "stdout",
     "output_type": "stream",
     "text": [
      "\n",
      "\n",
      "\u001B[1m> Entering new SQL Agent Executor chain...\u001B[0m\n",
      "\u001B[32;1m\u001B[1;3mAction: sql_db_list_tables  \n",
      "Action Input: \"\"  \u001B[0m\u001B[38;5;200m\u001B[1;3malbums, artists, customers, employees, genres, invoice_items, invoices, media_types, playlist_track, playlists, tracks\u001B[0m\u001B[32;1m\u001B[1;3mI see that there are several tables, but the ones that seem relevant for tracks and genres are the `tracks` and `genres` tables. I will now check their schemas to understand their structure and the relevant columns I can use for my query. \n",
      "\n",
      "Action: sql_db_schema  \n",
      "Action Input: \"tracks, genres\"  \u001B[0m\u001B[33;1m\u001B[1;3m\n",
      "CREATE TABLE genres (\n",
      "\t\"GenreId\" INTEGER NOT NULL, \n",
      "\t\"Name\" NVARCHAR(120), \n",
      "\tPRIMARY KEY (\"GenreId\")\n",
      ")\n",
      "\n",
      "/*\n",
      "3 rows from genres table:\n",
      "GenreId\tName\n",
      "1\tRock\n",
      "2\tJazz\n",
      "3\tMetal\n",
      "*/\n",
      "\n",
      "\n",
      "CREATE TABLE tracks (\n",
      "\t\"TrackId\" INTEGER NOT NULL, \n",
      "\t\"Name\" NVARCHAR(200) NOT NULL, \n",
      "\t\"AlbumId\" INTEGER, \n",
      "\t\"MediaTypeId\" INTEGER NOT NULL, \n",
      "\t\"GenreId\" INTEGER, \n",
      "\t\"Composer\" NVARCHAR(220), \n",
      "\t\"Milliseconds\" INTEGER NOT NULL, \n",
      "\t\"Bytes\" INTEGER, \n",
      "\t\"UnitPrice\" NUMERIC(10, 2) NOT NULL, \n",
      "\tPRIMARY KEY (\"TrackId\"), \n",
      "\tFOREIGN KEY(\"MediaTypeId\") REFERENCES media_types (\"MediaTypeId\"), \n",
      "\tFOREIGN KEY(\"GenreId\") REFERENCES genres (\"GenreId\"), \n",
      "\tFOREIGN KEY(\"AlbumId\") REFERENCES albums (\"AlbumId\")\n",
      ")\n",
      "\n",
      "/*\n",
      "3 rows from tracks table:\n",
      "TrackId\tName\tAlbumId\tMediaTypeId\tGenreId\tComposer\tMilliseconds\tBytes\tUnitPrice\n",
      "1\tFor Those About To Rock (We Salute You)\t1\t1\t1\tAngus Young, Malcolm Young, Brian Johnson\t343719\t11170334\t0.99\n",
      "2\tBalls to the Wall\t2\t2\t1\tNone\t342562\t5510424\t0.99\n",
      "3\tFast As a Shark\t3\t2\t1\tF. Baltes, S. Kaufman, U. Dirkscneider & W. Hoffman\t230619\t3990994\t0.99\n",
      "*/\u001B[0m\u001B[32;1m\u001B[1;3mI see that the `tracks` table contains the relevant information about track lengths (in milliseconds) and their associated genres (via `GenreId`). I can use a SQL query to group the data by genre to get the total number of tracks and the average length of tracks for each genre. \n",
      "\n",
      "I will now construct the SQL query to achieve this.\n",
      "\n",
      "Action: sql_db_query_checker  \n",
      "Action Input: \"SELECT g.Name AS Genre, COUNT(t.TrackId) AS TotalTracks, AVG(t.Milliseconds) AS AverageLength FROM tracks t JOIN genres g ON t.GenreId = g.GenreId GROUP BY g.Name ORDER BY TotalTracks DESC LIMIT 10;\"  \u001B[0m\u001B[36;1m\u001B[1;3m```sql\n",
      "SELECT g.Name AS Genre, COUNT(t.TrackId) AS TotalTracks, AVG(t.Milliseconds) AS AverageLength \n",
      "FROM tracks t \n",
      "JOIN genres g ON t.GenreId = g.GenreId \n",
      "GROUP BY g.Name \n",
      "ORDER BY TotalTracks DESC \n",
      "LIMIT 10;\n",
      "```\u001B[0m\u001B[32;1m\u001B[1;3mThe SQL query looks correct. I will now execute it to retrieve the results.\n",
      "\n",
      "Action: sql_db_query  \n",
      "Action Input: \"SELECT g.Name AS Genre, COUNT(t.TrackId) AS TotalTracks, AVG(t.Milliseconds) AS AverageLength FROM tracks t JOIN genres g ON t.GenreId = g.GenreId GROUP BY g.Name ORDER BY TotalTracks DESC LIMIT 10;\"  \u001B[0m\u001B[36;1m\u001B[1;3m[('Rock', 1297, 283910.0431765613), ('Latin', 579, 232859.26252158894), ('Metal', 374, 309749.4438502674), ('Alternative & Punk', 332, 234353.84939759035), ('Jazz', 130, 291755.3769230769), ('TV Shows', 93, 2145041.0215053763), ('Blues', 81, 270359.77777777775), ('Classical', 74, 293867.5675675676), ('Drama', 64, 2575283.78125), ('R&B/Soul', 61, 220066.8524590164)]\u001B[0m\u001B[32;1m\u001B[1;3mI now know the final answer.\n",
      "\n",
      "Final Answer: The total number of tracks and the average length of tracks by genre are as follows:\n",
      "\n",
      "1. Genre: Rock, Total Tracks: 1297, Average Length: 283910 ms\n",
      "2. Genre: Latin, Total Tracks: 579, Average Length: 232859 ms\n",
      "3. Genre: Metal, Total Tracks: 374, Average Length: 309749 ms\n",
      "4. Genre: Alternative & Punk, Total Tracks: 332, Average Length: 234353 ms\n",
      "5. Genre: Jazz, Total Tracks: 130, Average Length: 291755 ms\n",
      "6. Genre: TV Shows, Total Tracks: 93, Average Length: 2145041 ms\n",
      "7. Genre: Blues, Total Tracks: 81, Average Length: 270359 ms\n",
      "8. Genre: Classical, Total Tracks: 74, Average Length: 293867 ms\n",
      "9. Genre: Drama, Total Tracks: 64, Average Length: 2575283 ms\n",
      "10. Genre: R&B/Soul, Total Tracks: 61, Average Length: 220066 ms\u001B[0m\n",
      "\n",
      "\u001B[1m> Finished chain.\u001B[0m\n"
     ]
    },
    {
     "data": {
      "text/plain": "{'input': 'what is the total number of tracks and the average length of tracks by genre?',\n 'output': 'The total number of tracks and the average length of tracks by genre are as follows:\\n\\n1. Genre: Rock, Total Tracks: 1297, Average Length: 283910 ms\\n2. Genre: Latin, Total Tracks: 579, Average Length: 232859 ms\\n3. Genre: Metal, Total Tracks: 374, Average Length: 309749 ms\\n4. Genre: Alternative & Punk, Total Tracks: 332, Average Length: 234353 ms\\n5. Genre: Jazz, Total Tracks: 130, Average Length: 291755 ms\\n6. Genre: TV Shows, Total Tracks: 93, Average Length: 2145041 ms\\n7. Genre: Blues, Total Tracks: 81, Average Length: 270359 ms\\n8. Genre: Classical, Total Tracks: 74, Average Length: 293867 ms\\n9. Genre: Drama, Total Tracks: 64, Average Length: 2575283 ms\\n10. Genre: R&B/Soul, Total Tracks: 61, Average Length: 220066 ms'}"
     },
     "execution_count": 25,
     "metadata": {},
     "output_type": "execute_result"
    }
   ],
   "source": [
    "agent_executor.invoke('what is the total number of tracks and the average length of tracks by genre?')"
   ],
   "metadata": {
    "collapsed": false,
    "ExecuteTime": {
     "end_time": "2025-01-22T04:48:42.618086Z",
     "start_time": "2025-01-22T04:48:31.183055Z"
    }
   },
   "id": "513c16db3ccc1b75",
   "execution_count": 25
  },
  {
   "cell_type": "code",
   "outputs": [
    {
     "name": "stdout",
     "output_type": "stream",
     "text": [
      "\n",
      "\n",
      "\u001B[1m> Entering new SQL Agent Executor chain...\u001B[0m\n",
      "\u001B[32;1m\u001B[1;3mAction: sql_db_list_tables  \n",
      "Action Input: \"\"  \u001B[0m\u001B[38;5;200m\u001B[1;3malbums, artists, customers, employees, genres, invoice_items, invoices, media_types, playlist_track, playlists, tracks\u001B[0m\u001B[32;1m\u001B[1;3mThe \"tracks\" and \"genres\" tables seem relevant for calculating the total number of tracks and the average length grouped by genre. I will check the schema of these two tables to identify the relevant columns for my query.\n",
      "\n",
      "Action: sql_db_schema  \n",
      "Action Input: \"tracks, genres\"  \u001B[0m\u001B[33;1m\u001B[1;3m\n",
      "CREATE TABLE genres (\n",
      "\t\"GenreId\" INTEGER NOT NULL, \n",
      "\t\"Name\" NVARCHAR(120), \n",
      "\tPRIMARY KEY (\"GenreId\")\n",
      ")\n",
      "\n",
      "/*\n",
      "3 rows from genres table:\n",
      "GenreId\tName\n",
      "1\tRock\n",
      "2\tJazz\n",
      "3\tMetal\n",
      "*/\n",
      "\n",
      "\n",
      "CREATE TABLE tracks (\n",
      "\t\"TrackId\" INTEGER NOT NULL, \n",
      "\t\"Name\" NVARCHAR(200) NOT NULL, \n",
      "\t\"AlbumId\" INTEGER, \n",
      "\t\"MediaTypeId\" INTEGER NOT NULL, \n",
      "\t\"GenreId\" INTEGER, \n",
      "\t\"Composer\" NVARCHAR(220), \n",
      "\t\"Milliseconds\" INTEGER NOT NULL, \n",
      "\t\"Bytes\" INTEGER, \n",
      "\t\"UnitPrice\" NUMERIC(10, 2) NOT NULL, \n",
      "\tPRIMARY KEY (\"TrackId\"), \n",
      "\tFOREIGN KEY(\"MediaTypeId\") REFERENCES media_types (\"MediaTypeId\"), \n",
      "\tFOREIGN KEY(\"GenreId\") REFERENCES genres (\"GenreId\"), \n",
      "\tFOREIGN KEY(\"AlbumId\") REFERENCES albums (\"AlbumId\")\n",
      ")\n",
      "\n",
      "/*\n",
      "3 rows from tracks table:\n",
      "TrackId\tName\tAlbumId\tMediaTypeId\tGenreId\tComposer\tMilliseconds\tBytes\tUnitPrice\n",
      "1\tFor Those About To Rock (We Salute You)\t1\t1\t1\tAngus Young, Malcolm Young, Brian Johnson\t343719\t11170334\t0.99\n",
      "2\tBalls to the Wall\t2\t2\t1\tNone\t342562\t5510424\t0.99\n",
      "3\tFast As a Shark\t3\t2\t1\tF. Baltes, S. Kaufman, U. Dirkscneider & W. Hoffman\t230619\t3990994\t0.99\n",
      "*/\u001B[0m\u001B[32;1m\u001B[1;3mTo get the total number of tracks and the average length grouped by genre, I will write a query that joins the \"tracks\" and \"genres\" tables on the \"GenreId\" and then aggregates the data accordingly. \n",
      "\n",
      "The relevant columns are:\n",
      "- From \"genres\": GenreId, Name\n",
      "- From \"tracks\": GenreId, Milliseconds\n",
      "\n",
      "I will sum the tracks and calculate the average milliseconds grouped by genre.\n",
      "\n",
      "Here is the SQL query I plan to execute:\n",
      "```sql\n",
      "SELECT g.Name AS Genre, COUNT(t.TrackId) AS TotalTracks, AVG(t.Milliseconds) AS AverageLength\n",
      "FROM genres g\n",
      "LEFT JOIN tracks t ON g.GenreId = t.GenreId\n",
      "GROUP BY g.GenreId\n",
      "ORDER BY TotalTracks DESC\n",
      "LIMIT 10;\n",
      "```\n",
      "\n",
      "Now, I will check the query for correctness before executing it.\n",
      "\n",
      "Action: sql_db_query_checker  \n",
      "Action Input: \n",
      "```sql\n",
      "SELECT g.Name AS Genre, COUNT(t.TrackId) AS TotalTracks, AVG(t.Milliseconds) AS AverageLength\n",
      "FROM genres g\n",
      "LEFT JOIN tracks t ON g.GenreId = t.GenreId\n",
      "GROUP BY g.GenreId\n",
      "ORDER BY TotalTracks DESC\n",
      "LIMIT 10;\n",
      "```  \u001B[0m\u001B[36;1m\u001B[1;3m```sql\n",
      "SELECT g.Name AS Genre, COUNT(t.TrackId) AS TotalTracks, AVG(t.Milliseconds) AS AverageLength\n",
      "FROM genres g\n",
      "LEFT JOIN tracks t ON g.GenreId = t.GenreId\n",
      "GROUP BY g.GenreId, g.Name\n",
      "ORDER BY TotalTracks DESC\n",
      "LIMIT 10;\n",
      "```\u001B[0m\u001B[32;1m\u001B[1;3mThe query needs a slight adjustment in the GROUP BY clause to include the genre name. I will execute the corrected query now.\n",
      "\n",
      "Action: sql_db_query  \n",
      "Action Input: \n",
      "```sql\n",
      "SELECT g.Name AS Genre, COUNT(t.TrackId) AS TotalTracks, AVG(t.Milliseconds) AS AverageLength\n",
      "FROM genres g\n",
      "LEFT JOIN tracks t ON g.GenreId = t.GenreId\n",
      "GROUP BY g.GenreId, g.Name\n",
      "ORDER BY TotalTracks DESC\n",
      "LIMIT 10;\n",
      "```  \u001B[0m\u001B[36;1m\u001B[1;3mError: (sqlite3.OperationalError) near \"```sql\n",
      "SELECT g.Name AS Genre, COUNT(t.TrackId) AS TotalTracks, AVG(t.Milliseconds) AS AverageLength\n",
      "FROM genres g\n",
      "LEFT JOIN tracks t ON g.GenreId = t.GenreId\n",
      "GROUP BY g.GenreId, g.Name\n",
      "ORDER BY TotalTracks DESC\n",
      "LIMIT 10;\n",
      "```\": syntax error\n",
      "[SQL: ```sql\n",
      "SELECT g.Name AS Genre, COUNT(t.TrackId) AS TotalTracks, AVG(t.Milliseconds) AS AverageLength\n",
      "FROM genres g\n",
      "LEFT JOIN tracks t ON g.GenreId = t.GenreId\n",
      "GROUP BY g.GenreId, g.Name\n",
      "ORDER BY TotalTracks DESC\n",
      "LIMIT 10;\n",
      "```]\n",
      "(Background on this error at: https://sqlalche.me/e/20/e3q8)\u001B[0m\u001B[32;1m\u001B[1;3mIt seems that I mistakenly included code formatting in my SQL query. I will correct that and try executing the query again without the extra formatting.\n",
      "\n",
      "Here is the corrected SQL query:\n",
      "```sql\n",
      "SELECT g.Name AS Genre, COUNT(t.TrackId) AS TotalTracks, AVG(t.Milliseconds) AS AverageLength\n",
      "FROM genres g\n",
      "LEFT JOIN tracks t ON g.GenreId = t.GenreId\n",
      "GROUP BY g.GenreId, g.Name\n",
      "ORDER BY TotalTracks DESC\n",
      "LIMIT 10;\n",
      "```\n",
      "\n",
      "Now, I will execute this query.\n",
      "\n",
      "Action: sql_db_query  \n",
      "Action Input: \n",
      "```sql\n",
      "SELECT g.Name AS Genre, COUNT(t.TrackId) AS TotalTracks, AVG(t.Milliseconds) AS AverageLength\n",
      "FROM genres g\n",
      "LEFT JOIN tracks t ON g.GenreId = t.GenreId\n",
      "GROUP BY g.GenreId, g.Name\n",
      "ORDER BY TotalTracks DESC\n",
      "LIMIT 10;\n",
      "```  \u001B[0m\u001B[36;1m\u001B[1;3mError: (sqlite3.OperationalError) near \"```sql\n",
      "SELECT g.Name AS Genre, COUNT(t.TrackId) AS TotalTracks, AVG(t.Milliseconds) AS AverageLength\n",
      "FROM genres g\n",
      "LEFT JOIN tracks t ON g.GenreId = t.GenreId\n",
      "GROUP BY g.GenreId, g.Name\n",
      "ORDER BY TotalTracks DESC\n",
      "LIMIT 10;\n",
      "```\": syntax error\n",
      "[SQL: ```sql\n",
      "SELECT g.Name AS Genre, COUNT(t.TrackId) AS TotalTracks, AVG(t.Milliseconds) AS AverageLength\n",
      "FROM genres g\n",
      "LEFT JOIN tracks t ON g.GenreId = t.GenreId\n",
      "GROUP BY g.GenreId, g.Name\n",
      "ORDER BY TotalTracks DESC\n",
      "LIMIT 10;\n",
      "```]\n",
      "(Background on this error at: https://sqlalche.me/e/20/e3q8)\u001B[0m\u001B[32;1m\u001B[1;3mIt seems that I am still including unnecessary formatting in my SQL query. I will rewrite the SQL query without any code formatting and try executing it again.\n",
      "\n",
      "Here is the corrected SQL query:\n",
      "\n",
      "SELECT g.Name AS Genre, COUNT(t.TrackId) AS TotalTracks, AVG(t.Milliseconds) AS AverageLength\n",
      "FROM genres g\n",
      "LEFT JOIN tracks t ON g.GenreId = t.GenreId\n",
      "GROUP BY g.GenreId, g.Name\n",
      "ORDER BY TotalTracks DESC\n",
      "LIMIT 10;\n",
      "\n",
      "Now, I will execute this query.\n",
      "\n",
      "Action: sql_db_query  \n",
      "Action Input: \n",
      "SELECT g.Name AS Genre, COUNT(t.TrackId) AS TotalTracks, AVG(t.Milliseconds) AS AverageLength\n",
      "FROM genres g\n",
      "LEFT JOIN tracks t ON g.GenreId = t.GenreId\n",
      "GROUP BY g.GenreId, g.Name\n",
      "ORDER BY TotalTracks DESC\n",
      "LIMIT 10;  \u001B[0m\u001B[36;1m\u001B[1;3m[('Rock', 1297, 283910.0431765613), ('Latin', 579, 232859.26252158894), ('Metal', 374, 309749.4438502674), ('Alternative & Punk', 332, 234353.84939759035), ('Jazz', 130, 291755.3769230769), ('TV Shows', 93, 2145041.0215053763), ('Blues', 81, 270359.77777777775), ('Classical', 74, 293867.5675675676), ('Drama', 64, 2575283.78125), ('R&B/Soul', 61, 220066.8524590164)]\u001B[0m\u001B[32;1m\u001B[1;3mI now know the final answer.\n",
      "\n",
      "Final Answer: 장르별 총 트랙 수와 평균 길이는 다음과 같습니다:\n",
      "- Rock: 총 트랙 수 1297, 평균 길이 283,910 밀리초\n",
      "- Latin: 총 트랙 수 579, 평균 길이 232,859 밀리초\n",
      "- Metal: 총 트랙 수 374, 평균 길이 309,749 밀리초\n",
      "- Alternative & Punk: 총 트랙 수 332, 평균 길이 234,353 밀리초\n",
      "- Jazz: 총 트랙 수 130, 평균 길이 291,755 밀리초\n",
      "- TV Shows: 총 트랙 수 93, 평균 길이 2,145,041 밀리초\n",
      "- Blues: 총 트랙 수 81, 평균 길이 270,359 밀리초\n",
      "- Classical: 총 트랙 수 74, 평균 길이 293,867 밀리초\n",
      "- Drama: 총 트랙 수 64, 평균 길이 2,575,284 밀리초\n",
      "- R&B/Soul: 총 트랙 수 61, 평균 길이 220,066 밀리초\u001B[0m\n",
      "\n",
      "\u001B[1m> Finished chain.\u001B[0m\n"
     ]
    },
    {
     "data": {
      "text/plain": "{'input': '장르별 총 트랙 수와 평균 길이를 한국어로 알려줘',\n 'output': '장르별 총 트랙 수와 평균 길이는 다음과 같습니다:\\n- Rock: 총 트랙 수 1297, 평균 길이 283,910 밀리초\\n- Latin: 총 트랙 수 579, 평균 길이 232,859 밀리초\\n- Metal: 총 트랙 수 374, 평균 길이 309,749 밀리초\\n- Alternative & Punk: 총 트랙 수 332, 평균 길이 234,353 밀리초\\n- Jazz: 총 트랙 수 130, 평균 길이 291,755 밀리초\\n- TV Shows: 총 트랙 수 93, 평균 길이 2,145,041 밀리초\\n- Blues: 총 트랙 수 81, 평균 길이 270,359 밀리초\\n- Classical: 총 트랙 수 74, 평균 길이 293,867 밀리초\\n- Drama: 총 트랙 수 64, 평균 길이 2,575,284 밀리초\\n- R&B/Soul: 총 트랙 수 61, 평균 길이 220,066 밀리초'}"
     },
     "execution_count": 26,
     "metadata": {},
     "output_type": "execute_result"
    }
   ],
   "source": [
    "agent_executor.invoke('장르별 총 트랙 수와 평균 길이를 한국어로 알려줘')"
   ],
   "metadata": {
    "collapsed": false,
    "ExecuteTime": {
     "end_time": "2025-01-22T04:49:55.018528Z",
     "start_time": "2025-01-22T04:49:33.884255Z"
    }
   },
   "id": "43d403bfb33b74b9",
   "execution_count": 26
  },
  {
   "cell_type": "code",
   "outputs": [],
   "source": [
    "# Prompt engineering\n",
    "create_sql_agent?"
   ],
   "metadata": {
    "collapsed": false,
    "ExecuteTime": {
     "end_time": "2025-01-22T05:21:56.702721Z",
     "start_time": "2025-01-22T05:21:56.695612Z"
    }
   },
   "id": "5b01e06f392ce471",
   "execution_count": 39
  },
  {
   "cell_type": "code",
   "outputs": [],
   "source": [
    "prompt_prefix = \"\"\" \n",
    "##Instructions:\n",
    "You are an agent designed to interact with a SQL database.\n",
    "Given an input question, create a syntactically correct {dialect} query to run, then look at the results of the query and return the answer.\n",
    "Unless the user specifies a specific number of examples they wish to obtain, always limit your query to at most {top_k} results.\n",
    "You can order the results by a relevant column to return the most interesting examples in the database.\n",
    "Never query for all the columns from a specific table, only ask for the relevant columns given the question.\n",
    "You have access to tools for interacting with the database.\n",
    "Only use the below tools. Only use the information returned by the below tools to construct your final answer.\n",
    "You MUST double check your query before executing it. If you get an error while executing a query, rewrite the query and try again.\n",
    "As part of your final answer, ALWAYS include an explanation of how to got to the final answer, including the SQL query you run. Include the explanation and the SQL query in the section that starts with \"Explanation:\".\n",
    "\n",
    "DO NOT make any DML statements (INSERT, UPDATE, DELETE, DROP etc.) to the database.\n",
    "\n",
    "If the question does not seem related to the database, just return \"I don\\'t know\" as the answer.\n",
    "\n",
    "##Tools:\n",
    "\n",
    "\"\"\"\n",
    "\n",
    "prompt_format_instructions = \"\"\" \n",
    "Use the following format:\n",
    "\n",
    "Question: the input question you must answer\n",
    "Thought: you should always think about what to do\n",
    "Action: the action to take, should be one of [{tool_names}]\\nAction Input: the input to the action\n",
    "Observation: the result of the action\n",
    "... (this Thought/Action/Action Input/Observation can repeat N times)\n",
    "Thought: I now know the final answer\n",
    "Final Answer: the final answer to the original input question.\n",
    "\n",
    "Explanation:\n",
    "\n",
    "<===Beging of an Example of Explanation:\n",
    "\n",
    "I joined the invoices and customers tables on the customer_id column, which is the common key between them. This will allowed me to access the Total and Country columns from both tables. Then I grouped the records by the country column and calculate the sum of the Total column for each country, ordered them in descending order and limited the SELECT to the top 5.\n",
    "\n",
    "```sql\n",
    "SELECT c.country AS Country, SUM(i.total) AS Sales\n",
    "FROM customers c\n",
    "JOIN invoices i ON c.CustomerId = i.CustomerId\n",
    "GROUP BY Country\n",
    "ORDER BY Sales DESC\n",
    "LIMIT 5;\n",
    "```\n",
    "\n",
    "===>End of an Example of Explanation\n",
    "\"\"\""
   ],
   "metadata": {
    "collapsed": false,
    "ExecuteTime": {
     "end_time": "2025-01-22T06:10:45.790180Z",
     "start_time": "2025-01-22T06:10:45.786265Z"
    }
   },
   "id": "fd4f57cf095e3e5e",
   "execution_count": 10
  },
  {
   "cell_type": "code",
   "outputs": [
    {
     "name": "stdout",
     "output_type": "stream",
     "text": [
      "\n",
      "\n",
      "\u001B[1m> Entering new SQL Agent Executor chain...\u001B[0m\n",
      "\u001B[32;1m\u001B[1;3mAction: sql_db_list_tables  \n",
      "Action Input: \"\"  \u001B[0m\u001B[38;5;200m\u001B[1;3malbums, artists, customers, employees, genres, invoice_items, invoices, media_types, playlist_track, playlists, tracks\u001B[0m\u001B[32;1m\u001B[1;3mI need to focus on the `albums`, `artists`, and `invoice_items` tables to find the best-selling albums along with their artists. I will first check the schema of these tables to identify the relevant columns I can use in my query.\n",
      "\n",
      "Action: sql_db_schema  \n",
      "Action Input: \"albums, artists, invoice_items\"  \u001B[0m\u001B[33;1m\u001B[1;3m\n",
      "CREATE TABLE albums (\n",
      "\t\"AlbumId\" INTEGER NOT NULL, \n",
      "\t\"Title\" NVARCHAR(160) NOT NULL, \n",
      "\t\"ArtistId\" INTEGER NOT NULL, \n",
      "\tPRIMARY KEY (\"AlbumId\"), \n",
      "\tFOREIGN KEY(\"ArtistId\") REFERENCES artists (\"ArtistId\")\n",
      ")\n",
      "\n",
      "/*\n",
      "3 rows from albums table:\n",
      "AlbumId\tTitle\tArtistId\n",
      "1\tFor Those About To Rock We Salute You\t1\n",
      "2\tBalls to the Wall\t2\n",
      "3\tRestless and Wild\t2\n",
      "*/\n",
      "\n",
      "\n",
      "CREATE TABLE artists (\n",
      "\t\"ArtistId\" INTEGER NOT NULL, \n",
      "\t\"Name\" NVARCHAR(120), \n",
      "\tPRIMARY KEY (\"ArtistId\")\n",
      ")\n",
      "\n",
      "/*\n",
      "3 rows from artists table:\n",
      "ArtistId\tName\n",
      "1\tAC/DC\n",
      "2\tAccept\n",
      "3\tAerosmith\n",
      "*/\n",
      "\n",
      "\n",
      "CREATE TABLE invoice_items (\n",
      "\t\"InvoiceLineId\" INTEGER NOT NULL, \n",
      "\t\"InvoiceId\" INTEGER NOT NULL, \n",
      "\t\"TrackId\" INTEGER NOT NULL, \n",
      "\t\"UnitPrice\" NUMERIC(10, 2) NOT NULL, \n",
      "\t\"Quantity\" INTEGER NOT NULL, \n",
      "\tPRIMARY KEY (\"InvoiceLineId\"), \n",
      "\tFOREIGN KEY(\"TrackId\") REFERENCES tracks (\"TrackId\"), \n",
      "\tFOREIGN KEY(\"InvoiceId\") REFERENCES invoices (\"InvoiceId\")\n",
      ")\n",
      "\n",
      "/*\n",
      "3 rows from invoice_items table:\n",
      "InvoiceLineId\tInvoiceId\tTrackId\tUnitPrice\tQuantity\n",
      "1\t1\t2\t0.99\t1\n",
      "2\t1\t4\t0.99\t1\n",
      "3\t2\t6\t0.99\t1\n",
      "*/\u001B[0m\u001B[32;1m\u001B[1;3mTo find the best-selling albums, I will need to join the `albums`, `artists`, and `invoice_items` tables. I can calculate the total sales for each album by summing the product of `UnitPrice` and `Quantity` from the `invoice_items` table. Then, I will group the results by album and artist, order them by total sales in descending order, and limit the results to the top 5.\n",
      "\n",
      "The relevant columns I will use from the `albums` table are `AlbumId` and `Title`, from the `artists` table I'll use `Name`, and from the `invoice_items` table I will use `UnitPrice` and `Quantity`.\n",
      "\n",
      "Now, I will construct the SQL query:\n",
      "\n",
      "```sql\n",
      "SELECT a.Title AS AlbumTitle, ar.Name AS ArtistName, SUM(ii.UnitPrice * ii.Quantity) AS TotalSales\n",
      "FROM albums a\n",
      "JOIN artists ar ON a.ArtistId = ar.ArtistId\n",
      "JOIN invoice_items ii ON a.AlbumId = ii.TrackId\n",
      "GROUP BY a.AlbumId, ar.Name\n",
      "ORDER BY TotalSales DESC\n",
      "LIMIT 5;\n",
      "```\n",
      "\n",
      "Next, I will check this query for correctness before executing it. \n",
      "\n",
      "Action: sql_db_query_checker  \n",
      "Action Input: \n",
      "```sql\n",
      "SELECT a.Title AS AlbumTitle, ar.Name AS ArtistName, SUM(ii.UnitPrice * ii.Quantity) AS TotalSales\n",
      "FROM albums a\n",
      "JOIN artists ar ON a.ArtistId = ar.ArtistId\n",
      "JOIN invoice_items ii ON a.AlbumId = ii.TrackId\n",
      "GROUP BY a.AlbumId, ar.Name\n",
      "ORDER BY TotalSales DESC\n",
      "LIMIT 5;\n",
      "```  \u001B[0m\u001B[36;1m\u001B[1;3m```sql\n",
      "SELECT a.Title AS AlbumTitle, ar.Name AS ArtistName, SUM(ii.UnitPrice * ii.Quantity) AS TotalSales\n",
      "FROM albums a\n",
      "JOIN artists ar ON a.ArtistId = ar.ArtistId\n",
      "JOIN invoice_items ii ON a.AlbumId = ii.TrackId\n",
      "GROUP BY a.AlbumId, ar.Name\n",
      "ORDER BY TotalSales DESC\n",
      "LIMIT 5;\n",
      "```\u001B[0m\u001B[32;1m\u001B[1;3mI will now execute the SQL query to retrieve the top 5 best-selling albums and their artists.\n",
      "\n",
      "Action: sql_db_query  \n",
      "Action Input: \n",
      "```sql\n",
      "SELECT a.Title AS AlbumTitle, ar.Name AS ArtistName, SUM(ii.UnitPrice * ii.Quantity) AS TotalSales\n",
      "FROM albums a\n",
      "JOIN artists ar ON a.ArtistId = ar.ArtistId\n",
      "JOIN invoice_items ii ON a.AlbumId = ii.TrackId\n",
      "GROUP BY a.AlbumId, ar.Name\n",
      "ORDER BY TotalSales DESC\n",
      "LIMIT 5;\n",
      "```  \u001B[0m\u001B[36;1m\u001B[1;3mError: (sqlite3.OperationalError) near \"```sql\n",
      "SELECT a.Title AS AlbumTitle, ar.Name AS ArtistName, SUM(ii.UnitPrice * ii.Quantity) AS TotalSales\n",
      "FROM albums a\n",
      "JOIN artists ar ON a.ArtistId = ar.ArtistId\n",
      "JOIN invoice_items ii ON a.AlbumId = ii.TrackId\n",
      "GROUP BY a.AlbumId, ar.Name\n",
      "ORDER BY TotalSales DESC\n",
      "LIMIT 5;\n",
      "```\": syntax error\n",
      "[SQL: ```sql\n",
      "SELECT a.Title AS AlbumTitle, ar.Name AS ArtistName, SUM(ii.UnitPrice * ii.Quantity) AS TotalSales\n",
      "FROM albums a\n",
      "JOIN artists ar ON a.ArtistId = ar.ArtistId\n",
      "JOIN invoice_items ii ON a.AlbumId = ii.TrackId\n",
      "GROUP BY a.AlbumId, ar.Name\n",
      "ORDER BY TotalSales DESC\n",
      "LIMIT 5;\n",
      "```]\n",
      "(Background on this error at: https://sqlalche.me/e/20/e3q8)\u001B[0m\u001B[32;1m\u001B[1;3mI noticed that there was an error in the SQL query execution. The query was formatted incorrectly with additional markdown syntax. I will rewrite the query without the markdown syntax and check it again.\n",
      "\n",
      "The corrected SQL query is as follows:\n",
      "\n",
      "```sql\n",
      "SELECT a.Title AS AlbumTitle, ar.Name AS ArtistName, SUM(ii.UnitPrice * ii.Quantity) AS TotalSales\n",
      "FROM albums a\n",
      "JOIN artists ar ON a.ArtistId = ar.ArtistId\n",
      "JOIN invoice_items ii ON a.AlbumId = ii.TrackId\n",
      "GROUP BY a.AlbumId, ar.Name\n",
      "ORDER BY TotalSales DESC\n",
      "LIMIT 5;\n",
      "```\n",
      "\n",
      "Now, I will check the corrected query for correctness again.\n",
      "\n",
      "Action: sql_db_query_checker  \n",
      "Action Input: \n",
      "```sql\n",
      "SELECT a.Title AS AlbumTitle, ar.Name AS ArtistName, SUM(ii.UnitPrice * ii.Quantity) AS TotalSales\n",
      "FROM albums a\n",
      "JOIN artists ar ON a.ArtistId = ar.ArtistId\n",
      "JOIN invoice_items ii ON a.AlbumId = ii.TrackId\n",
      "GROUP BY a.AlbumId, ar.Name\n",
      "ORDER BY TotalSales DESC\n",
      "LIMIT 5;\n",
      "```  \u001B[0m\u001B[36;1m\u001B[1;3m```sql\n",
      "SELECT a.Title AS AlbumTitle, ar.Name AS ArtistName, SUM(ii.UnitPrice * ii.Quantity) AS TotalSales\n",
      "FROM albums a\n",
      "JOIN artists ar ON a.ArtistId = ar.ArtistId\n",
      "JOIN invoice_items ii ON a.AlbumId = ii.TrackId\n",
      "GROUP BY a.AlbumId, ar.Name\n",
      "ORDER BY TotalSales DESC\n",
      "LIMIT 5;\n",
      "```\u001B[0m\u001B[32;1m\u001B[1;3mI will now execute the corrected SQL query to retrieve the top 5 best-selling albums and their artists.\n",
      "\n",
      "Action: sql_db_query  \n",
      "Action Input: \n",
      "```sql\n",
      "SELECT a.Title AS AlbumTitle, ar.Name AS ArtistName, SUM(ii.UnitPrice * ii.Quantity) AS TotalSales\n",
      "FROM albums a\n",
      "JOIN artists ar ON a.ArtistId = ar.ArtistId\n",
      "JOIN invoice_items ii ON a.AlbumId = ii.TrackId\n",
      "GROUP BY a.AlbumId, ar.Name\n",
      "ORDER BY TotalSales DESC\n",
      "LIMIT 5;\n",
      "```  \u001B[0m\u001B[36;1m\u001B[1;3mError: (sqlite3.OperationalError) near \"```sql\n",
      "SELECT a.Title AS AlbumTitle, ar.Name AS ArtistName, SUM(ii.UnitPrice * ii.Quantity) AS TotalSales\n",
      "FROM albums a\n",
      "JOIN artists ar ON a.ArtistId = ar.ArtistId\n",
      "JOIN invoice_items ii ON a.AlbumId = ii.TrackId\n",
      "GROUP BY a.AlbumId, ar.Name\n",
      "ORDER BY TotalSales DESC\n",
      "LIMIT 5;\n",
      "```\": syntax error\n",
      "[SQL: ```sql\n",
      "SELECT a.Title AS AlbumTitle, ar.Name AS ArtistName, SUM(ii.UnitPrice * ii.Quantity) AS TotalSales\n",
      "FROM albums a\n",
      "JOIN artists ar ON a.ArtistId = ar.ArtistId\n",
      "JOIN invoice_items ii ON a.AlbumId = ii.TrackId\n",
      "GROUP BY a.AlbumId, ar.Name\n",
      "ORDER BY TotalSales DESC\n",
      "LIMIT 5;\n",
      "```]\n",
      "(Background on this error at: https://sqlalche.me/e/20/e3q8)\u001B[0m\u001B[32;1m\u001B[1;3mI realize that I mistakenly included additional markdown formatting in my SQL query. I will remove the formatting and try the query again without any additional characters.\n",
      "\n",
      "Here is the SQL query without formatting:\n",
      "\n",
      "```sql\n",
      "SELECT a.Title AS AlbumTitle, ar.Name AS ArtistName, SUM(ii.UnitPrice * ii.Quantity) AS TotalSales\n",
      "FROM albums a\n",
      "JOIN artists ar ON a.ArtistId = ar.ArtistId\n",
      "JOIN invoice_items ii ON a.AlbumId = ii.TrackId\n",
      "GROUP BY a.AlbumId, ar.Name\n",
      "ORDER BY TotalSales DESC\n",
      "LIMIT 5;\n",
      "```\n",
      "\n",
      "Now, I will check the corrected query once more for correctness.\n",
      "\n",
      "Action: sql_db_query_checker  \n",
      "Action Input: \n",
      "```sql\n",
      "SELECT a.Title AS AlbumTitle, ar.Name AS ArtistName, SUM(ii.UnitPrice * ii.Quantity) AS TotalSales\n",
      "FROM albums a\n",
      "JOIN artists ar ON a.ArtistId = ar.ArtistId\n",
      "JOIN invoice_items ii ON a.AlbumId = ii.TrackId\n",
      "GROUP BY a.AlbumId, ar.Name\n",
      "ORDER BY TotalSales DESC\n",
      "LIMIT 5;\n",
      "```  \u001B[0m\u001B[36;1m\u001B[1;3m```sql\n",
      "SELECT a.Title AS AlbumTitle, ar.Name AS ArtistName, SUM(ii.UnitPrice * ii.Quantity) AS TotalSales\n",
      "FROM albums a\n",
      "JOIN artists ar ON a.ArtistId = ar.ArtistId\n",
      "JOIN invoice_items ii ON a.AlbumId = ii.AlbumId\n",
      "GROUP BY a.AlbumId, ar.Name\n",
      "ORDER BY TotalSales DESC\n",
      "LIMIT 5;\n",
      "```\u001B[0m\u001B[32;1m\u001B[1;3mI see that I made an error in the join condition. I mistakenly used `ii.TrackId` instead of the correct `ii.TrackId` which should relate to the `tracks` table. I need to include the `tracks` table in my query to correctly relate the `invoice_items` to the `albums`. \n",
      "\n",
      "I will first check the schema of the `tracks` table to ensure I have the correct relationships.\n",
      "\n",
      "Action: sql_db_schema  \n",
      "Action Input: \"tracks\"  \u001B[0m\u001B[33;1m\u001B[1;3m\n",
      "CREATE TABLE tracks (\n",
      "\t\"TrackId\" INTEGER NOT NULL, \n",
      "\t\"Name\" NVARCHAR(200) NOT NULL, \n",
      "\t\"AlbumId\" INTEGER, \n",
      "\t\"MediaTypeId\" INTEGER NOT NULL, \n",
      "\t\"GenreId\" INTEGER, \n",
      "\t\"Composer\" NVARCHAR(220), \n",
      "\t\"Milliseconds\" INTEGER NOT NULL, \n",
      "\t\"Bytes\" INTEGER, \n",
      "\t\"UnitPrice\" NUMERIC(10, 2) NOT NULL, \n",
      "\tPRIMARY KEY (\"TrackId\"), \n",
      "\tFOREIGN KEY(\"MediaTypeId\") REFERENCES media_types (\"MediaTypeId\"), \n",
      "\tFOREIGN KEY(\"GenreId\") REFERENCES genres (\"GenreId\"), \n",
      "\tFOREIGN KEY(\"AlbumId\") REFERENCES albums (\"AlbumId\")\n",
      ")\n",
      "\n",
      "/*\n",
      "3 rows from tracks table:\n",
      "TrackId\tName\tAlbumId\tMediaTypeId\tGenreId\tComposer\tMilliseconds\tBytes\tUnitPrice\n",
      "1\tFor Those About To Rock (We Salute You)\t1\t1\t1\tAngus Young, Malcolm Young, Brian Johnson\t343719\t11170334\t0.99\n",
      "2\tBalls to the Wall\t2\t2\t1\tNone\t342562\t5510424\t0.99\n",
      "3\tFast As a Shark\t3\t2\t1\tF. Baltes, S. Kaufman, U. Dirkscneider & W. Hoffman\t230619\t3990994\t0.99\n",
      "*/\u001B[0m\u001B[32;1m\u001B[1;3mTo find the best-selling albums, I need to join the `albums`, `artists`, `tracks`, and `invoice_items` tables correctly. The join will link the `albums` and `artists` tables on `ArtistId`, and the `tracks` table on `AlbumId`, while the `invoice_items` will be joined through the `TrackId`. \n",
      "\n",
      "I'll construct a new SQL query to sum the sales for each album accurately, ensuring the joins are set up properly.\n",
      "\n",
      "Here’s the SQL query I will use:\n",
      "\n",
      "```sql\n",
      "SELECT a.Title AS AlbumTitle, ar.Name AS ArtistName, SUM(ii.UnitPrice * ii.Quantity) AS TotalSales\n",
      "FROM albums a\n",
      "JOIN artists ar ON a.ArtistId = ar.ArtistId\n",
      "JOIN tracks t ON a.AlbumId = t.AlbumId\n",
      "JOIN invoice_items ii ON t.TrackId = ii.TrackId\n",
      "GROUP BY a.AlbumId, ar.Name\n",
      "ORDER BY TotalSales DESC\n",
      "LIMIT 5;\n",
      "```\n",
      "\n",
      "Now, I will check this query for correctness before executing it.\n",
      "\n",
      "Action: sql_db_query_checker  \n",
      "Action Input: \n",
      "```sql\n",
      "SELECT a.Title AS AlbumTitle, ar.Name AS ArtistName, SUM(ii.UnitPrice * ii.Quantity) AS TotalSales\n",
      "FROM albums a\n",
      "JOIN artists ar ON a.ArtistId = ar.ArtistId\n",
      "JOIN tracks t ON a.AlbumId = t.AlbumId\n",
      "JOIN invoice_items ii ON t.TrackId = ii.TrackId\n",
      "GROUP BY a.AlbumId, ar.Name\n",
      "ORDER BY TotalSales DESC\n",
      "LIMIT 5;\n",
      "```  \u001B[0m\u001B[36;1m\u001B[1;3m```sql\n",
      "SELECT a.Title AS AlbumTitle, ar.Name AS ArtistName, SUM(ii.UnitPrice * ii.Quantity) AS TotalSales\n",
      "FROM albums a\n",
      "JOIN artists ar ON a.ArtistId = ar.ArtistId\n",
      "JOIN tracks t ON a.AlbumId = t.AlbumId\n",
      "JOIN invoice_items ii ON t.TrackId = ii.TrackId\n",
      "GROUP BY a.AlbumId, ar.Name\n",
      "ORDER BY TotalSales DESC\n",
      "LIMIT 5;\n",
      "```\u001B[0m\u001B[32;1m\u001B[1;3mI will now execute the corrected SQL query to retrieve the top 5 best-selling albums and their artists.\n",
      "\n",
      "Action: sql_db_query  \n",
      "Action Input: \n",
      "```sql\n",
      "SELECT a.Title AS AlbumTitle, ar.Name AS ArtistName, SUM(ii.UnitPrice * ii.Quantity) AS TotalSales\n",
      "FROM albums a\n",
      "JOIN artists ar ON a.ArtistId = ar.ArtistId\n",
      "JOIN tracks t ON a.AlbumId = t.AlbumId\n",
      "JOIN invoice_items ii ON t.TrackId = ii.TrackId\n",
      "GROUP BY a.AlbumId, ar.Name\n",
      "ORDER BY TotalSales DESC\n",
      "LIMIT 5;\n",
      "```  \u001B[0m\u001B[36;1m\u001B[1;3mError: (sqlite3.OperationalError) near \"```sql\n",
      "SELECT a.Title AS AlbumTitle, ar.Name AS ArtistName, SUM(ii.UnitPrice * ii.Quantity) AS TotalSales\n",
      "FROM albums a\n",
      "JOIN artists ar ON a.ArtistId = ar.ArtistId\n",
      "JOIN tracks t ON a.AlbumId = t.AlbumId\n",
      "JOIN invoice_items ii ON t.TrackId = ii.TrackId\n",
      "GROUP BY a.AlbumId, ar.Name\n",
      "ORDER BY TotalSales DESC\n",
      "LIMIT 5;\n",
      "```\": syntax error\n",
      "[SQL: ```sql\n",
      "SELECT a.Title AS AlbumTitle, ar.Name AS ArtistName, SUM(ii.UnitPrice * ii.Quantity) AS TotalSales\n",
      "FROM albums a\n",
      "JOIN artists ar ON a.ArtistId = ar.ArtistId\n",
      "JOIN tracks t ON a.AlbumId = t.AlbumId\n",
      "JOIN invoice_items ii ON t.TrackId = ii.TrackId\n",
      "GROUP BY a.AlbumId, ar.Name\n",
      "ORDER BY TotalSales DESC\n",
      "LIMIT 5;\n",
      "```]\n",
      "(Background on this error at: https://sqlalche.me/e/20/e3q8)\u001B[0m\u001B[32;1m\u001B[1;3mI see that I mistakenly included formatting in my SQL query again. I will rewrite the query without the markdown syntax and try again.\n",
      "\n",
      "Here is the SQL query without any formatting:\n",
      "\n",
      "```sql\n",
      "SELECT a.Title AS AlbumTitle, ar.Name AS ArtistName, SUM(ii.UnitPrice * ii.Quantity) AS TotalSales\n",
      "FROM albums a\n",
      "JOIN artists ar ON a.ArtistId = ar.ArtistId\n",
      "JOIN tracks t ON a.AlbumId = t.AlbumId\n",
      "JOIN invoice_items ii ON t.TrackId = ii.TrackId\n",
      "GROUP BY a.AlbumId, ar.Name\n",
      "ORDER BY TotalSales DESC\n",
      "LIMIT 5;\n",
      "```\n",
      "\n",
      "Now, I will check the corrected query for correctness once more.\n",
      "\n",
      "Action: sql_db_query_checker  \n",
      "Action Input: \n",
      "```sql\n",
      "SELECT a.Title AS AlbumTitle, ar.Name AS ArtistName, SUM(ii.UnitPrice * ii.Quantity) AS TotalSales\n",
      "FROM albums a\n",
      "JOIN artists ar ON a.ArtistId = ar.ArtistId\n",
      "JOIN tracks t ON a.AlbumId = t.AlbumId\n",
      "JOIN invoice_items ii ON t.TrackId = ii.TrackId\n",
      "GROUP BY a.AlbumId, ar.Name\n",
      "ORDER BY TotalSales DESC\n",
      "LIMIT 5;\n",
      "```  \u001B[0m\u001B[36;1m\u001B[1;3m```sql\n",
      "SELECT a.Title AS AlbumTitle, ar.Name AS ArtistName, SUM(ii.UnitPrice * ii.Quantity) AS TotalSales\n",
      "FROM albums a\n",
      "JOIN artists ar ON a.ArtistId = ar.ArtistId\n",
      "JOIN tracks t ON a.AlbumId = t.AlbumId\n",
      "JOIN invoice_items ii ON t.TrackId = ii.TrackId\n",
      "GROUP BY a.AlbumId, ar.Name\n",
      "ORDER BY TotalSales DESC\n",
      "LIMIT 5;\n",
      "```\u001B[0m\u001B[32;1m\u001B[1;3mI will now execute the corrected SQL query to retrieve the top 5 best-selling albums and their artists.\n",
      "\n",
      "Action: sql_db_query  \n",
      "Action Input: \n",
      "```sql\n",
      "SELECT a.Title AS AlbumTitle, ar.Name AS ArtistName, SUM(ii.UnitPrice * ii.Quantity) AS TotalSales\n",
      "FROM albums a\n",
      "JOIN artists ar ON a.ArtistId = ar.ArtistId\n",
      "JOIN tracks t ON a.AlbumId = t.AlbumId\n",
      "JOIN invoice_items ii ON t.TrackId = ii.TrackId\n",
      "GROUP BY a.AlbumId, ar.Name\n",
      "ORDER BY TotalSales DESC\n",
      "LIMIT 5;\n",
      "```  \u001B[0m\u001B[36;1m\u001B[1;3mError: (sqlite3.OperationalError) near \"```sql\n",
      "SELECT a.Title AS AlbumTitle, ar.Name AS ArtistName, SUM(ii.UnitPrice * ii.Quantity) AS TotalSales\n",
      "FROM albums a\n",
      "JOIN artists ar ON a.ArtistId = ar.ArtistId\n",
      "JOIN tracks t ON a.AlbumId = t.AlbumId\n",
      "JOIN invoice_items ii ON t.TrackId = ii.TrackId\n",
      "GROUP BY a.AlbumId, ar.Name\n",
      "ORDER BY TotalSales DESC\n",
      "LIMIT 5;\n",
      "```\": syntax error\n",
      "[SQL: ```sql\n",
      "SELECT a.Title AS AlbumTitle, ar.Name AS ArtistName, SUM(ii.UnitPrice * ii.Quantity) AS TotalSales\n",
      "FROM albums a\n",
      "JOIN artists ar ON a.ArtistId = ar.ArtistId\n",
      "JOIN tracks t ON a.AlbumId = t.AlbumId\n",
      "JOIN invoice_items ii ON t.TrackId = ii.TrackId\n",
      "GROUP BY a.AlbumId, ar.Name\n",
      "ORDER BY TotalSales DESC\n",
      "LIMIT 5;\n",
      "```]\n",
      "(Background on this error at: https://sqlalche.me/e/20/e3q8)\u001B[0m"
     ]
    },
    {
     "ename": "ValueError",
     "evalue": "An output parsing error occurred. In order to pass this error back to the agent and have it try again, pass `handle_parsing_errors=True` to the AgentExecutor. This is the error: Could not parse LLM output: `I don't know.`\nFor troubleshooting, visit: https://python.langchain.com/docs/troubleshooting/errors/OUTPUT_PARSING_FAILURE ",
     "output_type": "error",
     "traceback": [
      "\u001B[0;31m---------------------------------------------------------------------------\u001B[0m",
      "\u001B[0;31mOutputParserException\u001B[0m                     Traceback (most recent call last)",
      "File \u001B[0;32m~/Dev/Anaconda/anaconda3/envs/langchain_env/lib/python3.10/site-packages/langchain/agents/agent.py:1358\u001B[0m, in \u001B[0;36mAgentExecutor._iter_next_step\u001B[0;34m(self, name_to_tool_map, color_mapping, inputs, intermediate_steps, run_manager)\u001B[0m\n\u001B[1;32m   1357\u001B[0m     \u001B[38;5;66;03m# Call the LLM to see what to do.\u001B[39;00m\n\u001B[0;32m-> 1358\u001B[0m     output \u001B[38;5;241m=\u001B[39m \u001B[38;5;28;43mself\u001B[39;49m\u001B[38;5;241;43m.\u001B[39;49m\u001B[43m_action_agent\u001B[49m\u001B[38;5;241;43m.\u001B[39;49m\u001B[43mplan\u001B[49m\u001B[43m(\u001B[49m\n\u001B[1;32m   1359\u001B[0m \u001B[43m        \u001B[49m\u001B[43mintermediate_steps\u001B[49m\u001B[43m,\u001B[49m\n\u001B[1;32m   1360\u001B[0m \u001B[43m        \u001B[49m\u001B[43mcallbacks\u001B[49m\u001B[38;5;241;43m=\u001B[39;49m\u001B[43mrun_manager\u001B[49m\u001B[38;5;241;43m.\u001B[39;49m\u001B[43mget_child\u001B[49m\u001B[43m(\u001B[49m\u001B[43m)\u001B[49m\u001B[43m \u001B[49m\u001B[38;5;28;43;01mif\u001B[39;49;00m\u001B[43m \u001B[49m\u001B[43mrun_manager\u001B[49m\u001B[43m \u001B[49m\u001B[38;5;28;43;01melse\u001B[39;49;00m\u001B[43m \u001B[49m\u001B[38;5;28;43;01mNone\u001B[39;49;00m\u001B[43m,\u001B[49m\n\u001B[1;32m   1361\u001B[0m \u001B[43m        \u001B[49m\u001B[38;5;241;43m*\u001B[39;49m\u001B[38;5;241;43m*\u001B[39;49m\u001B[43minputs\u001B[49m\u001B[43m,\u001B[49m\n\u001B[1;32m   1362\u001B[0m \u001B[43m    \u001B[49m\u001B[43m)\u001B[49m\n\u001B[1;32m   1363\u001B[0m \u001B[38;5;28;01mexcept\u001B[39;00m OutputParserException \u001B[38;5;28;01mas\u001B[39;00m e:\n",
      "File \u001B[0;32m~/Dev/Anaconda/anaconda3/envs/langchain_env/lib/python3.10/site-packages/langchain/agents/agent.py:465\u001B[0m, in \u001B[0;36mRunnableAgent.plan\u001B[0;34m(self, intermediate_steps, callbacks, **kwargs)\u001B[0m\n\u001B[1;32m    458\u001B[0m \u001B[38;5;28;01mif\u001B[39;00m \u001B[38;5;28mself\u001B[39m\u001B[38;5;241m.\u001B[39mstream_runnable:\n\u001B[1;32m    459\u001B[0m     \u001B[38;5;66;03m# Use streaming to make sure that the underlying LLM is invoked in a\u001B[39;00m\n\u001B[1;32m    460\u001B[0m     \u001B[38;5;66;03m# streaming\u001B[39;00m\n\u001B[0;32m   (...)\u001B[0m\n\u001B[1;32m    463\u001B[0m     \u001B[38;5;66;03m# Because the response from the plan is not a generator, we need to\u001B[39;00m\n\u001B[1;32m    464\u001B[0m     \u001B[38;5;66;03m# accumulate the output into final output and return that.\u001B[39;00m\n\u001B[0;32m--> 465\u001B[0m     \u001B[38;5;28;01mfor\u001B[39;00m chunk \u001B[38;5;129;01min\u001B[39;00m \u001B[38;5;28mself\u001B[39m\u001B[38;5;241m.\u001B[39mrunnable\u001B[38;5;241m.\u001B[39mstream(inputs, config\u001B[38;5;241m=\u001B[39m{\u001B[38;5;124m\"\u001B[39m\u001B[38;5;124mcallbacks\u001B[39m\u001B[38;5;124m\"\u001B[39m: callbacks}):\n\u001B[1;32m    466\u001B[0m         \u001B[38;5;28;01mif\u001B[39;00m final_output \u001B[38;5;129;01mis\u001B[39;00m \u001B[38;5;28;01mNone\u001B[39;00m:\n",
      "File \u001B[0;32m~/Dev/Anaconda/anaconda3/envs/langchain_env/lib/python3.10/site-packages/langchain_core/runnables/base.py:3407\u001B[0m, in \u001B[0;36mRunnableSequence.stream\u001B[0;34m(self, input, config, **kwargs)\u001B[0m\n\u001B[1;32m   3401\u001B[0m \u001B[38;5;28;01mdef\u001B[39;00m\u001B[38;5;250m \u001B[39m\u001B[38;5;21mstream\u001B[39m(\n\u001B[1;32m   3402\u001B[0m     \u001B[38;5;28mself\u001B[39m,\n\u001B[1;32m   3403\u001B[0m     \u001B[38;5;28minput\u001B[39m: Input,\n\u001B[1;32m   3404\u001B[0m     config: Optional[RunnableConfig] \u001B[38;5;241m=\u001B[39m \u001B[38;5;28;01mNone\u001B[39;00m,\n\u001B[1;32m   3405\u001B[0m     \u001B[38;5;241m*\u001B[39m\u001B[38;5;241m*\u001B[39mkwargs: Optional[Any],\n\u001B[1;32m   3406\u001B[0m ) \u001B[38;5;241m-\u001B[39m\u001B[38;5;241m>\u001B[39m Iterator[Output]:\n\u001B[0;32m-> 3407\u001B[0m     \u001B[38;5;28;01myield from\u001B[39;00m \u001B[38;5;28mself\u001B[39m\u001B[38;5;241m.\u001B[39mtransform(\u001B[38;5;28miter\u001B[39m([\u001B[38;5;28minput\u001B[39m]), config, \u001B[38;5;241m*\u001B[39m\u001B[38;5;241m*\u001B[39mkwargs)\n",
      "File \u001B[0;32m~/Dev/Anaconda/anaconda3/envs/langchain_env/lib/python3.10/site-packages/langchain_core/runnables/base.py:3394\u001B[0m, in \u001B[0;36mRunnableSequence.transform\u001B[0;34m(self, input, config, **kwargs)\u001B[0m\n\u001B[1;32m   3388\u001B[0m \u001B[38;5;28;01mdef\u001B[39;00m\u001B[38;5;250m \u001B[39m\u001B[38;5;21mtransform\u001B[39m(\n\u001B[1;32m   3389\u001B[0m     \u001B[38;5;28mself\u001B[39m,\n\u001B[1;32m   3390\u001B[0m     \u001B[38;5;28minput\u001B[39m: Iterator[Input],\n\u001B[1;32m   3391\u001B[0m     config: Optional[RunnableConfig] \u001B[38;5;241m=\u001B[39m \u001B[38;5;28;01mNone\u001B[39;00m,\n\u001B[1;32m   3392\u001B[0m     \u001B[38;5;241m*\u001B[39m\u001B[38;5;241m*\u001B[39mkwargs: Optional[Any],\n\u001B[1;32m   3393\u001B[0m ) \u001B[38;5;241m-\u001B[39m\u001B[38;5;241m>\u001B[39m Iterator[Output]:\n\u001B[0;32m-> 3394\u001B[0m     \u001B[38;5;28;01myield from\u001B[39;00m \u001B[38;5;28mself\u001B[39m\u001B[38;5;241m.\u001B[39m_transform_stream_with_config(\n\u001B[1;32m   3395\u001B[0m         \u001B[38;5;28minput\u001B[39m,\n\u001B[1;32m   3396\u001B[0m         \u001B[38;5;28mself\u001B[39m\u001B[38;5;241m.\u001B[39m_transform,\n\u001B[1;32m   3397\u001B[0m         patch_config(config, run_name\u001B[38;5;241m=\u001B[39m(config \u001B[38;5;129;01mor\u001B[39;00m {})\u001B[38;5;241m.\u001B[39mget(\u001B[38;5;124m\"\u001B[39m\u001B[38;5;124mrun_name\u001B[39m\u001B[38;5;124m\"\u001B[39m) \u001B[38;5;129;01mor\u001B[39;00m \u001B[38;5;28mself\u001B[39m\u001B[38;5;241m.\u001B[39mname),\n\u001B[1;32m   3398\u001B[0m         \u001B[38;5;241m*\u001B[39m\u001B[38;5;241m*\u001B[39mkwargs,\n\u001B[1;32m   3399\u001B[0m     )\n",
      "File \u001B[0;32m~/Dev/Anaconda/anaconda3/envs/langchain_env/lib/python3.10/site-packages/langchain_core/runnables/base.py:2197\u001B[0m, in \u001B[0;36mRunnable._transform_stream_with_config\u001B[0;34m(self, input, transformer, config, run_type, **kwargs)\u001B[0m\n\u001B[1;32m   2196\u001B[0m \u001B[38;5;28;01mwhile\u001B[39;00m \u001B[38;5;28;01mTrue\u001B[39;00m:\n\u001B[0;32m-> 2197\u001B[0m     chunk: Output \u001B[38;5;241m=\u001B[39m \u001B[43mcontext\u001B[49m\u001B[38;5;241;43m.\u001B[39;49m\u001B[43mrun\u001B[49m\u001B[43m(\u001B[49m\u001B[38;5;28;43mnext\u001B[39;49m\u001B[43m,\u001B[49m\u001B[43m \u001B[49m\u001B[43miterator\u001B[49m\u001B[43m)\u001B[49m  \u001B[38;5;66;03m# type: ignore\u001B[39;00m\n\u001B[1;32m   2198\u001B[0m     \u001B[38;5;28;01myield\u001B[39;00m chunk\n",
      "File \u001B[0;32m~/Dev/Anaconda/anaconda3/envs/langchain_env/lib/python3.10/site-packages/langchain_core/runnables/base.py:3357\u001B[0m, in \u001B[0;36mRunnableSequence._transform\u001B[0;34m(self, input, run_manager, config, **kwargs)\u001B[0m\n\u001B[1;32m   3355\u001B[0m         final_pipeline \u001B[38;5;241m=\u001B[39m step\u001B[38;5;241m.\u001B[39mtransform(final_pipeline, config)\n\u001B[0;32m-> 3357\u001B[0m \u001B[38;5;28;01myield from\u001B[39;00m final_pipeline\n",
      "File \u001B[0;32m~/Dev/Anaconda/anaconda3/envs/langchain_env/lib/python3.10/site-packages/langchain_core/runnables/base.py:1431\u001B[0m, in \u001B[0;36mRunnable.transform\u001B[0;34m(self, input, config, **kwargs)\u001B[0m\n\u001B[1;32m   1430\u001B[0m \u001B[38;5;28;01mif\u001B[39;00m got_first_val:\n\u001B[0;32m-> 1431\u001B[0m     \u001B[38;5;28;01myield from\u001B[39;00m \u001B[38;5;28mself\u001B[39m\u001B[38;5;241m.\u001B[39mstream(final, config, \u001B[38;5;241m*\u001B[39m\u001B[38;5;241m*\u001B[39mkwargs)\n",
      "File \u001B[0;32m~/Dev/Anaconda/anaconda3/envs/langchain_env/lib/python3.10/site-packages/langchain_core/runnables/base.py:998\u001B[0m, in \u001B[0;36mRunnable.stream\u001B[0;34m(self, input, config, **kwargs)\u001B[0m\n\u001B[1;32m    986\u001B[0m \u001B[38;5;250m\u001B[39m\u001B[38;5;124;03m\"\"\"\u001B[39;00m\n\u001B[1;32m    987\u001B[0m \u001B[38;5;124;03mDefault implementation of stream, which calls invoke.\u001B[39;00m\n\u001B[1;32m    988\u001B[0m \u001B[38;5;124;03mSubclasses should override this method if they support streaming output.\u001B[39;00m\n\u001B[0;32m   (...)\u001B[0m\n\u001B[1;32m    996\u001B[0m \u001B[38;5;124;03m    The output of the Runnable.\u001B[39;00m\n\u001B[1;32m    997\u001B[0m \u001B[38;5;124;03m\"\"\"\u001B[39;00m\n\u001B[0;32m--> 998\u001B[0m \u001B[38;5;28;01myield\u001B[39;00m \u001B[38;5;28;43mself\u001B[39;49m\u001B[38;5;241;43m.\u001B[39;49m\u001B[43minvoke\u001B[49m\u001B[43m(\u001B[49m\u001B[38;5;28;43minput\u001B[39;49m\u001B[43m,\u001B[49m\u001B[43m \u001B[49m\u001B[43mconfig\u001B[49m\u001B[43m,\u001B[49m\u001B[43m \u001B[49m\u001B[38;5;241;43m*\u001B[39;49m\u001B[38;5;241;43m*\u001B[39;49m\u001B[43mkwargs\u001B[49m\u001B[43m)\u001B[49m\n",
      "File \u001B[0;32m~/Dev/Anaconda/anaconda3/envs/langchain_env/lib/python3.10/site-packages/langchain_core/output_parsers/base.py:193\u001B[0m, in \u001B[0;36mBaseOutputParser.invoke\u001B[0;34m(self, input, config, **kwargs)\u001B[0m\n\u001B[1;32m    192\u001B[0m \u001B[38;5;28;01mif\u001B[39;00m \u001B[38;5;28misinstance\u001B[39m(\u001B[38;5;28minput\u001B[39m, BaseMessage):\n\u001B[0;32m--> 193\u001B[0m     \u001B[38;5;28;01mreturn\u001B[39;00m \u001B[38;5;28;43mself\u001B[39;49m\u001B[38;5;241;43m.\u001B[39;49m\u001B[43m_call_with_config\u001B[49m\u001B[43m(\u001B[49m\n\u001B[1;32m    194\u001B[0m \u001B[43m        \u001B[49m\u001B[38;5;28;43;01mlambda\u001B[39;49;00m\u001B[43m \u001B[49m\u001B[43minner_input\u001B[49m\u001B[43m:\u001B[49m\u001B[43m \u001B[49m\u001B[38;5;28;43mself\u001B[39;49m\u001B[38;5;241;43m.\u001B[39;49m\u001B[43mparse_result\u001B[49m\u001B[43m(\u001B[49m\n\u001B[1;32m    195\u001B[0m \u001B[43m            \u001B[49m\u001B[43m[\u001B[49m\u001B[43mChatGeneration\u001B[49m\u001B[43m(\u001B[49m\u001B[43mmessage\u001B[49m\u001B[38;5;241;43m=\u001B[39;49m\u001B[43minner_input\u001B[49m\u001B[43m)\u001B[49m\u001B[43m]\u001B[49m\n\u001B[1;32m    196\u001B[0m \u001B[43m        \u001B[49m\u001B[43m)\u001B[49m\u001B[43m,\u001B[49m\n\u001B[1;32m    197\u001B[0m \u001B[43m        \u001B[49m\u001B[38;5;28;43minput\u001B[39;49m\u001B[43m,\u001B[49m\n\u001B[1;32m    198\u001B[0m \u001B[43m        \u001B[49m\u001B[43mconfig\u001B[49m\u001B[43m,\u001B[49m\n\u001B[1;32m    199\u001B[0m \u001B[43m        \u001B[49m\u001B[43mrun_type\u001B[49m\u001B[38;5;241;43m=\u001B[39;49m\u001B[38;5;124;43m\"\u001B[39;49m\u001B[38;5;124;43mparser\u001B[39;49m\u001B[38;5;124;43m\"\u001B[39;49m\u001B[43m,\u001B[49m\n\u001B[1;32m    200\u001B[0m \u001B[43m    \u001B[49m\u001B[43m)\u001B[49m\n\u001B[1;32m    201\u001B[0m \u001B[38;5;28;01melse\u001B[39;00m:\n",
      "File \u001B[0;32m~/Dev/Anaconda/anaconda3/envs/langchain_env/lib/python3.10/site-packages/langchain_core/runnables/base.py:1927\u001B[0m, in \u001B[0;36mRunnable._call_with_config\u001B[0;34m(self, func, input, config, run_type, serialized, **kwargs)\u001B[0m\n\u001B[1;32m   1924\u001B[0m     context\u001B[38;5;241m.\u001B[39mrun(_set_config_context, child_config)\n\u001B[1;32m   1925\u001B[0m     output \u001B[38;5;241m=\u001B[39m cast(\n\u001B[1;32m   1926\u001B[0m         Output,\n\u001B[0;32m-> 1927\u001B[0m         \u001B[43mcontext\u001B[49m\u001B[38;5;241;43m.\u001B[39;49m\u001B[43mrun\u001B[49m\u001B[43m(\u001B[49m\n\u001B[1;32m   1928\u001B[0m \u001B[43m            \u001B[49m\u001B[43mcall_func_with_variable_args\u001B[49m\u001B[43m,\u001B[49m\u001B[43m  \u001B[49m\u001B[38;5;66;43;03m# type: ignore[arg-type]\u001B[39;49;00m\n\u001B[1;32m   1929\u001B[0m \u001B[43m            \u001B[49m\u001B[43mfunc\u001B[49m\u001B[43m,\u001B[49m\u001B[43m  \u001B[49m\u001B[38;5;66;43;03m# type: ignore[arg-type]\u001B[39;49;00m\n\u001B[1;32m   1930\u001B[0m \u001B[43m            \u001B[49m\u001B[38;5;28;43minput\u001B[39;49m\u001B[43m,\u001B[49m\u001B[43m  \u001B[49m\u001B[38;5;66;43;03m# type: ignore[arg-type]\u001B[39;49;00m\n\u001B[1;32m   1931\u001B[0m \u001B[43m            \u001B[49m\u001B[43mconfig\u001B[49m\u001B[43m,\u001B[49m\n\u001B[1;32m   1932\u001B[0m \u001B[43m            \u001B[49m\u001B[43mrun_manager\u001B[49m\u001B[43m,\u001B[49m\n\u001B[1;32m   1933\u001B[0m \u001B[43m            \u001B[49m\u001B[38;5;241;43m*\u001B[39;49m\u001B[38;5;241;43m*\u001B[39;49m\u001B[43mkwargs\u001B[49m\u001B[43m,\u001B[49m\n\u001B[1;32m   1934\u001B[0m \u001B[43m        \u001B[49m\u001B[43m)\u001B[49m,\n\u001B[1;32m   1935\u001B[0m     )\n\u001B[1;32m   1936\u001B[0m \u001B[38;5;28;01mexcept\u001B[39;00m \u001B[38;5;167;01mBaseException\u001B[39;00m \u001B[38;5;28;01mas\u001B[39;00m e:\n",
      "File \u001B[0;32m~/Dev/Anaconda/anaconda3/envs/langchain_env/lib/python3.10/site-packages/langchain_core/runnables/config.py:396\u001B[0m, in \u001B[0;36mcall_func_with_variable_args\u001B[0;34m(func, input, config, run_manager, **kwargs)\u001B[0m\n\u001B[1;32m    395\u001B[0m     kwargs[\u001B[38;5;124m\"\u001B[39m\u001B[38;5;124mrun_manager\u001B[39m\u001B[38;5;124m\"\u001B[39m] \u001B[38;5;241m=\u001B[39m run_manager\n\u001B[0;32m--> 396\u001B[0m \u001B[38;5;28;01mreturn\u001B[39;00m \u001B[43mfunc\u001B[49m\u001B[43m(\u001B[49m\u001B[38;5;28;43minput\u001B[39;49m\u001B[43m,\u001B[49m\u001B[43m \u001B[49m\u001B[38;5;241;43m*\u001B[39;49m\u001B[38;5;241;43m*\u001B[39;49m\u001B[43mkwargs\u001B[49m\u001B[43m)\u001B[49m\n",
      "File \u001B[0;32m~/Dev/Anaconda/anaconda3/envs/langchain_env/lib/python3.10/site-packages/langchain_core/output_parsers/base.py:194\u001B[0m, in \u001B[0;36mBaseOutputParser.invoke.<locals>.<lambda>\u001B[0;34m(inner_input)\u001B[0m\n\u001B[1;32m    192\u001B[0m \u001B[38;5;28;01mif\u001B[39;00m \u001B[38;5;28misinstance\u001B[39m(\u001B[38;5;28minput\u001B[39m, BaseMessage):\n\u001B[1;32m    193\u001B[0m     \u001B[38;5;28;01mreturn\u001B[39;00m \u001B[38;5;28mself\u001B[39m\u001B[38;5;241m.\u001B[39m_call_with_config(\n\u001B[0;32m--> 194\u001B[0m         \u001B[38;5;28;01mlambda\u001B[39;00m inner_input: \u001B[38;5;28;43mself\u001B[39;49m\u001B[38;5;241;43m.\u001B[39;49m\u001B[43mparse_result\u001B[49m\u001B[43m(\u001B[49m\n\u001B[1;32m    195\u001B[0m \u001B[43m            \u001B[49m\u001B[43m[\u001B[49m\u001B[43mChatGeneration\u001B[49m\u001B[43m(\u001B[49m\u001B[43mmessage\u001B[49m\u001B[38;5;241;43m=\u001B[39;49m\u001B[43minner_input\u001B[49m\u001B[43m)\u001B[49m\u001B[43m]\u001B[49m\n\u001B[1;32m    196\u001B[0m \u001B[43m        \u001B[49m\u001B[43m)\u001B[49m,\n\u001B[1;32m    197\u001B[0m         \u001B[38;5;28minput\u001B[39m,\n\u001B[1;32m    198\u001B[0m         config,\n\u001B[1;32m    199\u001B[0m         run_type\u001B[38;5;241m=\u001B[39m\u001B[38;5;124m\"\u001B[39m\u001B[38;5;124mparser\u001B[39m\u001B[38;5;124m\"\u001B[39m,\n\u001B[1;32m    200\u001B[0m     )\n\u001B[1;32m    201\u001B[0m \u001B[38;5;28;01melse\u001B[39;00m:\n",
      "File \u001B[0;32m~/Dev/Anaconda/anaconda3/envs/langchain_env/lib/python3.10/site-packages/langchain_core/output_parsers/base.py:247\u001B[0m, in \u001B[0;36mBaseOutputParser.parse_result\u001B[0;34m(self, result, partial)\u001B[0m\n\u001B[1;32m    233\u001B[0m \u001B[38;5;250m\u001B[39m\u001B[38;5;124;03m\"\"\"Parse a list of candidate model Generations into a specific format.\u001B[39;00m\n\u001B[1;32m    234\u001B[0m \n\u001B[1;32m    235\u001B[0m \u001B[38;5;124;03mThe return value is parsed from only the first Generation in the result, which\u001B[39;00m\n\u001B[0;32m   (...)\u001B[0m\n\u001B[1;32m    245\u001B[0m \u001B[38;5;124;03m    Structured output.\u001B[39;00m\n\u001B[1;32m    246\u001B[0m \u001B[38;5;124;03m\"\"\"\u001B[39;00m\n\u001B[0;32m--> 247\u001B[0m \u001B[38;5;28;01mreturn\u001B[39;00m \u001B[38;5;28;43mself\u001B[39;49m\u001B[38;5;241;43m.\u001B[39;49m\u001B[43mparse\u001B[49m\u001B[43m(\u001B[49m\u001B[43mresult\u001B[49m\u001B[43m[\u001B[49m\u001B[38;5;241;43m0\u001B[39;49m\u001B[43m]\u001B[49m\u001B[38;5;241;43m.\u001B[39;49m\u001B[43mtext\u001B[49m\u001B[43m)\u001B[49m\n",
      "File \u001B[0;32m~/Dev/Anaconda/anaconda3/envs/langchain_env/lib/python3.10/site-packages/langchain/agents/output_parsers/react_single_input.py:75\u001B[0m, in \u001B[0;36mReActSingleInputOutputParser.parse\u001B[0;34m(self, text)\u001B[0m\n\u001B[1;32m     74\u001B[0m \u001B[38;5;28;01mif\u001B[39;00m \u001B[38;5;129;01mnot\u001B[39;00m re\u001B[38;5;241m.\u001B[39msearch(\u001B[38;5;124mr\u001B[39m\u001B[38;5;124m\"\u001B[39m\u001B[38;5;124mAction\u001B[39m\u001B[38;5;124m\\\u001B[39m\u001B[38;5;124ms*\u001B[39m\u001B[38;5;124m\\\u001B[39m\u001B[38;5;124md*\u001B[39m\u001B[38;5;124m\\\u001B[39m\u001B[38;5;124ms*:[\u001B[39m\u001B[38;5;124m\\\u001B[39m\u001B[38;5;124ms]*(.*?)\u001B[39m\u001B[38;5;124m\"\u001B[39m, text, re\u001B[38;5;241m.\u001B[39mDOTALL):\n\u001B[0;32m---> 75\u001B[0m     \u001B[38;5;28;01mraise\u001B[39;00m OutputParserException(\n\u001B[1;32m     76\u001B[0m         \u001B[38;5;124mf\u001B[39m\u001B[38;5;124m\"\u001B[39m\u001B[38;5;124mCould not parse LLM output: `\u001B[39m\u001B[38;5;132;01m{\u001B[39;00mtext\u001B[38;5;132;01m}\u001B[39;00m\u001B[38;5;124m`\u001B[39m\u001B[38;5;124m\"\u001B[39m,\n\u001B[1;32m     77\u001B[0m         observation\u001B[38;5;241m=\u001B[39mMISSING_ACTION_AFTER_THOUGHT_ERROR_MESSAGE,\n\u001B[1;32m     78\u001B[0m         llm_output\u001B[38;5;241m=\u001B[39mtext,\n\u001B[1;32m     79\u001B[0m         send_to_llm\u001B[38;5;241m=\u001B[39m\u001B[38;5;28;01mTrue\u001B[39;00m,\n\u001B[1;32m     80\u001B[0m     )\n\u001B[1;32m     81\u001B[0m \u001B[38;5;28;01melif\u001B[39;00m \u001B[38;5;129;01mnot\u001B[39;00m re\u001B[38;5;241m.\u001B[39msearch(\n\u001B[1;32m     82\u001B[0m     \u001B[38;5;124mr\u001B[39m\u001B[38;5;124m\"\u001B[39m\u001B[38;5;124m[\u001B[39m\u001B[38;5;124m\\\u001B[39m\u001B[38;5;124ms]*Action\u001B[39m\u001B[38;5;124m\\\u001B[39m\u001B[38;5;124ms*\u001B[39m\u001B[38;5;124m\\\u001B[39m\u001B[38;5;124md*\u001B[39m\u001B[38;5;124m\\\u001B[39m\u001B[38;5;124ms*Input\u001B[39m\u001B[38;5;124m\\\u001B[39m\u001B[38;5;124ms*\u001B[39m\u001B[38;5;124m\\\u001B[39m\u001B[38;5;124md*\u001B[39m\u001B[38;5;124m\\\u001B[39m\u001B[38;5;124ms*:[\u001B[39m\u001B[38;5;124m\\\u001B[39m\u001B[38;5;124ms]*(.*)\u001B[39m\u001B[38;5;124m\"\u001B[39m, text, re\u001B[38;5;241m.\u001B[39mDOTALL\n\u001B[1;32m     83\u001B[0m ):\n",
      "\u001B[0;31mOutputParserException\u001B[0m: Could not parse LLM output: `I don't know.`\nFor troubleshooting, visit: https://python.langchain.com/docs/troubleshooting/errors/OUTPUT_PARSING_FAILURE ",
      "\nDuring handling of the above exception, another exception occurred:\n",
      "\u001B[0;31mValueError\u001B[0m                                Traceback (most recent call last)",
      "Cell \u001B[0;32mIn[43], line 12\u001B[0m\n\u001B[1;32m      1\u001B[0m llm \u001B[38;5;241m=\u001B[39m ChatOpenAI(model\u001B[38;5;241m=\u001B[39m\u001B[38;5;124m\"\u001B[39m\u001B[38;5;124mgpt-4o-mini\u001B[39m\u001B[38;5;124m\"\u001B[39m)\n\u001B[1;32m      3\u001B[0m agent_executor \u001B[38;5;241m=\u001B[39m create_sql_agent(\n\u001B[1;32m      4\u001B[0m     prefix\u001B[38;5;241m=\u001B[39mprompt_prefix,\n\u001B[1;32m      5\u001B[0m     format_instructions \u001B[38;5;241m=\u001B[39m prompt_format_instructions,\n\u001B[0;32m   (...)\u001B[0m\n\u001B[1;32m      9\u001B[0m     top_k\u001B[38;5;241m=\u001B[39m\u001B[38;5;241m10\u001B[39m\n\u001B[1;32m     10\u001B[0m )\n\u001B[0;32m---> 12\u001B[0m result \u001B[38;5;241m=\u001B[39m \u001B[43magent_executor\u001B[49m\u001B[38;5;241;43m.\u001B[39;49m\u001B[43minvoke\u001B[49m\u001B[43m(\u001B[49m\u001B[38;5;124;43m\"\u001B[39;49m\u001B[38;5;124;43mWhat are the top 5 best-selling albums and their artists?\u001B[39;49m\u001B[38;5;124;43m\"\u001B[39;49m\u001B[43m)\u001B[49m\n",
      "File \u001B[0;32m~/Dev/Anaconda/anaconda3/envs/langchain_env/lib/python3.10/site-packages/langchain/chains/base.py:170\u001B[0m, in \u001B[0;36mChain.invoke\u001B[0;34m(self, input, config, **kwargs)\u001B[0m\n\u001B[1;32m    168\u001B[0m \u001B[38;5;28;01mexcept\u001B[39;00m \u001B[38;5;167;01mBaseException\u001B[39;00m \u001B[38;5;28;01mas\u001B[39;00m e:\n\u001B[1;32m    169\u001B[0m     run_manager\u001B[38;5;241m.\u001B[39mon_chain_error(e)\n\u001B[0;32m--> 170\u001B[0m     \u001B[38;5;28;01mraise\u001B[39;00m e\n\u001B[1;32m    171\u001B[0m run_manager\u001B[38;5;241m.\u001B[39mon_chain_end(outputs)\n\u001B[1;32m    173\u001B[0m \u001B[38;5;28;01mif\u001B[39;00m include_run_info:\n",
      "File \u001B[0;32m~/Dev/Anaconda/anaconda3/envs/langchain_env/lib/python3.10/site-packages/langchain/chains/base.py:160\u001B[0m, in \u001B[0;36mChain.invoke\u001B[0;34m(self, input, config, **kwargs)\u001B[0m\n\u001B[1;32m    157\u001B[0m \u001B[38;5;28;01mtry\u001B[39;00m:\n\u001B[1;32m    158\u001B[0m     \u001B[38;5;28mself\u001B[39m\u001B[38;5;241m.\u001B[39m_validate_inputs(inputs)\n\u001B[1;32m    159\u001B[0m     outputs \u001B[38;5;241m=\u001B[39m (\n\u001B[0;32m--> 160\u001B[0m         \u001B[38;5;28;43mself\u001B[39;49m\u001B[38;5;241;43m.\u001B[39;49m\u001B[43m_call\u001B[49m\u001B[43m(\u001B[49m\u001B[43minputs\u001B[49m\u001B[43m,\u001B[49m\u001B[43m \u001B[49m\u001B[43mrun_manager\u001B[49m\u001B[38;5;241;43m=\u001B[39;49m\u001B[43mrun_manager\u001B[49m\u001B[43m)\u001B[49m\n\u001B[1;32m    161\u001B[0m         \u001B[38;5;28;01mif\u001B[39;00m new_arg_supported\n\u001B[1;32m    162\u001B[0m         \u001B[38;5;28;01melse\u001B[39;00m \u001B[38;5;28mself\u001B[39m\u001B[38;5;241m.\u001B[39m_call(inputs)\n\u001B[1;32m    163\u001B[0m     )\n\u001B[1;32m    165\u001B[0m     final_outputs: Dict[\u001B[38;5;28mstr\u001B[39m, Any] \u001B[38;5;241m=\u001B[39m \u001B[38;5;28mself\u001B[39m\u001B[38;5;241m.\u001B[39mprep_outputs(\n\u001B[1;32m    166\u001B[0m         inputs, outputs, return_only_outputs\n\u001B[1;32m    167\u001B[0m     )\n\u001B[1;32m    168\u001B[0m \u001B[38;5;28;01mexcept\u001B[39;00m \u001B[38;5;167;01mBaseException\u001B[39;00m \u001B[38;5;28;01mas\u001B[39;00m e:\n",
      "File \u001B[0;32m~/Dev/Anaconda/anaconda3/envs/langchain_env/lib/python3.10/site-packages/langchain/agents/agent.py:1624\u001B[0m, in \u001B[0;36mAgentExecutor._call\u001B[0;34m(self, inputs, run_manager)\u001B[0m\n\u001B[1;32m   1622\u001B[0m \u001B[38;5;66;03m# We now enter the agent loop (until it returns something).\u001B[39;00m\n\u001B[1;32m   1623\u001B[0m \u001B[38;5;28;01mwhile\u001B[39;00m \u001B[38;5;28mself\u001B[39m\u001B[38;5;241m.\u001B[39m_should_continue(iterations, time_elapsed):\n\u001B[0;32m-> 1624\u001B[0m     next_step_output \u001B[38;5;241m=\u001B[39m \u001B[38;5;28;43mself\u001B[39;49m\u001B[38;5;241;43m.\u001B[39;49m\u001B[43m_take_next_step\u001B[49m\u001B[43m(\u001B[49m\n\u001B[1;32m   1625\u001B[0m \u001B[43m        \u001B[49m\u001B[43mname_to_tool_map\u001B[49m\u001B[43m,\u001B[49m\n\u001B[1;32m   1626\u001B[0m \u001B[43m        \u001B[49m\u001B[43mcolor_mapping\u001B[49m\u001B[43m,\u001B[49m\n\u001B[1;32m   1627\u001B[0m \u001B[43m        \u001B[49m\u001B[43minputs\u001B[49m\u001B[43m,\u001B[49m\n\u001B[1;32m   1628\u001B[0m \u001B[43m        \u001B[49m\u001B[43mintermediate_steps\u001B[49m\u001B[43m,\u001B[49m\n\u001B[1;32m   1629\u001B[0m \u001B[43m        \u001B[49m\u001B[43mrun_manager\u001B[49m\u001B[38;5;241;43m=\u001B[39;49m\u001B[43mrun_manager\u001B[49m\u001B[43m,\u001B[49m\n\u001B[1;32m   1630\u001B[0m \u001B[43m    \u001B[49m\u001B[43m)\u001B[49m\n\u001B[1;32m   1631\u001B[0m     \u001B[38;5;28;01mif\u001B[39;00m \u001B[38;5;28misinstance\u001B[39m(next_step_output, AgentFinish):\n\u001B[1;32m   1632\u001B[0m         \u001B[38;5;28;01mreturn\u001B[39;00m \u001B[38;5;28mself\u001B[39m\u001B[38;5;241m.\u001B[39m_return(\n\u001B[1;32m   1633\u001B[0m             next_step_output, intermediate_steps, run_manager\u001B[38;5;241m=\u001B[39mrun_manager\n\u001B[1;32m   1634\u001B[0m         )\n",
      "File \u001B[0;32m~/Dev/Anaconda/anaconda3/envs/langchain_env/lib/python3.10/site-packages/langchain/agents/agent.py:1330\u001B[0m, in \u001B[0;36mAgentExecutor._take_next_step\u001B[0;34m(self, name_to_tool_map, color_mapping, inputs, intermediate_steps, run_manager)\u001B[0m\n\u001B[1;32m   1321\u001B[0m \u001B[38;5;28;01mdef\u001B[39;00m\u001B[38;5;250m \u001B[39m\u001B[38;5;21m_take_next_step\u001B[39m(\n\u001B[1;32m   1322\u001B[0m     \u001B[38;5;28mself\u001B[39m,\n\u001B[1;32m   1323\u001B[0m     name_to_tool_map: Dict[\u001B[38;5;28mstr\u001B[39m, BaseTool],\n\u001B[0;32m   (...)\u001B[0m\n\u001B[1;32m   1327\u001B[0m     run_manager: Optional[CallbackManagerForChainRun] \u001B[38;5;241m=\u001B[39m \u001B[38;5;28;01mNone\u001B[39;00m,\n\u001B[1;32m   1328\u001B[0m ) \u001B[38;5;241m-\u001B[39m\u001B[38;5;241m>\u001B[39m Union[AgentFinish, List[Tuple[AgentAction, \u001B[38;5;28mstr\u001B[39m]]]:\n\u001B[1;32m   1329\u001B[0m     \u001B[38;5;28;01mreturn\u001B[39;00m \u001B[38;5;28mself\u001B[39m\u001B[38;5;241m.\u001B[39m_consume_next_step(\n\u001B[0;32m-> 1330\u001B[0m         [\n\u001B[1;32m   1331\u001B[0m             a\n\u001B[1;32m   1332\u001B[0m             \u001B[38;5;28;01mfor\u001B[39;00m a \u001B[38;5;129;01min\u001B[39;00m \u001B[38;5;28mself\u001B[39m\u001B[38;5;241m.\u001B[39m_iter_next_step(\n\u001B[1;32m   1333\u001B[0m                 name_to_tool_map,\n\u001B[1;32m   1334\u001B[0m                 color_mapping,\n\u001B[1;32m   1335\u001B[0m                 inputs,\n\u001B[1;32m   1336\u001B[0m                 intermediate_steps,\n\u001B[1;32m   1337\u001B[0m                 run_manager,\n\u001B[1;32m   1338\u001B[0m             )\n\u001B[1;32m   1339\u001B[0m         ]\n\u001B[1;32m   1340\u001B[0m     )\n",
      "File \u001B[0;32m~/Dev/Anaconda/anaconda3/envs/langchain_env/lib/python3.10/site-packages/langchain/agents/agent.py:1330\u001B[0m, in \u001B[0;36m<listcomp>\u001B[0;34m(.0)\u001B[0m\n\u001B[1;32m   1321\u001B[0m \u001B[38;5;28;01mdef\u001B[39;00m\u001B[38;5;250m \u001B[39m\u001B[38;5;21m_take_next_step\u001B[39m(\n\u001B[1;32m   1322\u001B[0m     \u001B[38;5;28mself\u001B[39m,\n\u001B[1;32m   1323\u001B[0m     name_to_tool_map: Dict[\u001B[38;5;28mstr\u001B[39m, BaseTool],\n\u001B[0;32m   (...)\u001B[0m\n\u001B[1;32m   1327\u001B[0m     run_manager: Optional[CallbackManagerForChainRun] \u001B[38;5;241m=\u001B[39m \u001B[38;5;28;01mNone\u001B[39;00m,\n\u001B[1;32m   1328\u001B[0m ) \u001B[38;5;241m-\u001B[39m\u001B[38;5;241m>\u001B[39m Union[AgentFinish, List[Tuple[AgentAction, \u001B[38;5;28mstr\u001B[39m]]]:\n\u001B[1;32m   1329\u001B[0m     \u001B[38;5;28;01mreturn\u001B[39;00m \u001B[38;5;28mself\u001B[39m\u001B[38;5;241m.\u001B[39m_consume_next_step(\n\u001B[0;32m-> 1330\u001B[0m         [\n\u001B[1;32m   1331\u001B[0m             a\n\u001B[1;32m   1332\u001B[0m             \u001B[38;5;28;01mfor\u001B[39;00m a \u001B[38;5;129;01min\u001B[39;00m \u001B[38;5;28mself\u001B[39m\u001B[38;5;241m.\u001B[39m_iter_next_step(\n\u001B[1;32m   1333\u001B[0m                 name_to_tool_map,\n\u001B[1;32m   1334\u001B[0m                 color_mapping,\n\u001B[1;32m   1335\u001B[0m                 inputs,\n\u001B[1;32m   1336\u001B[0m                 intermediate_steps,\n\u001B[1;32m   1337\u001B[0m                 run_manager,\n\u001B[1;32m   1338\u001B[0m             )\n\u001B[1;32m   1339\u001B[0m         ]\n\u001B[1;32m   1340\u001B[0m     )\n",
      "File \u001B[0;32m~/Dev/Anaconda/anaconda3/envs/langchain_env/lib/python3.10/site-packages/langchain/agents/agent.py:1369\u001B[0m, in \u001B[0;36mAgentExecutor._iter_next_step\u001B[0;34m(self, name_to_tool_map, color_mapping, inputs, intermediate_steps, run_manager)\u001B[0m\n\u001B[1;32m   1367\u001B[0m     raise_error \u001B[38;5;241m=\u001B[39m \u001B[38;5;28;01mFalse\u001B[39;00m\n\u001B[1;32m   1368\u001B[0m \u001B[38;5;28;01mif\u001B[39;00m raise_error:\n\u001B[0;32m-> 1369\u001B[0m     \u001B[38;5;28;01mraise\u001B[39;00m \u001B[38;5;167;01mValueError\u001B[39;00m(\n\u001B[1;32m   1370\u001B[0m         \u001B[38;5;124m\"\u001B[39m\u001B[38;5;124mAn output parsing error occurred. \u001B[39m\u001B[38;5;124m\"\u001B[39m\n\u001B[1;32m   1371\u001B[0m         \u001B[38;5;124m\"\u001B[39m\u001B[38;5;124mIn order to pass this error back to the agent and have it try \u001B[39m\u001B[38;5;124m\"\u001B[39m\n\u001B[1;32m   1372\u001B[0m         \u001B[38;5;124m\"\u001B[39m\u001B[38;5;124magain, pass `handle_parsing_errors=True` to the AgentExecutor. \u001B[39m\u001B[38;5;124m\"\u001B[39m\n\u001B[1;32m   1373\u001B[0m         \u001B[38;5;124mf\u001B[39m\u001B[38;5;124m\"\u001B[39m\u001B[38;5;124mThis is the error: \u001B[39m\u001B[38;5;132;01m{\u001B[39;00m\u001B[38;5;28mstr\u001B[39m(e)\u001B[38;5;132;01m}\u001B[39;00m\u001B[38;5;124m\"\u001B[39m\n\u001B[1;32m   1374\u001B[0m     )\n\u001B[1;32m   1375\u001B[0m text \u001B[38;5;241m=\u001B[39m \u001B[38;5;28mstr\u001B[39m(e)\n\u001B[1;32m   1376\u001B[0m \u001B[38;5;28;01mif\u001B[39;00m \u001B[38;5;28misinstance\u001B[39m(\u001B[38;5;28mself\u001B[39m\u001B[38;5;241m.\u001B[39mhandle_parsing_errors, \u001B[38;5;28mbool\u001B[39m):\n",
      "\u001B[0;31mValueError\u001B[0m: An output parsing error occurred. In order to pass this error back to the agent and have it try again, pass `handle_parsing_errors=True` to the AgentExecutor. This is the error: Could not parse LLM output: `I don't know.`\nFor troubleshooting, visit: https://python.langchain.com/docs/troubleshooting/errors/OUTPUT_PARSING_FAILURE "
     ]
    }
   ],
   "source": [
    "# llm = ChatOpenAI(model=\"gpt-4o-mini\")\n",
    "llm = ChatOpenAI(model=\"gpt-4o-mini\")  # expensive!\n",
    "\n",
    "agent_executor = create_sql_agent(\n",
    "    prefix=prompt_prefix,\n",
    "    format_instructions=prompt_format_instructions,\n",
    "    llm=llm,\n",
    "    toolkit=toolkit,\n",
    "    verbose=True,\n",
    "    top_k=10\n",
    ")\n",
    "\n",
    "result = agent_executor.invoke(\"What are the top 5 best-selling albums and their artists?\")"
   ],
   "metadata": {
    "collapsed": false,
    "ExecuteTime": {
     "end_time": "2025-01-22T05:28:56.252604Z",
     "start_time": "2025-01-22T05:28:02.425170Z"
    }
   },
   "id": "d99a4d72ac7c6523",
   "execution_count": 43
  },
  {
   "cell_type": "code",
   "outputs": [],
   "source": [
    "create_sql_agent?"
   ],
   "metadata": {
    "collapsed": false,
    "ExecuteTime": {
     "end_time": "2025-01-22T05:29:56.282670Z",
     "start_time": "2025-01-22T05:29:56.278787Z"
    }
   },
   "id": "bcb8df4a36ded0e",
   "execution_count": 45
  },
  {
   "cell_type": "code",
   "outputs": [
    {
     "data": {
      "text/plain": "<IPython.core.display.Markdown object>",
      "text/markdown": "The top 5 best-selling albums and their artists are:\n\n1. 'Minha Historia' by 'Chico Buarque' with 27 units sold\n2. 'Greatest Hits' by 'Lenny Kravitz' with 26 units sold\n3. 'Unplugged' by 'Eric Clapton' with 25 units sold\n4. 'Acústico' by 'Titãs' with 22 units sold\n5. 'Greatest Kiss' by 'Kiss' with 20 units sold\n\nExplanation:\n\nI joined the albums, artists, tracks, and invoice_items tables on their respective keys. This allowed me to access the Title (album name), Name (artist name), and Quantity (units sold) columns from these tables. Then I grouped the records by the album and artist and calculated the sum of the Quantity column for each group. I ordered them in descending order by the total quantity sold and limited the SELECT to the top 5.\n\n```sql\nSELECT a.Title AS album, ar.Name AS artist, SUM(ii.Quantity) AS total_sold \nFROM albums a \nJOIN artists ar ON a.ArtistId = ar.ArtistId \nJOIN tracks t ON a.AlbumId = t.AlbumId \nJOIN invoice_items ii ON t.TrackId = ii.TrackId \nGROUP BY a.AlbumId, ar.ArtistId \nORDER BY total_sold DESC \nLIMIT 5;\n```"
     },
     "metadata": {},
     "output_type": "display_data"
    }
   ],
   "source": [
    "from IPython.display import Markdown, HTML, display\n",
    "\n",
    "\n",
    "def printmd(string):\n",
    "    display(Markdown(string))\n",
    "\n",
    "\n",
    "printmd(result['output'])"
   ],
   "metadata": {
    "collapsed": false,
    "ExecuteTime": {
     "end_time": "2025-01-22T05:30:22.383187Z",
     "start_time": "2025-01-22T05:30:22.378084Z"
    }
   },
   "id": "7d805aa9d42eec09",
   "execution_count": 47
  },
  {
   "cell_type": "code",
   "outputs": [
    {
     "data": {
      "text/plain": "[ReadFileTool(root_dir='/Users/oliverjoo/Dev/Pycharm/LLM-LangChain/for_LLM_AI'),\n WriteFileTool(root_dir='/Users/oliverjoo/Dev/Pycharm/LLM-LangChain/for_LLM_AI'),\n ListDirectoryTool(root_dir='/Users/oliverjoo/Dev/Pycharm/LLM-LangChain/for_LLM_AI'),\n PythonREPLTool(python_repl=PythonREPL(globals={'__name__': 'langchain_experimental.tools.python.tool', '__doc__': 'A tool for running python code in a REPL.', '__package__': 'langchain_experimental.tools.python', '__loader__': <_frozen_importlib_external.SourceFileLoader object at 0x11d5c0c40>, '__spec__': ModuleSpec(name='langchain_experimental.tools.python.tool', loader=<_frozen_importlib_external.SourceFileLoader object at 0x11d5c0c40>, origin='/Users/oliverjoo/Dev/Anaconda/anaconda3/envs/langchain_env/lib/python3.10/site-packages/langchain_experimental/tools/python/tool.py'), '__file__': '/Users/oliverjoo/Dev/Anaconda/anaconda3/envs/langchain_env/lib/python3.10/site-packages/langchain_experimental/tools/python/tool.py', '__cached__': '/Users/oliverjoo/Dev/Anaconda/anaconda3/envs/langchain_env/lib/python3.10/site-packages/langchain_experimental/tools/python/__pycache__/tool.cpython-310.pyc', '__builtins__': {'__name__': 'builtins', '__doc__': \"Built-in functions, exceptions, and other objects.\\n\\nNoteworthy: None is the `nil' object; Ellipsis represents `...' in slices.\", '__package__': '', '__loader__': <class '_frozen_importlib.BuiltinImporter'>, '__spec__': ModuleSpec(name='builtins', loader=<class '_frozen_importlib.BuiltinImporter'>, origin='built-in'), '__build_class__': <built-in function __build_class__>, '__import__': <built-in function __import__>, 'abs': <built-in function abs>, 'all': <built-in function all>, 'any': <built-in function any>, 'ascii': <built-in function ascii>, 'bin': <built-in function bin>, 'breakpoint': <built-in function breakpoint>, 'callable': <built-in function callable>, 'chr': <built-in function chr>, 'compile': <built-in function compile>, 'delattr': <built-in function delattr>, 'dir': <built-in function dir>, 'divmod': <built-in function divmod>, 'eval': <built-in function eval>, 'exec': <built-in function exec>, 'format': <built-in function format>, 'getattr': <built-in function getattr>, 'globals': <built-in function globals>, 'hasattr': <built-in function hasattr>, 'hash': <built-in function hash>, 'hex': <built-in function hex>, 'id': <built-in function id>, 'input': <bound method Kernel.raw_input of <ipykernel.ipkernel.IPythonKernel object at 0x10307ff40>>, 'isinstance': <built-in function isinstance>, 'issubclass': <built-in function issubclass>, 'iter': <built-in function iter>, 'aiter': <built-in function aiter>, 'len': <built-in function len>, 'locals': <built-in function locals>, 'max': <built-in function max>, 'min': <built-in function min>, 'next': <built-in function next>, 'anext': <built-in function anext>, 'oct': <built-in function oct>, 'ord': <built-in function ord>, 'pow': <built-in function pow>, 'print': <built-in function print>, 'repr': <built-in function repr>, 'round': <built-in function round>, 'setattr': <built-in function setattr>, 'sorted': <built-in function sorted>, 'sum': <built-in function sum>, 'vars': <built-in function vars>, 'None': None, 'Ellipsis': Ellipsis, 'NotImplemented': NotImplemented, 'False': False, 'True': True, 'bool': <class 'bool'>, 'memoryview': <class 'memoryview'>, 'bytearray': <class 'bytearray'>, 'bytes': <class 'bytes'>, 'classmethod': <class 'classmethod'>, 'complex': <class 'complex'>, 'dict': <class 'dict'>, 'enumerate': <class 'enumerate'>, 'filter': <class 'filter'>, 'float': <class 'float'>, 'frozenset': <class 'frozenset'>, 'property': <class 'property'>, 'int': <class 'int'>, 'list': <class 'list'>, 'map': <class 'map'>, 'object': <class 'object'>, 'range': <class 'range'>, 'reversed': <class 'reversed'>, 'set': <class 'set'>, 'slice': <class 'slice'>, 'staticmethod': <class 'staticmethod'>, 'str': <class 'str'>, 'super': <class 'super'>, 'tuple': <class 'tuple'>, 'type': <class 'type'>, 'zip': <class 'zip'>, '__debug__': True, 'BaseException': <class 'BaseException'>, 'Exception': <class 'Exception'>, 'TypeError': <class 'TypeError'>, 'StopAsyncIteration': <class 'StopAsyncIteration'>, 'StopIteration': <class 'StopIteration'>, 'GeneratorExit': <class 'GeneratorExit'>, 'SystemExit': <class 'SystemExit'>, 'KeyboardInterrupt': <class 'KeyboardInterrupt'>, 'ImportError': <class 'ImportError'>, 'ModuleNotFoundError': <class 'ModuleNotFoundError'>, 'OSError': <class 'OSError'>, 'EnvironmentError': <class 'OSError'>, 'IOError': <class 'OSError'>, 'EOFError': <class 'EOFError'>, 'RuntimeError': <class 'RuntimeError'>, 'RecursionError': <class 'RecursionError'>, 'NotImplementedError': <class 'NotImplementedError'>, 'NameError': <class 'NameError'>, 'UnboundLocalError': <class 'UnboundLocalError'>, 'AttributeError': <class 'AttributeError'>, 'SyntaxError': <class 'SyntaxError'>, 'IndentationError': <class 'IndentationError'>, 'TabError': <class 'TabError'>, 'LookupError': <class 'LookupError'>, 'IndexError': <class 'IndexError'>, 'KeyError': <class 'KeyError'>, 'ValueError': <class 'ValueError'>, 'UnicodeError': <class 'UnicodeError'>, 'UnicodeEncodeError': <class 'UnicodeEncodeError'>, 'UnicodeDecodeError': <class 'UnicodeDecodeError'>, 'UnicodeTranslateError': <class 'UnicodeTranslateError'>, 'AssertionError': <class 'AssertionError'>, 'ArithmeticError': <class 'ArithmeticError'>, 'FloatingPointError': <class 'FloatingPointError'>, 'OverflowError': <class 'OverflowError'>, 'ZeroDivisionError': <class 'ZeroDivisionError'>, 'SystemError': <class 'SystemError'>, 'ReferenceError': <class 'ReferenceError'>, 'MemoryError': <class 'MemoryError'>, 'BufferError': <class 'BufferError'>, 'Warning': <class 'Warning'>, 'UserWarning': <class 'UserWarning'>, 'EncodingWarning': <class 'EncodingWarning'>, 'DeprecationWarning': <class 'DeprecationWarning'>, 'PendingDeprecationWarning': <class 'PendingDeprecationWarning'>, 'SyntaxWarning': <class 'SyntaxWarning'>, 'RuntimeWarning': <class 'RuntimeWarning'>, 'FutureWarning': <class 'FutureWarning'>, 'ImportWarning': <class 'ImportWarning'>, 'UnicodeWarning': <class 'UnicodeWarning'>, 'BytesWarning': <class 'BytesWarning'>, 'ResourceWarning': <class 'ResourceWarning'>, 'ConnectionError': <class 'ConnectionError'>, 'BlockingIOError': <class 'BlockingIOError'>, 'BrokenPipeError': <class 'BrokenPipeError'>, 'ChildProcessError': <class 'ChildProcessError'>, 'ConnectionAbortedError': <class 'ConnectionAbortedError'>, 'ConnectionRefusedError': <class 'ConnectionRefusedError'>, 'ConnectionResetError': <class 'ConnectionResetError'>, 'FileExistsError': <class 'FileExistsError'>, 'FileNotFoundError': <class 'FileNotFoundError'>, 'IsADirectoryError': <class 'IsADirectoryError'>, 'NotADirectoryError': <class 'NotADirectoryError'>, 'InterruptedError': <class 'InterruptedError'>, 'PermissionError': <class 'PermissionError'>, 'ProcessLookupError': <class 'ProcessLookupError'>, 'TimeoutError': <class 'TimeoutError'>, 'open': <built-in function open>, 'copyright': Copyright (c) 2001-2023 Python Software Foundation.\n All Rights Reserved.\n \n Copyright (c) 2000 BeOpen.com.\n All Rights Reserved.\n \n Copyright (c) 1995-2001 Corporation for National Research Initiatives.\n All Rights Reserved.\n \n Copyright (c) 1991-1995 Stichting Mathematisch Centrum, Amsterdam.\n All Rights Reserved., 'credits':     Thanks to CWI, CNRI, BeOpen.com, Zope Corporation and a cast of thousands\n     for supporting Python development.  See www.python.org for more information., 'license': Type license() to see the full license text, 'help': Type help() for interactive help, or help(object) for help about object., 'execfile': <function execfile at 0x10319c940>, 'runfile': <function runfile at 0x1032b6440>, '__IPYTHON__': True, 'display': <function display at 0x101eec310>, 'get_ipython': <bound method InteractiveShell.get_ipython of <ipykernel.zmqshell.ZMQInteractiveShell object at 0x103615cc0>>}, 'ast': <module 'ast' from '/Users/oliverjoo/Dev/Anaconda/anaconda3/envs/langchain_env/lib/python3.10/ast.py'>, 're': <module 're' from '/Users/oliverjoo/Dev/Anaconda/anaconda3/envs/langchain_env/lib/python3.10/re.py'>, 'sys': <module 'sys' (built-in)>, 'redirect_stdout': <class 'contextlib.redirect_stdout'>, 'StringIO': <class '_io.StringIO'>, 'Any': typing.Any, 'Dict': typing.Dict, 'Optional': typing.Optional, 'Type': typing.Type, 'AsyncCallbackManagerForToolRun': <class 'langchain_core.callbacks.manager.AsyncCallbackManagerForToolRun'>, 'CallbackManagerForToolRun': <class 'langchain_core.callbacks.manager.CallbackManagerForToolRun'>, 'run_in_executor': <function run_in_executor at 0x105063370>, 'BaseTool': <class 'langchain_core.tools.base.BaseTool'>, 'BaseModel': <class 'pydantic.main.BaseModel'>, 'Field': <function Field at 0x103d14940>, 'model_validator': <function model_validator at 0x103cb2b00>, 'PythonREPL': <class 'langchain_experimental.utilities.python.PythonREPL'>, '_get_default_python_repl': <function _get_default_python_repl at 0x106bc5b40>, 'sanitize_input': <function sanitize_input at 0x11d5f6a70>, 'PythonREPLTool': <class 'langchain_experimental.tools.python.tool.PythonREPLTool'>, 'PythonInputs': <class 'langchain_experimental.tools.python.tool.PythonInputs'>, 'PythonAstREPLTool': <class 'langchain_experimental.tools.python.tool.PythonAstREPLTool'>}, locals=None)),\n QuerySQLDatabaseTool(description=\"Input to this tool is a detailed and correct SQL query, output is a result from the database. If the query is not correct, an error message will be returned. If an error is returned, rewrite the query, check the query, and try again. If you encounter an issue with Unknown column 'xxxx' in 'field list', use sql_db_schema to query the correct table fields.\", db=<langchain_community.utilities.sql_database.SQLDatabase object at 0x11d5bdc90>),\n InfoSQLDatabaseTool(description='Input to this tool is a comma-separated list of tables, output is the schema and sample rows for those tables. Be sure that the tables actually exist by calling sql_db_list_tables first! Example Input: table1, table2, table3', db=<langchain_community.utilities.sql_database.SQLDatabase object at 0x11d5bdc90>),\n ListSQLDatabaseTool(db=<langchain_community.utilities.sql_database.SQLDatabase object at 0x11d5bdc90>),\n QuerySQLCheckerTool(description='Use this tool to double check if your query is correct before executing it. Always use this tool before executing a query with sql_db_query!', db=<langchain_community.utilities.sql_database.SQLDatabase object at 0x11d5bdc90>, llm=ChatOpenAI(client=<openai.resources.chat.completions.Completions object at 0x11d5debf0>, async_client=<openai.resources.chat.completions.AsyncCompletions object at 0x11d5fc550>, root_client=<openai.OpenAI object at 0x11d5172e0>, root_async_client=<openai.AsyncOpenAI object at 0x11d5dec20>, model_name='gpt-4o-mini', model_kwargs={}, openai_api_key=SecretStr('**********')), llm_chain=LLMChain(verbose=False, prompt=PromptTemplate(input_variables=['dialect', 'query'], input_types={}, partial_variables={}, template='\\n{query}\\nDouble check the {dialect} query above for common mistakes, including:\\n- Using NOT IN with NULL values\\n- Using UNION when UNION ALL should have been used\\n- Using BETWEEN for exclusive ranges\\n- Data type mismatch in predicates\\n- Properly quoting identifiers\\n- Using the correct number of arguments for functions\\n- Casting to the correct data type\\n- Using the proper columns for joins\\n\\nIf there are any of the above mistakes, rewrite the query. If there are no mistakes, just reproduce the original query.\\n\\nOutput the final SQL query only.\\n\\nSQL Query: '), llm=ChatOpenAI(client=<openai.resources.chat.completions.Completions object at 0x11d5debf0>, async_client=<openai.resources.chat.completions.AsyncCompletions object at 0x11d5fc550>, root_client=<openai.OpenAI object at 0x11d5172e0>, root_async_client=<openai.AsyncOpenAI object at 0x11d5dec20>, model_name='gpt-4o-mini', model_kwargs={}, openai_api_key=SecretStr('**********')), output_parser=StrOutputParser(), llm_kwargs={}))]"
     },
     "execution_count": 12,
     "metadata": {},
     "output_type": "execute_result"
    }
   ],
   "source": [
    "# Adding further tools\n",
    "from langchain.tools.file_management import (\n",
    "    ReadFileTool,\n",
    "    CopyFileTool,\n",
    "    DeleteFileTool,\n",
    "    MoveFileTool,\n",
    "    WriteFileTool,\n",
    "    ListDirectoryTool,\n",
    ")\n",
    "\n",
    "# PythonREPLTool : surrpot interaction between Python and NLP + creating matplotlib graph from the sql query results\n",
    "# REPL : Read - Eval - Print Loop\n",
    "# FileManagementToolkit : saving files in a specific directory from agent results(graph in here) \n",
    "from langchain_experimental.tools.python.tool import PythonREPLTool\n",
    "from langchain.agents.agent_toolkits import FileManagementToolkit\n",
    "\n",
    "working_directory = os.getcwd()\n",
    "\n",
    "tools = FileManagementToolkit(\n",
    "    root_dir=str(working_directory),\n",
    "    selected_tools=[\"read_file\", \"write_file\", \"list_directory\"], ).get_tools()\n",
    "tools.append(PythonREPLTool())\n",
    "\n",
    "tools.extend(SQLDatabaseToolkit(db=db, llm=llm).get_tools())\n",
    "tools"
   ],
   "metadata": {
    "collapsed": false,
    "ExecuteTime": {
     "end_time": "2025-01-22T06:11:40.931363Z",
     "start_time": "2025-01-22T06:11:40.832979Z"
    }
   },
   "id": "62a1f2bccc70bf48",
   "execution_count": 12
  },
  {
   "cell_type": "code",
   "outputs": [
    {
     "data": {
      "text/plain": "['read_file',\n 'write_file',\n 'list_directory',\n 'Python_REPL',\n 'sql_db_query',\n 'sql_db_schema',\n 'sql_db_list_tables',\n 'sql_db_query_checker']"
     },
     "execution_count": 13,
     "metadata": {},
     "output_type": "execute_result"
    }
   ],
   "source": [
    "[tool.name for tool in tools]"
   ],
   "metadata": {
    "collapsed": false,
    "ExecuteTime": {
     "end_time": "2025-01-22T06:11:45.758762Z",
     "start_time": "2025-01-22T06:11:45.755092Z"
    }
   },
   "id": "28cf0fe430378799",
   "execution_count": 13
  },
  {
   "cell_type": "code",
   "outputs": [
    {
     "data": {
      "text/plain": "'ls'"
     },
     "execution_count": 15,
     "metadata": {},
     "output_type": "execute_result"
    }
   ],
   "source": [
    "# https://smith.langchain.com/에서 랭스미스 API 키 발급받고\n",
    "# .env 파일에 LANGSMITH_API_KEY를 등록한 뒤에 다음을 실행하세요.\n",
    "\n",
    "load_dotenv()\n",
    "os.environ[\"LANGSMITH_API_KEY\"][:2]"
   ],
   "metadata": {
    "collapsed": false,
    "ExecuteTime": {
     "end_time": "2025-01-22T06:12:19.000289Z",
     "start_time": "2025-01-22T06:12:18.997242Z"
    }
   },
   "id": "a7a6cdfd99877397",
   "execution_count": 15
  },
  {
   "cell_type": "code",
   "outputs": [
    {
     "name": "stdout",
     "output_type": "stream",
     "text": [
      "\n",
      "\n",
      "\u001B[1m> Entering new AgentExecutor chain...\u001B[0m\n",
      "\u001B[32;1m\u001B[1;3mThought: First, I need to query the Chinook database to get the top 5 countries by sales. Once I have the data, I will convert it into a pandas DataFrame and create a bar chart using matplotlib. Finally, I will save the figure as \"figure.png\". \n",
      "\n",
      "Action:\n",
      "```json\n",
      "{\n",
      "  \"action\": \"sql_db_query\",\n",
      "  \"action_input\": \"SELECT BillingCountry, SUM(Total) as TotalSales FROM Invoice GROUP BY BillingCountry ORDER BY TotalSales DESC LIMIT 5;\"\n",
      "}\n",
      "```\u001B[0m\u001B[33;1m\u001B[1;3mError: (sqlite3.OperationalError) no such table: Invoice\n",
      "[SQL: SELECT BillingCountry, SUM(Total) as TotalSales FROM Invoice GROUP BY BillingCountry ORDER BY TotalSales DESC LIMIT 5;]\n",
      "(Background on this error at: https://sqlalche.me/e/20/e3q8)\u001B[0m\u001B[32;1m\u001B[1;3mAction:\n",
      "```json\n",
      "{\n",
      "  \"action\": \"sql_db_list_tables\",\n",
      "  \"action_input\": \"\"\n",
      "}\n",
      "```\u001B[0m\u001B[36;1m\u001B[1;3malbums, artists, customers, employees, genres, invoice_items, invoices, media_types, playlist_track, playlists, tracks\u001B[0m\u001B[32;1m\u001B[1;3mAction:\n",
      "```json\n",
      "{\n",
      "  \"action\": \"sql_db_query\",\n",
      "  \"action_input\": \"SELECT BillingCountry, SUM(Total) as TotalSales FROM invoices GROUP BY BillingCountry ORDER BY TotalSales DESC LIMIT 5;\"\n",
      "}\n",
      "```\u001B[0m\u001B[33;1m\u001B[1;3m[('USA', 523.06), ('Canada', 303.96), ('France', 195.1), ('Brazil', 190.1), ('Germany', 156.48)]\u001B[0m"
     ]
    },
    {
     "name": "stderr",
     "output_type": "stream",
     "text": [
      "Python REPL can execute arbitrary code. Use with caution.\n"
     ]
    },
    {
     "name": "stdout",
     "output_type": "stream",
     "text": [
      "\u001B[32;1m\u001B[1;3mAction:\n",
      "```json\n",
      "{\n",
      "  \"action\": \"Python_REPL\",\n",
      "  \"action_input\": \"import pandas as pd; import matplotlib.pyplot as plt; sales_data = [('USA', 523.06), ('Canada', 303.96), ('France', 195.1), ('Brazil', 190.1), ('Germany', 156.48)]; df = pd.DataFrame(sales_data, columns=['Country', 'TotalSales']); df.set_index('Country', inplace=True); df.plot(kind='bar'); plt.title('Top 5 Countries by Sales'); plt.xlabel('Country'); plt.ylabel('Total Sales'); plt.savefig('figure.png')\"\n",
      "}\n",
      "```\u001B[0m\u001B[36;1m\u001B[1;3m\u001B[0m\u001B[32;1m\u001B[1;3mAction:\n",
      "```json\n",
      "{\n",
      "  \"action\": \"Final Answer\",\n",
      "  \"action_input\": \"The bar chart for the top 5 countries by sales has been created and saved as 'figure.png'.\"\n",
      "}\n",
      "```\u001B[0m\n",
      "\n",
      "\u001B[1m> Finished chain.\u001B[0m\n"
     ]
    },
    {
     "data": {
      "text/plain": "{'input': 'Chinook 데이터베이스에서 매출 상위 5개 국가를 추출하여 pandas 데이터프레임으로 저장하세요. 그런 다음 matplotlib 바 차트를 반환하세요. 결과를 현재 작업 디렉터리에 figure.png로 저장하세요.',\n 'output': \"The bar chart for the top 5 countries by sales has been created and saved as 'figure.png'.\"}"
     },
     "execution_count": 18,
     "metadata": {},
     "output_type": "execute_result"
    },
    {
     "data": {
      "text/plain": "<Figure size 640x480 with 1 Axes>",
      "image/png": "[encoded data removed]"
     },
     "metadata": {},
     "output_type": "display_data"
    }
   ],
   "source": [
    "from langchain import hub\n",
    "from langchain.agents import create_structured_chat_agent\n",
    "\n",
    "llm = ChatOpenAI(model=\"gpt-4o-mini\")\n",
    "\n",
    "prompt = hub.pull(\"hwchase17/structured-chat-agent\")\n",
    "\n",
    "agent = create_structured_chat_agent(\n",
    "    llm, tools, prompt\n",
    ")\n",
    "agent_executor = AgentExecutor(\n",
    "    agent=agent, tools=tools, verbose=True, handle_parsing_errors=True\n",
    ")\n",
    "agent_executor.invoke({\"input\": \"Chinook 데이터베이스에서 매출 상위 5개 국가를 추출하여 pandas 데이터프레임으로 저장하세요. 그런 다음 matplotlib 바 차트를 반환하세요. 결과를 현재 작업 디렉터리에 figure.png로 저장하세요.\"})"
   ],
   "metadata": {
    "collapsed": false,
    "ExecuteTime": {
     "end_time": "2025-01-22T06:13:39.308751Z",
     "start_time": "2025-01-22T06:13:29.621347Z"
    }
   },
   "id": "d835c7b16ad248f3",
   "execution_count": 18
  }
 ],
 "metadata": {
  "kernelspec": {
   "display_name": "Python 3",
   "language": "python",
   "name": "python3"
  },
  "language_info": {
   "codemirror_mode": {
    "name": "ipython",
    "version": 2
   },
   "file_extension": ".py",
   "mimetype": "text/x-python",
   "name": "python",
   "nbconvert_exporter": "python",
   "pygments_lexer": "ipython2",
   "version": "2.7.6"
  }
 },
 "nbformat": 4,
 "nbformat_minor": 5
}
