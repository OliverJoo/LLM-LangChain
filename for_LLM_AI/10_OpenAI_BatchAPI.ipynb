{
 "cells": [
  {
   "cell_type": "code",
   "execution_count": 1,
   "id": "initial_id",
   "metadata": {
    "collapsed": true,
    "ExecuteTime": {
     "end_time": "2025-02-04T02:14:06.442348Z",
     "start_time": "2025-02-04T02:14:05.800978Z"
    }
   },
   "outputs": [],
   "source": [
    "import os\n",
    "from openai import OpenAI\n",
    "from dotenv import load_dotenv\n",
    "\n",
    "load_dotenv()\n",
    "\n",
    "client = OpenAI(api_key=os.environ.get(\"OPENAI_API_KEY\"))"
   ]
  },
  {
   "cell_type": "code",
   "outputs": [
    {
     "name": "stdout",
     "output_type": "stream",
     "text": [
      "Review: 이 영화는 정말 재미있고 감동적이에요!\n",
      "Sentiment: 1\n"
     ]
    }
   ],
   "source": [
    "review = \"이 영화는 정말 재미있고 감동적이에요!\"\n",
    "\n",
    "# Sentimental Analysis with OpenAI API\n",
    "response = client.chat.completions.create(\n",
    "    model=\"gpt-4o-mini\",\n",
    "    messages=[\n",
    "        {\"role\": \"system\",\n",
    "         \"content\": \"Analyze the sentiment of the following movie review and categorize it strictly as 1 for positive or 0 for negative without providing any explanation or reasoning.\"},\n",
    "        {\"role\": \"user\", \"content\": \"핵노잼\"},\n",
    "        {\"role\": \"assistant\", \"content\": \"0\"},\n",
    "        {\"role\": \"user\", \"content\": \"개꿀잼\"},\n",
    "        {\"role\": \"assistant\", \"content\": \"1\"},\n",
    "        {\"role\": \"user\", \"content\": review}\n",
    "    ],\n",
    "    max_tokens=60\n",
    ")\n",
    "\n",
    "# 예측 결과 출력\n",
    "message = response.choices[0].message.content.strip()\n",
    "print(f\"Review: {review}\")\n",
    "print(f\"Sentiment: {message}\")"
   ],
   "metadata": {
    "collapsed": false,
    "ExecuteTime": {
     "end_time": "2025-02-04T02:14:46.133704Z",
     "start_time": "2025-02-04T02:14:44.744441Z"
    }
   },
   "id": "21fc4ba74dc6c664",
   "execution_count": 2
  },
  {
   "cell_type": "code",
   "outputs": [
    {
     "data": {
      "text/plain": "('ratings_test.txt', <http.client.HTTPMessage at 0x155480ca0>)"
     },
     "execution_count": 3,
     "metadata": {},
     "output_type": "execute_result"
    }
   ],
   "source": [
    "import json\n",
    "import pandas as pd\n",
    "import urllib.request\n",
    "\n",
    "# 데이터 다운로드(Naver sentiment movie corpus v1.0)\n",
    "urllib.request.urlretrieve(\"https://raw.githubusercontent.com/e9t/nsmc/master/ratings_train.txt\",\n",
    "                           filename=\"ratings_train.txt\")\n",
    "urllib.request.urlretrieve(\"https://raw.githubusercontent.com/e9t/nsmc/master/ratings_test.txt\",\n",
    "                           filename=\"ratings_test.txt\")"
   ],
   "metadata": {
    "collapsed": false,
    "ExecuteTime": {
     "end_time": "2025-02-04T02:15:53.311762Z",
     "start_time": "2025-02-04T02:15:31.650017Z"
    }
   },
   "id": "af0424589fd96f3f",
   "execution_count": 3
  },
  {
   "cell_type": "code",
   "outputs": [
    {
     "data": {
      "text/plain": "             id                                           document  label\n59770   8932939                                        수OO만에 다시보네여      1\n21362   3681731                              일방적인 영화다. 관객 좀 고려해주시길      0\n127324  9847174                               세상을 초월하는 한 사람의 선한 마음      1\n140509  8506899             멍하다.. 여러생각이 겹치는데 오랜만에 영화 보고 이런 느낌 느껴본다      1\n144297  9991656  우와 별 반개도 아까운판에 밑에 CJ 알바생들 쩐다.. 전부 만점이야 ㅎㅎㅎ..,....      0",
      "text/html": "<div>\n<style scoped>\n    .dataframe tbody tr th:only-of-type {\n        vertical-align: middle;\n    }\n\n    .dataframe tbody tr th {\n        vertical-align: top;\n    }\n\n    .dataframe thead th {\n        text-align: right;\n    }\n</style>\n<table border=\"1\" class=\"dataframe\">\n  <thead>\n    <tr style=\"text-align: right;\">\n      <th></th>\n      <th>id</th>\n      <th>document</th>\n      <th>label</th>\n    </tr>\n  </thead>\n  <tbody>\n    <tr>\n      <th>59770</th>\n      <td>8932939</td>\n      <td>수OO만에 다시보네여</td>\n      <td>1</td>\n    </tr>\n    <tr>\n      <th>21362</th>\n      <td>3681731</td>\n      <td>일방적인 영화다. 관객 좀 고려해주시길</td>\n      <td>0</td>\n    </tr>\n    <tr>\n      <th>127324</th>\n      <td>9847174</td>\n      <td>세상을 초월하는 한 사람의 선한 마음</td>\n      <td>1</td>\n    </tr>\n    <tr>\n      <th>140509</th>\n      <td>8506899</td>\n      <td>멍하다.. 여러생각이 겹치는데 오랜만에 영화 보고 이런 느낌 느껴본다</td>\n      <td>1</td>\n    </tr>\n    <tr>\n      <th>144297</th>\n      <td>9991656</td>\n      <td>우와 별 반개도 아까운판에 밑에 CJ 알바생들 쩐다.. 전부 만점이야 ㅎㅎㅎ..,....</td>\n      <td>0</td>\n    </tr>\n  </tbody>\n</table>\n</div>"
     },
     "execution_count": 4,
     "metadata": {},
     "output_type": "execute_result"
    }
   ],
   "source": [
    "# data load\n",
    "train_data = pd.read_table('ratings_train.txt')\n",
    "test_data = pd.read_table('ratings_test.txt')\n",
    "\n",
    "# Few-shot example test\n",
    "few_shot_samples = train_data.sample(5, random_state=42)\n",
    "\n",
    "# data check\n",
    "few_shot_samples"
   ],
   "metadata": {
    "collapsed": false,
    "ExecuteTime": {
     "end_time": "2025-02-04T02:16:39.995793Z",
     "start_time": "2025-02-04T02:16:39.741028Z"
    }
   },
   "id": "e5c1ccefb5eca2e0",
   "execution_count": 4
  },
  {
   "cell_type": "code",
   "outputs": [],
   "source": [
    "# Few-shot prompt\n",
    "few_shot_examples = []\n",
    "for idx, row in few_shot_samples.iterrows():\n",
    "    example = [\n",
    "        {\"role\": \"user\", \"content\": row['document']},\n",
    "        {\"role\": \"assistant\", \"content\": str(row['label'])}\n",
    "    ]\n",
    "    few_shot_examples.extend(example)"
   ],
   "metadata": {
    "collapsed": false,
    "ExecuteTime": {
     "end_time": "2025-02-04T02:16:57.135639Z",
     "start_time": "2025-02-04T02:16:57.132398Z"
    }
   },
   "id": "22b1673c47cf9112",
   "execution_count": 5
  },
  {
   "cell_type": "code",
   "outputs": [
    {
     "data": {
      "text/plain": "[{'role': 'user', 'content': '수OO만에 다시보네여'},\n {'role': 'assistant', 'content': '1'},\n {'role': 'user', 'content': '일방적인 영화다. 관객 좀 고려해주시길'},\n {'role': 'assistant', 'content': '0'},\n {'role': 'user', 'content': '세상을 초월하는 한 사람의 선한 마음'},\n {'role': 'assistant', 'content': '1'},\n {'role': 'user', 'content': '멍하다.. 여러생각이 겹치는데 오랜만에 영화 보고 이런 느낌 느껴본다'},\n {'role': 'assistant', 'content': '1'},\n {'role': 'user',\n  'content': '우와 별 반개도 아까운판에 밑에 CJ 알바생들 쩐다.. 전부 만점이야 ㅎㅎㅎ..,. CJ야 그만해라 저영화는 정말 쓰레기다...원작에서 크게벋어났고 마치 메간폭스를 위해 스폰한 영화. 저걸보느니 투니버스봐라. 돈아깝고 시간아깝다.'},\n {'role': 'assistant', 'content': '0'}]"
     },
     "execution_count": 6,
     "metadata": {},
     "output_type": "execute_result"
    }
   ],
   "source": [
    "few_shot_examples"
   ],
   "metadata": {
    "collapsed": false,
    "ExecuteTime": {
     "end_time": "2025-02-04T02:17:00.294651Z",
     "start_time": "2025-02-04T02:17:00.289065Z"
    }
   },
   "id": "73e0a9178153f954",
   "execution_count": 6
  },
  {
   "cell_type": "markdown",
   "source": [
    "Sentimental Analysis with Batch API"
   ],
   "metadata": {
    "collapsed": false
   },
   "id": "3d3c207d66b9858c"
  },
  {
   "cell_type": "code",
   "outputs": [],
   "source": [
    "# 100 random sampling for the test \n",
    "test_data_sample = test_data.sample(100, random_state=42)\n",
    "\n",
    "tasks = []\n",
    "\n",
    "for idx, row in test_data_sample.iterrows():\n",
    "    messages = [\n",
    "        {\"role\": \"system\",\n",
    "         \"content\": \"Analyze the sentiment of the following movie review and categorize it strictly as 1 for positive or 0 for negative without providing any explanation or reasoning.\"}\n",
    "    ]\n",
    "    messages.extend(few_shot_examples)\n",
    "    messages.append({\"role\": \"user\", \"content\": row['document']})\n",
    "\n",
    "    task = {\n",
    "        \"custom_id\": f\"task-{idx}\", # working # identification\n",
    "        \"method\": \"POST\", # API call method\n",
    "        \"url\": \"/v1/chat/completions\", # API Endpoint URL\n",
    "        \"body\": {\n",
    "            \"model\": \"gpt-4o-mini\",\n",
    "            \"messages\": messages,\n",
    "            \"max_tokens\": 60\n",
    "        }\n",
    "    }\n",
    "    tasks.append(task)\n",
    "\n",
    "# Store JSONL(JSON Lines) file type \n",
    "file_name = \"batch_tasks_naver_reviews.jsonl\"\n",
    "with open(file_name, 'w') as file:\n",
    "    for obj in tasks:\n",
    "        file.write(json.dumps(obj) + '\\n')"
   ],
   "metadata": {
    "collapsed": false,
    "ExecuteTime": {
     "end_time": "2025-02-04T02:20:39.863738Z",
     "start_time": "2025-02-04T02:20:39.846496Z"
    }
   },
   "id": "c9d7b031a4b07950",
   "execution_count": 7
  },
  {
   "cell_type": "markdown",
   "source": [
    "**Be aware of the Batch API spending "
   ],
   "metadata": {
    "collapsed": false
   },
   "id": "f3e89d7454acb36a"
  },
  {
   "cell_type": "code",
   "outputs": [],
   "source": [
    "# batch file upload\n",
    "batch_input_file = client.files.create(\n",
    "    file=open(file_name, \"rb\"),\n",
    "    purpose=\"batch\"\n",
    ")\n",
    "\n",
    "# Batches creation\n",
    "batch_job = client.batches.create(\n",
    "    input_file_id=batch_input_file.id,\n",
    "    endpoint=\"/v1/chat/completions\",\n",
    "    completion_window=\"24h\"\n",
    ")"
   ],
   "metadata": {
    "collapsed": false
   },
   "id": "5d907d722982da1a"
  },
  {
   "cell_type": "code",
   "outputs": [],
   "source": [
    "import time\n",
    "\n",
    "# Check Batch Status\n",
    "batch_id = batch_job.id\n",
    "while True:\n",
    "    batch_status = client.batches.retrieve(batch_id)\n",
    "    print(\"Batch 상태:\", batch_status)\n",
    "    if batch_status.status in ['completed', 'failed']:\n",
    "        break\n",
    "    time.sleep(60)  # every 1min"
   ],
   "metadata": {
    "collapsed": false
   },
   "id": "6793ccb357c09d6d"
  },
  {
   "cell_type": "code",
   "outputs": [],
   "source": [
    "# get the result file\n",
    "result_file_id = batch_status.output_file_id\n",
    "result_content = client.files.content(result_file_id).content\n",
    "\n",
    "# store result file\n",
    "result_file_name = \"batch_job_results_naver_reviews.jsonl\"\n",
    "with open(result_file_name, 'wb') as file:\n",
    "    file.write(result_content)"
   ],
   "metadata": {
    "collapsed": false
   },
   "id": "688347fa53ead36d"
  },
  {
   "cell_type": "code",
   "outputs": [],
   "source": [
    "# load results\n",
    "results = []\n",
    "with open(result_file_name, 'r') as file:\n",
    "    for line in file:\n",
    "        results.append(json.loads(line.strip()))\n",
    "\n",
    "results"
   ],
   "metadata": {
    "collapsed": false
   },
   "id": "a92c41316040cfd6"
  },
  {
   "cell_type": "code",
   "outputs": [],
   "source": [
    "# evaluation metrics\n",
    "actuals = test_data_sample['label'].tolist()\n",
    "predictions = []\n",
    "\n",
    "for res in results:\n",
    "    prediction = res['response']['body']['choices'][0]['message']['content'].strip()\n",
    "    predictions.append(int(prediction))\n",
    "\n",
    "from sklearn.metrics import accuracy_score, precision_score, recall_score, f1_score\n",
    "\n",
    "accuracy = accuracy_score(actuals, predictions)\n",
    "precision = precision_score(actuals, predictions)\n",
    "recall = recall_score(actuals, predictions)\n",
    "f1 = f1_score(actuals, predictions)\n",
    "\n",
    "print(f\"Accuracy: {accuracy:.4f}\")\n",
    "print(f\"Precision: {precision:.4f}\")\n",
    "print(f\"Recall: {recall:.4f}\")\n",
    "print(f\"F1 Score: {f1:.4f}\")"
   ],
   "metadata": {
    "collapsed": false
   },
   "id": "f41743251b3942e6"
  }
 ],
 "metadata": {
  "kernelspec": {
   "display_name": "Python 3",
   "language": "python",
   "name": "python3"
  },
  "language_info": {
   "codemirror_mode": {
    "name": "ipython",
    "version": 2
   },
   "file_extension": ".py",
   "mimetype": "text/x-python",
   "name": "python",
   "nbconvert_exporter": "python",
   "pygments_lexer": "ipython2",
   "version": "2.7.6"
  }
 },
 "nbformat": 4,
 "nbformat_minor": 5
}
