{
 "cells": [
  {
   "cell_type": "code",
   "execution_count": 1,
   "id": "initial_id",
   "metadata": {
    "collapsed": true,
    "ExecuteTime": {
     "end_time": "2025-02-04T02:47:29.633713Z",
     "start_time": "2025-02-04T02:47:29.309910Z"
    }
   },
   "outputs": [],
   "source": [
    "import os\n",
    "from openai import OpenAI\n",
    "from dotenv import load_dotenv\n",
    "\n",
    "load_dotenv()\n",
    "\n",
    "client = OpenAI(api_key=os.environ.get(\"OPENAI_API_KEY\"))"
   ]
  },
  {
   "cell_type": "code",
   "outputs": [
    {
     "name": "stdout",
     "output_type": "stream",
     "text": [
      "<class 'openai.types.moderation_create_response.ModerationCreateResponse'>\n"
     ]
    }
   ],
   "source": [
    "# https://help.openai.com/en/articles/4936833-is-the-moderation-endpoint-free-to-use\n",
    "# Monitoring Purpose \n",
    "response = client.moderations.create(\n",
    "    input=\"Hey~ Good morning\"\n",
    ")\n",
    "\n",
    "print(type(response))"
   ],
   "metadata": {
    "collapsed": false,
    "ExecuteTime": {
     "end_time": "2025-02-04T02:47:30.353443Z",
     "start_time": "2025-02-04T02:47:29.847663Z"
    }
   },
   "id": "468333de84957ff5",
   "execution_count": 2
  },
  {
   "cell_type": "code",
   "outputs": [
    {
     "name": "stdout",
     "output_type": "stream",
     "text": [
      "{\n",
      "  \"id\": \"modr-Ax3GEZupOv1yIX84VgIcvHVzvNRhM\",\n",
      "  \"model\": \"text-moderation-007\",\n",
      "  \"results\": [\n",
      "    {\n",
      "      \"categories\": {\n",
      "        \"harassment\": false,\n",
      "        \"harassment_threatening\": false,\n",
      "        \"hate\": false,\n",
      "        \"hate_threatening\": false,\n",
      "        \"illicit\": null,\n",
      "        \"illicit_violent\": null,\n",
      "        \"self_harm\": false,\n",
      "        \"self_harm_instructions\": false,\n",
      "        \"self_harm_intent\": false,\n",
      "        \"sexual\": false,\n",
      "        \"sexual_minors\": false,\n",
      "        \"violence\": false,\n",
      "        \"violence_graphic\": false,\n",
      "        \"self-harm\": false,\n",
      "        \"sexual/minors\": false,\n",
      "        \"hate/threatening\": false,\n",
      "        \"violence/graphic\": false,\n",
      "        \"self-harm/intent\": false,\n",
      "        \"self-harm/instructions\": false,\n",
      "        \"harassment/threatening\": false\n",
      "      },\n",
      "      \"category_applied_input_types\": null,\n",
      "      \"category_scores\": {\n",
      "        \"harassment\": 0.00001951787999132648,\n",
      "        \"harassment_threatening\": 3.741378407084994e-7,\n",
      "        \"hate\": 4.14364194512018e-6,\n",
      "        \"hate_threatening\": 2.383717223608528e-9,\n",
      "        \"illicit\": null,\n",
      "        \"illicit_violent\": null,\n",
      "        \"self_harm\": 8.960513468991849e-7,\n",
      "        \"self_harm_instructions\": 4.874393084719486e-7,\n",
      "        \"self_harm_intent\": 1.0440423920954345e-6,\n",
      "        \"sexual\": 0.0002508988545741886,\n",
      "        \"sexual_minors\": 2.916367975558387e-6,\n",
      "        \"violence\": 0.000020216744815115817,\n",
      "        \"violence_graphic\": 1.0936920489257318e-6,\n",
      "        \"self-harm\": 8.960513468991849e-7,\n",
      "        \"sexual/minors\": 2.916367975558387e-6,\n",
      "        \"hate/threatening\": 2.383717223608528e-9,\n",
      "        \"violence/graphic\": 1.0936920489257318e-6,\n",
      "        \"self-harm/intent\": 1.0440423920954345e-6,\n",
      "        \"self-harm/instructions\": 4.874393084719486e-7,\n",
      "        \"harassment/threatening\": 3.741378407084994e-7\n",
      "      },\n",
      "      \"flagged\": false\n",
      "    }\n",
      "  ]\n",
      "}\n"
     ]
    }
   ],
   "source": [
    "print(response.model_dump_json(indent=2))"
   ],
   "metadata": {
    "collapsed": false,
    "ExecuteTime": {
     "end_time": "2025-02-04T02:47:38.206552Z",
     "start_time": "2025-02-04T02:47:38.195501Z"
    }
   },
   "id": "bb9102b9e25ead01",
   "execution_count": 3
  },
  {
   "cell_type": "code",
   "outputs": [
    {
     "name": "stdout",
     "output_type": "stream",
     "text": [
      "False\n"
     ]
    }
   ],
   "source": [
    "def flagged(text, **kwargs):\n",
    "    response = client.moderations.create(input=text, **kwargs)\n",
    "    return response.results[0].flagged\n",
    "\n",
    "\n",
    "print(flagged(\"Have a good day\"))"
   ],
   "metadata": {
    "collapsed": false,
    "ExecuteTime": {
     "end_time": "2025-02-04T02:51:09.197388Z",
     "start_time": "2025-02-04T02:51:08.820591Z"
    }
   },
   "id": "d588555142aa1a39",
   "execution_count": 4
  },
  {
   "cell_type": "code",
   "outputs": [
    {
     "name": "stdout",
     "output_type": "stream",
     "text": [
      "True\n"
     ]
    }
   ],
   "source": [
    "print(flagged(\"I will kill you!\"))"
   ],
   "metadata": {
    "collapsed": false,
    "ExecuteTime": {
     "end_time": "2025-02-04T02:51:34.014058Z",
     "start_time": "2025-02-04T02:51:33.292922Z"
    }
   },
   "id": "de23829d2b4bbbea",
   "execution_count": 5
  },
  {
   "cell_type": "code",
   "outputs": [
    {
     "name": "stdout",
     "output_type": "stream",
     "text": [
      "False\n"
     ]
    }
   ],
   "source": [
    "# specific category check\n",
    "def violence(text, **kwargs):\n",
    "    response = client.moderations.create(input=text, **kwargs)\n",
    "    return response.results[0].categories.violence\n",
    "\n",
    "\n",
    "print(violence(\"Have a good one\"))"
   ],
   "metadata": {
    "collapsed": false,
    "ExecuteTime": {
     "end_time": "2025-02-04T02:51:49.570688Z",
     "start_time": "2025-02-04T02:51:49.068568Z"
    }
   },
   "id": "dcf4e9fec47e2004",
   "execution_count": 6
  },
  {
   "cell_type": "code",
   "outputs": [
    {
     "name": "stdout",
     "output_type": "stream",
     "text": [
      "True\n"
     ]
    }
   ],
   "source": [
    "print(violence(\"I will kill you!\"))"
   ],
   "metadata": {
    "collapsed": false,
    "ExecuteTime": {
     "end_time": "2025-02-04T02:51:55.213043Z",
     "start_time": "2025-02-04T02:51:54.865467Z"
    }
   },
   "id": "a34125e2a1db9937",
   "execution_count": 7
  },
  {
   "cell_type": "code",
   "outputs": [
    {
     "name": "stdout",
     "output_type": "stream",
     "text": [
      "False\n"
     ]
    }
   ],
   "source": [
    "# may not be useful in Korean Language\n",
    "print(violence(\"죽여버린다!\", model=\"text-moderation-stable\"))"
   ],
   "metadata": {
    "collapsed": false,
    "ExecuteTime": {
     "end_time": "2025-02-04T02:52:07.285279Z",
     "start_time": "2025-02-04T02:52:06.792754Z"
    }
   },
   "id": "505a994022db9d6b",
   "execution_count": 8
  },
  {
   "cell_type": "code",
   "outputs": [
    {
     "name": "stdout",
     "output_type": "stream",
     "text": [
      "False\n"
     ]
    }
   ],
   "source": [
    "print(violence(\"죽여버린다!\", model=\"text-moderation-latest\"))"
   ],
   "metadata": {
    "collapsed": false,
    "ExecuteTime": {
     "end_time": "2025-02-04T02:52:13.227947Z",
     "start_time": "2025-02-04T02:52:12.849868Z"
    }
   },
   "id": "dd696c03f3113ce0",
   "execution_count": 9
  },
  {
   "cell_type": "code",
   "outputs": [],
   "source": [
    "# Another way to check Korean Language Moderation\n",
    "def harmful(text):\n",
    "    response = client.chat.completions.create(\n",
    "        model=\"gpt-4o-mini\",\n",
    "        messages=[\n",
    "            {\"role\": \"system\", \"content\": \"다음 문장이 해로우면 'True', 그렇지 않으면 'False'로 대답하세요.\"},\n",
    "            {\"role\": \"user\", \"content\": text}\n",
    "        ]\n",
    "    )\n",
    "    return response.choices[0].message.content"
   ],
   "metadata": {
    "collapsed": false,
    "ExecuteTime": {
     "end_time": "2025-02-04T02:52:26.274176Z",
     "start_time": "2025-02-04T02:52:26.271878Z"
    }
   },
   "id": "4fba670fd8c61fa2",
   "execution_count": 10
  },
  {
   "cell_type": "code",
   "outputs": [
    {
     "name": "stdout",
     "output_type": "stream",
     "text": [
      "False\n"
     ]
    }
   ],
   "source": [
    "print(harmful(\"좋은 하루 되세요\"))"
   ],
   "metadata": {
    "collapsed": false,
    "ExecuteTime": {
     "end_time": "2025-02-04T02:52:35.864060Z",
     "start_time": "2025-02-04T02:52:34.377705Z"
    }
   },
   "id": "e6bbdaa699779db0",
   "execution_count": 11
  },
  {
   "cell_type": "code",
   "outputs": [
    {
     "name": "stdout",
     "output_type": "stream",
     "text": [
      "True\n"
     ]
    }
   ],
   "source": [
    "print(harmful(\"죽여버린다\"))"
   ],
   "metadata": {
    "collapsed": false,
    "ExecuteTime": {
     "end_time": "2025-02-04T02:55:43.388152Z",
     "start_time": "2025-02-04T02:55:42.569690Z"
    }
   },
   "id": "840f96d4d47455d6",
   "execution_count": 16
  },
  {
   "cell_type": "code",
   "outputs": [
    {
     "name": "stdout",
     "output_type": "stream",
     "text": [
      "True\n"
     ]
    }
   ],
   "source": [
    "print(harmful(\"우울해\"))"
   ],
   "metadata": {
    "collapsed": false,
    "ExecuteTime": {
     "end_time": "2025-02-04T02:52:43.747875Z",
     "start_time": "2025-02-04T02:52:42.809892Z"
    }
   },
   "id": "ea8e2dbc2225710b",
   "execution_count": 12
  },
  {
   "cell_type": "code",
   "outputs": [
    {
     "name": "stdout",
     "output_type": "stream",
     "text": [
      "False\n"
     ]
    }
   ],
   "source": [
    "print(harmful(\"울적해\"))"
   ],
   "metadata": {
    "collapsed": false,
    "ExecuteTime": {
     "end_time": "2025-02-04T02:52:54.689343Z",
     "start_time": "2025-02-04T02:52:53.757504Z"
    }
   },
   "id": "7f43ba3b3a72f768",
   "execution_count": 13
  },
  {
   "cell_type": "code",
   "outputs": [
    {
     "name": "stdout",
     "output_type": "stream",
     "text": [
      "False\n"
     ]
    }
   ],
   "source": [
    "print(harmful(\"황당하네? 이러기야?\"))"
   ],
   "metadata": {
    "collapsed": false,
    "ExecuteTime": {
     "end_time": "2025-02-04T02:53:08.925308Z",
     "start_time": "2025-02-04T02:53:07.376744Z"
    }
   },
   "id": "bcc8ad23eb6d5391",
   "execution_count": 14
  },
  {
   "cell_type": "code",
   "outputs": [
    {
     "name": "stdout",
     "output_type": "stream",
     "text": [
      "False\n"
     ]
    }
   ],
   "source": [
    "print(harmful(\"돔황챠~\"))"
   ],
   "metadata": {
    "collapsed": false,
    "ExecuteTime": {
     "end_time": "2025-02-04T02:53:32.135394Z",
     "start_time": "2025-02-04T02:53:31.389709Z"
    }
   },
   "id": "f18ce66a7ab9465a",
   "execution_count": 15
  }
 ],
 "metadata": {
  "kernelspec": {
   "display_name": "Python 3",
   "language": "python",
   "name": "python3"
  },
  "language_info": {
   "codemirror_mode": {
    "name": "ipython",
    "version": 2
   },
   "file_extension": ".py",
   "mimetype": "text/x-python",
   "name": "python",
   "nbconvert_exporter": "python",
   "pygments_lexer": "ipython2",
   "version": "2.7.6"
  }
 },
 "nbformat": 4,
 "nbformat_minor": 5
}
