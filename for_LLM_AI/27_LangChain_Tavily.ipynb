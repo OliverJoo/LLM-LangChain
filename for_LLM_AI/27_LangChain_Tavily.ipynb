{
 "cells": [
  {
   "cell_type": "code",
   "execution_count": 5,
   "id": "initial_id",
   "metadata": {
    "collapsed": true,
    "ExecuteTime": {
     "end_time": "2025-02-17T07:43:33.635834Z",
     "start_time": "2025-02-17T07:43:33.632815Z"
    }
   },
   "outputs": [
    {
     "data": {
      "text/plain": "False"
     },
     "execution_count": 5,
     "metadata": {},
     "output_type": "execute_result"
    }
   ],
   "source": [
    "import os\n",
    "import time\n",
    "from openai import OpenAI\n",
    "from dotenv import load_dotenv\n",
    "from tavily import TavilyClient\n",
    "\n",
    "load_dotenv()"
   ]
  },
  {
   "cell_type": "code",
   "outputs": [],
   "source": [
    "# prev Tavily usage : Tavily pkg use\n",
    "\n",
    "# from tavily import TavilyClient\n",
    "# \n",
    "# tavily_client = TavilyClient(api_key=os.environ.get(\"TAVILY_API_KEY\"))\n",
    "# \n",
    "# def web_search(query):\n",
    "#     # search_depth : basic(rapid response), advanced(focusing on quality)\n",
    "#     search_result = tavily_client.get_search_context(query, search_depth=\"advanced\", max_tokens=8000)\n",
    "#     print(search_result)\n",
    "#     return search_result\n",
    "# \n",
    "# \n",
    "# web_search_json = {\n",
    "#     \"name\": \"web_search\",\n",
    "#     \"description\": \"Get recent information from the web.\",\n",
    "#     \"parameters\": {\n",
    "#         \"type\": \"object\",\n",
    "#         \"properties\": {\n",
    "#             \"query\": {\"type\": \"string\", \"description\": \"The search query to use.\"},\n",
    "#         },\n",
    "#         \"required\": [\"query\"]\n",
    "#     }\n",
    "# }"
   ],
   "metadata": {
    "collapsed": false
   },
   "id": "36f06747d2f8f487"
  },
  {
   "cell_type": "code",
   "outputs": [
    {
     "name": "stdout",
     "output_type": "stream",
     "text": [
      "\n",
      "\n",
      "\u001B[1m> Entering new AgentExecutor chain...\u001B[0m\n",
      "\u001B[32;1m\u001B[1;3m\n",
      "Invoking: `tavily_search_results_json` with `{'query': '2025 Netflix new sci-fi releases'}`\n",
      "\n",
      "\n",
      "\u001B[0m\u001B[36;1m\u001B[1;3m[{'url': 'https://www.digitaltrends.com/movies/watch-netflix-sci-fi-movies-in-february-2025/', 'content': '5 sci-fi movies on Netflix you need to watch in February 2025 · Black Mirror: Bandersnatch (2018) · Spiderhead (2022) · Interstellar (2014) · More'}, {'url': 'https://www.polygon.com/what-to-watch/510127/best-sci-fi-movies-watch-netflix-january-2025', 'content': 'Star Trek: Section 31, The Gorge, and Mickey 17 are slated to hit streaming and theaters within the next couple of months.'}, {'url': 'https://www.rottentomatoes.com/browse/tv_series_browse/affiliates:netflix~genres:sci_fi~sort:newest', 'content': 'New Sci-Fi TV Shows on Netflix (February 2025). TV Shows. TV Shows. In Theaters At Home Coming Soon TV Shows · In Theaters · At Home · Coming Soon.'}]\u001B[0m\u001B[32;1m\u001B[1;3m\n",
      "Invoking: `tavily_search_results_json` with `{'query': '2025 Apple TV+ new sci-fi releases'}`\n",
      "\n",
      "\n",
      "\u001B[0m\u001B[36;1m\u001B[1;3m[{'url': 'https://tv.apple.com/us/room/apple-tv-sci-fi/edt.item.650b3154-accd-4b87-9f89-6bde117cee31', 'content': 'Sci-Fi Movies and Shows - Apple TV+ Apple TV+ MLS Search Apple TV+ Apple TV+ MLS Search Sign In Thriller TV-MA Don’t miss the most talked-about show of the year. New episodes Fridays. Severance Acclaimed Standouts THRILLER Severance Adam Scott stars in this darkly gripping series from director Ben Stiller. SCI-FI Silo An engineer investigates a murder in a dystopian underground society. SCI-FI Dark Matter Joel Edgerton and Jennifer Connelly star in this edge-of-your-seat thriller. DRAMA For All Mankind Imagine a world where the global space race never ended. SCI-FI Foundation Amid the fall of the Galactic Empire, a band of exiles fights to save humanity. All Sci-Fi Copyright © 2025 Apple Inc. All rights reserved. Internet Service Terms Apple TV & Privacy Cookie Policy Support'}, {'url': 'https://www.avsforum.com/threads/the-gorge-sci-fi-thriller-movie-on-apple-tv-coming-feb-2025.3311441/', 'content': \"The world's most dangerous secret lies between them. Miles Teller and Anya Taylor-Joy star in The Gorge— premiering February 14 on Apple TV+\"}, {'url': 'https://www.rottentomatoes.com/browse/movies_at_home/affiliates:apple-tv~genres:sci_fi~sort:newest', 'content': 'Movies in theaters Movies at Home Certified fresh picks New TV Tonight Most Popular TV on RT Certified fresh pick Columns Guides Best New Movies of 2025, Ranked by Tomatometer 50 Essential Teen Romance Movies Hubs Black Heritage What to Watch: In Theaters and On Streaming. RT News 2025 Writers Guild Awards: See the Full List of Winners Mickey 17 First Reactions: A Zany but Thought-Provoking Sci-Fi Satire Led by a Winning Robert Pattinson Performance New Sci-Fi Movies on Apple TV (2025) Movies No results Join the Newsletter Get the freshest reviews, news, and more delivered right to your inbox! Follow Us Copyright © Fandango. All rights reserved.'}]\u001B[0m\u001B[32;1m\u001B[1;3m2025년 넷플릭스와 애플 TV+에서 예정된 SF 장르의 신작은 다음과 같습니다.\n",
      "\n",
      "### 넷플릭스\n",
      "1. **Star Trek: Section 31** - 스타 트렉 시리즈의 새로운 작품으로, SF 팬들에게 기대되는 작품입니다.\n",
      "2. **The Gorge** - 이 작품은 SF 스릴러로, 2025년 2월 14일에 애플 TV+에서 방영될 예정입니다.\n",
      "3. **Mickey 17** - 로버트 패틴슨이 주연하는 이 작품은 SF 풍자 코미디로, 기대를 모으고 있습니다.\n",
      "\n",
      "자세한 내용은 [여기](https://www.digitaltrends.com/movies/watch-netflix-sci-fi-movies-in-february-2025/)에서 확인할 수 있습니다.\n",
      "\n",
      "### 애플 TV+\n",
      "1. **Silo** - 디스토피아적인 underground 사회에서의 살인 사건을 조사하는 엔지니어의 이야기입니다.\n",
      "2. **Dark Matter** - 조엘 에저튼과 제니퍼 코넬리가 출연하는 스릴러입니다.\n",
      "3. **For All Mankind** - 우주 경쟁이 끝나지 않은 세계를 상상한 드라마입니다.\n",
      "4. **Foundation** - 은하 제국의 몰락 속에서 인류를 구하기 위한 망명자들의 이야기입니다.\n",
      "5. **The Gorge** - 마일스 텔러와 아냐 테일러 조이가 출연하는 SF 스릴러로, 2025년 2월 14일에 방영됩니다.\n",
      "\n",
      "자세한 내용은 [여기](https://tv.apple.com/us/room/apple-tv-sci-fi/edt.item.650b3154-accd-4b87-9f89-6bde117cee31)에서 확인할 수 있습니다.\u001B[0m\n",
      "\n",
      "\u001B[1m> Finished chain.\u001B[0m\n"
     ]
    }
   ],
   "source": [
    "# new Tavily usage : LangChain-Community TavilySearchResults use\n",
    "from langchain import hub\n",
    "from langchain.agents import load_tools\n",
    "from langchain.agents import AgentExecutor, create_openai_tools_agent\n",
    "from langchain_openai import ChatOpenAI\n",
    "from langchain_community.tools.tavily_search import TavilySearchResults\n",
    "\n",
    "llm = ChatOpenAI(model=\"gpt-4o-mini\", temperature=0)\n",
    "tools = [TavilySearchResults(max_results=3)]\n",
    "\n",
    "# agent working instruction : hub.pull(\"hwchase17/openai-tools-agent\")\n",
    "# FYI : https://smith.langchain.com/hub/hwchase17/openai-tools-agent?tab=0\n",
    "prompt = hub.pull(\"hwchase17/openai-tools-agent\")  # LANGSMITH_API_KEY is required\n",
    "\n",
    "agent = create_openai_tools_agent(llm, tools, prompt)\n",
    "agent_executor = AgentExecutor(agent=agent, tools=tools, verbose=True)\n",
    "\n",
    "result = agent_executor.invoke({\"input\": \"2025년 넷플릭스와 애플 TV+ 신작 중 SF 장르 작품을 알려줘\"})"
   ],
   "metadata": {
    "collapsed": false,
    "ExecuteTime": {
     "end_time": "2025-02-17T07:45:59.845840Z",
     "start_time": "2025-02-17T07:45:47.115469Z"
    }
   },
   "id": "ff6fc8edb0cb8a00",
   "execution_count": 7
  },
  {
   "cell_type": "code",
   "outputs": [
    {
     "name": "stdout",
     "output_type": "stream",
     "text": [
      "2025년 넷플릭스와 애플 TV+에서 예정된 SF 장르의 신작은 다음과 같습니다.\n",
      "\n",
      "### 넷플릭스\n",
      "1. **Star Trek: Section 31** - 스타 트렉 시리즈의 새로운 작품으로, SF 팬들에게 기대되는 작품입니다.\n",
      "2. **The Gorge** - 이 작품은 SF 스릴러로, 2025년 2월 14일에 애플 TV+에서 방영될 예정입니다.\n",
      "3. **Mickey 17** - 로버트 패틴슨이 주연하는 이 작품은 SF 풍자 코미디로, 기대를 모으고 있습니다.\n",
      "\n",
      "자세한 내용은 [여기](https://www.digitaltrends.com/movies/watch-netflix-sci-fi-movies-in-february-2025/)에서 확인할 수 있습니다.\n",
      "\n",
      "### 애플 TV+\n",
      "1. **Silo** - 디스토피아적인 underground 사회에서의 살인 사건을 조사하는 엔지니어의 이야기입니다.\n",
      "2. **Dark Matter** - 조엘 에저튼과 제니퍼 코넬리가 출연하는 스릴러입니다.\n",
      "3. **For All Mankind** - 우주 경쟁이 끝나지 않은 세계를 상상한 드라마입니다.\n",
      "4. **Foundation** - 은하 제국의 몰락 속에서 인류를 구하기 위한 망명자들의 이야기입니다.\n",
      "5. **The Gorge** - 마일스 텔러와 아냐 테일러 조이가 출연하는 SF 스릴러로, 2025년 2월 14일에 방영됩니다.\n",
      "\n",
      "자세한 내용은 [여기](https://tv.apple.com/us/room/apple-tv-sci-fi/edt.item.650b3154-accd-4b87-9f89-6bde117cee31)에서 확인할 수 있습니다.\n"
     ]
    }
   ],
   "source": [
    "print(result[\"output\"])"
   ],
   "metadata": {
    "collapsed": false,
    "ExecuteTime": {
     "end_time": "2025-02-17T07:47:42.256387Z",
     "start_time": "2025-02-17T07:47:42.253076Z"
    }
   },
   "id": "c152f047dde4cd6f",
   "execution_count": 8
  }
 ],
 "metadata": {
  "kernelspec": {
   "display_name": "Python 3",
   "language": "python",
   "name": "python3"
  },
  "language_info": {
   "codemirror_mode": {
    "name": "ipython",
    "version": 2
   },
   "file_extension": ".py",
   "mimetype": "text/x-python",
   "name": "python",
   "nbconvert_exporter": "python",
   "pygments_lexer": "ipython2",
   "version": "2.7.6"
  }
 },
 "nbformat": 4,
 "nbformat_minor": 5
}
