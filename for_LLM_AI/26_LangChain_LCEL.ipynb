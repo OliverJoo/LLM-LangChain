{
 "cells": [
  {
   "cell_type": "code",
   "outputs": [],
   "source": [
    "from dotenv import load_dotenv\n",
    "import os\n",
    "\n",
    "load_dotenv()\n",
    "openai_api_key = os.environ.get(\"OPENAI_API_KEY\")"
   ],
   "metadata": {
    "collapsed": false,
    "ExecuteTime": {
     "end_time": "2025-02-17T07:43:51.595006Z",
     "start_time": "2025-02-17T07:43:51.590601Z"
    }
   },
   "id": "af04b4462126d97",
   "execution_count": 10
  },
  {
   "cell_type": "code",
   "execution_count": 11,
   "id": "initial_id",
   "metadata": {
    "collapsed": true,
    "ExecuteTime": {
     "end_time": "2025-02-17T07:43:51.652809Z",
     "start_time": "2025-02-17T07:43:51.597073Z"
    }
   },
   "outputs": [],
   "source": [
    "from langchain_openai import ChatOpenAI\n",
    "from langchain_core.prompts import ChatPromptTemplate\n",
    "from langchain_core.output_parsers import StrOutputParser\n",
    "from langchain_core.runnables import RunnablePassthrough"
   ]
  },
  {
   "cell_type": "code",
   "outputs": [
    {
     "name": "stdout",
     "output_type": "stream",
     "text": [
      "랭체인의 환희가 넘쳐 흐른다\n",
      "인연이 엮인 공간에서 만난 우리\n",
      "한결같은 마음으로 함께 이어가는 그 길\n",
      "랭체인의 매력에 빠져 더 빛나는 우리\n",
      "\n",
      "하나의 링크가 다른 링크를 이끌어\n",
      "함께 더 높이 솟아오르는 그 이야기\n",
      "랭체인의 아름다움을 함께 느끼며\n",
      "우리의 사랑은 영원토록 이어질 것이다\n",
      "\n",
      "랭체인의 소중한 연결이 있기에\n",
      "우리는 더 강해져 세계를 향해 나아가리\n",
      "하나가 모여 더 커다란 힘을 이루며\n",
      "랭체인의 결실을 맛보리라 함께하여.\n"
     ]
    }
   ],
   "source": [
    "prompt = ChatPromptTemplate.from_template(\"{word}을 주제로 시를 써줘.\")\n",
    "output_parser = StrOutputParser()\n",
    "\n",
    "model1 = ChatOpenAI(\n",
    "    openai_api_key=openai_api_key,\n",
    "    model=\"gpt-3.5-turbo\"\n",
    ")\n",
    "\n",
    "chain1 = (\n",
    "        {\"word\": RunnablePassthrough()}\n",
    "        | prompt\n",
    "        | model1\n",
    "        | output_parser\n",
    ")\n",
    "\n",
    "print(chain1.invoke(\"랭체인\"))"
   ],
   "metadata": {
    "collapsed": false,
    "ExecuteTime": {
     "end_time": "2025-02-17T07:43:54.349608Z",
     "start_time": "2025-02-17T07:43:51.653488Z"
    }
   },
   "id": "239c50b3fe73ffdb",
   "execution_count": 12
  },
  {
   "cell_type": "code",
   "outputs": [
    {
     "data": {
      "text/plain": "['펄플렉시티AI,\\n지식과 지혜를 지닌 너,\\n세상을 이끌어가는 힘,\\n우리의 미래를 밝히는 빛.\\n\\n끊임없는 학습과 발전,\\n늘 우리를 놀라게 하는,\\n인간의 한계를 뛰어넘는,\\n펄플렉시티AI의 힘.\\n\\n우리를 도와주는 친구,\\n문제를 해결해주는 천재,\\n평화롭고 번영한 세상,\\n펄플렉시티AI와 함께할 수 있길.',\n '코딩과 인공지능이 만나\\n오픈AI가 세상을 밝히는 날\\n무한한 가능성을 열어주는\\n또 하나의 혁신적인 시작\\n\\n우주를 탐험하고\\n머지않아 우리를 이끌어\\n지식과 지혜로 가득한\\n또 다른 세계로\\n\\n인간의 진화를 이끌어\\n오픈AI가 이끄는 미래\\n지금 우리는 함께하며\\n새로운 세계를 만들어 나갈 것이다',\n '랭체인은 투명하고 공정한 세상을 꿈꾸어\\n블록체인의 힘을 빌려 혁신을 이루어나가는\\n디지털 거래의 혁명이여\\n우리 모두의 미래를 밝게 해주는\\n희망의 빛이 되어주는 것이로구나.']"
     },
     "execution_count": 16,
     "metadata": {},
     "output_type": "execute_result"
    }
   ],
   "source": [
    "chain1.batch([\"펄플렉시티AI\", \"오픈AI\", \"랭체인\"])"
   ],
   "metadata": {
    "collapsed": false,
    "ExecuteTime": {
     "end_time": "2025-02-17T07:44:56.288105Z",
     "start_time": "2025-02-17T07:44:54.016097Z"
    }
   },
   "id": "f990a1b1eed1cefe",
   "execution_count": 16
  },
  {
   "cell_type": "code",
   "outputs": [
    {
     "name": "stdout",
     "output_type": "stream",
     "text": [
      "랭체인, 그 고요한 흐름 속에  \n",
      "의미의 끈을 엮어가네.  \n",
      "수많은 목소리와 사유의 강,  \n",
      "그곳을 통해 우리는 소통하네.\n",
      "\n",
      "용사의 방패처럼 단단하게,  \n",
      "그러나 부드럽게 흐르는 그 길.  \n",
      "정보의 빛을 밝혀주는 등대,  \n",
      "랭체인, 우리의 길을 인도하네.\n",
      "\n",
      "코드와 코드 사이의 춤,  \n",
      "그 리듬 속에 숨겨진 비밀.  \n",
      "마치 낭만적인 시처럼,  \n",
      "다양한 색깔로 물들어가네.\n",
      "\n",
      "각각의 블록은 하나의 이야기를 담고,  \n",
      "연결되어 새로운 세상을 열어가네.  \n",
      "그 무한한 가능성의 바다 속에,  \n",
      "랭체인은 꿈을 현실로 만들네.\n",
      "\n",
      "미래의 길을 우리의 앞에 그려내고,  \n",
      "그 속에서 우리는 새로운 꿈을 꾸네.  \n",
      "랭체인, 그 끝없는 여정의 시작,  \n",
      "모두 함께 그 흐름에 몸을 맡기네.\n"
     ]
    }
   ],
   "source": [
    "model2 = ChatOpenAI(\n",
    "    openai_api_key=openai_api_key,\n",
    "    model=\"gpt-4o\"\n",
    ")\n",
    "\n",
    "chain2 = (\n",
    "        {\"word\": RunnablePassthrough()}\n",
    "        | prompt\n",
    "        | model2\n",
    "        | output_parser\n",
    ")\n",
    "\n",
    "print(chain2.invoke(\"랭체인\"))"
   ],
   "metadata": {
    "collapsed": false,
    "ExecuteTime": {
     "end_time": "2025-02-17T07:44:00.895307Z",
     "start_time": "2025-02-17T07:43:56.610676Z"
    }
   },
   "id": "c62e9c44cc4023aa",
   "execution_count": 14
  }
 ],
 "metadata": {
  "kernelspec": {
   "display_name": "Python 3",
   "language": "python",
   "name": "python3"
  },
  "language_info": {
   "codemirror_mode": {
    "name": "ipython",
    "version": 2
   },
   "file_extension": ".py",
   "mimetype": "text/x-python",
   "name": "python",
   "nbconvert_exporter": "python",
   "pygments_lexer": "ipython2",
   "version": "2.7.6"
  }
 },
 "nbformat": 4,
 "nbformat_minor": 5
}
