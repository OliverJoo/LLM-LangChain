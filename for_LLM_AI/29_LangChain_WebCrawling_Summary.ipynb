{
 "cells": [
  {
   "cell_type": "code",
   "execution_count": 21,
   "id": "initial_id",
   "metadata": {
    "collapsed": true,
    "ExecuteTime": {
     "end_time": "2025-02-28T08:06:50.153059Z",
     "start_time": "2025-02-28T08:06:50.148215Z"
    }
   },
   "outputs": [
    {
     "data": {
      "text/plain": "False"
     },
     "execution_count": 21,
     "metadata": {},
     "output_type": "execute_result"
    }
   ],
   "source": [
    "from dotenv import load_dotenv\n",
    "\n",
    "load_dotenv()"
   ]
  },
  {
   "cell_type": "code",
   "outputs": [],
   "source": [
    "from langchain_community.document_loaders import SeleniumURLLoader\n",
    "from langchain_core.prompts import ChatPromptTemplate\n",
    "from langchain_core.output_parsers import StrOutputParser\n",
    "\n",
    "# from langchain_upstage import ChatUpstage\n",
    "from langchain_openai import ChatOpenAI"
   ],
   "metadata": {
    "collapsed": false,
    "ExecuteTime": {
     "end_time": "2025-02-28T08:06:50.157414Z",
     "start_time": "2025-02-28T08:06:50.154757Z"
    }
   },
   "id": "c919d6edc80b57ec",
   "execution_count": 22
  },
  {
   "cell_type": "code",
   "outputs": [
    {
     "name": "stdout",
     "output_type": "stream",
     "text": [
      "Loaded : https://wikibook.co.kr/vector-search/\n",
      "Loaded : https://wikibook.co.kr/llm-apps/\n",
      "Loaded : https://wikibook.co.kr/copilot/\n",
      "Loaded : https://wikibook.co.kr/my-chatgpt/\n",
      "Loaded : https://wikibook.co.kr/langchain/\n",
      "Total Loaded Count: 5\n"
     ]
    }
   ],
   "source": [
    "# 1st method\n",
    "import requests\n",
    "from bs4 import BeautifulSoup\n",
    "from langchain.docstore.document import Document\n",
    "from typing import List\n",
    "import time\n",
    "\n",
    "def simple_scrape(urls: List[str]) -> List[Document]:\n",
    "    # Set headers to mimic a browser\n",
    "    headers = {\n",
    "        \"User-Agent\": \"Mozilla/5.0 (Windows NT 10.0; Win64; x64) AppleWebKit/537.36 (KHTML, like Gecko) Chrome/120.0.0.0 Safari/537.36\",\n",
    "        \"Accept\": \"text/html,application/xhtml+xml,application/xml;q=0.9,image/avif,image/webp,*/*;q=0.8\",\n",
    "        \"Accept-Language\": \"ko-KR,ko;q=0.9,en-US;q=0.8,en;q=0.7\",\n",
    "        \"Referer\": \"https://www.google.com/\"\n",
    "    }\n",
    "    \n",
    "    documents = []\n",
    "    \n",
    "    for url in urls:\n",
    "        try:\n",
    "            # Add short delay between requests\n",
    "            time.sleep(1)\n",
    "            \n",
    "            # Send request\n",
    "            response = requests.get(url, headers=headers, timeout=10)\n",
    "            \n",
    "            if response.status_code == 200:\n",
    "                # Parse HTML and extract text\n",
    "                soup = BeautifulSoup(response.text, 'html.parser')\n",
    "                \n",
    "                # Remove script and style tags\n",
    "                for tag in soup([\"script\", \"style\"]):\n",
    "                    tag.decompose()\n",
    "                \n",
    "                # Extract text\n",
    "                text = soup.get_text(separator='\\n')\n",
    "                title = soup.title.string if soup.title else url\n",
    "                \n",
    "                # Create Document\n",
    "                doc = Document(page_content=text, metadata={\"source\": url, \"title\": title})\n",
    "                documents.append(doc)\n",
    "                print(f\"Loaded: {url}\")\n",
    "            else:\n",
    "                print(f\"Failed (status code {response.status_code}): {url}\")\n",
    "                \n",
    "        except Exception as e:\n",
    "            print(f\"Error: {url}, {str(e)}\")\n",
    "    \n",
    "    return documents\n",
    "\n",
    "# Usage example\n",
    "urls = [\n",
    "    \"https://wikibook.co.kr/vector-search/\",\n",
    "    \"https://wikibook.co.kr/llm-apps/\",\n",
    "    \"https://wikibook.co.kr/copilot/\",\n",
    "    \"https://wikibook.co.kr/my-chatgpt/\",\n",
    "    \"https://wikibook.co.kr/langchain/\"\n",
    "]\n",
    "\n",
    "docs = simple_scrape(urls)\n",
    "print(f\"Total Loaded Count: {len(docs)}\")"
   ],
   "metadata": {
    "collapsed": false,
    "ExecuteTime": {
     "end_time": "2025-02-28T08:12:31.457522Z",
     "start_time": "2025-02-28T08:12:25.139017Z"
    }
   },
   "id": "22e3134bce8ac0ca",
   "execution_count": 30
  },
  {
   "cell_type": "code",
   "outputs": [
    {
     "name": "stdout",
     "output_type": "stream",
     "text": [
      "Loaded: https://wikibook.co.kr/vector-search/\n",
      "Loaded: https://wikibook.co.kr/llm-apps/\n",
      "Loaded: https://wikibook.co.kr/copilot/\n",
      "Loaded: https://wikibook.co.kr/my-chatgpt/\n",
      "Loaded: https://wikibook.co.kr/langchain/\n"
     ]
    }
   ],
   "source": [
    "# 2nd method\n",
    "from selenium import webdriver\n",
    "from selenium.webdriver.chrome.options import Options\n",
    "import time\n",
    "\n",
    "# Set up Chrome options\n",
    "chrome_options = Options()\n",
    "chrome_options.add_argument(\"--headless\")  # Run in headless mode (optional)\n",
    "chrome_options.add_argument(\"--disable-blink-features=AutomationControlled\")\n",
    "# Change to a common browser User-Agent string\n",
    "chrome_options.add_argument(\"user-agent=Mozilla/5.0 (Windows NT 10.0; Win64; x64) \"\n",
    "                            \"AppleWebKit/537.36 (KHTML, like Gecko) \"\n",
    "                            \"Chrome/115.0.0.0 Safari/537.36\")\n",
    "\n",
    "# Initialize the Chrome driver with the specified options\n",
    "driver = webdriver.Chrome(options=chrome_options)\n",
    "\n",
    "urls = [\n",
    "    \"https://wikibook.co.kr/vector-search/\",\n",
    "    \"https://wikibook.co.kr/llm-apps/\",\n",
    "    \"https://wikibook.co.kr/copilot/\",\n",
    "    \"https://wikibook.co.kr/my-chatgpt/\",\n",
    "    \"https://wikibook.co.kr/langchain/\"\n",
    "]\n",
    "\n",
    "docs = []\n",
    "for url in urls:\n",
    "    try:\n",
    "        driver.get(url)\n",
    "        time.sleep(2)  # Wait for the page to fully load\n",
    "        docs.append(driver.page_source)\n",
    "        print(f\"Loaded: {url}\")\n",
    "    except Exception as e:\n",
    "        print(f\"Error fetching or processing {url}, exception: {e}\")\n",
    "\n",
    "driver.quit()"
   ],
   "metadata": {
    "collapsed": false,
    "ExecuteTime": {
     "end_time": "2025-02-28T08:08:06.897787Z",
     "start_time": "2025-02-28T08:07:49.879407Z"
    }
   },
   "id": "3c46f3216759e37f",
   "execution_count": 27
  },
  {
   "cell_type": "code",
   "outputs": [
    {
     "data": {
      "text/plain": "[Document(metadata={'source': 'https://wikibook.co.kr/vector-search/', 'title': '엘라스틱서치를 활용한 벡터 검색 실무 가이드 | 위키북스'}, page_content='\\n\\n\\n\\n\\n\\n\\n\\n\\n\\n\\n\\n\\n\\n엘라스틱서치를 활용한 벡터 검색 실무 가이드 | 위키북스\\n\\n\\n\\n\\n\\n\\n\\n\\n\\n\\n\\n\\n\\n\\n\\n\\n\\n\\n\\n\\n\\n\\n\\n\\n\\n\\n\\n\\n\\n\\n\\n\\n\\n\\n\\n\\n\\n\\n\\n\\n\\n\\n\\n\\n\\n\\n\\n\\n\\n\\n\\n\\n\\n\\n\\n\\n\\n\\n\\n\\n\\n\\n\\n\\n\\n\\n\\n\\n\\n\\n\\n\\n\\n\\n\\n\\n\\n\\n\\n\\n\\n\\n\\n\\n\\n\\n\\n\\n\\n\\n\\n\\n\\n\\n\\n\\n\\n\\n\\n\\n\\n\\n\\n\\n\\n\\n\\n\\n\\n\\n\\n\\n\\n\\n\\n\\n\\n\\n\\n\\n\\n\\n\\n\\n\\n\\n\\n\\n\\n\\n\\n\\n\\n\\n\\n\\n\\n\\n\\n\\n\\n\\n\\n\\n\\n\\n\\n\\n\\n\\n\\n\\n\\n\\n\\n\\n\\n\\n\\n\\nToggle navigation\\n\\n\\n\\n\\n\\n\\n\\n\\n\\n\\n\\n\\n\\n\\n\\n\\n\\n\\nAbout \\n\\n\\n\\n\\n회사 소개\\n\\n\\n찾아오시는 길\\n\\n\\n\\n\\n\\n\\n\\n\\n도서 시리즈 \\n\\n\\n\\n\\n헬로! 인공지능\\n\\n\\n\\n\\n메타버스\\n\\n\\n\\n\\n콘텐츠 크리에이션\\n\\n\\n\\n\\n그래픽 & 아트\\n\\n\\n\\n\\nwith AI\\n\\n\\n\\n\\n데이터 자격검정\\n\\n\\n\\n\\n생성형 AI 프로그래밍\\n\\n\\n\\n\\n위키미디어\\n\\n\\n\\n\\nbe 개발자\\n\\n\\n\\n\\nIT Leaders\\n\\n\\n\\n\\nTECH@NAVER\\n\\n\\n\\n\\nUX 디자인\\n\\n\\n\\n\\n게임 개발\\n\\n\\n\\n\\n네이버 스타트북\\n\\n\\n\\n\\n맥 & 라이프\\n\\n\\n\\n\\n시스템 & 네트워킹\\n\\n\\n\\n\\n어비의 실무노트\\n\\n\\n\\n\\n오픈소스 & 웹\\n\\n\\n\\n\\n웹동네\\n\\n\\n\\n\\n임베디드 & 모바일\\n\\n\\n\\n\\n프로그래밍 & 프랙티스\\n\\n\\n\\n\\n해킹 & 보안\\n\\n\\n\\n\\n유닉스 & 리눅스\\n\\n\\n\\n\\n데이터베이스 & 빅데이터\\n\\n\\n\\n\\n데이터 사이언스\\n\\n\\n\\n\\n러닝스쿨\\n\\n\\n\\n\\n클라우드 컴퓨팅\\n\\n\\n\\n\\nTECH@InsightCampus\\n\\n\\n\\n\\n\\n\\n\\n\\n전체 도서 목록\\n\\n\\n전자책\\n\\n\\n저자/역자 모집\\n\\n\\n도서 관련 문의\\n\\n\\n\\n\\n\\n\\n\\n\\n\\n\\n\\n\\n\\n\\n\\n\\n\\n\\n\\n\\n\\n\\n\\n\\n\\n\\n\\n\\n\\n\\n\\n\\n\\n\\n\\n\\n\\n\\n\\n\\n\\n\\n\\n\\n\\n\\n\\n\\n\\n\\n\\n\\n\\n\\n\\n\\n\\n\\n\\n\\n 도서 미리보기\\r\\n                    \\n\\n\\n\\n\\n\\n\\n\\n\\n\\n\\n 전자책\\r\\n                \\n\\n\\n\\n\\n\\n\\n\\n\\n 예제코드 다운로드\\r\\n                \\n\\n\\n\\n\\n\\n\\n\\n\\n\\n\\n엘라스틱서치를 활용한 벡터 검색 실무 가이드\\n\\n\\n자연어 처리와 생성형 AI, RAG를 위한 대규모 벡터 데이터베이스\\n\\n\\n\\n\\n\\n\\n\\n\\n엘라스틱\\n\\n\\n엘라스틱서치\\n\\n\\n벡터 검색\\n\\n\\n자연어 처리\\n\\n\\n가관측성\\n\\n\\n보안\\n\\n\\nRAG\\n\\n\\n챗GPT\\n\\n\\n\\n\\n\\n\\n바할딘 아자르미, 제프 베스탈 \\n지음\\n\\n\\n한우선, 백승민, 유태황 \\n옮김\\n\\n\\n\\n\\n오픈소스 & 웹 시리즈_115\\n\\n\\nISBN: 9791158395223\\n\\n\\n책 규격: 188*240*14mm\\n\\n\\n28,000원 |\\r\\n                2024년 6월 26일 발행 |\\r\\n                276쪽\\n\\n\\n\\n\\n\\n\\n\\n\\n\\n\\n\\n\\n\\n\\n\\n\\n\\n\\n\\n\\n\\n\\n\\n\\n\\n\\n\\n\\n\\n\\n\\n\\n\\n\\n\\n\\n\\n\\n책 소개\\n\\n\\n출판사 리뷰\\n\\n\\n지은이\\n\\n\\n옮긴이\\n\\n\\n목차\\n\\n\\n\\n\\n예제 코드\\n\\n\\n정오표\\n\\n\\n관련 자료\\n\\n\\n\\n\\n\\n\\n\\n\\n엘라스틱을 활용해 벡터 검색과 가관측성, 사이버 보안, 챗GPT 통합을 최적화하는 방법을 배워보자!\\n\\n\\n자연어 처리(NLP)는 주로 검색 사례에 활용되지만, 이 책은 벡터를 활용해 가관측성과 사이버 보안 같은 중요한 도메인 과제를 해결하는 데 영감을 주는 것이 목표입니다. 각 장은 벡터 검색과 엘라스틱을 통합해 검색 사례뿐만 아니라 가관측성과 사이버 보안 기능도 개선하는 데 초점을 맞춥니다.\\n\\n\\n이 책은 먼저 NLP와 NLP 프로세스에서 엘라스틱의 기능을 소개합니다. 다음으로 자원 요구사항을 파악하고 빠른 응답 시간을 위한 특정 페이지 캐시 요구사항과 함께 벡터가 밀집 벡터(dense vector) 유형에 어떻게 저장되는지 알아봅니다. 계속 읽다 보면 노드 스케일링, 설정 튜닝, Rally와 파이썬을 사용한 부하 테스트 등 머신러닝 모델 배포를 개선하려는 다양한 튜닝 기법과 전략을 발견하게 됩니다. 또한 이미지를 활용한 벡터 검색 기법, 성능 향상을 위한 모델 미세 조정, 엘라스틱서치에서 이미지 유사성 검색을 위한 CLIP 모델 사용법도 다룹니다. 마지막으로, RAG(retrieval-augmented generation, 검색 증강 생성)를 살펴보고 벡터화된 데이터, ELSER의 기능, RRF의 정제된 검색 메커니즘을 활용하는 데 챗GPT와 엘라스틱서치를 통합하는 방법을 배웁니다.\\n\\n\\n이 책을 다 읽고 나면 엘라스틱을 활용해 프로젝트에서 벡터 검색을 구현하고 최적화하는 데 필요한 모든 기술을 갖추게 됩니다.\\n\\n\\n★ 이 책에서 다루는 내용 ★\\n\\n\\n\\n\\n벡터 검색 기능을 활용해 성능 최적화하기\\n\\n\\n이미지 벡터 검색과 그 활용 분야 탐구하기\\n\\n\\n개인 식별 정보 탐지 및 마스킹하기\\n\\n\\n차세대 가관측성을 위한 로그 분석 및 검색 구현하기\\n\\n\\n사이버 보안을 위한 벡터 기반 봇 탐지 활용하기\\n\\n\\n벡터 공간 시각화 및 엘라스틱의 최신 검색 기능 살펴보기\\n\\n\\n스트림릿(Streamlit)을 활용한 RAG 강화 애플리케이션 구현하기\\n\\n\\n\\n\\n\\xa0\\n\\n\\n도서 상세 이미지\\n\\n\\n\\n\\n\\n\\n바할딘 아자르미 (Bahaaldine Azarmi)\\n\\n\\n일래스틱의 글로벌 고객 엔지니어링 부사장으로, 기업이 데이터 아키텍처, 분산 시스템, 머신러닝, 생성형 AI를 잘 활용하게 안내한다. 클라우드 사용에 중심을 둔 고객 엔지니어링팀을 이끌고 AI 분야에서 숙련된 커뮤니티를 구축하고 지식을 공유하여 영감을 주는 데 열정을 쏟고 있다.\\n\\n\\n제프 베스탈 (Jeff Vestal)\\n\\n\\n금융 거래 회사에서 10년 이상의 경력을 쌓으며 얻은 풍부한 배경지식과 일래스틱서치에 대한 폭넓은 경험을 갖추고 있다. 운영 능력, 엔지니어링 기술, 머신러닝 전문 지식이라는 독특한 조합을 가지고 있다. 일래스틱서치의 수석 고객 엔터프라이즈 아키텍트로 일하면서 일래스틱서치의 고급 검색 기능, 머신러닝 기능, 생성형 AI 통합을 활용해 사용자가 복잡한 데이터 문제를 실행할 수 있는 인사이트를 얻을 수 있도록 능숙하게 안내하는 혁신적인 솔루션을 만드는 데 탁월한 역량을 갖추고 있다.\\n\\n\\n한우선\\n\\n\\n삼성SDS 수석 엔지니어로, 다양한 대형 프로젝트와 솔루션 구축 업무를 수행했다. 현재는 생성형 AI 관련 개발을 리딩하고 있으며, AI를 활용한 고객 경험 향상에 앞장서고 있다.\\n\\n\\n백승민\\n\\n\\n삼성SDS에서 시멘틱 검색시스템 설계를 담당하고 있다. 엘라스틱을 활용한 업무를 수년간 진행했으며 최근에는 AI를 이해하고 활용하여 새로운 가치를 만들어내기 위해 발버둥치고 있다.\\n\\n\\n유태황\\n\\n\\n삼성SDS에서 소프트웨어 아키텍트 및 프로그래머로 일하고 있다. 스프링 부트, 카프카, 엘라스틱서치 등 다양한 백엔드 기술 스택 및 효율적인 아키텍처에 관심이 많다.\\n\\n\\n\\n\\n[1부] 벡터 검색의 기본\\n\\n\\n\\xa0\\n\\n\\n▣ 01: 벡터와 임베딩 소개\\n\\n\\n1.1 벡터 검색에서 지도 학습과 비지도 학습의 역할 살펴보기\\n\\n\\n___임베딩/벡터란 무엇인가요?\\n\\n\\n___벡터는 어떤 문제를 해결하는 데 사용하나요?\\n\\n\\n___개발자 환경\\n\\n\\n___허깅 페이스(Hugging Face)\\n\\n\\n___시장 환경과 개발자 경험의 가속화\\n\\n\\n1.2 사용 사례 및 적용 분야\\n\\n\\n___AI 기반 검색\\n\\n\\n___개체명 인식(NER)\\n\\n\\n___감성 분석\\n\\n\\n___텍스트 분류\\n\\n\\n___질의응답(QA)\\n\\n\\n___텍스트 요약\\n\\n\\n1.3 엘라스틱은 이 분야에서 어떤 역할을 하고 있나요?\\n\\n\\n___가관측성 및 사이버 보안에 대한 기본 개념\\n\\n\\n요약\\n\\n\\n\\xa0\\n\\n\\n▣ 02: 엘라스틱에서 벡터 검색 시작하기\\n\\n\\n2.1 벡터 검색 이전 엘라스틱에서의 검색 경험\\n\\n\\n___데이터 유형이 관련성에 미치는 영향\\n\\n\\n___관련성 모델\\n\\n\\n2.2 검색 경험의 발전\\n\\n\\n___키워드 기반 검색의 한계\\n\\n\\n___벡터 표현\\n\\n\\n2.3 새로운 벡터 데이터 유형과 벡터 검색 쿼리 API\\n\\n\\n___희소 벡터와 밀집 벡터\\n\\n\\n___엘라스틱 클라우드 시작하기\\n\\n\\n___밀집 벡터 매핑\\n\\n\\n___완전 탐색 kNN 검색(Brute-force kNN search)\\n\\n\\n___kNN search\\n\\n\\n요약\\n\\n\\n\\xa0\\n\\n\\n[2부] 고급 애플리케이션 및 성능 최적화\\n\\n\\n\\xa0\\n\\n\\n▣ 03: 엘라스틱에서의 모델 관리와 벡터 고려 사항\\n\\n\\n3.1 허깅 페이스\\n\\n\\n___모델 허브\\n\\n\\n___Datasets\\n\\n\\n___Spaces\\n\\n\\n3.2 Eland\\n\\n\\n___허깅 페이스에서 엘라스틱서치로 임베딩 모델 가져오기\\n\\n\\n___엘라스틱서치 인증 구성하기\\n\\n\\n___허깅 페이스 허브에서 모델 가져오기\\n\\n\\n___모델 다운로드\\n\\n\\n___엘라스틱서치 내부에 모델 적재하기\\n\\n\\n___모델 시작하기\\n\\n\\n___모델 배포하기\\n\\n\\n___질의 벡터 만들기\\n\\n\\n3.3 엘라스틱서치 내부에서 벡터 만들기\\n\\n\\n3.4 클러스터 자원 계획 수립하기\\n\\n\\n___CPU 및 메모리 관련 요구사항\\n\\n\\n___디스크 요구사항\\n\\n\\n___인덱스 디스크 사용량 분석 API\\n\\n\\n3.5 머신러닝 노드 용량\\n\\n\\n3.6 스토리지 효율성 전략\\n\\n\\n___차원 축소\\n\\n\\n___양자화\\n\\n\\n___source에서 dense_vector 제외하기\\n\\n\\n요약\\n\\n\\n\\xa0\\n\\n\\n▣ 04: 성능 튜닝 – 데이터를 통한 확인\\n\\n\\n4.1 NLP 모델 배포\\n\\n\\n___엘라스틱서치에 모델 적재하기\\n\\n\\n___모델 배포와 관련된 설정\\n\\n\\n4.2 부하 테스트\\n\\n\\n___Rally\\n\\n\\n___메모리(RAM) 사용량 예측\\n\\n\\n___속도 저하 문제 해결\\n\\n\\n요약\\n\\n\\n\\xa0\\n\\n\\n[3부] 특수 사용 사례\\n\\n\\n\\xa0\\n\\n\\n▣ 05: 이미지 검색\\n\\n\\n5.1 이미지 검색 개요\\n\\n\\n___이미지 검색 발전\\n\\n\\n___이미지 검색 방식\\n\\n\\n___벡터 유사도 검색의 역할\\n\\n\\n___이미지 검색 사례\\n\\n\\n5.2 이미지 벡터 검색\\n\\n\\n___이미지 벡터화\\n\\n\\n___엘라스틱서치에 이미지 벡터 색인하기\\n\\n\\n___k-최근접 이웃(kNN) 검색\\n\\n\\n___이미지 검색 분야의 해결 과제와 한계\\n\\n\\n5.3 벡터 검색을 위한 멀티모달(Multi-modal) 모델\\n\\n\\n___멀티모달의 필요성\\n\\n\\n___멀티모달 모델의 벡터 공간에 대한 이해\\n\\n\\n___OpenAI clip-ViT-B-32-multilingual-v1 모델 소개\\n\\n\\n___다양한 미디어 유형에 벡터 검색 적용하기\\n\\n\\n요약\\n\\n\\n\\xa0\\n\\n\\n▣ 06: 엘라스틱서치를 활용한 개인 식별 정보 제거\\n\\n\\n6.1 PII 및 제거(redaction) 개요\\n\\n\\n___PII가 포함될 수 있는 데이터 유형\\n\\n\\n___로그에 저장된 PII의 위험성\\n\\n\\n___PII가 유출 및 분실되는 유형\\n\\n\\n6.2 NER 모델과 정규식 패턴을 사용한 PII 제거\\n\\n\\n___NER 모델\\n\\n\\n___정규식 패턴\\n\\n\\n___PII 제거를 위한 NER 모델과 정규식(Grok) 패턴의 결합\\n\\n\\n6.3 엘라스틱서치의 PII 제거 파이프라인\\n\\n\\n___가짜 PII 만들기\\n\\n\\n___기본 파이프라인 설정\\n\\n\\n___기대 결과\\n\\n\\n6.4 PII 제거 파이프라인 확장 및 상세 설정을 위한 옵션\\n\\n\\n___기본 PII 예시 사용자 정의(customizing)하기\\n\\n\\n___신규 데이터 스트림을 위한 파이프라인 복제 및 신규 버전 만들기\\n\\n\\n___특정 데이터 세트를 위한 NER 모델 미세 조정\\n\\n\\n___맥락 인식 기술의 필요성과 적용 방법\\n\\n\\n요약\\n\\n\\n\\xa0\\n\\n\\n▣ 07: 벡터 기반 차세대 가관측성(Observability)\\n\\n\\n7.1 현대 소프트웨어 시스템에서 가관측성과 그 중요성에 대한 소개\\n\\n\\n___가관측성 - 주요 요소\\n\\n\\n___로그 분석과 가관측성에서의 그 역할\\n\\n\\n7.2 로그 분석에 벡터와 임베딩을 적용하는 새로운 접근 방식\\n\\n\\n___접근 방식 1 - 로그를 위한 기존 모델 훈련 또는 미세 조정\\n\\n\\n___접근 방식 2 - 사람이 이해할 수 있는 설명을 생성한 후 벡터화\\n\\n\\n7.3 로그 벡터화\\n\\n\\n___합성 로그\\n\\n\\n___OpenAI를 활용한 로그 확장\\n\\n\\n7.4 로그 시맨틱 검색\\n\\n\\n___로그 벡터 색인\\n\\n\\n___모델 적재\\n\\n\\n___수집 파이프라인\\n\\n\\n___시맨틱 검색\\n\\n\\n요약\\n\\n\\n\\xa0\\n\\n\\n▣ 08: 벡터와 임베딩이 사이버 보안 강화에 미치는 영향\\n\\n\\n8.1 이메일 피싱 탐지의 중요성 이해\\n\\n\\n___피싱이란?\\n\\n\\n___다양한 유형의 피싱 공격\\n\\n\\n___피싱 공격의 빈도에 관한 통계\\n\\n\\n___피싱 이메일 탐지의 도전과제\\n\\n\\n___자동 탐지의 역할\\n\\n\\n___자연어 처리 기술로 기존 기술 보완\\n\\n\\n8.2 ELSER 소개\\n\\n\\n8.3 생성형 AI에서 ELSER의 역할\\n\\n\\n8.4 엔론 이메일 데이터 세트 (ham 또는 spam)\\n\\n\\n8.5 ELSER가 작동하는 것을 보기\\n\\n\\n___하드웨어 고려 사항\\n\\n\\n___엘라스틱서치에 ELSER 모델 다운로드\\n\\n\\n___인덱스 설정과 데이터 수집 파이프라인 세팅\\n\\n\\n___ELSER를 활용한 시맨틱 검색\\n\\n\\n___ELSER의 한계점\\n\\n\\n요약\\n\\n\\n\\xa0\\n\\n\\n[4부] 혁신적인 통합과 미래 방향\\n\\n\\n\\xa0\\n\\n\\n▣ 09: 엘라스틱을 통한 검색 증강 생성\\n\\n\\n9.1 ELSER와 RRF를 활용한 RAG 강화 검색 준비하기\\n\\n\\n___ELSER를 활용한 시맨틱 검색\\n\\n\\n___RAG에 대한 필수 고려 사항 요약\\n\\n\\n___RRF를 활용한 ELSER 통합\\n\\n\\n___언어 모델과 RAG\\n\\n\\n9.2 심층 사례 연구 – RAG 기반 CookBot 만들기\\n\\n\\n___데이터 세트 개요 – Allrecipes.com 데이터 세트 살펴보기\\n\\n\\n___RAG 강화 검색을 위한 데이터 준비\\n\\n\\n___ELSER를 사용한 RRF 검색기\\n\\n\\n___검색기 활용 및 생성기 만들기\\n\\n\\n요약\\n\\n\\n\\xa0\\n\\n\\n▣ 10: 챗GPT용 엘라스틱 플러그인 구축하기\\n\\n\\n10.1 맥락의 기초\\n\\n\\n___동적 맥락의 패러다임\\n\\n\\n10.2 DCL 플러그인 – 구조와 작동 방식\\n\\n\\n10.3 DCL 구현하기\\n\\n\\n___엘라스틱 문서에서 최신 정보 가져오기\\n\\n\\n___Embedchain을 활용한 데이터 수준 높이기\\n\\n\\n___챗GPT와 통합해 실시간 대화 상대 만들기\\n\\n\\n___배포\\n\\n\\n요약\\n\\n\\n\\xa0\\n\\n\\n▣ 부록: 엘라스틱 가이드 GPT 만들기\\n\\n\\n\\n\\n\\n\\n\\n\\nGitHub 저장소: \\nhttps://github.com/wikibook/vector-search\\n\\n\\nZIP 형식으로 다운로드: \\nhttps://github.com/wikibook/vector-search/archive/refs/heads/main.zip\\n\\n\\n\\n\\n\\n\\n\\n\\n\\n\\n\\n\\n\\n\\n\\n\\n\\n\\n\\n\\n\\n\\n\\n\\n\\n\\n\\n\\n\\n\\n\\n\\n저자/역자 모집\\n\\n\\n\\n\\n\\n\\n\\n\\n\\n\\n\\n\\n도서 관련 문의\\n\\n\\n\\n\\n\\n\\n\\n\\n\\n\\n\\n\\n\\n\\n\\n\\n\\n\\n\\n\\n\\n\\n\\n\\n\\n\\n\\n\\n\\n\\n\\n\\n \\n위키북스\\n\\n\\n\\n\\n \\n저자/역자 모집\\n\\n\\n\\n\\n\\n\\n \\nwikibook@wikibook.co.kr\\n\\n\\n\\n\\n\\n\\n \\n찾아오시는 길\\n\\n\\n경기도 파주시 문발로 115 세종출판벤처타운 311호 위키북스\\n\\n\\n115, Munbal-ro, Paju-si, Gyeonggi-do, 10881, Rep. of KOREA\\n\\n\\n\\n\\n\\n\\n 연락처\\n          \\nTel: \\n031-955-3658\\n, \\n3659\\nFax: 031-955-3660\\n\\n\\n\\n\\n\\n\\n 이메일\\n          \\nwikibook@wikibook.co.kr\\n\\n\\n\\n\\n\\n\\n SNS\\n          \\n\\n\\n\\n\\n \\n인스타그램\\n\\n\\n\\n\\n\\n\\n \\n네이버 카페\\n\\n\\n\\n\\n\\n\\n\\n\\n \\n개인정보취급방침\\n\\n\\n\\n\\n\\n\\n\\n\\n\\n\\n\\n\\n@devsfarm 님의 트윗\\n\\n\\n\\n\\n\\n\\n\\n\\n\\n\\n\\n\\n\\n\\n위키북스\\n\\n\\n\\n\\n\\n\\n\\n\\n\\n\\n\\n\\n\\n\\n\\n\\nCopyright © 2007-2025 위키북스. All Rights Reserved.\\n\\n\\n\\n\\n\\n\\n\\n\\n\\n\\n\\n\\n\\n\\n\\n\\n\\n\\n\\n\\n\\n\\n\\n\\n\\n\\n\\n\\n\\n\\n\\n\\n\\n\\n\\n\\n\\n\\n\\n\\n\\n\\n\\n\\n\\n\\n\\n'),\n Document(metadata={'source': 'https://wikibook.co.kr/llm-apps/', 'title': '챗GPT와 랭체인을 활용한 LLM 기반 AI 앱 개발 | 위키북스'}, page_content='\\n\\n\\n\\n\\n\\n\\n\\n\\n\\n\\n\\n\\n\\n챗GPT와 랭체인을 활용한 LLM 기반 AI 앱 개발 | 위키북스\\n\\n\\n\\n\\n\\n\\n\\n\\n\\n\\n\\n\\n\\n\\n\\n\\n\\n\\n\\n\\n\\n\\n\\n\\n\\n\\n\\n\\n\\n\\n\\n\\n\\n\\n\\n\\n\\n\\n\\n\\n\\n\\n\\n\\n\\n\\n\\n\\n\\n\\n\\n\\n\\n\\n\\n\\n\\n\\n\\n\\n\\n\\n\\n\\n\\n\\n\\n\\n\\n\\n\\n\\n\\n\\n\\n\\n\\n\\n\\n\\n\\n\\n\\n\\n\\n\\n\\n\\n\\n\\n\\n\\n\\n\\n\\n\\n\\n\\n\\n\\n\\n\\n\\n\\n\\n\\n\\n\\n\\n\\n\\n\\n\\n\\n\\n\\n\\n\\n\\n\\n\\n\\n\\n\\n\\n\\n\\n\\n\\n\\n\\n\\n\\n\\n\\n\\n\\n\\n\\n\\n\\n\\n\\n\\n\\n\\n\\n\\n\\n\\n\\n\\n\\n\\n\\n\\n\\n\\n\\n\\nToggle navigation\\n\\n\\n\\n\\n\\n\\n\\n\\n\\n\\n\\n\\n\\n\\n\\n\\n\\n\\nAbout \\n\\n\\n\\n\\n회사 소개\\n\\n\\n찾아오시는 길\\n\\n\\n\\n\\n\\n\\n\\n\\n도서 시리즈 \\n\\n\\n\\n\\n헬로! 인공지능\\n\\n\\n\\n\\n메타버스\\n\\n\\n\\n\\n콘텐츠 크리에이션\\n\\n\\n\\n\\n그래픽 & 아트\\n\\n\\n\\n\\nwith AI\\n\\n\\n\\n\\n데이터 자격검정\\n\\n\\n\\n\\n생성형 AI 프로그래밍\\n\\n\\n\\n\\n위키미디어\\n\\n\\n\\n\\nbe 개발자\\n\\n\\n\\n\\nIT Leaders\\n\\n\\n\\n\\nTECH@NAVER\\n\\n\\n\\n\\nUX 디자인\\n\\n\\n\\n\\n게임 개발\\n\\n\\n\\n\\n네이버 스타트북\\n\\n\\n\\n\\n맥 & 라이프\\n\\n\\n\\n\\n시스템 & 네트워킹\\n\\n\\n\\n\\n어비의 실무노트\\n\\n\\n\\n\\n오픈소스 & 웹\\n\\n\\n\\n\\n웹동네\\n\\n\\n\\n\\n임베디드 & 모바일\\n\\n\\n\\n\\n프로그래밍 & 프랙티스\\n\\n\\n\\n\\n해킹 & 보안\\n\\n\\n\\n\\n유닉스 & 리눅스\\n\\n\\n\\n\\n데이터베이스 & 빅데이터\\n\\n\\n\\n\\n데이터 사이언스\\n\\n\\n\\n\\n러닝스쿨\\n\\n\\n\\n\\n클라우드 컴퓨팅\\n\\n\\n\\n\\nTECH@InsightCampus\\n\\n\\n\\n\\n\\n\\n\\n\\n전체 도서 목록\\n\\n\\n전자책\\n\\n\\n저자/역자 모집\\n\\n\\n도서 관련 문의\\n\\n\\n\\n\\n\\n\\n\\n\\n\\n\\n\\n\\n\\n\\n\\n\\n\\n\\n\\n\\n\\n\\n\\n\\n\\n\\n\\n\\n\\n\\n\\n\\n\\n\\n\\n\\n\\n\\n\\n\\n\\n\\n\\n\\n\\n\\n\\n\\n\\n\\n\\n\\n\\n\\n\\n\\n\\n\\n\\n\\n 도서 미리보기\\r\\n                    \\n\\n\\n\\n\\n\\n\\n\\n\\n\\n\\n 전자책\\r\\n                \\n\\n\\n\\n\\n\\n\\n\\n\\n 예제코드 다운로드\\r\\n                \\n\\n\\n\\n\\n\\n\\n\\n\\n\\n\\n챗GPT와 랭체인을 활용한 LLM 기반 AI 앱 개발\\n\\n\\n랭체인 기초부터 슬랙 앱 제작과 배포까지, 실무 중심의 LLM 애플리케이션 구축\\n\\n\\n\\n\\n\\n\\n\\n\\n챗GPT\\n\\n\\n랭체인\\n\\n\\nChatGPT\\n\\n\\nLLM\\n\\n\\n대규모 언어 모델\\n\\n\\n슬랙\\n\\n\\nOpenAI\\n\\n\\n\\n\\n\\n\\n요시다 신고, 오시마 유키 \\n지음\\n\\n\\n최용 \\n옮김\\n\\n\\n\\n\\n생성형 AI 프로그래밍 시리즈_007\\n\\n\\nISBN: 9791158395230\\n\\n\\n책 규격: 175*235*15mm\\n\\n\\n27,000원 |\\r\\n                2024년 6월 5일 발행 |\\r\\n                300쪽\\n\\n\\n\\n\\n\\n\\n\\n\\n\\n\\n\\n\\n\\n\\n\\n\\n\\n\\n\\n\\n\\n\\n\\n\\n\\n\\n\\n\\n\\n\\n\\n\\n\\n\\n\\n\\n\\n\\n책 소개\\n\\n\\n출판사 리뷰\\n\\n\\n지은이\\n\\n\\n옮긴이\\n\\n\\n목차\\n\\n\\n\\n\\n예제 코드\\n\\n\\n정오표\\n\\n\\n관련 자료\\n\\n\\n\\n\\n\\n\\n\\n\\n챗GPT와 랭체인으로 프로덕션 수준의 LLM 애플리케이션 만들기!\\n\\n\\n이 책은 챗GPT와 랭체인 프레임워크를 이용해 대규모 언어 모델(LLM)을 실제로 사용할 수 있는 수준의 애플리케이션에 통합하는 방법을 단계별 실습을 통해 알려줍니다. OpenAI API와 랭체인의 기본 개념부터 웹 애플리케이션과 슬랙 앱 구현, 그리고 프로덕션 환경에 배포하기까지 실전 사례를 중심으로 LLM 애플리케이션 개발의 전 과정을 익힐 수 있습니다. 또한 벡터 데이터베이스, 서버리스 아키텍처 등 최신 기술의 활용법과 보안, 개인정보보호 등 실무에 필요한 노하우도 배울 수 있습니다. 이 책을 통해 여러분도 LLM의 무한한 잠재력을 현실에 적용할 수 있는 개발자로 한 걸음 더 나아갈 수 있을 것입니다.\\n\\n\\n★ 이 책에서 다루는 내용 ★\\n\\n\\n\\n\\n챗GPT API와 랭체인 프레임워크의 기본 개념과 사용법\\n\\n\\n프롬프트 엔지니어링 기법으로 LLM의 성능 끌어올리기  \\n\\n\\n외부 검색과 대화 기록을 활용한 웹 애플리케이션 개발\\n\\n\\n스트리밍 응답과 슬랙 앱 통합으로 실용성 높은 챗봇 구현\\n\\n\\n벡터 데이터베이스와 검색으로 자체 데이터에 기반한 질의응답 시스템 구축\\n\\n\\nAWS 람다와 서버리스 프레임워크를 활용한 프로덕션 환경 배포\\n\\n\\nLLM 애플리케이션의 테스트와 평가 및 보안 대책\\n\\n\\n\\n\\n\\xa0\\n\\n\\n도서 상세 이미지\\n\\n\\n\\n\\n\\n\\n요시다 신고\\n\\n\\n주식회사 사이다스 이사 CTO/주식회사 섹션나인 대표이사 CEO. 일본 챗GPT 커뮤니티를 주최한다. HCM Suite ‘CYDAS PEOPLE’의 개발 및 운영을 맡고 있다. 서버리스 기술 커뮤니티를 주최해 일본에서의 서버리스 보급을 촉진하고 있다.\\n\\n\\n오시마 유키\\n\\n\\n소프트웨어 엔지니어. IT 기업에서 프리랜서 엔지니어를 거쳐 회사를 세웠다. 현재는 현업에 종사하는 엔지니어의 스킬 향상을 주제로 스터디 모임 개최 및 교재 제작 활동을 하고 있다. 온라인 강좌 유데미 베스트셀러 강좌를 다수 보유하고 있다. AWS, 도커/쿠버네티스, 서버리스 기술 등을 다루는 ‘야생의’ 클라우드 네이티브 인재이며 최근에는 랭체인 전문가로 인정받고 있다. 스터디 커뮤니티인 StudyCo를 운영한다.\\n\\n\\n최용\\n\\n\\n한국방송통신대학교에서 컴퓨터과학을 전공하고 IT 시스템 운영을 자동화하는 소프트웨어의 기술 지원을 주로 했다. 프로그래밍 책을 쓰고 번역하다가 IT 전문 출판사의 편집자가 됐다. 데이터 분석과 인공지능 책을 주로 담당하며, 업무 생산성을 높이는 데에 관심이 많다. 누구나 챗GPT를 활용해 자신의 이야기를 책으로 쓸 수 있게 도우려 개발한 ‘Book Creator Guide’ GPT가 OpenAI의 추천을 받아 글쓰기 부문 상위권에 올랐다. 저자/번역자로서 《OpenAI API와 파이썬으로 나만의 챗GPT 만들기》 《랭체인 완벽 입문》(위키북스, 2024), 《Hello IT 파이썬을 제대로 활용해보려고 해》(패스트캠퍼스, 2022) 등을 냈고, 위키독스에 ‘전뇌해커’라는 필명으로 전자책을 쓴다. 서울사이버대학교 드론·로봇융합학과에 재학 중이다.\\n\\n\\n\\n\\n▣ 1장: 대규모 언어 모델(LLM)을 이용한 애플리케이션을 개발하고 싶다!\\n\\n\\n1.1 챗GPT를 사용해 보자\\n\\n\\n1.2 프롬프트로 할 수 있는 일\\n\\n\\n__일상 업무에 활용해 보자\\n\\n\\n1.3 프로그래밍에 활용해 보자\\n\\n\\n1.4 챗GPT 사용 시 주의 사항\\n\\n\\n1.5 챗GPT의 유료 플랜으로 할 수 있는 것들\\n\\n\\n__GPT-4\\n\\n\\n__브라우징\\n\\n\\n__데이터 분석\\n\\n\\n__챗GPT 외의 OpenAI 서비스\\n\\n\\n1.6 대규모 언어 모델(LLM)을 비즈니스에 활용\\n\\n\\n1.7 LLM을 활용한 비즈니스 및 응용 사례 소개\\n\\n\\n__사이다스 주식회사 사례: CYDAS PEOPLE Copilot Chat\\n\\n\\n__PingCAP 주식회사 사례: Chat2Query\\n\\n\\n__Alexa 기술 사례 (개인 개발) : helloGPT\\n\\n\\n__주식회사 소라콤 사례: SORACOM Harvest Data Intelligence\\n\\n\\n1.8 LLM을 이용한 애플리케이션 개발에서 주의해야 할 점\\n\\n\\n1.9 이 책에서 다루는 기술에 대하여\\n\\n\\n__랭체인\\n\\n\\n__클라우드 서비스 (특히 서버리스)\\n\\n\\n__슬랙 앱으로 협업을 촉진\\n\\n\\n요약\\n\\n\\n\\xa0\\n\\n\\n▣ 2장: 프롬프트 엔지니어링\\n\\n\\n2.1 왜 갑자기 프롬프트 엔지니어링?\\n\\n\\n__챗GPT의 프롬프트 엔지니어링\\n\\n\\n__애플리케이션 개발에서의 프롬프트 엔지니어링\\n\\n\\n__프롬프트 엔지니어링은 위험하지 않나?\\n\\n\\n2.2 프롬프트 엔지니어링이란?\\n\\n\\n2.3 프롬프트 구성 요소의 기초\\n\\n\\n__주제: 레시피 생성 AI 앱\\n\\n\\n__프롬프트 템플릿화\\n\\n\\n__명령과 입력 데이터의 분리\\n\\n\\n__문맥을 제공하기\\n\\n\\n__출력 형식 지정하기\\n\\n\\n__프롬프트 구성 요소 요약\\n\\n\\n2.4 Prompt Engineering Guide에서: 챗GPT의 무한한 잠재력을 이끌어내다\\n\\n\\n__Zero-shot 프롬프팅\\n\\n\\n__Few-shot 프롬프팅\\n\\n\\n__Zero-shot Chain of Thought 프롬프팅\\n\\n\\n요약\\n\\n\\n\\xa0\\n\\n\\n▣ 3장: 챗GPT의 API를 사용하는 방법\\n\\n\\n3.1 OpenAI의 문서 생성 모델\\n\\n\\n__챗GPT의 ‘모델’\\n\\n\\n__OpenAI의 API로 사용할 수 있는 문서 생성 모델\\n\\n\\n__모델 스냅숏\\n\\n\\n3.2 챗GPT의 API 기본 사항\\n\\n\\n__Chat Completions API\\n\\n\\n__Chat Completions API 요금\\n\\n\\n__발생된 요금 확인\\n\\n\\n3.3 입출력 길이 제한과 과금에 영향을 미치는 ‘토큰’\\n\\n\\n__토큰\\n\\n\\n__Tokenizer와 tiktoken 소개\\n\\n\\n__한국어의 토큰 수\\n\\n\\n3.4 Chat Completions API를 사용할 수 있는 환경 준비하기\\n\\n\\n__Google Colab이란?\\n\\n\\n__Google Colab 노트북 만들기\\n\\n\\n__OpenAI의 API 키 준비\\n\\n\\n3.5 Chat Completions API를 만져보기\\n\\n\\n__OpenAI의 라이브러리\\n\\n\\n__Chat Completions API 호출\\n\\n\\n__대화 기록에 기반한 응답 얻기\\n\\n\\n__응답을 스트리밍으로 받기\\n\\n\\n__기본 파라미터\\n\\n\\n3.6 Function calling\\n\\n\\n__Function calling 개요\\n\\n\\n__Function calling 샘플 코드\\n\\n\\n__파라미터 ‘function_call’\\n\\n\\n__Function calling을 응용한 JSON 생성\\n\\n\\n요약\\n\\n\\n\\xa0\\n\\n\\n▣ 4장: 랭체인 기초\\n\\n\\n4.1 랭체인 개요\\n\\n\\n__랭체인 사용 사례\\n\\n\\n__랭체인을 배우는 이유\\n\\n\\n__랭체인의 모듈\\n\\n\\n__랭체인 설치\\n\\n\\n4.2 Language models\\n\\n\\n__LLMs\\n\\n\\n__Chat Models\\n\\n\\n__Callback을 이용한 스트리밍\\n\\n\\n__언어 모델 요약\\n\\n\\n4.3 Prompts\\n\\n\\n__PromptTemplate\\n\\n\\n__ChatPromptTemplate\\n\\n\\n__Example selectors\\n\\n\\n__프롬프트 요약\\n\\n\\n4.4 Output parsers\\n\\n\\n__Output parsers 개요\\n\\n\\n__PydanticOutputParser를 이용해 Python 객체 가져오기\\n\\n\\n__Output parsers 요약\\n\\n\\n4.5 Chains\\n\\n\\n__LLMChain-PromptTemplate, Language model, OutputParser 연결하기\\n\\n\\n__SimpleSequentialChain-Chain과 Chain 연결하기\\n\\n\\n__Chains 요약\\n\\n\\n4.6 Memory\\n\\n\\n__ConversationBufferMemory\\n\\n\\n__더욱 편리한 Memory\\n\\n\\n__Memory 저장 위치\\n\\n\\n__Memory 요약\\n\\n\\n\\xa0\\n\\n\\n▣ 5장: 랭체인 활용\\n\\n\\n5.1 Data connection\\n\\n\\n__RAG(Retrieval Augmented Generation)\\n\\n\\n__Data connection 개요\\n\\n\\n__Document loaders\\n\\n\\n__Document transformers\\n\\n\\n__Text embedding models\\n\\n\\n__Vector stores\\n\\n\\n__Retrievers\\n\\n\\n__RetrievalQA(Chain)\\n\\n\\n__Data connection 요약\\n\\n\\n5.2 Agents\\n\\n\\n__Agents 개요\\n\\n\\n__Agents 사용 예시\\n\\n\\n__Agents의 작동 원리와 ReAct 개념\\n\\n\\n__Tools\\n\\n\\n__Toolkits\\n\\n\\n__Function calling을 사용하는 OpenAI Functions Agent\\n\\n\\n__한 번에 여러 도구를 사용하기\\n\\n\\n__Agents 요약\\n\\n\\n요약\\n\\n\\n\\xa0\\n\\n\\n▣ 6장: 외부 검색과 히스토리를 바탕으로 응답하는 웹 앱 구현하기\\n\\n\\n6.1 이번 장에서 구현할 응용 프로그램\\n\\n\\n__구현할 애플리케이션의 구성\\n\\n\\n__이 책으로 개발하는 방법\\n\\n\\n__AWS Cloud9 개요\\n\\n\\n__스트림릿 개요\\n\\n\\n__전체 코드\\n\\n\\n6.2 Cloud9 실행 및 개발 환경 구축하기\\n\\n\\n__Cloud9 환경 만들기\\n\\n\\n__깃허브 저장소 생성하기\\n\\n\\n__Cloud9과 깃허브 연동\\n\\n\\n__파이썬 환경 구축하기\\n\\n\\n6.3 스트림릿의 헬로 월드\\n\\n\\n6.4 사용자 입력 받기\\n\\n\\n6.5 입력 내용과 응답을 화면에 표시하기\\n\\n\\n6.6 대화 기록 보기\\n\\n\\n6.7 LangChain으로 OpenAI의 Chat Completions API 실행하기\\n\\n\\n6.8 Agent를 사용하여 필요에 따라 외부 정보 검색하게 하기\\n\\n\\n6.9 채팅 대화 기록을 바탕으로 응답하기\\n\\n\\n6.10 스트림릿 커뮤니티 클라우드에 배포\\n\\n\\n__종속 패키지 목록 작성\\n\\n\\n__깃허브에 소스 코드 업로드하기\\n\\n\\n__스트림릿 커뮤니티 클라우드에 배포하기\\n\\n\\n__다른 사용자 초대하기\\n\\n\\n요약\\n\\n\\n\\xa0\\n\\n\\n▣ 7장: 스트림 형식으로 히스토리를 기반으로 응답하는 슬랙 앱 구현\\n\\n\\n7.1 슬랙 앱을 만드는 이유\\n\\n\\n__어떤 구성으로 할까?\\n\\n\\n__개발 환경\\n\\n\\n__깃허브 저장소의 파일 구성\\n\\n\\n7.2 환경 준비\\n\\n\\n__Cloud9 환경 만들기\\n\\n\\n__깃허브에서 슬랙 앱용 저장소 생성하기\\n\\n\\n__파이썬 가상 환경 활성화하기\\n\\n\\n7.3 환경 설정 파일 만들기\\n\\n\\n7.4 슬랙 앱 새로 만들기\\n\\n\\n7.5 소켓 모드 활성화\\n\\n\\n7.6 애플리케이션 만들기\\n\\n\\n7.7 이벤트 설정하기\\n\\n\\n7.8 액션 전송 및 응답하기\\n\\n\\n7.9 스레드 내 답글 달기\\n\\n\\n7.10. OpenAI API 호출하기\\n\\n\\n7.11 스트리밍으로 응답하기\\n\\n\\n7.12 대화 기록 보관하기\\n\\n\\n__Momento Cache란?\\n\\n\\n7.13 Lazy 리스너에서 슬랙 재시도 전에 간단한 응답을 반환하는 방법\\n\\n\\n7.14 AWS Lambda에서 실행되는 핸들러 함수 만들기\\n\\n\\n7.15 chat.update API 제한 우회하기\\n\\n\\n7.16 AI 생성 메시지임을 표시하기\\n\\n\\n7.17 배포하기\\n\\n\\n7.18 Socket Mode에서 AWS Lambda로 전환하기\\n\\n\\n요약\\n\\n\\n\\xa0\\n\\n\\n▣ 8장: 사내 문서에 관해 답변하는 슬랙 앱 구현하기\\n\\n\\n8.1 챗GPT가 독자적인 지식으로 답변하게 한다\\n\\n\\n__파인튜닝과 RAG\\n\\n\\n__RAG 워크플로\\n\\n\\n__답변문 생성에 LLM이 필요한가?\\n\\n\\n__업무를 압박하는 ‘무언가를 찾는 시간’\\n\\n\\n__사내 데이터 정비하기\\n\\n\\n8.2 임베딩이란?\\n\\n\\n8.3 구현할 애플리케이션 개요\\n\\n\\n__완성판 소스코드\\n\\n\\n8.4 개발 환경 구축하기\\n\\n\\n__Cloud9의 디스크 공간이 부족할 때 확장하는 방법\\n\\n\\n8.5 샘플 데이터 준비\\n\\n\\n8.6 파인콘 설정\\n\\n\\n__파인콘이란?\\n\\n\\n__파인콘 이외의 벡터 데이터베이스\\n\\n\\n__파인콘 가입하기\\n\\n\\n8.7 파인콘에 벡터 데이터 저장하기\\n\\n\\n8.8 파인콘 검색 및 답변하기\\n\\n\\n8.9 대화 기록을 바탕으로 질의응답하기\\n\\n\\n__단순히 대화 기록을 넣어도 잘 작동하지 않는 경우\\n\\n\\n__대화 이력을 바탕으로 질문을 다시 작성한다.\\n\\n\\n8.10 RunnablePassthrough 사용하기\\n\\n\\n요약\\n\\n\\n\\xa0\\n\\n\\n▣ 9장: LLM 앱의 프로덕션 릴리스를 향해\\n\\n\\n9.1 기업에서 생성 AI를 활용하려면\\n\\n\\n9.2 공공기관·협회의 ‘생성형 AI 이용 가이드라인’을 바탕으로 자체 가이드라인 마련\\n\\n\\n__외부 서비스 이용 시 서비스 약관을 꼼꼼히 읽을 것\\n\\n\\n9.3 서비스 기획 및 설계 단계에서의 과제\\n\\n\\n__프로젝트 리스크 대응\\n\\n\\n9.4 테스트 및 평가에 대하여\\n\\n\\n__LLM 부분 평가 방법\\n\\n\\n__랭스미스의 성능 모니터링\\n\\n\\n9.5 보안 대책에 대하여\\n\\n\\n__OWASP Top 10 for Large Language Model Applications\\n\\n\\n__랭체인 코어의 취약점 제거에 대하여\\n\\n\\n9.6 개인 정보 보호 관점 및 일본의 개인정보 보호 제도\\n\\n\\n__개인정보보호법에서 규정한 본인 동의 및 목적 내 사용\\n\\n\\n__개인정보 보호에 관한 ‘결정지향적’ 이익모델과 정보적 타자성으로부터의 자유에 대하여\\n\\n\\n9.7 EU에서 규정한 금지 AI 및 고위험 AI 처리 동향\\n\\n\\n\\xa0\\n\\n\\n▣ 부록A: 웹 앱, 슬랙 앱 개발 환경 구축\\n\\n\\nA.1 AWS 가입\\n\\n\\nA.2 Cloud9 환경 생성\\n\\n\\n__Cloud9 요금 설명\\n\\n\\nA.3 Cloud9와 깃허브 연동\\n\\n\\n__깃허브와 SSH 설정\\n\\n\\n__Git 사용자 설정\\n\\n\\n__깃허브에서 저장소 복제하기\\n\\n\\nA.4 Cloud9에서 파이썬 환경 구축\\n\\n\\n__pyenv 설치\\n\\n\\n__Python 3.10 설치\\n\\n\\n__Python 3.10을 사용하기 위한 절차\\n\\n\\n__가상 환경에 대하여\\n\\n\\nA.5 Momento 가입\\n\\n\\n\\xa0\\n\\n\\n▣ 부록B: 랭체인의 새로운 표기법 ‘랭체인 표현 언어(LCEL)’ 소개\\n\\n\\nB.1 LCEL(LangChain Expression Language)이란?\\n\\n\\nB.2 LCEL의 기본 사용법\\n\\n\\n__prompt와 model을 연결하기\\n\\n\\n__output_parser 연결\\n\\n\\nB.3 LCEL의 작동 방식\\n\\n\\nB.4 약간 더 복잡한 LCEL 예제\\n\\n\\n__규칙 기반 처리(일반 함수) 끼워 넣기\\n\\n\\n__RAG(검색 증강 생성)\\n\\n\\nB.5 결론\\n\\n\\n\\n\\n\\n\\n\\n\\nGitHub 저장소: \\nhttps://github.com/ychoi-kr/langchain-book\\n\\n\\nZIP 형식으로 다운로드: \\nhttps://github.com/ychoi-kr/langchain-book/archive/refs/heads/main.zip\\n\\n\\n\\n\\n\\n\\n\\n\\n107쪽, 페이지 하단 예제 코드의 3번째 줄\\n\\n\\ndef file_filter(file_path): def file_filter(file_path):\\n\\n\\n==>\\n\\n\\ndef file_filter(file_path):\\n\\n\\n\\n\\n\\n\\n138쪽, 그림 6.2를 다음 그림으로 교체\\n\\n\\n\\n\\n\\n\\n\\n\\n\\n\\n\\n\\n\\n\\n\\n\\n\\n\\n\\n\\n\\n\\n\\n\\n\\n\\n\\n\\n\\n\\n\\n\\n\\n\\n저자/역자 모집\\n\\n\\n\\n\\n\\n\\n\\n\\n\\n\\n\\n\\n도서 관련 문의\\n\\n\\n\\n\\n\\n\\n\\n\\n\\n\\n\\n\\n\\n\\n\\n\\n\\n\\n\\n\\n\\n\\n\\n\\n\\n\\n\\n\\n\\n\\n\\n\\n \\n위키북스\\n\\n\\n\\n\\n \\n저자/역자 모집\\n\\n\\n\\n\\n\\n\\n \\nwikibook@wikibook.co.kr\\n\\n\\n\\n\\n\\n\\n \\n찾아오시는 길\\n\\n\\n경기도 파주시 문발로 115 세종출판벤처타운 311호 위키북스\\n\\n\\n115, Munbal-ro, Paju-si, Gyeonggi-do, 10881, Rep. of KOREA\\n\\n\\n\\n\\n\\n\\n 연락처\\n          \\nTel: \\n031-955-3658\\n, \\n3659\\nFax: 031-955-3660\\n\\n\\n\\n\\n\\n\\n 이메일\\n          \\nwikibook@wikibook.co.kr\\n\\n\\n\\n\\n\\n\\n SNS\\n          \\n\\n\\n\\n\\n \\n인스타그램\\n\\n\\n\\n\\n\\n\\n \\n네이버 카페\\n\\n\\n\\n\\n\\n\\n\\n\\n \\n개인정보취급방침\\n\\n\\n\\n\\n\\n\\n\\n\\n\\n\\n\\n\\n@devsfarm 님의 트윗\\n\\n\\n\\n\\n\\n\\n\\n\\n\\n\\n\\n\\n\\n\\n위키북스\\n\\n\\n\\n\\n\\n\\n\\n\\n\\n\\n\\n\\n\\n\\n\\n\\nCopyright © 2007-2025 위키북스. All Rights Reserved.\\n\\n\\n\\n\\n\\n\\n\\n\\n\\n\\n\\n\\n\\n\\n\\n\\n\\n\\n\\n\\n\\n\\n\\n\\n\\n\\n\\n\\n\\n\\n\\n\\n\\n\\n\\n\\n\\n\\n\\n\\n\\n\\n\\n\\n\\n\\n\\n'),\n Document(metadata={'source': 'https://wikibook.co.kr/copilot/', 'title': 'AI 코딩 어시스턴트 깃허브 코파일럿 제대로 활용하기 | 위키북스'}, page_content='\\n\\n\\n\\n\\n\\n\\n\\n\\n\\n\\n\\n\\n\\nAI 코딩 어시스턴트 깃허브 코파일럿 제대로 활용하기 | 위키북스\\n\\n\\n\\n\\n\\n\\n\\n\\n\\n\\n\\n\\n\\n\\n\\n\\n\\n\\n\\n\\n\\n\\n\\n\\n\\n\\n\\n\\n\\n\\n\\n\\n\\n\\n\\n\\n\\n\\n\\n\\n\\n\\n\\n\\n\\n\\n\\n\\n\\n\\n\\n\\n\\n\\n\\n\\n\\n\\n\\n\\n\\n\\n\\n\\n\\n\\n\\n\\n\\n\\n\\n\\n\\n\\n\\n\\n\\n\\n\\n\\n\\n\\n\\n\\n\\n\\n\\n\\n\\n\\n\\n\\n\\n\\n\\n\\n\\n\\n\\n\\n\\n\\n\\n\\n\\n\\n\\n\\n\\n\\n\\n\\n\\n\\n\\n\\n\\n\\n\\n\\n\\n\\n\\n\\n\\n\\n\\n\\n\\n\\n\\n\\n\\n\\n\\n\\n\\n\\n\\n\\n\\n\\n\\n\\n\\n\\n\\n\\n\\n\\n\\n\\n\\n\\n\\n\\n\\n\\n\\n\\nToggle navigation\\n\\n\\n\\n\\n\\n\\n\\n\\n\\n\\n\\n\\n\\n\\n\\n\\n\\n\\nAbout \\n\\n\\n\\n\\n회사 소개\\n\\n\\n찾아오시는 길\\n\\n\\n\\n\\n\\n\\n\\n\\n도서 시리즈 \\n\\n\\n\\n\\n헬로! 인공지능\\n\\n\\n\\n\\n메타버스\\n\\n\\n\\n\\n콘텐츠 크리에이션\\n\\n\\n\\n\\n그래픽 & 아트\\n\\n\\n\\n\\nwith AI\\n\\n\\n\\n\\n데이터 자격검정\\n\\n\\n\\n\\n생성형 AI 프로그래밍\\n\\n\\n\\n\\n위키미디어\\n\\n\\n\\n\\nbe 개발자\\n\\n\\n\\n\\nIT Leaders\\n\\n\\n\\n\\nTECH@NAVER\\n\\n\\n\\n\\nUX 디자인\\n\\n\\n\\n\\n게임 개발\\n\\n\\n\\n\\n네이버 스타트북\\n\\n\\n\\n\\n맥 & 라이프\\n\\n\\n\\n\\n시스템 & 네트워킹\\n\\n\\n\\n\\n어비의 실무노트\\n\\n\\n\\n\\n오픈소스 & 웹\\n\\n\\n\\n\\n웹동네\\n\\n\\n\\n\\n임베디드 & 모바일\\n\\n\\n\\n\\n프로그래밍 & 프랙티스\\n\\n\\n\\n\\n해킹 & 보안\\n\\n\\n\\n\\n유닉스 & 리눅스\\n\\n\\n\\n\\n데이터베이스 & 빅데이터\\n\\n\\n\\n\\n데이터 사이언스\\n\\n\\n\\n\\n러닝스쿨\\n\\n\\n\\n\\n클라우드 컴퓨팅\\n\\n\\n\\n\\nTECH@InsightCampus\\n\\n\\n\\n\\n\\n\\n\\n\\n전체 도서 목록\\n\\n\\n전자책\\n\\n\\n저자/역자 모집\\n\\n\\n도서 관련 문의\\n\\n\\n\\n\\n\\n\\n\\n\\n\\n\\n\\n\\n\\n\\n\\n\\n\\n\\n\\n\\n\\n\\n\\n\\n\\n\\n\\n\\n\\n\\n\\n\\n\\n\\n\\n\\n\\n\\n\\n\\n\\n\\n\\n\\n\\n\\n\\n\\n\\n\\n\\n\\n\\n\\n\\n\\n\\n\\n\\n\\n 도서 미리보기\\r\\n                    \\n\\n\\n\\n\\n\\n\\n\\n\\n\\n\\n 전자책\\r\\n                \\n\\n\\n\\n\\n\\n\\n\\n\\n 예제코드 다운로드\\r\\n                \\n\\n\\n\\n\\n\\n\\n\\n\\n\\n\\nAI 코딩 어시스턴트 깃허브 코파일럿 제대로 활용하기\\n\\n\\n코딩, 설계, 테스트, 디버깅까지 깃허브 코파일럿 & 챗GPT와 함께하는 생성형 AI 페어 프로그래밍\\n\\n\\n\\n\\n\\n\\n\\n\\n코파일럿\\n\\n\\nCopilot\\n\\n\\n깃허브\\n\\n\\n코딩 어시스턴트\\n\\n\\n챗GPT\\n\\n\\n페어 프로그래밍\\n\\n\\n\\n\\n\\n\\n레오 포터, 다니엘 진가로 \\n지음\\n\\n\\n김연지 \\n옮김\\n\\n\\n\\n\\n생성형 AI 프로그래밍 시리즈_006\\n\\n\\nISBN: 9791158395209\\n\\n\\n책 규격: 188*240*15mm\\n\\n\\n28,000원 |\\r\\n                2024년 5월 21일 발행 |\\r\\n                360쪽\\n\\n\\n\\n\\n\\n\\n\\n\\n\\n\\n\\n\\n\\n\\n\\n\\n\\n\\n\\n\\n\\n\\n\\n\\n\\n\\n\\n\\n\\n\\n\\n\\n\\n\\n\\n\\n\\n\\n책 소개\\n\\n\\n출판사 리뷰\\n\\n\\n지은이\\n\\n\\n옮긴이\\n\\n\\n목차\\n\\n\\n\\n\\n예제 코드\\n\\n\\n정오표\\n\\n\\n관련 자료\\n\\n\\n\\n\\n\\n\\n\\n\\n무한한 잠재력을 지닌 AI 지원 코딩 도구를 사용해 효율적으로 코딩하세요!\\n\\n\\n컴퓨터 프로그램을 작성하는 방식이 완전히 바뀌었습니다. 깃허브 코파일럿(GitHub Copilot)은 사람의 말로 프로그램이 수행하기를 원하는 작업을 설명하면 AI가 즉시 코드를 생성합니다.\\n\\n\\n이 책은 코드를 작성해 본 적이 없는 사람도 AI를 사용해 파이썬 프로그램을 만들고 개선할 수 있는 길을 보여줍니다. 프로그래밍의 자잘한 세부 사항에 시간을 낭비하는 대신, AI 어시스턴트로 아이디어를 즉시 실현하는 방법을 배워보세요. 책을 따라 하다 보면 AI 어시스턴트가 생성하는 내용을 이해하고 개선할 수 있을 만큼 파이썬 언어도 익힐 수 있습니다.\\n\\n\\n컴퓨터에서 파일을 옮기고 새로운 프로그램을 설치할 수 있는 사람이라면 누구나 유용한 소프트웨어 작성법을 배울 수 있습니다!\\n\\n\\n★ 이 책에서 다루는 내용 ★\\n\\n\\n\\n\\n작업 코드에 대한 프롬프트\\n\\n\\nAI의 도움을 받아 수동으로 코드 수정하기\\n\\n\\n프로그램에 대한 AI 테스트\\n\\n\\n지루한 세부 작업을 AI에 맡기기\\n\\n\\n\\n\\n★ 추천사 ★\\n\\n\\n\\n\\n\"...프로그래밍의 기초와 AI 도구를 사용한 효과적인 코드 생성 방법을 탁월하게 결합해 설명합니다.\" - 메흐란 사하미, 스태퍼드 대학교\\n\\n\\n\"이제 막 생성형 AI 도구를 사용한 코딩을 시작한 사람의 입장에서 이 책은 정말 잘 구성된 책입니다.\" - 애나 벨, MIT\\n\\n\\n\"금세기의 가장 흥미로운 인간 작업 도우미인 인공지능과 함께 프로그래밍을 배우게 될 것입니다...” - 베스 사이먼, UC 샌디에이고, 서문 중에서\\n\\n\\n\"이 책은 제가 생각했던 것 이상으로 코파일럿을 사용한 프로그래밍 학습을 깊이 있게 다룹니다.\" - 오스틴 Z.헨리, Microsoft\\n\\n\\n\\n\\n\\xa0\\n\\n\\n도서 상세 이미지\\n\\n\\n\\n\\n\\n\\n레오 포터 (Leo Porter)\\n\\n\\n레오 포터 박사는 UC 샌디에이고 대학교의 컴퓨터 과학과 부교수이다. 10년 이상의 경력을 보유하고 있으며 컴퓨터 과학의 효과적인 교수법과 학습 능력 평가에 관한 연구로 권위 있는 교육 및 연구상을 여러 차례 받았다.\\n\\n\\n다니엘 진가로 (Daniel Zingaro)\\n\\n\\n다니엘 진가로 박사는 토론토 대학교의 컴퓨터 과학과 부교수이자 여러 수상 경력을 보유한 연구자다. 그의 주요 연구 분야는 컴퓨터 과학 및 컴퓨터 과학 교육으로, 학생들이 컴퓨터 과학을 학습하는 방법을 연구한다.\\n\\n\\n김연지\\n\\n\\n1987년에 태어나 경기도 광명에서 자랐다. 경제학과 국문학을 전공했고, 방송 및 컨설팅 회사에서 여러 데이터를 다뤘다. 현재는 프로그래밍 교육 분야에 종사하고 있다. 백 번 안 되던 코드가 돌아갈 때의 희열, 힙합과 문학, 드라마를 좋아한다. “Build Things that Build Things”라는 문장이 좌우명이다.\\n\\n\\n\\n\\n▣ 01장: 코파일럿을 이용한 AI 어시스턴트 프로그램 소개\\n\\n\\n1.1 컴퓨터와 대화하는 방법\\n\\n\\n__1.1.1 조금 더 쉽게 만들기\\n\\n\\n__1.1.2 훨씬 더 쉽게 만들기\\n\\n\\n1.2 기술 정보\\n\\n\\n__1.2.1 AI 어시스턴트, 코파일럿\\n\\n\\n__1.2.2 코파일럿이 코드를 생성할 때 보이지 않는 곳에서 동작하는 방식(30초 요약)\\n\\n\\n1.3 코파일럿이 바꾸게 될 프로그래밍 학습 방법\\n\\n\\n1.4 코파일럿이 제공하는 또 다른 기능들\\n\\n\\n1.5 코파일럿을 사용할 때의 주의점 및 과제\\n\\n\\n1.6 필요한 기술\\n\\n\\n1.7 코파일럿과 같은 AI 코드 어시스턴트에 대한 사회적 우려\\n\\n\\n\\xa0\\n\\n\\n▣ 02장: 코파일럿 시작하기\\n\\n\\n2.1 학습을 위한 개발 환경 설정하기\\n\\n\\n__2.1.1 개발 환경 개요\\n\\n\\n2.2 개발 환경 설정\\n\\n\\n2.3 VS Code에서 코파일럿으로 작업하기\\n\\n\\n__2.3.1 작업 폴더 설정\\n\\n\\n__2.3.2 설정이 제대로 동작하는지 확인\\n\\n\\n2.4 코파일럿을 사용할 때 자주 겪는 문제들\\n\\n\\n2.5 첫 번째 프로그래밍 실습\\n\\n\\n__2.5.1 데이터 처리 작업에서의 코파일럿의 유용성\\n\\n\\n\\xa0\\n\\n\\n▣ 03장: 기능 설계\\n\\n\\n3.1 함수\\n\\n\\n__3.1.1 함수의 구성 요소\\n\\n\\n__3.1.2 함수 사용\\n\\n\\n3.2 함수의 장점\\n\\n\\n3.3 함수의 역할\\n\\n\\n3.4 함수 사용이 적합한 작업은 무엇인가요?\\n\\n\\n__3.4.1 좋은 함수의 속성\\n\\n\\n__3.4.2 좋은 (그리고 나쁜) 리프 함수의 예\\n\\n\\n3.5 코파일럿을 사용한 함수 설계 주기\\n\\n\\n3.6 코파일럿을 사용해 좋은 함수 만들기\\n\\n\\n__3.6.1 다니엘의 주식 추천\\n\\n\\n__3.6.2 레오의 비밀번호\\n\\n\\n__3.6.3 강력한 비밀번호 설정하기\\n\\n\\n__3.6.4 스크래블 점수판\\n\\n\\n__3.6.5 최고의 단어\\n\\n\\n\\xa0\\n\\n\\n▣ 04장: 파이썬 코드 읽기: 1부\\n\\n\\n4.1 코드를 읽을 수 있어야 하는 이유\\n\\n\\n4.2 코파일럿에게 코드 설명 요청하기\\n\\n\\n4.3 꼭 알아야 할 10 가지 프로그래밍 기능: 1부\\n\\n\\n__4.3.1 #1. 함수\\n\\n\\n__4.3.2 #2. 변수\\n\\n\\n__4.3.3 #3. 조건문\\n\\n\\n__4.3.4 #4. 문자열\\n\\n\\n__4.3.5 #5. 리스트\\n\\n\\n4.3.6 결론\\n\\n\\n\\xa0\\n\\n\\n▣ 05장: 파이썬 코드 읽기: 2부\\n\\n\\n5.1 꼭 알아야 할 10 가지 프로그래밍 기능: 2부\\n\\n\\n__5.1.1 #6. 루프\\n\\n\\n__5.1.2 #7. 들여쓰기\\n\\n\\n__5.1.3 #8. 딕셔너리\\n\\n\\n__5.1.4 #9. 파일\\n\\n\\n__5.1.5 #10. 모듈\\n\\n\\n\\xa0\\n\\n\\n▣ 06장: 테스트 및 프롬프트 엔지니어링\\n\\n\\n6.1 코드 테스트가 중요한 이유\\n\\n\\n6.2 폐쇄형 및 개방형 테스트\\n\\n\\n__6.2.1 폐쇄형 테스트\\n\\n\\n__6.2.2 테스트 케이스를 어떻게 작성할지는 어떤 기준으로 정하나요?\\n\\n\\n__6.2.3 개방형 테스트\\n\\n\\n6.3 코드를 테스트 하는 방법\\n\\n\\n__6.3.1 파이썬 프롬프트를 사용한 테스트\\n\\n\\n__6.3.2 파이썬 파일에 테스트 코드를 작성(이 책에서는 이 방식은 사용하지 않음)\\n\\n\\n__6.3.3 독테스트\\n\\n\\n6.4 코파일럿을 이용한 함수 설계 주기 다시 살펴보기\\n\\n\\n6.5 전체 테스트 예제\\n\\n\\n__6.5.1 빈자리가 가장 많이 남아있는 줄에는 현재 몇 개의 빈자리가 남아 있을까?\\n\\n\\n__6.5.2 더 나은 솔루션을 찾기 위한 프롬프트 개선\\n\\n\\n__6.5.3 새로운 코드 테스트하기\\n\\n\\n6.6 또 다른 전체 테스트 예시 – 파일을 이용한 테스트\\n\\n\\n__6.6.1 어떤 테스트를 해야 할까?\\n\\n\\n__6.6.2 함수 만들기\\n\\n\\n__6.6.3 함수 테스트\\n\\n\\n__6.6.4 doctest를 사용할 때 주의할 점\\n\\n\\n\\xa0\\n\\n\\n▣ 07장: 문제 분해\\n\\n\\n7.1 문제 분해\\n\\n\\n7.2 하향식 설계 사례\\n\\n\\n7.3 소설의 저자 식별하기\\n\\n\\n7.4 하향식 설계 방법을 사용한 저자 식별\\n\\n\\n7.5 프로세스 단계의 하위 문제 분석\\n\\n\\n__7.5.1 저자 불명의 책에 대한 시그니처 알아내기\\n\\n\\n7.6 하향식 설계 요약\\n\\n\\n7.7 기능 구현\\n\\n\\n__7.7.1 clean_word\\n\\n\\n__7.7.2 average_word_length\\n\\n\\n__7.7.3 different_to_total\\n\\n\\n__7.7.4 exactly_once_to_total\\n\\n\\n__7.7.5 split_string\\n\\n\\n__7.7.6 get_sentences\\n\\n\\n__7.7.7 average_sentence_length\\n\\n\\n__7.7.8 get_phrases\\n\\n\\n__7.7.9 average_sentence_complexity\\n\\n\\n__7.7.10 make_signature\\n\\n\\n__7.7.11 get_all_signatures\\n\\n\\n__7.7.12 get_score\\n\\n\\n__7.7.13 lowest_score\\n\\n\\n__7.7.14 process_data\\n\\n\\n__7.7.15 make_guess\\n\\n\\n7.8 더 나아가기\\n\\n\\n\\xa0\\n\\n\\n▣ 08장: 디버깅 및 코드 이해도 향상\\n\\n\\n8.1 오류(버그)의 원인은 무엇인가요?\\n\\n\\n8.2 버그를 찾는 방법\\n\\n\\n__8.2.1 print 문을 사용하여 코드 동작 살펴보기\\n\\n\\n__8.2.2 VS Code의 디버거 기능으로 코드 동작 파악하기\\n\\n\\n8.3 찾아낸 버그를 수정하는 방법\\n\\n\\n__8.3.1 채팅을 통해 코파일럿에게 버그 수정 요청하기\\n\\n\\n__8.3.2 코파일럿에게 전체 함수를 새로 작성하도록 새 프롬프트 제공\\n\\n\\n__8.3.3 코파일럿에게 함수 일부에 대해 타기팅된 프롬프트 제공\\n\\n\\n__8.3.4 직접 코드의 버그 부분 수정하기\\n\\n\\n8.4 새로운 기술을 사용해 함수 설계 주기 수정하기\\n\\n\\n8.5 새로운 문제에 디버깅 기술 적용하기\\n\\n\\n8.6 디버거를 사용한 코드 이해\\n\\n\\n8.7 디버깅 시 주의할 점\\n\\n\\n\\xa0\\n\\n\\n▣ 09장: 반복적인 작업의 자동화\\n\\n\\n9.1 도구를 프로그래밍하는 이유\\n\\n\\n9.2 코파일럿을 사용해 도구 작성하기\\n\\n\\n9.3 예시 1: 이메일 텍스트 정리\\n\\n\\n__9.3.1 코파일럿과 대화하기\\n\\n\\n__9.3.2 이메일 정리를 위한 도구 작성하기\\n\\n\\n9.4 예시 2: PDF 파일에 표지 추가하기\\n\\n\\n__9.4.1 코파일럿과 대화하기\\n\\n\\n__9.4.2 도구 작성하기\\n\\n\\n9.5 예시 3: 휴대폰에 들어 있는 사진 합치기\\n\\n\\n__9.5.1 코파일럿과 대화하기\\n\\n\\n__9.5.2 하향식 설계\\n\\n\\n__9.5.3 도구 작성하기\\n\\n\\n\\xa0\\n\\n\\n▣ 10장: 게임 만들기\\n\\n\\n10.1 게임 프로그램\\n\\n\\n10.2 무작위성 추가\\n\\n\\n__10.3 예시 1: 숫소와 암소\\n\\n\\n__10.3.1 게임 동작 방식\\n\\n\\n__10.3.2 하향식 설계\\n\\n\\n__10.3.3 매개변수 및 반환값의 자료형\\n\\n\\n__10.3.4 기능 구현\\n\\n\\n__10.3.5 숫소와 암소를 위한 그래픽 인터페이스 추가하기\\n\\n\\n10.4 예시 2: 보가트\\n\\n\\n__10.4.1 게임 동작 방식\\n\\n\\n__10.4.2 하향식 설계\\n\\n\\n__10.4.3 기능 구현\\n\\n\\n\\xa0\\n\\n\\n▣ 11장: 향후 방향\\n\\n\\n11.1 프롬프트 패턴\\n\\n\\n__11.1.1 뒤집힌 상호작용 패턴\\n\\n\\n__11.1.2 페르소나 패턴\\n\\n\\n11.2 한계점과 향후 방향성\\n\\n\\n__11.2.1 현재 코파일럿이 어려움을 겪는 부분\\n\\n\\n__11.2.2 코파일럿은 새로운 프로그래밍 언어인가요?\\n\\n\\n\\n\\n\\n\\n\\n\\nGitHub 저장소: \\nhttps://github.com/wikibook/copilot\\n\\n\\nZIP 형식으로 다운로드: \\nhttps://github.com/wikibook/copilot/archive/refs/heads/main.zip\\n\\n\\n\\n\\n\\n\\n\\n\\n\\n\\n\\n\\n\\n\\n\\n\\n\\n\\n\\n\\n\\n\\n\\n\\n\\n\\n\\n\\n\\n\\n\\n\\n저자/역자 모집\\n\\n\\n\\n\\n\\n\\n\\n\\n\\n\\n\\n\\n도서 관련 문의\\n\\n\\n\\n\\n\\n\\n\\n\\n\\n\\n\\n\\n\\n\\n\\n\\n\\n\\n\\n\\n\\n\\n\\n\\n\\n\\n\\n\\n\\n\\n\\n\\n \\n위키북스\\n\\n\\n\\n\\n \\n저자/역자 모집\\n\\n\\n\\n\\n\\n\\n \\nwikibook@wikibook.co.kr\\n\\n\\n\\n\\n\\n\\n \\n찾아오시는 길\\n\\n\\n경기도 파주시 문발로 115 세종출판벤처타운 311호 위키북스\\n\\n\\n115, Munbal-ro, Paju-si, Gyeonggi-do, 10881, Rep. of KOREA\\n\\n\\n\\n\\n\\n\\n 연락처\\n          \\nTel: \\n031-955-3658\\n, \\n3659\\nFax: 031-955-3660\\n\\n\\n\\n\\n\\n\\n 이메일\\n          \\nwikibook@wikibook.co.kr\\n\\n\\n\\n\\n\\n\\n SNS\\n          \\n\\n\\n\\n\\n \\n인스타그램\\n\\n\\n\\n\\n\\n\\n \\n네이버 카페\\n\\n\\n\\n\\n\\n\\n\\n\\n \\n개인정보취급방침\\n\\n\\n\\n\\n\\n\\n\\n\\n\\n\\n\\n\\n@devsfarm 님의 트윗\\n\\n\\n\\n\\n\\n\\n\\n\\n\\n\\n\\n\\n\\n\\n위키북스\\n\\n\\n\\n\\n\\n\\n\\n\\n\\n\\n\\n\\n\\n\\n\\n\\nCopyright © 2007-2025 위키북스. All Rights Reserved.\\n\\n\\n\\n\\n\\n\\n\\n\\n\\n\\n\\n\\n\\n\\n\\n\\n\\n\\n\\n\\n\\n\\n\\n\\n\\n\\n\\n\\n\\n\\n\\n\\n\\n\\n\\n\\n\\n\\n\\n\\n\\n\\n\\n\\n\\n\\n\\n'),\n Document(metadata={'source': 'https://wikibook.co.kr/my-chatgpt/', 'title': 'OpenAI API와 파이썬으로 나만의 챗GPT 만들기 | 위키북스'}, page_content='\\n\\n\\n\\n\\n\\n\\n\\n\\n\\n\\n\\n\\n\\nOpenAI API와 파이썬으로 나만의 챗GPT 만들기 | 위키북스\\n\\n\\n\\n\\n\\n\\n\\n\\n\\n\\n\\n\\n\\n\\n\\n\\n\\n\\n\\n\\n\\n\\n\\n\\n\\n\\n\\n\\n\\n\\n\\n\\n\\n\\n\\n\\n\\n\\n\\n\\n\\n\\n\\n\\n\\n\\n\\n\\n\\n\\n\\n\\n\\n\\n\\n\\n\\n\\n\\n\\n\\n\\n\\n\\n\\n\\n\\n\\n\\n\\n\\n\\n\\n\\n\\n\\n\\n\\n\\n\\n\\n\\n\\n\\n\\n\\n\\n\\n\\n\\n\\n\\n\\n\\n\\n\\n\\n\\n\\n\\n\\n\\n\\n\\n\\n\\n\\n\\n\\n\\n\\n\\n\\n\\n\\n\\n\\n\\n\\n\\n\\n\\n\\n\\n\\n\\n\\n\\n\\n\\n\\n\\n\\n\\n\\n\\n\\n\\n\\n\\n\\n\\n\\n\\n\\n\\n\\n\\n\\n\\n\\n\\n\\n\\n\\n\\n\\n\\n\\n\\nToggle navigation\\n\\n\\n\\n\\n\\n\\n\\n\\n\\n\\n\\n\\n\\n\\n\\n\\n\\n\\nAbout \\n\\n\\n\\n\\n회사 소개\\n\\n\\n찾아오시는 길\\n\\n\\n\\n\\n\\n\\n\\n\\n도서 시리즈 \\n\\n\\n\\n\\n헬로! 인공지능\\n\\n\\n\\n\\n메타버스\\n\\n\\n\\n\\n콘텐츠 크리에이션\\n\\n\\n\\n\\n그래픽 & 아트\\n\\n\\n\\n\\nwith AI\\n\\n\\n\\n\\n데이터 자격검정\\n\\n\\n\\n\\n생성형 AI 프로그래밍\\n\\n\\n\\n\\n위키미디어\\n\\n\\n\\n\\nbe 개발자\\n\\n\\n\\n\\nIT Leaders\\n\\n\\n\\n\\nTECH@NAVER\\n\\n\\n\\n\\nUX 디자인\\n\\n\\n\\n\\n게임 개발\\n\\n\\n\\n\\n네이버 스타트북\\n\\n\\n\\n\\n맥 & 라이프\\n\\n\\n\\n\\n시스템 & 네트워킹\\n\\n\\n\\n\\n어비의 실무노트\\n\\n\\n\\n\\n오픈소스 & 웹\\n\\n\\n\\n\\n웹동네\\n\\n\\n\\n\\n임베디드 & 모바일\\n\\n\\n\\n\\n프로그래밍 & 프랙티스\\n\\n\\n\\n\\n해킹 & 보안\\n\\n\\n\\n\\n유닉스 & 리눅스\\n\\n\\n\\n\\n데이터베이스 & 빅데이터\\n\\n\\n\\n\\n데이터 사이언스\\n\\n\\n\\n\\n러닝스쿨\\n\\n\\n\\n\\n클라우드 컴퓨팅\\n\\n\\n\\n\\nTECH@InsightCampus\\n\\n\\n\\n\\n\\n\\n\\n\\n전체 도서 목록\\n\\n\\n전자책\\n\\n\\n저자/역자 모집\\n\\n\\n도서 관련 문의\\n\\n\\n\\n\\n\\n\\n\\n\\n\\n\\n\\n\\n\\n\\n\\n\\n\\n\\n\\n\\n\\n\\n\\n\\n\\n\\n\\n\\n\\n\\n\\n\\n\\n\\n\\n\\n\\n\\n\\n\\n\\n\\n\\n\\n\\n\\n\\n\\n\\n\\n\\n\\n\\n\\n\\n\\n\\n\\n\\n\\n 도서 미리보기\\r\\n                    \\n\\n\\n\\n\\n\\n\\n\\n\\n\\n\\n 전자책\\r\\n                \\n\\n\\n\\n\\n\\n\\n\\n\\n 예제코드 다운로드\\r\\n                \\n\\n\\n\\n\\n\\n\\n\\n\\n\\n\\nOpenAI API와 파이썬으로 나만의 챗GPT 만들기\\n\\n\\nChatGPT 기초부터 OpenAI API, 랭체인을 활용한 서비스 앱 제작까지\\n\\n\\n\\n\\n\\n\\n\\n\\n챗GPT\\n\\n\\nChatGPT\\n\\n\\nOpenAI\\n\\n\\nAPI\\n\\n\\n랭체인\\n\\n\\n챗봇\\n\\n\\n\\n\\n\\n\\n후루카와 쇼이치, 오기와라 유이 \\n지음\\n\\n\\n최용 \\n옮김\\n\\n\\n\\n\\n생성형 AI 프로그래밍 시리즈_005\\n\\n\\nISBN: 9791158395186\\n\\n\\n책 규격: 175*235*13mm\\n\\n\\n24,000원 |\\r\\n                2024년 4월 19일 발행 |\\r\\n                244쪽\\n\\n\\n\\n\\n\\n\\n\\n\\n\\n\\n\\n\\n\\n\\n\\n\\n\\n\\n\\n\\n\\n\\n\\n\\n\\n\\n\\n\\n\\n\\n\\n\\n\\n\\n\\n\\n\\n\\n책 소개\\n\\n\\n출판사 리뷰\\n\\n\\n지은이\\n\\n\\n옮긴이\\n\\n\\n목차\\n\\n\\n\\n\\n예제 코드\\n\\n\\n정오표\\n\\n\\n관련 자료\\n\\n\\n\\n\\n\\n\\n\\n\\nOpenAI API와 랭체인으로 실전 인공지능 애플리케이션 개발하기!\\n\\n\\n이 책은 OpenAI API를 활용해 파이썬으로 인공지능 애플리케이션을 개발하는 방법을 알려줍니다. 챗GPT와 API의 기본 개념부터 최신 정보를 활용한 챗봇, 음성 인식과 요약까지 실전 예제를 통해 OpenAI API의 다양한 활용법을 익힐 수 있습니다. 또한 랭체인(LangChain)과 크로마(Chroma) 등을 활용하여 대화형 애플리케이션 개발을 효율화하는 노하우도 배울 수 있습니다. 이 책을 통해 여러분도 인공지능 애플리케이션을 직접 만들 수 있는 개발자로 거듭날 것입니다.\\n\\n\\n★ 이 책에서 다루는 내용 ★\\n\\n\\n\\n\\n챗GPT와 OpenAI API의 기본 개념과 사용 방법\\n\\n\\n자체 데이터를 학습시킨 챗봇 개발\\n\\n\\n뉴스 기사 자동 생성을 위한 데이터 수집과 요약\\n\\n\\n음성 데이터 텍스트 변환과 요약을 통한 회의록 생성\\n\\n\\n대화 상황을 고려한 맞춤형 챗봇 개발\\n\\n\\nPDF 문서 데이터 추출과 시각화\\n\\n\\n랭체인을 활용한 개발 효율화\\n\\n\\n\\n\\n\\xa0\\n\\n\\n도서 상세 이미지\\n\\n\\n\\n\\n\\n\\n후루카와 쇼이치\\n\\n\\n1992년 일본 가고시마에서 태어나 도쿄대학 공학부를 졸업한 후, 현재 주식회사 디지털레시피의 이사이자 CTO(최고기술책임자)를 맡고 있다. 대학생을 대상으로 하는 이벤트 소개 서비스 ‘facevent’를 창업했고, 해당 서비스는 누적 30만 명의 대학생이 이용했다. 이후 일본의 트위터 관리 도구 중 점유율 1위를 기록한 ‘소셜독(SocialDog)’ 등 여러 스타트업을 거쳐 현재에 이르렀다. 디지털레시피에서는 ‘슬라이드플로’(Slideflow, 파워포인트로 간단하게 웹서비스를 제작하는 서비스)를 시작으로 최근에는 일본어 AI 작문 보조 서비스 ‘Catchy(캐치)’의 사업 총괄을 맡고 있다. 챗GPT 활용법을 소개하는 저서가 일본 내에서 8만 부를 돌파했으며 《챗GPT, 이렇게 써먹으면 됩니다》(시그마북스)로 번역 출간됐다. 그 밖에 여러 권의 서적을 감수했으며, AI 관련 기고와 미디어 출연 100회 이상의 경력이 있다.\\n\\n\\n오기와라 유이\\n\\n\\n1994년 출생. 주오대학교 법학부에서 사법을 공부했으나, 어릴 적부터 프로그래밍에 대한 흥미가 커서 웹 엔지니어로 경력을 시작했다. 여러 기업에서의 개발 경험을 거쳐 2022년 주식회사 디지털 레시피에 입사해 GPT를 활용한 AI 작문 보조 서비스 Catchy 런칭에 참여했다.\\n\\n\\n최용\\n\\n\\n한국방송통신대학교에서 컴퓨터과학을 전공하고 IT 시스템 운영을 자동화하는 소프트웨어의 기술 지원을 주로 했다. 프로그래밍 책을 쓰고 번역하다가 IT 전문 출판사의 편집자가 됐다. 데이터 분석과 인공지능 책을 주로 담당하며, 업무 생산성을 높이는 데에 관심이 많다. 누구나 챗GPT를 활용해 자신의 이야기를 책으로 쓸 수 있게 도우려 개발한 ‘Book Creator Guide’ GPT가 OpenAI의 추천을 받아 글쓰기 부문 상위권에 올랐다. 저자/번역자로서 《랭체인 완벽 입문》(위키북스, 2024), 《Hello IT 파이썬을 제대로 활용해보려고 해》(패스트캠퍼스, 2022) 등을 냈고, 위키독스에 ‘전뇌해커’라는 필명으로 전자책을 쓴다. 서울사이버대학교 드론·로봇융합학과에 재학 중이다.\\n\\n\\n\\n\\n▣ 01장: 챗GPT의 기본을 배우자\\n\\n\\n1 챗GPT란?\\n\\n\\n__1-1 사람처럼 대화할 수 있는 챗GPT\\n\\n\\n__1-2 챗GPT를 뒷받침하는 기술\\n\\n\\n__1-3 챗GPT는 다양한 용도로 활용할 수 있다\\n\\n\\n__1-4 챗GPT 이용 시 주의점\\n\\n\\n__1-5 챗GPT는 브라우저와 API로 이용할 수 있다\\n\\n\\n__1-6 GPT-3.5와 GPT-4의 차이점은?\\n\\n\\n__1-7 ChatGPT Plus 유료 버전의 특징\\n\\n\\n2 챗GPT API 개요 알아보기\\n\\n\\n__2-1 챗GPT API란?\\n\\n\\n__2-2 GPT-3.5와 GPT-4는 어떻게 사용할까?\\n\\n\\n3 챗GPT의 핵심 키워드를 이해하자!\\n\\n\\n__3-1 프롬프트는 ‘AI에 대한 지시문’\\n\\n\\n__3-2 토큰이란 ‘문자열을 나누는 단위’\\n\\n\\n__3-3 매개변수란 ‘작동을 제어하기 위한 설정값’\\n\\n\\n4 챗GPT API 요금 체계\\n\\n\\n__4-1 챗GPT API의 요금 체계\\n\\n\\n__4-2 API 이용 요금 계산 방법\\n\\n\\n__4-3 Tokenizer로 토큰 수를 확인하자\\n\\n\\n__4-4 한국어는 영어보다 토큰 수가 더 많다\\n\\n\\n5 API로 확장되는 챗GPT의 가능성\\n\\n\\n__5-1 챗GPT API로 할 수 있는 일 알아보기\\n\\n\\n__5-2 답변의 내용과 스타일을 세밀하게 조정할 수 있다\\n\\n\\n__5-3 정보를 학습할 수 있다\\n\\n\\n__5-4 기능 확장 가능\\n\\n\\n6 좋은 답변을 얻기 위한 프롬프트 작성 가이드\\n\\n\\n__6-1 프롬프트로 챗GPT 답변의 질을 높인다\\n\\n\\n__6-2 역할 전달\\n\\n\\n__6-3 맥락 전달\\n\\n\\n__6-4 목적 전달\\n\\n\\n__6-5 출력 형식 전달\\n\\n\\n__6-6 적절한 문체 선택\\n\\n\\n\\xa0\\n\\n\\n▣ 02장: 개발 환경과 API를 준비하자\\n\\n\\n1 챗GPT API 키 받기\\n\\n\\n__1-1 챗GPT API를 사용하려면?\\n\\n\\n__1-2 OpenAI 계정을 만들자\\n\\n\\n__1-3 API 키를 얻자\\n\\n\\n__1-4 API 키 취급에 주의\\n\\n\\n2 파이썬을 사용할 준비를 하자\\n\\n\\n__2-1 왜 파이썬을 사용해야 하는가?\\n\\n\\n__2-2 파이썬 버전에 대해서\\n\\n\\n__2-3 파이썬을 설치하자 (윈도우의 경우)\\n\\n\\n__2-4 파이썬을 설치하자 (macOS의 경우)\\n\\n\\n3 코드 편집기를 준비하자\\n\\n\\n__3-1 비주얼 스튜디오 코드(VS Code)란?\\n\\n\\n__3-2 VS Code를 설치하자\\n\\n\\n__3-3 파이썬 코드를 작성해 보자\\n\\n\\n__3-4 파이썬 코드를 실행해 보자\\n\\n\\n4 파이썬에서 챗GPT API를 사용하는 방법\\n\\n\\n__4-1 파이썬에서 챗GPT API를 사용하기 위해 필요한 것들\\n\\n\\n__4-2 OpenAI의 라이브러리를 사용해 보자\\n\\n\\n__4-3 환경 변수란?\\n\\n\\n__4-4 API 키를 환경 변수로 설정하기 (윈도우의 경우)\\n\\n\\n__4-5 API 키를 환경 변수로 설정하자 (macOS의 경우)\\n\\n\\n__4-6 API를 사용해 챗GPT에 질문해 보기\\n\\n\\n5 챗GPT API의 기본 사용법\\n\\n\\n__5-1 요청과 응답\\n\\n\\n__5-2 챗GPT API의 요청과 응답\\n\\n\\n__5-3 챗GPT API의 매개변수를 이해하자\\n\\n\\n\\xa0\\n\\n\\n▣ 03장: 단문 작성과 SNS 포스팅을 자동화하자\\n\\n\\n1 SNS 포스팅 글 생성 봇 개요 및 완성형\\n\\n\\n__1-1 완성형을 살펴보자\\n\\n\\n__1-2 게시물 생성 봇이란?\\n\\n\\n__1-3 개발의 흐름\\n\\n\\n2 과거 포스팅 글에서 문체를 학습시키자!\\n\\n\\n__2-1 퓨샷 학습이란?\\n\\n\\n__2-2 사용하는 프롬프트\\n\\n\\n__2-3 제로샷의 경우\\n\\n\\n__2-4 원샷 학습의 경우\\n\\n\\n__2-5 퓨샷 학습의 경우\\n\\n\\n3 트위터 API를 사용해 게시하기\\n\\n\\n__3-1 트위터 API로 할 수 있는 일\\n\\n\\n__3-2 트위터 API 요금제\\n\\n\\n__3-3 트위터 API의 API 키를 얻자\\n\\n\\n__3-4 봇을 구현하자\\n\\n\\n__3-5 게시물의 무작위성이나 어조를 조절하기\\n\\n\\n__3-6 봇의 적용 사례와 주의점\\n\\n\\n\\xa0\\n\\n\\n▣ 04장: 나만의 데이터로 학습한 채팅봇을 만들어보자\\n\\n\\n1 챗봇의 개요와 완성형\\n\\n\\n__1-1 완성형을 살펴보자\\n\\n\\n__1-2 개발의 흐름\\n\\n\\n2 나만의 데이터를 학습하는 방법\\n\\n\\n__2-1 대량의 데이터를 학습시킬 수 있는 RAG\\n\\n\\n__2-2 벡터 데이터를 보관하는 벡터 DB\\n\\n\\n__2-3 RAG를 활용하여 데이터에 기반한 답변을 이끌어내는 방법은?\\n\\n\\n3 독자적인 데이터를 임베딩해 보자\\n\\n\\n__3-1 학습 데이터의 텍스트 파일을 만들자\\n\\n\\n__3-2 학습 데이터를 CSV로 변환하자\\n\\n\\n__3-3 학습 데이터를 임베딩하자\\n\\n\\n4 챗봇을 작동시켜 보자\\n\\n\\n__4-1 챗GPT와 대화하는 프로그램을 만들어 보자\\n\\n\\n__4-2 주어진 지식을 바탕으로 답하는 프로그램을 만들어 보자\\n\\n\\n__4-3 대화 프로그램을 개조하여 챗봇을 완성하자\\n\\n\\n__4-4 챗봇에 개성을 부여\\n\\n\\n__4-5 자체 데이터를 학습한 챗봇의 응용 사례\\n\\n\\n\\xa0\\n\\n\\n▣ 05장: 음성 데이터를 필사하고 요약해 보자\\n\\n\\n1 위스퍼 개요 및 완성형\\n\\n\\n__1-1 위스퍼 개요\\n\\n\\n__1-2 완성형을 살펴보자\\n\\n\\n__1-3 개발 단계\\n\\n\\n2 음성 필사 가능한 위스퍼\\n\\n\\n__2-1 전사 AI의 기술적 구조\\n\\n\\n__2-2 높은 정확도의 전사 작업이 가능한 위스퍼\\n\\n\\n__2-3 언어에 따른 정확도 차이\\n\\n\\n__2-4 OSS 버전과 API 버전\\n\\n\\n__2-5 요금 체계\\n\\n\\n3 위스퍼로 받아쓰기를 해 보자\\n\\n\\n__3-1 음성 파일 준비하기\\n\\n\\n__3-2 클라이언트를 준비하자\\n\\n\\n__3-3 API 키 설정하기\\n\\n\\n__3-4 전사 작업을 해보자\\n\\n\\n__3-5 출력 형식을 바꿔보자\\n\\n\\n4 받아쓴 문장을 요약해 보자\\n\\n\\n__4-1 필사하자\\n\\n\\n__4-2 요약하기\\n\\n\\n5 위스퍼의 번역 기능을 활용해 받아쓰기와 번역을 동시에 실행\\n\\n\\n__5-1 위스퍼의 번역 기능이 무엇인지 알아보자!\\n\\n\\n__5-2 한국어 음성을 번역하고 영어 전사 작업을 한다\\n\\n\\n__5-3 영어로 번역하면서 필사본을 요약해 보자\\n\\n\\n\\xa0\\n\\n\\n▣ 06장: 최신 정보를 포함한 뉴스 기사를 만들자\\n\\n\\n1 뉴스 기사 생성 프로그램 개요 및 완성형\\n\\n\\n__1-1 완성형을 살펴보자\\n\\n\\n__1-2 개발 흐름\\n\\n\\n__1-3 검색엔진과 챗GPT를 연동해 활용하기\\n\\n\\n2 복잡한 LLM 앱 개발을 효율화하는 랭체인\\n\\n\\n__2-1 랭체인이란?\\n\\n\\n__2-2 랭체인의 주요 기능\\n\\n\\n__2-3 랭체인 사용 시 주의 사항\\n\\n\\n3 최신 정보를 포함한 뉴스 기사를 만들자\\n\\n\\n__3-1 필요한 라이브러리를 설치하자\\n\\n\\n__3-2 Google 검색을 위한 API 키를 얻자\\n\\n\\n__3-3 최신 정보에 기반한 뉴스 기사 생성하기\\n\\n\\n__3-4 해외 사이트에서 정보 수집하여 기사화하기\\n\\n\\n\\xa0\\n\\n\\n▣ 07장: PDF에서 데이터를 추출해 그래프로 만들어 보자\\n\\n\\n1 PDF에서 데이터 추출하는 프로그램의 개요 및 완성형\\n\\n\\n__1-1 완성형을 살펴보자\\n\\n\\n__1-2 개발 흐름\\n\\n\\n2 구조화된 데이터와 비정형 데이터란?\\n\\n\\n__2-1 정형 데이터와 비정형 데이터\\n\\n\\n__2-2 비정형 데이터의 활용이 중요한 이유\\n\\n\\n__2-3 비정형 데이터를 정형 데이터로 변환하기\\n\\n\\n3 랭체인으로 PDF를 구조화된 데이터로 변환하자\\n\\n\\n__3-1 PDF를 읽어 들여 구조화된 데이터로 변환하자\\n\\n\\n__3-2 구조화된 데이터를 CSV로 출력해 보자\\n\\n\\n__3-3 데이터 시각화하기\\n\\n\\n__3-4 활용 사례\\n\\n\\n4 PDF의 내용을 바탕으로 답변하는 챗봇 만들기\\n\\n\\n__4-1 챗봇의 완성형\\n\\n\\n__4-2 PDF 내용을 바탕으로 챗봇이 답변하게 하기\\n\\n\\n__4-3 다양한 응용 가능성\\n\\n\\n\\xa0\\n\\n\\n▣ 08장: 운영상의 문제를 예방하자\\n\\n\\n1 챗GPT API 이용 시 주의사항\\n\\n\\n__1-1 OpenAI의 데이터 이용 정책 알아보기\\n\\n\\n__1-2 개인정보, 기밀정보 입력 금지\\n\\n\\n__1-3 예상치 못한 고액 청구 방지\\n\\n\\n2 부적절한 콘텐츠 생성을 방지\\n\\n\\n__2-1 부적절한 콘텐츠 생성 방지의 필요성에 대해\\n\\n\\n__2-2 문제 발언을 감지할 수 있는 ‘모더레이션 API’란?\\n\\n\\n__2-3 모더레이션 API를 사용해 보자\\n\\n\\n__2-4 모더레이션 API의 주의점\\n\\n\\n3 오류에 대처하자\\n\\n\\n__3-1 OpenAI의 API 오류 코드와 대처 방법\\n\\n\\n__3-2 파이썬 라이브러리 오류 대처 방법\\n\\n\\n__3-3 API 접속 횟수를 제한하는 ‘Rate Limits’\\n\\n\\n\\xa0\\n\\n\\n▣ 09장: 프롬프트 주입에 대한 대책을 세우자\\n\\n\\n1 프롬프트 주입이란?\\n\\n\\n__1-1 프롬프트 주입은 AI에 대한 공격 기법\\n\\n\\n__1-2 프롬프트 주입의 작동 원리\\n\\n\\n__1-3 프롬프트 주입이 유발하는 문제\\n\\n\\n2 프롬프트 주입 예시\\n\\n\\n__2-1 모델 출력 가로채기\\n\\n\\n__2-2 시스템에서 설정한 프롬프트 추출하기\\n\\n\\n__2-3 윤리적으로 문제가 있는 내용을 출력하게 한다.\\n\\n\\n3 프롬프트 주입 대책\\n\\n\\n__3-1 프롬프트 주입에 대한 대책은 어렵다\\n\\n\\n__3-2 대책 ➊: 사용자 입력값 제한 및 검증하기\\n\\n\\n__3-3 대책 ➋: 챗GPT의 출력 검증하기\\n\\n\\n__3-4 대책 ➌: 사용자 입출력 텍스트 수집하기\\n\\n\\n\\n\\n\\n\\n\\n\\nGitHub 저장소: \\nhttps://github.com/ychoi-kr/ChatGPT-API-Python\\n\\n\\nZIP 형식으로 다운로드: \\nhttps://github.com/ychoi-kr/ChatGPT-API-Python/archive/refs/heads/main.zip\\n\\n\\n\\n\\n\\n\\n\\n\\n\\n\\n\\n\\n\\n\\n\\n\\n\\n\\n\\n\\n\\n\\n\\n\\n\\n\\n\\n\\n\\n\\n\\n\\n저자/역자 모집\\n\\n\\n\\n\\n\\n\\n\\n\\n\\n\\n\\n\\n도서 관련 문의\\n\\n\\n\\n\\n\\n\\n\\n\\n\\n\\n\\n\\n\\n\\n\\n\\n\\n\\n\\n\\n\\n\\n\\n\\n\\n\\n\\n\\n\\n\\n\\n\\n \\n위키북스\\n\\n\\n\\n\\n \\n저자/역자 모집\\n\\n\\n\\n\\n\\n\\n \\nwikibook@wikibook.co.kr\\n\\n\\n\\n\\n\\n\\n \\n찾아오시는 길\\n\\n\\n경기도 파주시 문발로 115 세종출판벤처타운 311호 위키북스\\n\\n\\n115, Munbal-ro, Paju-si, Gyeonggi-do, 10881, Rep. of KOREA\\n\\n\\n\\n\\n\\n\\n 연락처\\n          \\nTel: \\n031-955-3658\\n, \\n3659\\nFax: 031-955-3660\\n\\n\\n\\n\\n\\n\\n 이메일\\n          \\nwikibook@wikibook.co.kr\\n\\n\\n\\n\\n\\n\\n SNS\\n          \\n\\n\\n\\n\\n \\n인스타그램\\n\\n\\n\\n\\n\\n\\n \\n네이버 카페\\n\\n\\n\\n\\n\\n\\n\\n\\n \\n개인정보취급방침\\n\\n\\n\\n\\n\\n\\n\\n\\n\\n\\n\\n\\n@devsfarm 님의 트윗\\n\\n\\n\\n\\n\\n\\n\\n\\n\\n\\n\\n\\n\\n\\n위키북스\\n\\n\\n\\n\\n\\n\\n\\n\\n\\n\\n\\n\\n\\n\\n\\n\\nCopyright © 2007-2025 위키북스. All Rights Reserved.\\n\\n\\n\\n\\n\\n\\n\\n\\n\\n\\n\\n\\n\\n\\n\\n\\n\\n\\n\\n\\n\\n\\n\\n\\n\\n\\n\\n\\n\\n\\n\\n\\n\\n\\n\\n\\n\\n\\n\\n\\n\\n\\n\\n\\n\\n\\n\\n'),\n Document(metadata={'source': 'https://wikibook.co.kr/langchain/', 'title': '랭체인 완벽 입문 | 위키북스'}, page_content='\\n\\n\\n\\n\\n\\n\\n\\n\\n\\n\\n\\n\\n\\n랭체인 완벽 입문 | 위키북스\\n\\n\\n\\n\\n\\n\\n\\n\\n\\n\\n\\n\\n\\n\\n\\n\\n\\n\\n\\n\\n\\n\\n\\n\\n\\n\\n\\n\\n\\n\\n\\n\\n\\n\\n\\n\\n\\n\\n\\n\\n\\n\\n\\n\\n\\n\\n\\n\\n\\n\\n\\n\\n\\n\\n\\n\\n\\n\\n\\n\\n\\n\\n\\n\\n\\n\\n\\n\\n\\n\\n\\n\\n\\n\\n\\n\\n\\n\\n\\n\\n\\n\\n\\n\\n\\n\\n\\n\\n\\n\\n\\n\\n\\n\\n\\n\\n\\n\\n\\n\\n\\n\\n\\n\\n\\n\\n\\n\\n\\n\\n\\n\\n\\n\\n\\n\\n\\n\\n\\n\\n\\n\\n\\n\\n\\n\\n\\n\\n\\n\\n\\n\\n\\n\\n\\n\\n\\n\\n\\n\\n\\n\\n\\n\\n\\n\\n\\n\\n\\n\\n\\n\\n\\n\\n\\n\\n\\n\\n\\n\\nToggle navigation\\n\\n\\n\\n\\n\\n\\n\\n\\n\\n\\n\\n\\n\\n\\n\\n\\n\\n\\nAbout \\n\\n\\n\\n\\n회사 소개\\n\\n\\n찾아오시는 길\\n\\n\\n\\n\\n\\n\\n\\n\\n도서 시리즈 \\n\\n\\n\\n\\n헬로! 인공지능\\n\\n\\n\\n\\n메타버스\\n\\n\\n\\n\\n콘텐츠 크리에이션\\n\\n\\n\\n\\n그래픽 & 아트\\n\\n\\n\\n\\nwith AI\\n\\n\\n\\n\\n데이터 자격검정\\n\\n\\n\\n\\n생성형 AI 프로그래밍\\n\\n\\n\\n\\n위키미디어\\n\\n\\n\\n\\nbe 개발자\\n\\n\\n\\n\\nIT Leaders\\n\\n\\n\\n\\nTECH@NAVER\\n\\n\\n\\n\\nUX 디자인\\n\\n\\n\\n\\n게임 개발\\n\\n\\n\\n\\n네이버 스타트북\\n\\n\\n\\n\\n맥 & 라이프\\n\\n\\n\\n\\n시스템 & 네트워킹\\n\\n\\n\\n\\n어비의 실무노트\\n\\n\\n\\n\\n오픈소스 & 웹\\n\\n\\n\\n\\n웹동네\\n\\n\\n\\n\\n임베디드 & 모바일\\n\\n\\n\\n\\n프로그래밍 & 프랙티스\\n\\n\\n\\n\\n해킹 & 보안\\n\\n\\n\\n\\n유닉스 & 리눅스\\n\\n\\n\\n\\n데이터베이스 & 빅데이터\\n\\n\\n\\n\\n데이터 사이언스\\n\\n\\n\\n\\n러닝스쿨\\n\\n\\n\\n\\n클라우드 컴퓨팅\\n\\n\\n\\n\\nTECH@InsightCampus\\n\\n\\n\\n\\n\\n\\n\\n\\n전체 도서 목록\\n\\n\\n전자책\\n\\n\\n저자/역자 모집\\n\\n\\n도서 관련 문의\\n\\n\\n\\n\\n\\n\\n\\n\\n\\n\\n\\n\\n\\n\\n\\n\\n\\n\\n\\n\\n\\n\\n\\n\\n\\n\\n\\n\\n\\n\\n\\n\\n\\n\\n\\n\\n\\n\\n\\n\\n\\n\\n\\n\\n\\n\\n\\n\\n\\n\\n\\n\\n\\n\\n\\n\\n\\n\\n\\n\\n 도서 미리보기\\r\\n                    \\n\\n\\n\\n\\n\\n\\n\\n\\n\\n\\n 전자책\\r\\n                \\n\\n\\n\\n\\n\\n\\n\\n\\n 예제코드 다운로드\\r\\n                \\n\\n\\n\\n\\n\\n\\n\\n\\n\\n\\n랭체인 완벽 입문\\n\\n\\n혁신적인 LLM 앱을 구축하기 위한 랭체인 활용법\\n\\n\\n\\n\\n\\n\\n\\n\\n랭체인\\n\\n\\nLLM\\n\\n\\n대규모 언어 모델\\n\\n\\nChatGPT\\n\\n\\nLangChain\\n\\n\\n파이썬\\n\\n\\n프롬프트 엔지니어링\\n\\n\\n\\n\\n\\n\\n타무라 하루카 \\n지음\\n\\n\\n최용 \\n옮김\\n\\n\\n\\n\\n생성형 AI 프로그래밍 시리즈_004\\n\\n\\nISBN: 9791158394943\\n\\n\\n책 규격: 175*235*15mm\\n\\n\\n27,000원 |\\r\\n                2024년 2월 22일 발행 |\\r\\n                276쪽\\n\\n\\n\\n\\n\\n\\n\\n\\n\\n\\n\\n\\n\\n\\n\\n\\n\\n\\n\\n\\n\\n\\n\\n\\n\\n\\n\\n\\n\\n\\n\\n\\n\\n\\n\\n\\n\\n\\n책 소개\\n\\n\\n출판사 리뷰\\n\\n\\n지은이\\n\\n\\n옮긴이\\n\\n\\n목차\\n\\n\\n\\n\\n예제 코드\\n\\n\\n정오표\\n\\n\\n관련 자료\\n\\n\\n\\n\\n\\n\\n\\n\\n랭체인을 사용하여 생성 AI 앱을 개발하고자 하는 분들을 위한 완벽 입문서!\\n\\n\\n챗지피티(ChatGPT)와 같은 대화형 AI의 ‘두뇌’는 대규모 언어 모델(LLM: Large Language Model)이다. ChatGPT의 API가 공개된 이후, 많은 기업과 엔지니어가 경쟁적으로 LLM 응용 프로그램 개발에 착수했는데, 이러한 개발을 효율화하는 도구가 랭체인(LangChain)이다. 랭체인은 파이썬(Python) 등에서 호출할 수 있는 라이브러리 중 하나로, ‘챗지피티 같은 언어 생성 AI를 사용한 애플리케이션 개발에 유용한 도구 모음’과 같은 것이다. 언어 생성 AI 모델의 라이브러리는 많지만, 랭체인이 기능의 풍부함과 사용의 용이성 등에서 뛰어나 현재는 사실상의 표준이 됐다. 이 책은 랭체인을 사용해 애플리케이션을 개발하면서 랭체인의 기능을 자세히 설명한다.\\n\\n\\n★ 이 책에서 다루는 내용 ★\\n\\n\\n\\n\\n랭체인의 각 모듈을 활용해 AI 애플리케이션을 개발하는 방법을 이해한다.\\n\\n\\n다양하고 실용적인 예제 코드를 통해 구체적인 개발 접근 방식을 배운다.\\n\\n\\n파이썬과 비주얼 스튜디오 코드(VS Code)를 이용한 개발 방법을 익혀 여러 플랫폼에서의 개발에 적용한다.\\n\\n\\n프롬프트 엔지니어링의 기초를 배워 AI와 대화하는 방법을 익힌다.\\n\\n\\n\\n\\n\\xa0\\n\\n\\n도서 상세 이미지\\n\\n\\n\\n\\n\\n\\n타무라 하루카\\n\\n\\n1990년 도쿄에서 태어났다. 프리랜서 풀스택 엔지니어로서 다수의 웹서비스를 처음부터 개발하고 운영했다. 베이스푸드(BASE FOOD) 주식회사에 첫 번째 엔지니어로 참여해 정기 구매 시스템을 구축했으며, 그 후 상장까지 프런트엔드, 백엔드, 인프라 전부를 담당했다. ChatGPT에 큰 충격을 받고 AI 관련 기술에 관심을 갖게 되었으며, 동영상에 번역 자막을 붙일 수 있는 웹 서비스를 개인적으로 개발해 출시했다(konjac.ai).\\n\\n\\n최용\\n\\n\\n한국방송통신대학교에서 컴퓨터과학을 전공하고, 일괄 작업과 서버 운영을 자동화하는 외산 소프트웨어의 기술 지원 업무를 주로 했다. 책을 쓰고 번역하다가 IT 전문 출판사의 편집자가 되었다. 최근에는 데이터 분석과 인공지능을 주제로 하는 책을 주로 맡고 있으며, 인공지능으로 업무 생산성을 높이는 데에도 관심이 많다. 서울사이버대학교 드론·로봇융합학과에 재학 중이다. 《실전! 컴퓨터비전을 위한 머신러닝》(위키북스, 2023)을 번역했고 《Hello IT 파이썬을 제대로 활용해보려고 해》(패스트캠퍼스, 2022)를 썼다.\\n\\n\\n\\n\\n▣ 1장: 챗지피티와 랭체인\\n\\n\\n\\xa001. 챗지피티와 언어 모델에 관해 알아보기\\n\\n\\n___챗지피티란?\\n\\n\\n___OpenAI의 API에서 사용할 수 있는 대표적인 두 가지 언어 모델\\n\\n\\n___OpenAI 이외의 언어 모델 알아보기\\n\\n\\n\\xa002. 랭체인 개요\\n\\n\\n___언어 모델을 이용한 애플리케이션 개발\\n\\n\\n___랭체인으로 언어 모델을 이용한 애플리케이션 개발이 쉬워진다\\n\\n\\n___랭체인에 준비된 6개의 모듈\\n\\n\\n\\xa003. 랭체인을 이용한 애플리케이션 예시\\n\\n\\n___PDF에 대해 질문할 수 있는 챗봇\\n\\n\\n___파일 상호작용 및 인터넷 검색이 가능한 챗봇\\n\\n\\n\\xa004. 실습 준비\\n\\n\\n___파이썬 실행 환경 구축\\n\\n\\n___VS Code에서 파이썬을 이용한 개발이 쉬워지는 확장 기능\\n\\n\\n___OpenAI API 키 받기\\n\\n\\n___환경 변수에 API 키 설정하기\\n\\n\\n\\xa005. OpenAI의 API를 호출해 작동을 확인한다\\n\\n\\n___Chat 모델의 API를 호출해 보자\\n\\n\\n\\xa0\\n\\n\\n▣ 2장: Model I/O - 언어 모델을 다루기 쉽게 만들기\\n\\n\\n\\xa001. 언어 모델을 이용한 응용 프로그램 작동 방식\\n\\n\\n___언어 모델 호출이란?\\n\\n\\n___Model I/O는 랭체인의 가장 기본적인 모듈이다\\n\\n\\n___Model I/O를 구성하는 3개의 서브모듈\\n\\n\\n___Language models를 사용해 gpt-3.5-turbo 호출하기\\n\\n\\n___PromptTemplate로 변수를 프롬프트에 전개하기\\n\\n\\n___PromptTemplate에서 제공하는 다른 기능들\\n\\n\\n___Language models와 PromptTemplate의 결합\\n\\n\\n___목록 형식으로 결과 받기\\n\\n\\n\\xa002. Language models - 사용하기 쉬운 모델\\n\\n\\n___통일된 인터페이스로 사용하기 쉬움\\n\\n\\n___Chat models와 LLMs\\n\\n\\n___Language models의 편리한 기능\\n\\n\\n\\xa003. Templates - 프롬프트 구축의 효율성 향상\\n\\n\\n___프롬프트 엔지니어링을 통한 결과 최적화\\n\\n\\n\\xa004. Output parsers - 출력 구조화\\n\\n\\n___결과를 날짜와 시간 형식으로 받아보기\\n\\n\\n___출력 형식을 직접 정의하기\\n\\n\\n___잘못된 결과가 반환될 때 수정을 지시할 수 있게 한다\\n\\n\\n\\xa0\\n\\n\\n▣ 3장: Retrieval - 알지 못하는 데이터를 다루기\\n\\n\\n\\xa001. 언어 모델이 미지의 데이터를 처리할 수 있게 하려면\\n\\n\\n___모르는 정보에 기반한 답변을 할 수 있는 구조\\n\\n\\n___답변에 필요한 문장을 찾는 방법이 중요\\n\\n\\n___유사 문장 검색을 위해 필요한 벡터화란?\\n\\n\\n___언어 모델을 사용해 텍스트를 벡터화하기\\n\\n\\n___벡터 유사도 검색\\n\\n\\n___벡터 유사도 검색에서 RAG를 통합하는 구체적인 절차\\n\\n\\n___사전 준비\\n\\n\\n___검색 및 프롬프트 구축\\n\\n\\n\\xa002. 주어진 PDF를 기반으로 답변하는 챗봇 만들기\\n\\n\\n___PDF에서 문장 불러오기\\n\\n\\n___문장 나누기\\n\\n\\n___분할된 문장을 벡터화해 데이터베이스에 저장한다\\n\\n\\n___벡터 데이터베이스에서 검색 실행하기\\n\\n\\n___검색 결과와 질문을 조합해 질문에 답하게 한다\\n\\n\\n___채팅 화면 만들기\\n\\n\\n___채팅 화면에서 질문을 입력할 수 있게 하기\\n\\n\\n___채팅 시작 시 파일 업로드 가능\\n\\n\\n\\xa003. RetrievalQA로 QA 시스템 구축이 쉬워진다\\n\\n\\n___RetrievalQA란?\\n\\n\\n___RetrievalQA로 코드를 간단하게\\n\\n\\n\\xa004. 준비된 Retrievers를 사용해 위키백과를 정보원으로 활용\\n\\n\\n___Retrievers는 문서를 검색하는 기능 세트\\n\\n\\n___Retrievers에서 어떤 검색을 할지 제어하는 방법\\n\\n\\n\\xa0\\n\\n\\n▣ 4장: Memory - 과거의 대화를 장·단기 기억하기\\n\\n\\n\\xa001. 언어 모델에서 대화란 무엇인가\\n\\n\\n___HumanMessage와 AIMessage를 번갈아 가며 대화한다\\n\\n\\n\\xa002. 문맥에 맞는 답변을 할 수 있는 챗봇 만들기\\n\\n\\n___Chat models로 대화 기록을 기반으로 한 응답을 하게 하는 것\\n\\n\\n___ConversationChain을 통해 알기 쉽게 처리\\n\\n\\n\\xa003. 히스토리를 데이터베이스에 저장하고 영속화하기\\n\\n\\n___데이터베이스에 저장해 대화 기록을 영속화할 수 있다\\n\\n\\n___데이터베이스 준비하기\\n\\n\\n___환경 변수에 레디스 정보 설정하기\\n\\n\\n___레디스를 사용해 대화를 영속화한다\\n\\n\\n\\xa004. 여러 개의 대화 기록을 가질 수 있는 챗봇 만들기\\n\\n\\n___세션 ID를 바꿔서 대화 기록 전환하기\\n\\n\\n\\xa005. 매우 긴 대화 기록에 대응한다\\n\\n\\n___대화 기록이 너무 길어지면 언어 모델을 호출할 수 없다\\n\\n\\n___오래된 대화 삭제하기\\n\\n\\n___대화를 요약해 토큰 수 제한에 대응한다\\n\\n\\n\\xa0\\n\\n\\n▣ 5장: Chains - 여러 프로세스를 통합\\n\\n\\n\\xa001. 다중 처리를 정리할 수 있다\\n\\n\\n___Chains는 일련의 과정을 정리할 수 있다\\n\\n\\n\\xa002. 여러 모듈을 쉽게 조합할 수 있는 Chains\\n\\n\\n___LLMChain을 사용해 여러 모듈을 통합하는 방법\\n\\n\\n___ConversationChain으로 기억을 가진 애플리케이션 개발이 쉬워진다\\n\\n\\n___Chains에서 어떤 처리가 이뤄지고 있는지 자세히 보기\\n\\n\\n\\xa003. 특정 기능에 특화된 Chains\\n\\n\\n___특정 URL에 접속해 정보를 얻게 하는 방법\\n\\n\\n\\xa004. Chains 자체 정리하기\\n\\n\\n___Chains 자체를 순서대로 실행하는 SimpleSequentialChain\\n\\n\\n\\xa0\\n\\n\\n▣ 6장: Agents - 자율적으로 외부와 상호작용해 언어 모델의 한계를 뛰어넘기\\n\\n\\n\\xa001. 외부와 상호작용하면서 자율적으로 행동하는 Agents\\n\\n\\n___언어 모델에 도구를 부여할 수 있다\\n\\n\\n___주어진 URL에서 정보를 얻게 하기\\n\\n\\n\\xa002. Tool을 추가해 Agent가 할 수 있는 일을 늘리기\\n\\n\\n___Agent가 할 수 있는 것은 전달하는 Tool에 따라 달라진다\\n\\n\\n___환경 변수에 SerpApi의 API 키 설정하기\\n\\n\\n___google-search-results 설치하기\\n\\n\\n\\xa003. Tool을 직접 제작해 기능 확장하기\\n\\n\\n___Tool을 직접 만들어서 할 수 있는 일의 폭을 더욱 넓힌다\\n\\n\\n\\xa004. Retrievers를 사용해 문장을 검색하는 Tool 만들기\\n\\n\\n___Retrievers는 Tool로 변환할 수 있다\\n\\n\\n\\xa005. 문맥에 맞게 답변하는 에이전트 만들기\\n\\n\\n___대화 기록을 보관하는 에이전트 생성하기\\n\\n\\n\\xa0\\n\\n\\n▣ 7장: Callbacks - 다양한 이벤트 발생 시 처리하기\\n\\n\\n\\xa001. Callbacks 모듈로 할 수 있는 일 알아보기\\n\\n\\n___로그 수집 및 모니터링, 다른 애플리케이션과 연동 가능\\n\\n\\n\\xa002. Callbacks 모듈을 사용해 외부 라이브러리와 연동하기\\n\\n\\n___준비된 클래스를 사용해 외부 라이브러리와 연동할 수 있다\\n\\n\\n\\xa003. 로그를 터미널에 표시할 수 있는 Callbacks 만들기\\n\\n\\n___Callbacks 모듈을 직접 제작해 이벤트 발생 시 처리를 수행한다\\n\\n\\n\\xa0\\n\\n\\n▣ 부록: 랭체인에 대해 더 자세히 알아보는 팁\\n\\n\\n\\xa001. 공식 문서의 사용 사례에서 배우기\\n\\n\\n___공식 문서 보기\\n\\n\\n___Code understanding\\n\\n\\n___Tagging\\n\\n\\n\\xa002. 랭체인의 공식 블로그 및 기타 소스 확인\\n\\n\\n___랭체인 공식 블로그\\n\\n\\n___awesome-langchain으로 랭체인 관련 정보 수집하기\\n\\n\\n___랭체인과 연동할 수 있는 언어 모델 및 외부 시스템 확인하기\\n\\n\\n\\n\\n\\n\\n\\n\\nGitHub 저장소: \\nhttps://github.com/wikibook/langchain\\n\\n\\nZIP 형식으로 다운로드: \\nhttps://github.com/wikibook/langchain/archive/refs/heads/main.zip\\n\\n\\n\\n\\n\\n\\n\\n\\n\\n\\n\\n\\n\\n\\n\\n\\n\\n\\n\\n\\n\\n\\n\\n\\n\\n\\n\\n\\n\\n\\n\\n\\n저자/역자 모집\\n\\n\\n\\n\\n\\n\\n\\n\\n\\n\\n\\n\\n도서 관련 문의\\n\\n\\n\\n\\n\\n\\n\\n\\n\\n\\n\\n\\n\\n\\n\\n\\n\\n\\n\\n\\n\\n\\n\\n\\n\\n\\n\\n\\n\\n\\n\\n\\n \\n위키북스\\n\\n\\n\\n\\n \\n저자/역자 모집\\n\\n\\n\\n\\n\\n\\n \\nwikibook@wikibook.co.kr\\n\\n\\n\\n\\n\\n\\n \\n찾아오시는 길\\n\\n\\n경기도 파주시 문발로 115 세종출판벤처타운 311호 위키북스\\n\\n\\n115, Munbal-ro, Paju-si, Gyeonggi-do, 10881, Rep. of KOREA\\n\\n\\n\\n\\n\\n\\n 연락처\\n          \\nTel: \\n031-955-3658\\n, \\n3659\\nFax: 031-955-3660\\n\\n\\n\\n\\n\\n\\n 이메일\\n          \\nwikibook@wikibook.co.kr\\n\\n\\n\\n\\n\\n\\n SNS\\n          \\n\\n\\n\\n\\n \\n인스타그램\\n\\n\\n\\n\\n\\n\\n \\n네이버 카페\\n\\n\\n\\n\\n\\n\\n\\n\\n \\n개인정보취급방침\\n\\n\\n\\n\\n\\n\\n\\n\\n\\n\\n\\n\\n@devsfarm 님의 트윗\\n\\n\\n\\n\\n\\n\\n\\n\\n\\n\\n\\n\\n\\n\\n위키북스\\n\\n\\n\\n\\n\\n\\n\\n\\n\\n\\n\\n\\n\\n\\n\\n\\nCopyright © 2007-2025 위키북스. All Rights Reserved.\\n\\n\\n\\n\\n\\n\\n\\n\\n\\n\\n\\n\\n\\n\\n\\n\\n\\n\\n\\n\\n\\n\\n\\n\\n\\n\\n\\n\\n\\n\\n\\n\\n\\n\\n\\n\\n\\n\\n\\n\\n\\n\\n\\n\\n\\n\\n\\n')]"
     },
     "execution_count": 35,
     "metadata": {},
     "output_type": "execute_result"
    }
   ],
   "source": [
    "docs"
   ],
   "metadata": {
    "collapsed": false,
    "ExecuteTime": {
     "end_time": "2025-02-28T08:19:59.563893Z",
     "start_time": "2025-02-28T08:19:59.555053Z"
    }
   },
   "id": "fb528445b081f459",
   "execution_count": 35
  },
  {
   "cell_type": "code",
   "outputs": [],
   "source": [
    "prompt = ChatPromptTemplate.from_messages(\n",
    "    [(\"system\", \"Write a concise summary of the following in Korean:\\n\\n{context}\")]\n",
    ")\n",
    "output_parser = StrOutputParser()\n",
    "\n",
    "# model = ChatUpstage()\n",
    "model = ChatOpenAI(model=\"gpt-4o-mini\")\n",
    "\n",
    "chain = (\n",
    "    prompt\n",
    "    | model\n",
    "    | output_parser\n",
    ")"
   ],
   "metadata": {
    "collapsed": false,
    "ExecuteTime": {
     "end_time": "2025-02-28T08:13:42.509901Z",
     "start_time": "2025-02-28T08:13:42.488954Z"
    }
   },
   "id": "41eb74f342663b13",
   "execution_count": 33
  },
  {
   "cell_type": "code",
   "outputs": [
    {
     "name": "stdout",
     "output_type": "stream",
     "text": [
      "URL: https://wikibook.co.kr/vector-search/\n",
      "Title: 엘라스틱서치를 활용한 벡터 검색 실무 가이드 | 위키북스\n",
      "Summary: \"엘라스틱서치를 활용한 벡터 검색 실무 가이드\"는 자연어 처리와 생성형 AI, RAG를 위한 대규모 벡터 데이터베이스 구축을 다룬 책입니다. 이 책은 벡터 검색과 사이버 보안, 가관측성 최적화 방법을 제공하며, 기초부터 고급 애플리케이션, 성능 튜닝 및 특수 사용 사례를 포괄적으로 설명합니다. 저자는 벡터를 활용한 이미지 검색, 개인 식별 정보(PII) 처리, 로그 분석과 사이버 보안 강화를 위한 다양한 기법을 소개합니다. 독자는 이 책을 통해 엘라스틱을 활용하여 벡터 검색을 효과적으로 구현하고 최적화하는 데 필요한 기술을 익힐 수 있습니다.\n",
      "\n",
      "\n",
      "URL: https://wikibook.co.kr/llm-apps/\n",
      "Title: 챗GPT와 랭체인을 활용한 LLM 기반 AI 앱 개발 | 위키북스\n",
      "Summary: 이 책은 챗GPT와 랭체인 프레임워크를 활용하여 대규모 언어 모델(LLM) 기반의 AI 애플리케이션을 개발하는 방법을 단계별로 소개합니다. OpenAI API와 랭체인의 기본 개념부터 시작하여, 실제 웹 애플리케이션과 슬랙 앱 구현에 이르기까지의 과정을 다룹니다. 또한 최신 기술인 벡터 데이터베이스, 서버리스 아키텍처 활용까지 포함되며, 실무에 필요한 보안 및 개인정보보호 관련 노하우도 배울 수 있습니다. 이 책을 통해 독자들은 LLM의 잠재력을 현실에 적용하는 개발자로서의 역량을 넓힐 수 있을 것입니다.\n",
      "\n",
      "\n",
      "URL: https://wikibook.co.kr/copilot/\n",
      "Title: AI 코딩 어시스턴트 깃허브 코파일럿 제대로 활용하기 | 위키북스\n",
      "Summary: \"AI 코딩 어시스턴트 깃허브 코파일럿 제대로 활용하기\"는 초보자도 쉽게 따라 할 수 있도록 구성된 파이썬 프로그래밍 입문서입니다. 이 책은 AI 도구인 깃허브 코파일럿과 챗GPT를 활용하여 코드를 작성하고 개선하는 방법을 제시합니다. 독자는 프로그래밍의 기본 개념과 AI를 통한 코드 생성, 수정, 테스트 등을 배우게 됩니다. 특히, 반복적인 작업의 자동화 방법과 게임 제작을 통한 실습도 포함되어 있어 실용적인 코딩 기술을 익힐 수 있습니다. 이 책은 프로그래밍 교육에 적합하며, AI 도구 사용의 효과적인 방법을 알려줍니다.\n",
      "\n",
      "\n",
      "URL: https://wikibook.co.kr/my-chatgpt/\n",
      "Title: OpenAI API와 파이썬으로 나만의 챗GPT 만들기 | 위키북스\n",
      "Summary: 이 책은 OpenAI API를 활용하여 파이썬으로 인공지능 애플리케이션을 개발하는 방법을 안내합니다. 챗GPT와 API의 기본 개념을 시작으로, 챗봇, 음성 인식, 뉴스 기사 자동 생성 등의 실전 예제를 통해 다양한 활용법을 배울 수 있습니다. 또한, 랭체인(LangChain)과 크로마(Chroma) 등을 사용하여 개발 효율성을 높이는 방법도 다룹니다. 이 책은 독자가 인공지능 애플리케이션을 직접 만들 수 있는 기술을 익히는 데 도움을 주는 내용을 포함하고 있습니다.\n",
      "\n",
      "\n",
      "URL: https://wikibook.co.kr/langchain/\n",
      "Title: 랭체인 완벽 입문 | 위키북스\n",
      "Summary: \"랭체인 완벽 입문\"은 혁신적인 LLM(대규모 언어 모델) 애플리케이션을 구축하기 위한 랭체인 사용법을 소개하는 입문서입니다. 챗지피티와 같은 대화형 AI의 기반 기술인 LLM을 활용하여 다양한 애플리케이션을 효율적으로 개발할 수 있는 방법을 설명합니다. 이 책은 파이썬과 비주얼 스튜디오 코드를 이용한 실제 개발 사례, 프롬프트 엔지니어링 기법 등을 통해 독자가 AI 애플리케이션을 쉽게 만들 수 있도록 돕습니다. 각 모듈의 기능을 활용하는 구체적인 방법과 실용적인 예제가 포함되어 있어, 생성형 AI 앱 개발을 원하는 이들에게 유용한 자료가 될 것입니다.\n"
     ]
    }
   ],
   "source": [
    "for doc in docs:\n",
    "    print(f\"URL: {doc.metadata['source']}\")\n",
    "    print(f\"Title: {doc.metadata['title']}\")\n",
    "    summary = chain.invoke({\"context\": doc.page_content})\n",
    "    print(f\"Summary: {summary}\\n\\n\")"
   ],
   "metadata": {
    "collapsed": false,
    "ExecuteTime": {
     "end_time": "2025-02-28T08:13:55.834014Z",
     "start_time": "2025-02-28T08:13:42.511120Z"
    }
   },
   "id": "af88ab555e325198",
   "execution_count": 34
  }
 ],
 "metadata": {
  "kernelspec": {
   "display_name": "Python 3",
   "language": "python",
   "name": "python3"
  },
  "language_info": {
   "codemirror_mode": {
    "name": "ipython",
    "version": 2
   },
   "file_extension": ".py",
   "mimetype": "text/x-python",
   "name": "python",
   "nbconvert_exporter": "python",
   "pygments_lexer": "ipython2",
   "version": "2.7.6"
  }
 },
 "nbformat": 4,
 "nbformat_minor": 5
}
