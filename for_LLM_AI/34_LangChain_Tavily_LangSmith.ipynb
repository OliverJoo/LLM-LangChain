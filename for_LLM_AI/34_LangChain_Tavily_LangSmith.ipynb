{
 "cells": [
  {
   "cell_type": "code",
   "execution_count": 2,
   "id": "initial_id",
   "metadata": {
    "collapsed": true,
    "ExecuteTime": {
     "end_time": "2025-03-05T06:58:55.270715Z",
     "start_time": "2025-03-05T06:58:54.940597Z"
    }
   },
   "outputs": [
    {
     "data": {
      "text/plain": "False"
     },
     "execution_count": 2,
     "metadata": {},
     "output_type": "execute_result"
    }
   ],
   "source": [
    "import os\n",
    "import time\n",
    "from openai import OpenAI\n",
    "from dotenv import load_dotenv\n",
    "\n",
    "load_dotenv()"
   ]
  },
  {
   "cell_type": "code",
   "outputs": [],
   "source": [
    "# Set Env to utilise LangSmith(Tracing, Set EndPoint, Project Name & Category)\n",
    "os.environ[\"LANGCHAIN_TRACING_V2\"] = \"true\"\n",
    "os.environ[\"LANGCHAIN_ENDPOINT\"] = \"https://api.smith.langchain.com\"\n",
    "os.environ[\"LANGCHAIN_PROJECT\"] = \"project-llm-api-tavily\""
   ],
   "metadata": {
    "collapsed": false,
    "ExecuteTime": {
     "end_time": "2025-03-05T07:00:17.511618Z",
     "start_time": "2025-03-05T07:00:17.507601Z"
    }
   },
   "id": "40bd8d40cf20b642",
   "execution_count": 4
  },
  {
   "cell_type": "code",
   "outputs": [
    {
     "name": "stdout",
     "output_type": "stream",
     "text": [
      "\n",
      "\n",
      "\u001B[1m> Entering new AgentExecutor chain...\u001B[0m\n",
      "\u001B[32;1m\u001B[1;3m\n",
      "Invoking: `tavily_search_results_json` with `{'query': '2025 Netflix new sci-fi releases'}`\n",
      "\n",
      "\n",
      "\u001B[0m\u001B[36;1m\u001B[1;3m[{'title': \"First Look at What's Coming to Netflix in April 2025\", 'url': 'https://www.whats-on-netflix.com/coming-soon/whats-coming-to-netflix-in-april-2025/', 'content': \"April 2025 Release Date TBD · Black Mirror (Season 7) Netflix Original – Brand new sci-fi/horror tales in Netflix's anthology series, featuring a\", 'score': 0.85967577}, {'title': 'New Sci-Fi TV Shows on Netflix (March 2025) | Rotten Tomatoes', 'url': 'https://www.rottentomatoes.com/browse/tv_series_browse/affiliates:netflix~genres:sci_fi~sort:newest', 'content': 'When the Stars Gossip. Watch the trailer for When the Stars Gossip ; The Walking Dead: Daryl Dixon. Watch the trailer for The Walking Dead: Daryl Dixon · 48%', 'score': 0.8312667}, {'title': 'New on Netflix in March 2025', 'url': 'https://www.netflix.com/tudum/articles/new-on-netflix', 'content': \"And one of the best ways to lean into those feelings of affection — whether you’re attached or solo — is to grab some chocolates, a warm blanket, and hit play on one of the exciting new shows and movies coming to Netflix. And while all things must come to an end, there’s always something new on the other side, so you’ll want to catch the premiere of\\xa0Love Is Blind Season 8 to find out whether the latest group of hopeful singles can find love in the pods. With the arrival of a new baby, Gru's life is great — until an old rival comes back for revenge and forces Gru to uproot his family and Minions!\", 'score': 0.7190094}]\u001B[0m\u001B[32;1m\u001B[1;3m\n",
      "Invoking: `tavily_search_results_json` with `{'query': '2025 Apple TV+ new sci-fi releases'}`\n",
      "\n",
      "\n",
      "\u001B[0m\u001B[36;1m\u001B[1;3m[{'title': \"Apple's new sci-fi series “Murderbot” to make global debut May 16 ...\", 'url': 'https://www.apple.com/tv-pr/news/2025/02/apples-new-sci-fi-series-murderbot-starring-and-executive-produced-by-alexander-skarsgrd-and-hailing-from-chris-and-paul-weitz-to-make-global-debut-may-16-2025/', 'content': 'Apple’s new sci-fi series “Murderbot” to make global debut May 16, 2025 - Apple TV+ Press Apple Apple TV+ Press Apple Originals Apple’s new sci-fi series “Murderbot,” starring and executive produced by Alexander Skarsgård and hailing from Chris and Paul Weitz, to make global debut May 16, 2025 About Apple TV+ Apple’s new sci-fi series “Murderbot,” starring and executive produced by Alexander Skarsgård and hailing from Chris and Paul Weitz, to make global debut May 16, 2025 About Apple TV+ Apple TV+ Press  Apple Card Apple Store Account Apple One Apple TV+ Apple News+ Apple Books Apple and Business Apple and Education Apple in Healthcare Contact Apple Or call 1-800-MY-APPLE.', 'score': 0.8980626}, {'title': 'New Sci-Fi Movies on Apple TV (2025) | Rotten Tomatoes', 'url': 'https://www.rottentomatoes.com/browse/movies_at_home/affiliates:apple-tv~genres:sci_fi~sort:newest', 'content': 'Movies in theaters Movies at Home Certified fresh picks New TV Tonight Most Popular TV on RT Certified fresh pick Columns Guides Best New Movies of 2025, Ranked by Tomatometer 50 Essential Teen Romance Movies Hubs Black Heritage What to Watch: In Theaters and On Streaming. RT News 2025 Writers Guild Awards: See the Full List of Winners Mickey 17 First Reactions: A Zany but Thought-Provoking Sci-Fi Satire Led by a Winning Robert Pattinson Performance New Sci-Fi Movies on Apple TV (2025) Movies No results Join the Newsletter Get the freshest reviews, news, and more delivered right to your inbox! Follow Us Copyright © Fandango. All rights reserved.', 'score': 0.7906115}, {'title': 'Sci-Fi TV Shows on Apple TV+ (March 2025) - Rotten Tomatoes', 'url': 'https://www.rottentomatoes.com/browse/tv_series_browse/affiliates:apple-tv-plus~genres:sci_fi', 'content': 'Sci-Fi TV Shows on Apple TV+ (March 2025).', 'score': 0.78788257}]\u001B[0m\u001B[32;1m\u001B[1;3mHere are some upcoming sci-fi releases for Netflix and Apple TV+ in 2025:\n",
      "\n",
      "### Netflix\n",
      "1. **Black Mirror (Season 7)**\n",
      "   - **Release Date:** April 2025 (exact date TBD)\n",
      "   - **Description:** A brand new season of Netflix's anthology series featuring sci-fi/horror tales.\n",
      "   - [Read more](https://www.whats-on-netflix.com/coming-soon/whats-coming-to-netflix-in-april-2025/)\n",
      "\n",
      "2. **When the Stars Gossip**\n",
      "   - **Release Date:** March 2025\n",
      "   - **Description:** A new sci-fi series that is generating buzz.\n",
      "   - [Read more](https://www.rottentomatoes.com/browse/tv_series_browse/affiliates:netflix~genres:sci_fi~sort:newest)\n",
      "\n",
      "### Apple TV+\n",
      "1. **Murderbot**\n",
      "   - **Release Date:** May 16, 2025\n",
      "   - **Description:** A new sci-fi series starring and executive produced by Alexander Skarsgård, based on the popular \"Murderbot Diaries\" series.\n",
      "   - [Read more](https://www.apple.com/tv-pr/news/2025/02/apples-new-sci-fi-series-murderbot-starring-and-executive-produced-by-alexander-skarsgrd-and-hailing-from-chris-and-paul-weitz-to-make-global-debut-may-16-2025/)\n",
      "\n",
      "These titles represent some of the exciting sci-fi content coming to both platforms in 2025!\u001B[0m\n",
      "\n",
      "\u001B[1m> Finished chain.\u001B[0m\n"
     ]
    }
   ],
   "source": [
    "from langchain import hub\n",
    "from langchain.agents import load_tools\n",
    "from langchain.agents import AgentExecutor, create_openai_tools_agent\n",
    "from langchain_openai import ChatOpenAI\n",
    "from langchain_community.tools.tavily_search import TavilySearchResults\n",
    "\n",
    "llm = ChatOpenAI(model=\"gpt-4o-mini\", temperature=0)\n",
    "tools = [TavilySearchResults(max_results=3)]\n",
    "prompt = hub.pull(\n",
    "    \"hwchase17/openai-tools-agent\",\n",
    "    api_key=os.getenv(\"LANGSMITH_API_KEY\")\n",
    ")\n",
    "\n",
    "agent = create_openai_tools_agent(llm, tools, prompt)\n",
    "agent_executor = AgentExecutor(agent=agent, tools=tools, verbose=True)\n",
    "\n",
    "result = agent_executor.invoke({\"input\": \"2025년 넷플릭스와 애플 TV+ 신작 중 SF 장르 작품을 알려줘\"})"
   ],
   "metadata": {
    "collapsed": false,
    "ExecuteTime": {
     "end_time": "2025-03-05T07:02:48.167696Z",
     "start_time": "2025-03-05T07:02:36.005209Z"
    }
   },
   "id": "4a6d765451c2f94c",
   "execution_count": 6
  },
  {
   "cell_type": "code",
   "outputs": [
    {
     "name": "stdout",
     "output_type": "stream",
     "text": [
      "Here are some upcoming sci-fi releases for Netflix and Apple TV+ in 2025:\n",
      "\n",
      "### Netflix\n",
      "1. **Black Mirror (Season 7)**\n",
      "   - **Release Date:** April 2025 (exact date TBD)\n",
      "   - **Description:** A brand new season of Netflix's anthology series featuring sci-fi/horror tales.\n",
      "   - [Read more](https://www.whats-on-netflix.com/coming-soon/whats-coming-to-netflix-in-april-2025/)\n",
      "\n",
      "2. **When the Stars Gossip**\n",
      "   - **Release Date:** March 2025\n",
      "   - **Description:** A new sci-fi series that is generating buzz.\n",
      "   - [Read more](https://www.rottentomatoes.com/browse/tv_series_browse/affiliates:netflix~genres:sci_fi~sort:newest)\n",
      "\n",
      "### Apple TV+\n",
      "1. **Murderbot**\n",
      "   - **Release Date:** May 16, 2025\n",
      "   - **Description:** A new sci-fi series starring and executive produced by Alexander Skarsgård, based on the popular \"Murderbot Diaries\" series.\n",
      "   - [Read more](https://www.apple.com/tv-pr/news/2025/02/apples-new-sci-fi-series-murderbot-starring-and-executive-produced-by-alexander-skarsgrd-and-hailing-from-chris-and-paul-weitz-to-make-global-debut-may-16-2025/)\n",
      "\n",
      "These titles represent some of the exciting sci-fi content coming to both platforms in 2025!\n"
     ]
    }
   ],
   "source": [
    "print(result[\"output\"])"
   ],
   "metadata": {
    "collapsed": false,
    "ExecuteTime": {
     "end_time": "2025-03-05T07:03:32.307910Z",
     "start_time": "2025-03-05T07:03:32.303631Z"
    }
   },
   "id": "b802d6638c617ed4",
   "execution_count": 7
  }
 ],
 "metadata": {
  "kernelspec": {
   "display_name": "Python 3",
   "language": "python",
   "name": "python3"
  },
  "language_info": {
   "codemirror_mode": {
    "name": "ipython",
    "version": 2
   },
   "file_extension": ".py",
   "mimetype": "text/x-python",
   "name": "python",
   "nbconvert_exporter": "python",
   "pygments_lexer": "ipython2",
   "version": "2.7.6"
  }
 },
 "nbformat": 4,
 "nbformat_minor": 5
}
