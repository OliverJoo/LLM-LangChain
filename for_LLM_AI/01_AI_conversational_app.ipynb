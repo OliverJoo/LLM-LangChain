{
 "cells": [
  {
   "cell_type": "code",
   "execution_count": 1,
   "id": "initial_id",
   "metadata": {
    "collapsed": true,
    "ExecuteTime": {
     "end_time": "2025-01-13T01:26:54.975932Z",
     "start_time": "2025-01-13T01:26:54.565082Z"
    }
   },
   "outputs": [],
   "source": [
    "import os\n",
    "from dotenv import load_dotenv\n",
    "#from langchain import HuggingFaceHub\n",
    "\n",
    "from langchain import PromptTemplate, LLMChain\n",
    "\n",
    "load_dotenv()\n",
    "\n",
    "key = os.environ['OPENAI_API_KEY']"
   ]
  },
  {
   "cell_type": "code",
   "outputs": [],
   "source": [
    "# Sample bot with no memory\n",
    "\n",
    "from langchain.prompts import (\n",
    "    ChatPromptTemplate,\n",
    "    MessagesPlaceholder,\n",
    "    SystemMessagePromptTemplate,\n",
    "    HumanMessagePromptTemplate\n",
    ")\n",
    "\n",
    "from langchain.schema import (\n",
    "    AIMessage,\n",
    "    HumanMessage,\n",
    "    SystemMessage,\n",
    ")\n",
    "\n",
    "from langchain.chains import LLMChain, ConversationChain\n",
    "from langchain_openai import ChatOpenAI\n",
    "\n",
    "chat = ChatOpenAI()"
   ],
   "metadata": {
    "collapsed": false,
    "ExecuteTime": {
     "end_time": "2025-01-13T01:26:55.198851Z",
     "start_time": "2025-01-13T01:26:54.976842Z"
    }
   },
   "id": "9ba810599105dc93",
   "execution_count": 2
  },
  {
   "cell_type": "code",
   "outputs": [
    {
     "name": "stderr",
     "output_type": "stream",
     "text": [
      "/var/folders/c4/_knlqzks04q67bz6n79k4z2r0000gn/T/ipykernel_53903/87624682.py:5: LangChainDeprecationWarning: The method `BaseChatModel.__call__` was deprecated in langchain-core 0.1.7 and will be removed in 1.0. Use :meth:`~invoke` instead.\n",
      "  chat(message)\n"
     ]
    },
    {
     "data": {
      "text/plain": "AIMessage(content=\"That's great! Rome is a beautiful city with a lot to see. Here is a suggested itinerary for your 2-day trip:\\n\\nDay 1:\\n1. Start your day by visiting the Colosseum, one of Rome's most iconic landmarks. Make sure to book your tickets in advance to avoid long lines.\\n2. After the Colosseum, head to the Roman Forum and Palatine Hill, located nearby. These ancient ruins offer a glimpse into the city's history.\\n3. Have lunch at a local trattoria and try some authentic Italian cuisine.\\n4. In the afternoon, visit the Pantheon, a well-preserved ancient Roman temple, and the nearby Piazza Navona, a lively square with beautiful fountains.\\n5. End your day at the Trevi Fountain, where you can toss a coin into the water and make a wish.\\n\\nDay 2:\\n1. Start your day at the Vatican City, home to St. Peter's Basilica and the Vatican Museums. Be sure to visit the Sistine Chapel to see Michelangelo's famous ceiling.\\n2. After the Vatican, cross the Tiber River and explore the charming neighborhood of Trastevere. Wander the cobblestone streets and enjoy the local atmosphere.\\n3. Have lunch at a traditional Roman osteria and taste some delicious pasta dishes.\\n4. In the afternoon, visit the Spanish Steps and the nearby shopping street, Via del Corso, for some leisurely shopping and people-watching.\\n5. End your day with a visit to the Castel Sant'Angelo, a historic fortress with panoramic views of the city.\\n\\nI hope this itinerary helps you make the most of your time in Rome! Let me know if you need any more recommendations or assistance.\", additional_kwargs={'refusal': None}, response_metadata={'token_usage': {'completion_tokens': 358, 'prompt_tokens': 41, 'total_tokens': 399, 'completion_tokens_details': {'audio_tokens': 0, 'reasoning_tokens': 0, 'accepted_prediction_tokens': 0, 'rejected_prediction_tokens': 0}, 'prompt_tokens_details': {'audio_tokens': 0, 'cached_tokens': 0}}, 'model_name': 'gpt-3.5-turbo-0125', 'system_fingerprint': None, 'finish_reason': 'stop', 'logprobs': None}, id='run-78d66ec3-a876-41c9-9e88-95d48065f3e9-0', usage_metadata={'input_tokens': 41, 'output_tokens': 358, 'total_tokens': 399, 'input_token_details': {'audio': 0, 'cache_read': 0}, 'output_token_details': {'audio': 0, 'reasoning': 0}})"
     },
     "execution_count": 3,
     "metadata": {},
     "output_type": "execute_result"
    }
   ],
   "source": [
    "message = [\n",
    "    SystemMessage(content=\"You are a helpful assistant that help the user to plan an optimized itinerary.\"),\n",
    "    HumanMessage(content=\"I'm going to Rome for 2 days, what can I visit?\")\n",
    "]\n",
    "chat(message)"
   ],
   "metadata": {
    "collapsed": false,
    "ExecuteTime": {
     "end_time": "2025-01-13T01:26:58.413708Z",
     "start_time": "2025-01-13T01:26:55.199454Z"
    }
   },
   "id": "91106cb4e52bed31",
   "execution_count": 3
  },
  {
   "cell_type": "code",
   "outputs": [
    {
     "name": "stdout",
     "output_type": "stream",
     "text": [
      "That's great! Rome is a beautiful city with so much to see and do. Here is a suggested itinerary for your 2-day trip to Rome:\n",
      "\n",
      "Day 1:\n",
      "1. Start your day by visiting the iconic Colosseum, an ancient amphitheater that is one of the most famous landmarks in Rome.\n",
      "2. After the Colosseum, head to the Roman Forum, a sprawling archaeological site that was once the center of ancient Rome.\n",
      "3. Visit the Pantheon, a well-preserved Roman temple that is now a church.\n",
      "4. Enjoy a leisurely stroll through Piazza Navona, a beautiful square with fountains, restaurants, and street performers.\n",
      "5. End your day by throwing a coin into the Trevi Fountain for good luck and then enjoy a delicious Italian dinner at a local restaurant.\n",
      "\n",
      "Day 2:\n",
      "1. Visit the Vatican City, home to St. Peter's Basilica and the Vatican Museums, which house the Sistine Chapel painted by Michelangelo.\n",
      "2. Explore the picturesque neighborhood of Trastevere, known for its narrow cobblestone streets, colorful buildings, and charming cafes.\n",
      "3. Walk along the Tiber River and cross the Ponte Sant'Angelo bridge to see the Castel Sant'Angelo, a historic fortress that offers panoramic views of the city.\n",
      "4. Visit the Spanish Steps, a famous staircase leading up to the Trinità dei Monti church, and take in the bustling atmosphere of the surrounding shopping district.\n",
      "5. End your day by enjoying a leisurely dinner at a local trattoria and savoring some gelato for dessert.\n",
      "\n",
      "Remember to wear comfortable shoes, stay hydrated, and take breaks to rest and enjoy the beauty of Rome. Enjoy your trip!\n"
     ]
    }
   ],
   "source": [
    "output = chat.invoke(message)\n",
    "print(output.content)"
   ],
   "metadata": {
    "collapsed": false,
    "ExecuteTime": {
     "end_time": "2025-01-13T01:27:21.867506Z",
     "start_time": "2025-01-13T01:27:18.447288Z"
    }
   },
   "id": "66fc67b77ca677e7",
   "execution_count": 4
  },
  {
   "cell_type": "code",
   "outputs": [
    {
     "name": "stderr",
     "output_type": "stream",
     "text": [
      "/var/folders/c4/_knlqzks04q67bz6n79k4z2r0000gn/T/ipykernel_53903/3729458726.py:5: LangChainDeprecationWarning: Please see the migration guide at: https://python.langchain.com/docs/versions/migrating_memory/\n",
      "  memory = ConversationBufferMemory()\n",
      "/var/folders/c4/_knlqzks04q67bz6n79k4z2r0000gn/T/ipykernel_53903/3729458726.py:6: LangChainDeprecationWarning: The class `ConversationChain` was deprecated in LangChain 0.2.7 and will be removed in 1.0. Use :meth:`~RunnableWithMessageHistory: https://python.langchain.com/v0.2/api_reference/core/runnables/langchain_core.runnables.history.RunnableWithMessageHistory.html` instead.\n",
      "  conversation = ConversationChain(\n"
     ]
    }
   ],
   "source": [
    "# Adding Memory\n",
    "from langchain.memory import ConversationBufferMemory\n",
    "from langchain.chains import ConversationChain\n",
    "\n",
    "memory = ConversationBufferMemory()\n",
    "conversation = ConversationChain(\n",
    "    llm=chat, verbose=True, memory=memory\n",
    ")"
   ],
   "metadata": {
    "collapsed": false,
    "ExecuteTime": {
     "end_time": "2025-01-13T01:27:27.638783Z",
     "start_time": "2025-01-13T01:27:27.630895Z"
    }
   },
   "id": "2ea489048b28d7ab",
   "execution_count": 5
  },
  {
   "cell_type": "code",
   "outputs": [
    {
     "name": "stdout",
     "output_type": "stream",
     "text": [
      "\n",
      "\n",
      "\u001B[1m> Entering new ConversationChain chain...\u001B[0m\n",
      "Prompt after formatting:\n",
      "\u001B[32;1m\u001B[1;3mThe following is a friendly conversation between a human and an AI. The AI is talkative and provides lots of specific details from its context. If the AI does not know the answer to a question, it truthfully says it does not know.\n",
      "\n",
      "Current conversation:\n",
      "\n",
      "Human: Hi there!\n",
      "AI:\u001B[0m\n",
      "\n",
      "\u001B[1m> Finished chain.\u001B[0m\n"
     ]
    },
    {
     "data": {
      "text/plain": "{'input': 'Hi there!',\n 'history': '',\n 'response': 'Hello! How can I assist you today?'}"
     },
     "execution_count": 6,
     "metadata": {},
     "output_type": "execute_result"
    }
   ],
   "source": [
    "conversation.invoke(\"Hi there!\")"
   ],
   "metadata": {
    "collapsed": false,
    "ExecuteTime": {
     "end_time": "2025-01-13T01:27:32.458524Z",
     "start_time": "2025-01-13T01:27:32.027963Z"
    }
   },
   "id": "73d828c3ec8b7f3d",
   "execution_count": 6
  },
  {
   "cell_type": "code",
   "outputs": [
    {
     "name": "stdout",
     "output_type": "stream",
     "text": [
      "\n",
      "\n",
      "\u001B[1m> Entering new ConversationChain chain...\u001B[0m\n",
      "Prompt after formatting:\n",
      "\u001B[32;1m\u001B[1;3mThe following is a friendly conversation between a human and an AI. The AI is talkative and provides lots of specific details from its context. If the AI does not know the answer to a question, it truthfully says it does not know.\n",
      "\n",
      "Current conversation:\n",
      "Human: Hi there!\n",
      "AI: Hello! How can I assist you today?\n",
      "Human: what is the most iconic place in Rome?\n",
      "AI:\u001B[0m\n",
      "\n",
      "\u001B[1m> Finished chain.\u001B[0m\n"
     ]
    },
    {
     "data": {
      "text/plain": "{'input': 'what is the most iconic place in Rome?',\n 'history': 'Human: Hi there!\\nAI: Hello! How can I assist you today?',\n 'response': 'The most iconic place in Rome is undoubtedly the Colosseum. It is a massive amphitheater that was built in 70-80 AD and could hold up to 80,000 spectators for gladiatorial contests and other public spectacles. It is a symbol of the power and grandeur of the Roman Empire and is one of the most visited tourist attractions in the world.'}"
     },
     "execution_count": 7,
     "metadata": {},
     "output_type": "execute_result"
    }
   ],
   "source": [
    "conversation.invoke(\"what is the most iconic place in Rome?\")"
   ],
   "metadata": {
    "collapsed": false,
    "ExecuteTime": {
     "end_time": "2025-01-13T01:27:37.522906Z",
     "start_time": "2025-01-13T01:27:36.139773Z"
    }
   },
   "id": "e5db3931235a2acf",
   "execution_count": 7
  },
  {
   "cell_type": "code",
   "outputs": [
    {
     "name": "stdout",
     "output_type": "stream",
     "text": [
      "\n",
      "\n",
      "\u001B[1m> Entering new ConversationChain chain...\u001B[0m\n",
      "Prompt after formatting:\n",
      "\u001B[32;1m\u001B[1;3mThe following is a friendly conversation between a human and an AI. The AI is talkative and provides lots of specific details from its context. If the AI does not know the answer to a question, it truthfully says it does not know.\n",
      "\n",
      "Current conversation:\n",
      "Human: Hi there!\n",
      "AI: Hello! How can I assist you today?\n",
      "Human: what is the most iconic place in Rome?\n",
      "AI: The most iconic place in Rome is undoubtedly the Colosseum. It is a massive amphitheater that was built in 70-80 AD and could hold up to 80,000 spectators for gladiatorial contests and other public spectacles. It is a symbol of the power and grandeur of the Roman Empire and is one of the most visited tourist attractions in the world.\n",
      "Human: What kind of other events?\n",
      "AI:\u001B[0m\n",
      "\n",
      "\u001B[1m> Finished chain.\u001B[0m\n"
     ]
    },
    {
     "data": {
      "text/plain": "{'input': 'What kind of other events?',\n 'history': 'Human: Hi there!\\nAI: Hello! How can I assist you today?\\nHuman: what is the most iconic place in Rome?\\nAI: The most iconic place in Rome is undoubtedly the Colosseum. It is a massive amphitheater that was built in 70-80 AD and could hold up to 80,000 spectators for gladiatorial contests and other public spectacles. It is a symbol of the power and grandeur of the Roman Empire and is one of the most visited tourist attractions in the world.',\n 'response': 'Other events held at the Colosseum included mock sea battles, animal hunts, executions, and reenactments of famous battles and myths. The Colosseum was a versatile venue that could host a wide variety of events to entertain the Roman citizens.'}"
     },
     "execution_count": 8,
     "metadata": {},
     "output_type": "execute_result"
    }
   ],
   "source": [
    "conversation.invoke(\"What kind of other events?\")"
   ],
   "metadata": {
    "collapsed": false,
    "ExecuteTime": {
     "end_time": "2025-01-13T01:27:43.975695Z",
     "start_time": "2025-01-13T01:27:43.068168Z"
    }
   },
   "id": "950f979939801ea",
   "execution_count": 8
  },
  {
   "cell_type": "code",
   "outputs": [
    {
     "data": {
      "text/plain": "{'history': 'Human: Hi there!\\nAI: Hello! How can I assist you today?\\nHuman: what is the most iconic place in Rome?\\nAI: The most iconic place in Rome is undoubtedly the Colosseum. It is a massive amphitheater that was built in 70-80 AD and could hold up to 80,000 spectators for gladiatorial contests and other public spectacles. It is a symbol of the power and grandeur of the Roman Empire and is one of the most visited tourist attractions in the world.\\nHuman: What kind of other events?\\nAI: Other events held at the Colosseum included mock sea battles, animal hunts, executions, and reenactments of famous battles and myths. The Colosseum was a versatile venue that could host a wide variety of events to entertain the Roman citizens.'}"
     },
     "execution_count": 9,
     "metadata": {},
     "output_type": "execute_result"
    }
   ],
   "source": [
    "memory.load_memory_variables({})"
   ],
   "metadata": {
    "collapsed": false,
    "ExecuteTime": {
     "end_time": "2025-01-13T01:27:47.353493Z",
     "start_time": "2025-01-13T01:27:47.351180Z"
    }
   },
   "id": "dd8f0494a3b03aad",
   "execution_count": 9
  },
  {
   "cell_type": "code",
   "outputs": [
    {
     "name": "stderr",
     "output_type": "stream",
     "text": [
      "/var/folders/c4/_knlqzks04q67bz6n79k4z2r0000gn/T/ipykernel_53903/2470603616.py:23: LangChainDeprecationWarning: The class `LLMChain` was deprecated in LangChain 0.1.17 and will be removed in 1.0. Use :meth:`~RunnableSequence, e.g., `prompt | llm`` instead.\n",
      "  conversation = LLMChain(\n"
     ]
    }
   ],
   "source": [
    "from langchain.prompts import (\n",
    "    ChatPromptTemplate,\n",
    "    MessagesPlaceholder,\n",
    "    SystemMessagePromptTemplate,\n",
    "    HumanMessagePromptTemplate,\n",
    ")\n",
    "from langchain.memory import ConversationBufferMemory\n",
    "\n",
    "prompt = ChatPromptTemplate.from_messages(\n",
    "    messages=[\n",
    "        SystemMessagePromptTemplate.from_template(\n",
    "            \"You are a helpful assistant that help the user to plan an optimized itinerary.\"\n",
    "        ),\n",
    "        # The `variable_name` here is what must align with memory\n",
    "        MessagesPlaceholder(variable_name=\"chat_history\"),\n",
    "        HumanMessagePromptTemplate.from_template(\"{question}\")\n",
    "    ]\n",
    ")\n",
    "\n",
    "# Notice that we `return_messages=True` to fit into the MessagesPlaceholder\n",
    "# Notice that `\"chat_history\"` aligns with the MessagesPlaceholder name\n",
    "memory = ConversationBufferMemory(memory_key=\"chat_history\", return_messages=True)\n",
    "conversation = LLMChain(\n",
    "    llm=chat,\n",
    "    prompt=prompt,\n",
    "    verbose=False,\n",
    "    memory=memory\n",
    ")"
   ],
   "metadata": {
    "collapsed": false,
    "ExecuteTime": {
     "end_time": "2025-01-13T01:27:51.288126Z",
     "start_time": "2025-01-13T01:27:51.283885Z"
    }
   },
   "id": "952329cf1606ab85",
   "execution_count": 10
  },
  {
   "cell_type": "code",
   "outputs": [
    {
     "name": "stderr",
     "output_type": "stream",
     "text": [
      "/var/folders/c4/_knlqzks04q67bz6n79k4z2r0000gn/T/ipykernel_53903/1112633826.py:5: LangChainDeprecationWarning: The method `Chain.__call__` was deprecated in langchain 0.1.0 and will be removed in 1.0. Use :meth:`~invoke` instead.\n",
      "  output = conversation({\"question\": query})\n"
     ]
    },
    {
     "name": "stdout",
     "output_type": "stream",
     "text": [
      "User:  \n",
      "AI system:  Hello! How can I assist you today?\n",
      "User:  hi there\n",
      "AI system:  Hello! How can I assist you today?\n"
     ]
    }
   ],
   "source": [
    "while True:\n",
    "    query = input('you: ')\n",
    "    if query == 'q':\n",
    "        break\n",
    "    output = conversation({\"question\": query})\n",
    "    print('User: ', query)\n",
    "    print('AI system: ', output['text'])"
   ],
   "metadata": {
    "collapsed": false,
    "ExecuteTime": {
     "end_time": "2025-01-13T01:28:01.875919Z",
     "start_time": "2025-01-13T01:27:53.819667Z"
    }
   },
   "id": "dcc381ca59933518",
   "execution_count": 11
  },
  {
   "cell_type": "code",
   "outputs": [],
   "source": [
    "# Adding non-parametric knowledge\n",
    "from langchain_openai import ChatOpenAI, OpenAIEmbeddings\n",
    "from langchain.text_splitter import RecursiveCharacterTextSplitter\n",
    "from langchain.vectorstores import FAISS\n",
    "from langchain.document_loaders import PyPDFLoader\n",
    "\n",
    "import os\n",
    "\n",
    "from dotenv import load_dotenv\n",
    "\n",
    "load_dotenv()\n",
    "\n",
    "os.environ[\"OPENAI_API_KEY\"]\n",
    "\n",
    "text_splitter = RecursiveCharacterTextSplitter(\n",
    "    chunk_size=1500,\n",
    "    chunk_overlap=200\n",
    ")\n",
    "\n",
    "raw_documents = PyPDFLoader('./italy_travel.pdf').load()\n",
    "documents = text_splitter.split_documents(raw_documents)\n",
    "db = FAISS.from_documents(documents, OpenAIEmbeddings())"
   ],
   "metadata": {
    "collapsed": false,
    "ExecuteTime": {
     "end_time": "2025-01-13T01:28:11.406719Z",
     "start_time": "2025-01-13T01:28:06.167435Z"
    }
   },
   "id": "4893f19a629fffab",
   "execution_count": 12
  },
  {
   "cell_type": "code",
   "outputs": [
    {
     "name": "stdout",
     "output_type": "stream",
     "text": [
      "\n",
      "\n",
      "\u001B[1m> Entering new StuffDocumentsChain chain...\u001B[0m\n",
      "\n",
      "\n",
      "\u001B[1m> Entering new LLMChain chain...\u001B[0m\n",
      "Prompt after formatting:\n",
      "\u001B[32;1m\u001B[1;3mSystem: Use the following pieces of context to answer the user's question. \n",
      "If you don't know the answer, just say that you don't know, don't try to make up an answer.\n",
      "----------------\n",
      "cafes in the square. The most famous are the Quadri and\n",
      "Florian. \n",
      "Piazza San Marco, \n",
      "Venice\n",
      "4\n",
      "Historical Monuments\n",
      "Pantheon\n",
      " \n",
      "Miskita:\n",
      " \n",
      "\"Angelic and non-human design,\" was how\n",
      "Michelangelo described the Pantheon 14 centuries after its\n",
      "construction. The highlights are the gigantic dome, the upper\n",
      "eye, the sheer size of the place, and the harmony of the\n",
      "whole building. We visited with a Roman guide which is\n",
      "exactly how you should (or shouldn't) visit the city, especially\n",
      "since they talk too much and have lots and lots of history of\n",
      "each building. \n",
      "And so we learned things like how the interior\n",
      "dome was filled with sand during construction. Or not,\n",
      "because it really is impossible to be sure of anything when\n",
      "one doesn't know Italian and the guide has a very thick\n",
      "Roman accent. But we loved the place, especially the\n",
      "entrance portico with its stout columns. \n",
      " \n",
      "Almudena:\n",
      " \n",
      "The Pantheon is one of the best preserved\n",
      "ancient Roman monuments and it was the first classical\n",
      "building to be transformed into a church. In 608, the\n",
      "Byzantine Emperor Phocas offered it to Pope Boniface IV and\n",
      "☎\n",
      " 390 668 300 230\n",
      " - \n",
      "Piazza della Rotonda, \n",
      "Rome\n",
      "5\n",
      "Squares\n",
      "Piazza Navona\n",
      " \n",
      "Fernandoo:\n",
      " \n",
      "The Piazza Navona is one of the most\n",
      "famous squares in Rome. It's located east of the river not far\n",
      "from the Vatican. This is where the Stadium of Domitian was\n",
      "located in ancient times and if you view the area from above,\n",
      "you can still imagine the circular form of the arena. The\n",
      "\n",
      "can easily hear what guide says (so no need to stay with him to hear what he says) and you can walk around seeing the\n",
      "coliseum's most interesting points. While we waited for the time we were assigned, we could browse the exhibition which is\n",
      "located on the first floor. There were panels and models, all quite pleasant, which explained the history of the Colosseum and its\n",
      "various parts.\n",
      "Belén G. Bonorino:\n",
      " There is no more to say about the Roman Coliseum because it's virtually all been said. I simply advise\n",
      "you to go in the morning, half an hour before it opens to see the Colosseum without people - it's a gift that few can appreciate,\n",
      "especially when you see the sun coming through their holes, it's very good material for photos. I was there very early and the\n",
      "truth is that throughout my visit, which lasted an hour and three quarters, I took the best pictures of empty building. When I left this\n",
      "it was filling up.\n",
      "Ana Catarina Macedo:\n",
      " They freaking simulated sea battles in there and also fought lions and other sorts of animals for\n",
      "people's joy, no need to say anything about this place except it is awesome.\n",
      "1\n",
      "Historical Monuments\n",
      "☎\n",
      " 390 639 967 700\n",
      " - \n",
      "Piazza del Colosseo, \n",
      "Rome\n",
      "2\n",
      "Bridges\n",
      "Ponte Vecchio\n",
      " \n",
      "Sofia Santos:\n",
      " \n",
      "This is an important historical landmark,\n",
      "situated in the Italian city of Florence (Tuscany). The Ponte\n",
      "Vecchio is the only bridge in Florence that was not destroyed\n",
      "during the occupation of Italy in World War II, which it is said\n",
      "\n",
      "the spring with a dowsing rod and Agrippa ordering the construction of the aqueduct. \n",
      "Two other large statues tell of the benefits of\n",
      "this water: good health (the snake, still symbolic of pharmacies, was associated with Asclepius, the god of medicine), and the\n",
      "arrival of material goods (the cornucopia). Finally, Neptune is center-stage under a grand triumphal arch. The titan of the ocean\n",
      "brings to mind both Bernini and Michelangelo. On either side, winged sea horses dart furiously at onlookers. \n",
      "It's truly impressive.\n",
      "You'll want to sit and stay for a while, transfixed by the fountain’s beauty. \n",
      "Roberto Gonzalez:\n",
      " At first glance, it seems as if the fountain was built right in the very center of the city, but the reality is\n",
      "actually the opposite. All of the surrounding houses and palaces were intentionally built there to so that inhabitants could enjoy\n",
      "the fountain’s charms. \n",
      "And the fountain sure does have its charms. This fountain, which took 30 long years to build, collects a\n",
      "staggering 2,000 Euros a week from well-wishers, a sum which is collected by the city of Rome and directed toward the upkeep of\n",
      "the city’s fountains. \n",
      "There are dozens of complex allegories at the heart of the fountain but my favorites are the horses which\n",
      "reflect the states of the sea (raging, calm, stormy, etc.). \n",
      "One tip: be careful with pickpockets…they swarm around this famous\n",
      "fountain. \n",
      "Simona Budà:\n",
      "\n",
      "The forum hosts Temple of Romulus, Castor and\n",
      "Pollux, Saturn, Tito, Vespartino, Venus,and the Temple of Vesta. You will also have the chance to check out the Basilica of\n",
      "Maxentius, Basilica Aemilia, the arches of Titus and Septimius Severus, as well as a multitude of other important buildings. \n",
      "Maris:\n",
      " The remains of the Roman Forum are a testament to the once-grandiose capital of Imperial Rome. Today, the ruins\n",
      "are only crumbling relics but they hold an incalculable historic value. This was the nerve center of ancient Rome where they held\n",
      "all kinds of political, economic and social events. It’s located in a tourist area but it’s never too crowded for you to have a nice\n",
      "stroll through the ruins and, with a little imagination, find yourself in the city of a millennium ago. It’s a must-see when you’re in\n",
      "Rome. \n",
      "Ana Catarina Macedo:\n",
      " If you go by foot from Colosseum to Fontana Di Trevi you get o see some really cool stuff like that and\n",
      "if you're interested in archeology and history you'll just go nuts here.\n",
      "Raquel Mol:\n",
      " A must place to visit in Rome too.\n",
      "45\n",
      "Historical Monuments\n",
      "☎\n",
      " 39 060 608\n",
      " - \n",
      "Via della Salara Vecchia, 5/6, \n",
      "Rome\n",
      "46\n",
      "Squares\n",
      "Piazza del Campo\n",
      " \n",
      "Helen Atallah:\n",
      " \n",
      " \n",
      "Marta Jarpa Ruiz:\n",
      " \n",
      "If you can visit around August 17th,\n",
      "the experience will be 20 times better. This is one of the city's\n",
      "biggest festivals and to celebrate it they decorate their streets\n",
      "with medieval flags, the locals are in the streets with scarves\n",
      "Human: Give me some review about the Pantheon\u001B[0m\n",
      "\n",
      "\u001B[1m> Finished chain.\u001B[0m\n",
      "\n",
      "\u001B[1m> Finished chain.\u001B[0m\n"
     ]
    },
    {
     "data": {
      "text/plain": "{'question': 'Give me some review about the Pantheon',\n 'chat_history': [HumanMessage(content='Give me some review about the Pantheon', additional_kwargs={}, response_metadata={}),\n  AIMessage(content='The Pantheon is described as one of the best-preserved ancient Roman monuments, notable for its \"angelic and non-human design,\" according to Michelangelo. Visitors are often impressed by the gigantic dome, the upper eye, and the overall sheer size and harmony of the building. \\n\\nOne reviewer mentioned enjoying a visit with a Roman guide, who provided a lot of history about the building, although understanding could be challenging due to the guide\\'s thick Roman accent. The entrance portico with its stout columns is highlighted as a particularly loved feature.\\n\\nAnother review notes that the Pantheon was the first classical building to be transformed into a church, which adds to its historical significance. Overall, it seems the Pantheon leaves a lasting impression on visitors due to its architectural beauty and rich history.', additional_kwargs={}, response_metadata={})],\n 'answer': 'The Pantheon is described as one of the best-preserved ancient Roman monuments, notable for its \"angelic and non-human design,\" according to Michelangelo. Visitors are often impressed by the gigantic dome, the upper eye, and the overall sheer size and harmony of the building. \\n\\nOne reviewer mentioned enjoying a visit with a Roman guide, who provided a lot of history about the building, although understanding could be challenging due to the guide\\'s thick Roman accent. The entrance portico with its stout columns is highlighted as a particularly loved feature.\\n\\nAnother review notes that the Pantheon was the first classical building to be transformed into a church, which adds to its historical significance. Overall, it seems the Pantheon leaves a lasting impression on visitors due to its architectural beauty and rich history.'}"
     },
     "execution_count": 13,
     "metadata": {},
     "output_type": "execute_result"
    }
   ],
   "source": [
    "from langchain.chains import ConversationalRetrievalChain\n",
    "from langchain.memory import ConversationBufferMemory\n",
    "\n",
    "memory = ConversationBufferMemory(\n",
    "    memory_key='chat_history',\n",
    "    return_messages=True,\n",
    ")\n",
    "\n",
    "llm = ChatOpenAI(model=\"gpt-4o-mini\")\n",
    "qa_chain = ConversationalRetrievalChain.from_llm(llm, retriever=db.as_retriever(), memory=memory, verbose=True)\n",
    "qa_chain.invoke({'question': 'Give me some review about the Pantheon'})"
   ],
   "metadata": {
    "collapsed": false,
    "ExecuteTime": {
     "end_time": "2025-01-13T01:28:15.220674Z",
     "start_time": "2025-01-13T01:28:12.195894Z"
    }
   },
   "id": "3b61305bd80be1cb",
   "execution_count": 13
  },
  {
   "cell_type": "code",
   "outputs": [
    {
     "name": "stdout",
     "output_type": "stream",
     "text": [
      "\n",
      "\n",
      "\u001B[1m> Entering new StuffDocumentsChain chain...\u001B[0m\n",
      "\n",
      "\n",
      "\u001B[1m> Entering new LLMChain chain...\u001B[0m\n",
      "Prompt after formatting:\n",
      "\u001B[32;1m\u001B[1;3mSystem: Use the following pieces of context to answer the user's question. \n",
      "If you don't know the answer, just say that you don't know, don't try to make up an answer.\n",
      "----------------\n",
      "What to see\n",
      " in Italy\n",
      "Page 6\n",
      "Canals of Venice \n",
      "la peñita:\n",
      " To visit Venice in January is to discover another city different from that found on other occasions in July or August.\n",
      "Tourists (from myself included) inadvertently \"spoil\" the best views of the sites. If in summer the city is abuzz with activity, in winter\n",
      "it has a romantic touch that makes me like it even more, if possible. Getting lost in the alleys away from the sea of humanity,\n",
      "finding a niche with an carved image, a passageway under a building, or a hidden courtyard awaken in my mind an adventurous\n",
      "sensations which makes me like Venice most each time I visit. Also, you can get off the beaten track and mix it up with the\n",
      "inhabitants of the city and have drinks at places like \"Al diavolo with l'Aquasanta\" or \"La Taberna do mori\". You can go shopping\n",
      "stress-free, visit museums or palaces and get on and off the vaporettos at an unhurried pace. A real blast!\n",
      "Jaclyn Lombardo:\n",
      " As I walked the silence streets of Venice I heard the whispers of the past. Around every bend there was a\n",
      "story just waiting to be told. The boats lined the small weathered homes while the afternoon sun danced off the water. As I\n",
      "listened to the lapping of the water I began to daydream of years past when Venice was the wealthiest of nations. Marveling at it's\n",
      "newest architectural creations, smelling the sweet smells of spices, and hearing a lute player in the street while seeing couples\n",
      "\n",
      "ITALY\n",
      "MINUBE TRAVEL GUIDE\n",
      "The best must-see places for your travels, all\n",
      "discovered by real minube users. Enjoy!\n",
      "\n",
      "Alessia Polichetti:\n",
      " \n",
      "I suggest you to came in the south of\n",
      "this country, especially in Campania, where not only the food\n",
      "is. \n",
      " \n",
      "Tejdeep Yaramati:\n",
      " \n",
      "Seems like the best place to retire. \n",
      "Amalfi, \n",
      "Amalfi\n",
      "\n",
      "them safely to the city. The Archaeological Park is huge,it is\n",
      "divided into two zones (East and West), and it also has an\n",
      "interesting museum and other middle ages buildings worth\n",
      "visiting. Because of its beauty and the monuments, the site\n",
      "was declared a World Heritage Site by UNESCO, is visited by\n",
      "many people. I recommend that you get there early in the\n",
      "morning, and if you go in summer, bring sunscreen. You'll be\n",
      "so fascinated that without realizing it you will lose yourself\n",
      "among the temples of this city of Magna Grecia for hours. \n",
      " \n",
      "Las sandalias de Ulises:\n",
      " \n",
      "The Valley of the Temples is\n",
      "☎\n",
      " 39 360 397 930\n",
      " - \n",
      "Zona Archeologica | Via Panoramica Dei Templi, A\n",
      "…\n",
      "Human: What can I visit in India?\u001B[0m\n",
      "\n",
      "\u001B[1m> Finished chain.\u001B[0m\n",
      "\n",
      "\u001B[1m> Finished chain.\u001B[0m\n"
     ]
    },
    {
     "data": {
      "text/plain": "{'question': 'What can I visit in India?',\n 'chat_history': [HumanMessage(content='What can I visit in India?', additional_kwargs={}, response_metadata={}),\n  AIMessage(content=\"I don't know.\", additional_kwargs={}, response_metadata={})],\n 'answer': \"I don't know.\"}"
     },
     "execution_count": 14,
     "metadata": {},
     "output_type": "execute_result"
    }
   ],
   "source": [
    "from langchain.prompts import PromptTemplate\n",
    "\n",
    "custom_template = \"\"\"Given the following conversation and a follow up question, rephrase the follow up question to be a standalone question. \n",
    "If you cannot find the answer in the document provided, ignore the document and answer anyway.\n",
    "\n",
    "Chat History:\n",
    "{chat_history}\n",
    "Follow Up Input: {question}\n",
    "Standalone question:\"\"\"\n",
    "\n",
    "CUSTOM_QUESTION_PROMPT = PromptTemplate.from_template(custom_template)\n",
    "\n",
    "memory = ConversationBufferMemory(\n",
    "    memory_key='chat_history',\n",
    "    return_messages=True,\n",
    ")\n",
    "\n",
    "# Conversational Retrieval Chain Creation\n",
    "qa_chain = ConversationalRetrievalChain.from_llm(\n",
    "    llm,\n",
    "    retriever=db.as_retriever(),\n",
    "    condense_question_prompt=CUSTOM_QUESTION_PROMPT,\n",
    "    memory=memory,\n",
    "    verbose=True\n",
    ")\n",
    "\n",
    "qa_chain.invoke({'question': 'What can I visit in India?'})"
   ],
   "metadata": {
    "collapsed": false,
    "ExecuteTime": {
     "end_time": "2025-01-13T01:28:21.434609Z",
     "start_time": "2025-01-13T01:28:20.415603Z"
    }
   },
   "id": "b2fda2e494a93e29",
   "execution_count": 14
  },
  {
   "cell_type": "code",
   "outputs": [],
   "source": [
    "from langchain.tools.retriever import create_retriever_tool\n",
    "from langchain.memory import ConversationBufferMemory\n",
    "from langchain.agents.agent_toolkits import create_conversational_retrieval_agent\n",
    "from langchain_openai import ChatOpenAI\n",
    "\n",
    "llm = ChatOpenAI(model='gpt-4o-mini', temperature=0)\n",
    "\n",
    "# creating user custom tool as the retriever agent\n",
    "tool = create_retriever_tool(\n",
    "    db.as_retriever(),\n",
    "    \"italy_travel\",\n",
    "    \"Searches and returns documents regarding Italy.\"\n",
    ")\n",
    "\n",
    "tools = [tool]\n",
    "\n",
    "memory = ConversationBufferMemory(\n",
    "    memory_key='chat_history',\n",
    "    return_messages=True,\n",
    "    llm=llm\n",
    ")\n",
    "\n",
    "# conversational agent initialization with LLM, tools(custom agent), chat history(to chase conversation)\n",
    "agent_executor = create_conversational_retrieval_agent(\n",
    "    llm,\n",
    "    tools,\n",
    "    memory_key='chat_history',\n",
    "    verbose=True\n",
    ")"
   ],
   "metadata": {
    "collapsed": false,
    "ExecuteTime": {
     "end_time": "2025-01-13T01:28:29.932551Z",
     "start_time": "2025-01-13T01:28:29.761980Z"
    }
   },
   "id": "6bb998f274593064",
   "execution_count": 15
  },
  {
   "cell_type": "code",
   "outputs": [
    {
     "name": "stdout",
     "output_type": "stream",
     "text": [
      "\n",
      "\n",
      "\u001B[1m> Entering new AgentExecutor chain...\u001B[0m\n",
      "\u001B[32;1m\u001B[1;3mHi Vale! How can I assist you today?\u001B[0m\n",
      "\n",
      "\u001B[1m> Finished chain.\u001B[0m\n"
     ]
    },
    {
     "data": {
      "text/plain": "{'input': \"hi, i'm Vale\",\n 'chat_history': [HumanMessage(content=\"hi, i'm Vale\", additional_kwargs={}, response_metadata={}),\n  AIMessage(content='Hi Vale! How can I assist you today?', additional_kwargs={}, response_metadata={})],\n 'output': 'Hi Vale! How can I assist you today?',\n 'intermediate_steps': []}"
     },
     "execution_count": 16,
     "metadata": {},
     "output_type": "execute_result"
    }
   ],
   "source": [
    "agent_executor.invoke({\"input\": \"hi, i'm Vale\"})"
   ],
   "metadata": {
    "collapsed": false,
    "ExecuteTime": {
     "end_time": "2025-01-13T01:28:32.814960Z",
     "start_time": "2025-01-13T01:28:32.058562Z"
    }
   },
   "id": "e260036c9915f845",
   "execution_count": 16
  },
  {
   "cell_type": "code",
   "outputs": [
    {
     "name": "stdout",
     "output_type": "stream",
     "text": [
      "\n",
      "\n",
      "\u001B[1m> Entering new AgentExecutor chain...\u001B[0m\n",
      "\u001B[32;1m\u001B[1;3mThe Pantheon, located in Rome, Italy, is a former Roman temple that has been remarkably preserved since its construction around 126 AD. Originally dedicated to the gods of Ancient Rome, it features a stunning dome with a central oculus, which is the largest unreinforced concrete dome in the world. The oculus allows natural light to illuminate the interior, creating a celestial atmosphere. The Pantheon was converted into a Christian church in the 7th century, which contributed to its preservation. Today, it stands as a testament to Roman engineering and architecture, attracting millions of visitors each year.\u001B[0m\n",
      "\n",
      "\u001B[1m> Finished chain.\u001B[0m\n"
     ]
    },
    {
     "data": {
      "text/plain": "{'input': 'Tell me something about Pantheon in 100 words',\n 'chat_history': [HumanMessage(content=\"hi, i'm Vale\", additional_kwargs={}, response_metadata={}),\n  AIMessage(content='Hi Vale! How can I assist you today?', additional_kwargs={}, response_metadata={}),\n  HumanMessage(content='Tell me something about Pantheon in 100 words', additional_kwargs={}, response_metadata={}),\n  AIMessage(content='The Pantheon, located in Rome, Italy, is a former Roman temple that has been remarkably preserved since its construction around 126 AD. Originally dedicated to the gods of Ancient Rome, it features a stunning dome with a central oculus, which is the largest unreinforced concrete dome in the world. The oculus allows natural light to illuminate the interior, creating a celestial atmosphere. The Pantheon was converted into a Christian church in the 7th century, which contributed to its preservation. Today, it stands as a testament to Roman engineering and architecture, attracting millions of visitors each year.', additional_kwargs={}, response_metadata={})],\n 'output': 'The Pantheon, located in Rome, Italy, is a former Roman temple that has been remarkably preserved since its construction around 126 AD. Originally dedicated to the gods of Ancient Rome, it features a stunning dome with a central oculus, which is the largest unreinforced concrete dome in the world. The oculus allows natural light to illuminate the interior, creating a celestial atmosphere. The Pantheon was converted into a Christian church in the 7th century, which contributed to its preservation. Today, it stands as a testament to Roman engineering and architecture, attracting millions of visitors each year.',\n 'intermediate_steps': []}"
     },
     "execution_count": 17,
     "metadata": {},
     "output_type": "execute_result"
    }
   ],
   "source": [
    "agent_executor.invoke({\"input\": \"Tell me something about Pantheon in 100 words\"})"
   ],
   "metadata": {
    "collapsed": false,
    "ExecuteTime": {
     "end_time": "2025-01-13T01:28:37.523039Z",
     "start_time": "2025-01-13T01:28:35.536019Z"
    }
   },
   "id": "d41d61dca48f272e",
   "execution_count": 17
  },
  {
   "cell_type": "code",
   "outputs": [
    {
     "name": "stdout",
     "output_type": "stream",
     "text": [
      "\n",
      "\n",
      "\u001B[1m> Entering new AgentExecutor chain...\u001B[0m\n",
      "\u001B[32;1m\u001B[1;3mIn three days in India, you can explore a mix of cultural and historical sites. Start in Delhi, where you can visit the iconic India Gate, the historic Red Fort, and the serene Lotus Temple. Don't miss the bustling markets of Chandni Chowk for local cuisine and shopping.\n",
      "\n",
      "On the second day, take a day trip to Agra to see the magnificent Taj Mahal, a UNESCO World Heritage site, and the Agra Fort. \n",
      "\n",
      "On your final day, head to Jaipur, known as the Pink City. Visit the stunning Amber Fort, the City Palace, and the Hawa Mahal (Palace of Winds). Enjoy local Rajasthani cuisine and shop for handicrafts. This itinerary offers a glimpse into India's rich heritage and vibrant culture within a short time.\u001B[0m\n",
      "\n",
      "\u001B[1m> Finished chain.\u001B[0m\n"
     ]
    },
    {
     "data": {
      "text/plain": "\"In three days in India, you can explore a mix of cultural and historical sites. Start in Delhi, where you can visit the iconic India Gate, the historic Red Fort, and the serene Lotus Temple. Don't miss the bustling markets of Chandni Chowk for local cuisine and shopping.\\n\\nOn the second day, take a day trip to Agra to see the magnificent Taj Mahal, a UNESCO World Heritage site, and the Agra Fort. \\n\\nOn your final day, head to Jaipur, known as the Pink City. Visit the stunning Amber Fort, the City Palace, and the Hawa Mahal (Palace of Winds). Enjoy local Rajasthani cuisine and shop for handicrafts. This itinerary offers a glimpse into India's rich heritage and vibrant culture within a short time.\""
     },
     "execution_count": 18,
     "metadata": {},
     "output_type": "execute_result"
    }
   ],
   "source": [
    "output = agent_executor.invoke({\"input\": \"what can I visit in India in 3 days? please respond within 150 words\"})\n",
    "output['output']"
   ],
   "metadata": {
    "collapsed": false,
    "ExecuteTime": {
     "end_time": "2025-01-13T01:28:40.193456Z",
     "start_time": "2025-01-13T01:28:37.745243Z"
    }
   },
   "id": "7248acc17a3965df",
   "execution_count": 18
  },
  {
   "cell_type": "code",
   "outputs": [],
   "source": [
    "# Adding external tools(Web Search API - Google SERPAPI API) to real-time search\n",
    "from langchain import SerpAPIWrapper\n",
    "from langchain.agents import AgentType, initialize_agent\n",
    "from langchain_openai import OpenAI\n",
    "from langchain.tools import BaseTool, StructuredTool, Tool, tool\n",
    "\n",
    "import os\n",
    "from dotenv import load_dotenv\n",
    "\n",
    "load_dotenv()\n",
    "\n",
    "key = os.environ[\"SERPAPI_API_KEY\"]\n",
    "\n",
    "search = SerpAPIWrapper()"
   ],
   "metadata": {
    "collapsed": false,
    "ExecuteTime": {
     "end_time": "2025-01-13T01:28:45.400339Z",
     "start_time": "2025-01-13T01:28:45.392260Z"
    }
   },
   "id": "6ef7fee1d162df7",
   "execution_count": 19
  },
  {
   "cell_type": "code",
   "outputs": [],
   "source": [
    "llm = ChatOpenAI(\n",
    "    model=\"gpt-4o-mini\",\n",
    "    temperature=0\n",
    ")\n",
    "\n",
    "tools = [\n",
    "    Tool.from_function(\n",
    "        func=search.run,\n",
    "        name=\"Search\",\n",
    "        description=\"useful for when you need to answer questions about current events\"\n",
    "    ),\n",
    "    create_retriever_tool(\n",
    "        db.as_retriever(), \n",
    "        \"italy_travel\",\n",
    "        \"Searches and returns documents regarding Italy.\"\n",
    "    )\n",
    "]\n",
    "\n",
    "agent_executor = create_conversational_retrieval_agent(\n",
    "    llm, \n",
    "    tools, \n",
    "    memory_key='chat_history', \n",
    "    verbose=True\n",
    ")"
   ],
   "metadata": {
    "collapsed": false,
    "ExecuteTime": {
     "end_time": "2025-01-13T01:28:48.643333Z",
     "start_time": "2025-01-13T01:28:48.631829Z"
    }
   },
   "id": "4898939c6e3b1926",
   "execution_count": 20
  },
  {
   "cell_type": "code",
   "outputs": [
    {
     "data": {
      "text/plain": "ConversationBufferMemory(chat_memory=InMemoryChatMessageHistory(messages=[]), return_messages=True, memory_key='chat_history')"
     },
     "execution_count": 21,
     "metadata": {},
     "output_type": "execute_result"
    }
   ],
   "source": [
    "memory"
   ],
   "metadata": {
    "collapsed": false,
    "ExecuteTime": {
     "end_time": "2025-01-13T01:28:48.646540Z",
     "start_time": "2025-01-13T01:28:48.644289Z"
    }
   },
   "id": "89880587da7aab29",
   "execution_count": 21
  },
  {
   "cell_type": "code",
   "outputs": [
    {
     "name": "stdout",
     "output_type": "stream",
     "text": [
      "\n",
      "\n",
      "\u001B[1m> Entering new AgentExecutor chain...\u001B[0m\n",
      "\u001B[32;1m\u001B[1;3m도쿄에서 3일 동안 방문할 수 있는 주요 명소는 다음과 같습니다.\n",
      "\n",
      "1일차: 아사쿠사에서 센소지 사원을 방문하고, 나카미세 거리를 걸으며 전통 간식을 즐기세요. 이후 우에노 공원에서 박물관과 동물원을 탐방하세요.\n",
      "\n",
      "2일차: 시부야의 시부야 스크램블 교차로와 하치코 동상을 보고, 하라주쿠의 타케시타 거리를 탐방하세요. 저녁에는 롯폰기 힐즈에서 도쿄 타워의 야경을 감상하세요.\n",
      "\n",
      "3일차: 아키하바라에서 전자제품과 애니메이션 문화를 체험하고, 긴자에서 쇼핑을 즐기세요. 마지막으로, 오다이바에서 레인보우 브리지를 배경으로 멋진 사진을 찍어보세요.\n",
      "\n",
      "이렇게 다양한 명소를 통해 도쿄의 매력을 만끽할 수 있습니다!\u001B[0m\n",
      "\n",
      "\u001B[1m> Finished chain.\u001B[0m\n"
     ]
    },
    {
     "data": {
      "text/plain": "{'input': 'what can I visit in Tokyo in 3 days? Please responds within 150 words in Korean language',\n 'chat_history': [HumanMessage(content='what can I visit in Tokyo in 3 days? Please responds within 150 words in Korean language', additional_kwargs={}, response_metadata={}),\n  AIMessage(content='도쿄에서 3일 동안 방문할 수 있는 주요 명소는 다음과 같습니다.\\n\\n1일차: 아사쿠사에서 센소지 사원을 방문하고, 나카미세 거리를 걸으며 전통 간식을 즐기세요. 이후 우에노 공원에서 박물관과 동물원을 탐방하세요.\\n\\n2일차: 시부야의 시부야 스크램블 교차로와 하치코 동상을 보고, 하라주쿠의 타케시타 거리를 탐방하세요. 저녁에는 롯폰기 힐즈에서 도쿄 타워의 야경을 감상하세요.\\n\\n3일차: 아키하바라에서 전자제품과 애니메이션 문화를 체험하고, 긴자에서 쇼핑을 즐기세요. 마지막으로, 오다이바에서 레인보우 브리지를 배경으로 멋진 사진을 찍어보세요.\\n\\n이렇게 다양한 명소를 통해 도쿄의 매력을 만끽할 수 있습니다!', additional_kwargs={}, response_metadata={})],\n 'output': '도쿄에서 3일 동안 방문할 수 있는 주요 명소는 다음과 같습니다.\\n\\n1일차: 아사쿠사에서 센소지 사원을 방문하고, 나카미세 거리를 걸으며 전통 간식을 즐기세요. 이후 우에노 공원에서 박물관과 동물원을 탐방하세요.\\n\\n2일차: 시부야의 시부야 스크램블 교차로와 하치코 동상을 보고, 하라주쿠의 타케시타 거리를 탐방하세요. 저녁에는 롯폰기 힐즈에서 도쿄 타워의 야경을 감상하세요.\\n\\n3일차: 아키하바라에서 전자제품과 애니메이션 문화를 체험하고, 긴자에서 쇼핑을 즐기세요. 마지막으로, 오다이바에서 레인보우 브리지를 배경으로 멋진 사진을 찍어보세요.\\n\\n이렇게 다양한 명소를 통해 도쿄의 매력을 만끽할 수 있습니다!',\n 'intermediate_steps': []}"
     },
     "execution_count": 22,
     "metadata": {},
     "output_type": "execute_result"
    }
   ],
   "source": [
    "agent_executor({\"input\": \"what can I visit in Tokyo in 3 days? Please responds within 150 words in Korean language\"})"
   ],
   "metadata": {
    "collapsed": false,
    "ExecuteTime": {
     "end_time": "2025-01-13T01:28:53.991973Z",
     "start_time": "2025-01-13T01:28:50.777420Z"
    }
   },
   "id": "2e8e18031e1a64fa",
   "execution_count": 22
  },
  {
   "cell_type": "code",
   "outputs": [
    {
     "name": "stdout",
     "output_type": "stream",
     "text": [
      "\n",
      "\n",
      "\u001B[1m> Entering new AgentExecutor chain...\u001B[0m\n",
      "\u001B[32;1m\u001B[1;3mIn Tokyo, you can explore a variety of attractions over three days:\n",
      "\n",
      "**Day 1:** Start in Asakusa, visiting the iconic Senso-ji Temple and strolling through Nakamise Street for traditional snacks. Then, head to Ueno Park to enjoy its museums and zoo.\n",
      "\n",
      "**Day 2:** Visit Shibuya to experience the famous Shibuya Crossing and see the Hachiko statue. Explore Harajuku's Takeshita Street for unique fashion and culture. In the evening, enjoy the view from Roppongi Hills or Tokyo Tower.\n",
      "\n",
      "**Day 3:** Discover Akihabara, the hub for electronics and anime culture. Then, spend time in Ginza for upscale shopping and dining. Finally, head to Odaiba for a waterfront experience, where you can take photos with the Rainbow Bridge in the background.\n",
      "\n",
      "This itinerary offers a mix of traditional and modern Tokyo experiences!\u001B[0m\n",
      "\n",
      "\u001B[1m> Finished chain.\u001B[0m\n"
     ]
    },
    {
     "data": {
      "text/plain": "{'input': 'what can I visit in Tokyo in 3 days? Please responds within 150 words',\n 'chat_history': [HumanMessage(content='what can I visit in Tokyo in 3 days? Please responds within 150 words in Korean language', additional_kwargs={}, response_metadata={}),\n  AIMessage(content='도쿄에서 3일 동안 방문할 수 있는 주요 명소는 다음과 같습니다.\\n\\n1일차: 아사쿠사에서 센소지 사원을 방문하고, 나카미세 거리를 걸으며 전통 간식을 즐기세요. 이후 우에노 공원에서 박물관과 동물원을 탐방하세요.\\n\\n2일차: 시부야의 시부야 스크램블 교차로와 하치코 동상을 보고, 하라주쿠의 타케시타 거리를 탐방하세요. 저녁에는 롯폰기 힐즈에서 도쿄 타워의 야경을 감상하세요.\\n\\n3일차: 아키하바라에서 전자제품과 애니메이션 문화를 체험하고, 긴자에서 쇼핑을 즐기세요. 마지막으로, 오다이바에서 레인보우 브리지를 배경으로 멋진 사진을 찍어보세요.\\n\\n이렇게 다양한 명소를 통해 도쿄의 매력을 만끽할 수 있습니다!', additional_kwargs={}, response_metadata={}),\n  HumanMessage(content='what can I visit in Tokyo in 3 days? Please responds within 150 words', additional_kwargs={}, response_metadata={}),\n  AIMessage(content=\"In Tokyo, you can explore a variety of attractions over three days:\\n\\n**Day 1:** Start in Asakusa, visiting the iconic Senso-ji Temple and strolling through Nakamise Street for traditional snacks. Then, head to Ueno Park to enjoy its museums and zoo.\\n\\n**Day 2:** Visit Shibuya to experience the famous Shibuya Crossing and see the Hachiko statue. Explore Harajuku's Takeshita Street for unique fashion and culture. In the evening, enjoy the view from Roppongi Hills or Tokyo Tower.\\n\\n**Day 3:** Discover Akihabara, the hub for electronics and anime culture. Then, spend time in Ginza for upscale shopping and dining. Finally, head to Odaiba for a waterfront experience, where you can take photos with the Rainbow Bridge in the background.\\n\\nThis itinerary offers a mix of traditional and modern Tokyo experiences!\", additional_kwargs={}, response_metadata={})],\n 'output': \"In Tokyo, you can explore a variety of attractions over three days:\\n\\n**Day 1:** Start in Asakusa, visiting the iconic Senso-ji Temple and strolling through Nakamise Street for traditional snacks. Then, head to Ueno Park to enjoy its museums and zoo.\\n\\n**Day 2:** Visit Shibuya to experience the famous Shibuya Crossing and see the Hachiko statue. Explore Harajuku's Takeshita Street for unique fashion and culture. In the evening, enjoy the view from Roppongi Hills or Tokyo Tower.\\n\\n**Day 3:** Discover Akihabara, the hub for electronics and anime culture. Then, spend time in Ginza for upscale shopping and dining. Finally, head to Odaiba for a waterfront experience, where you can take photos with the Rainbow Bridge in the background.\\n\\nThis itinerary offers a mix of traditional and modern Tokyo experiences!\",\n 'intermediate_steps': []}"
     },
     "execution_count": 23,
     "metadata": {},
     "output_type": "execute_result"
    }
   ],
   "source": [
    "agent_executor({\"input\": \"what can I visit in Tokyo in 3 days? Please responds within 150 words\"})"
   ],
   "metadata": {
    "collapsed": false,
    "ExecuteTime": {
     "end_time": "2025-01-13T01:28:57.807518Z",
     "start_time": "2025-01-13T01:28:54.842150Z"
    }
   },
   "id": "f2b6520aad60c95",
   "execution_count": 23
  },
  {
   "cell_type": "code",
   "outputs": [
    {
     "name": "stdout",
     "output_type": "stream",
     "text": [
      "\n",
      "\n",
      "\u001B[1m> Entering new AgentExecutor chain...\u001B[0m\n",
      "\u001B[32;1m\u001B[1;3m\n",
      "Invoking: `Search` with `current situation in Los Angeles October 2023`\n",
      "\n",
      "\n",
      "\u001B[0m\u001B[36;1m\u001B[1;3m[\"October 2023 · Los Angeles County District Attorney's Office Awarded Grant for DUI Training and Prosecution · Upcoming Forest Prompts Red Flag ...\", 'Ready to share the best of all the excitement going on this month from new development projects for major city icons tons of festivals and street fairs.', 'Fire whipped by gusty Santa Ana winds tears through rural area with 4000 people under evacuation orders.', 'Consumer Price Index, Los Angeles area — October 2023. Area prices were down 0.1 percent over the past month, up 2.4 percent from a year ago.', 'Los Angeles County District Attorney George Gascón announced today that Xuanhan Zhang is charged with killing three people after he intentionally started a ...', 'October 2023 Weather in Los Angeles — Graph ... Overcast. Humidity: 71%. Barometer: 29.85 \"Hg. W.', 'Los Angeles breaking news and live streaming video. Covering LA, Orange County and Southern California.', 'Wildfires have been rapidly spreading across the Los Angeles area since Jan. 7, displacing upwards of 175,000 people and claiming at least ...', \"Watch 'The Rundown' for Monday October 23, 2023.\", 'Plan your month with our October 2023 events calendar of the best activities, including free things to do, Halloween festivals and our ...']\u001B[0m\u001B[32;1m\u001B[1;3mAs of October 2023, Los Angeles is facing several challenges, including wildfires fueled by strong Santa Ana winds, leading to evacuation orders for around 4,000 residents. The situation is critical in rural areas affected by the fires. \n",
      "\n",
      "On a different note, the city is also experiencing a vibrant cultural scene with numerous festivals and events planned throughout the month. The Consumer Price Index indicates a slight decrease in prices over the past month, but a 2.4% increase compared to last year, reflecting ongoing economic trends.\n",
      "\n",
      "Additionally, the Los Angeles County District Attorney's Office has been awarded a grant for DUI training and prosecution, highlighting ongoing public safety efforts. Overall, the city is balancing between managing emergency situations and celebrating its cultural vibrancy.\u001B[0m\n",
      "\n",
      "\u001B[1m> Finished chain.\u001B[0m\n"
     ]
    },
    {
     "data": {
      "text/plain": "{'input': \"What's the current situation in LA? Please responds within 150 words\",\n 'chat_history': [HumanMessage(content='what can I visit in Tokyo in 3 days? Please responds within 150 words in Korean language', additional_kwargs={}, response_metadata={}),\n  AIMessage(content='도쿄에서 3일 동안 방문할 수 있는 주요 명소는 다음과 같습니다.\\n\\n1일차: 아사쿠사에서 센소지 사원을 방문하고, 나카미세 거리를 걸으며 전통 간식을 즐기세요. 이후 우에노 공원에서 박물관과 동물원을 탐방하세요.\\n\\n2일차: 시부야의 시부야 스크램블 교차로와 하치코 동상을 보고, 하라주쿠의 타케시타 거리를 탐방하세요. 저녁에는 롯폰기 힐즈에서 도쿄 타워의 야경을 감상하세요.\\n\\n3일차: 아키하바라에서 전자제품과 애니메이션 문화를 체험하고, 긴자에서 쇼핑을 즐기세요. 마지막으로, 오다이바에서 레인보우 브리지를 배경으로 멋진 사진을 찍어보세요.\\n\\n이렇게 다양한 명소를 통해 도쿄의 매력을 만끽할 수 있습니다!', additional_kwargs={}, response_metadata={}),\n  HumanMessage(content='what can I visit in Tokyo in 3 days? Please responds within 150 words', additional_kwargs={}, response_metadata={}),\n  AIMessage(content=\"In Tokyo, you can explore a variety of attractions over three days:\\n\\n**Day 1:** Start in Asakusa, visiting the iconic Senso-ji Temple and strolling through Nakamise Street for traditional snacks. Then, head to Ueno Park to enjoy its museums and zoo.\\n\\n**Day 2:** Visit Shibuya to experience the famous Shibuya Crossing and see the Hachiko statue. Explore Harajuku's Takeshita Street for unique fashion and culture. In the evening, enjoy the view from Roppongi Hills or Tokyo Tower.\\n\\n**Day 3:** Discover Akihabara, the hub for electronics and anime culture. Then, spend time in Ginza for upscale shopping and dining. Finally, head to Odaiba for a waterfront experience, where you can take photos with the Rainbow Bridge in the background.\\n\\nThis itinerary offers a mix of traditional and modern Tokyo experiences!\", additional_kwargs={}, response_metadata={}),\n  HumanMessage(content=\"What's the current situation in LA? Please responds within 150 words\", additional_kwargs={}, response_metadata={}),\n  AIMessage(content='', additional_kwargs={'function_call': {'arguments': '{\"__arg1\":\"current situation in Los Angeles October 2023\"}', 'name': 'Search'}, 'refusal': None}, response_metadata={'token_usage': {'completion_tokens': 24, 'prompt_tokens': 576, 'total_tokens': 600, 'completion_tokens_details': {'audio_tokens': 0, 'reasoning_tokens': 0, 'accepted_prediction_tokens': 0, 'rejected_prediction_tokens': 0}, 'prompt_tokens_details': {'audio_tokens': 0, 'cached_tokens': 0}}, 'model_name': 'gpt-4o-mini-2024-07-18', 'system_fingerprint': 'fp_72ed7ab54c', 'finish_reason': 'function_call', 'logprobs': None}, id='run-f9810138-951f-4585-abe8-fae4149581f9-0', usage_metadata={'input_tokens': 576, 'output_tokens': 24, 'total_tokens': 600, 'input_token_details': {'audio': 0, 'cache_read': 0}, 'output_token_details': {'audio': 0, 'reasoning': 0}}),\n  FunctionMessage(content='[\"October 2023 · Los Angeles County District Attorney\\'s Office Awarded Grant for DUI Training and Prosecution · Upcoming Forest Prompts Red Flag ...\", \\'Ready to share the best of all the excitement going on this month from new development projects for major city icons tons of festivals and street fairs.\\', \\'Fire whipped by gusty Santa Ana winds tears through rural area with 4000 people under evacuation orders.\\', \\'Consumer Price Index, Los Angeles area — October 2023. Area prices were down 0.1 percent over the past month, up 2.4 percent from a year ago.\\', \\'Los Angeles County District Attorney George Gascón announced today that Xuanhan Zhang is charged with killing three people after he intentionally started a ...\\', \\'October 2023 Weather in Los Angeles — Graph ... Overcast. Humidity: 71%. Barometer: 29.85 \"Hg. W.\\', \\'Los Angeles breaking news and live streaming video. Covering LA, Orange County and Southern California.\\', \\'Wildfires have been rapidly spreading across the Los Angeles area since Jan. 7, displacing upwards of 175,000 people and claiming at least ...\\', \"Watch \\'The Rundown\\' for Monday October 23, 2023.\", \\'Plan your month with our October 2023 events calendar of the best activities, including free things to do, Halloween festivals and our ...\\']', additional_kwargs={}, response_metadata={}, name='Search'),\n  AIMessage(content=\"As of October 2023, Los Angeles is facing several challenges, including wildfires fueled by strong Santa Ana winds, leading to evacuation orders for around 4,000 residents. The situation is critical in rural areas affected by the fires. \\n\\nOn a different note, the city is also experiencing a vibrant cultural scene with numerous festivals and events planned throughout the month. The Consumer Price Index indicates a slight decrease in prices over the past month, but a 2.4% increase compared to last year, reflecting ongoing economic trends.\\n\\nAdditionally, the Los Angeles County District Attorney's Office has been awarded a grant for DUI training and prosecution, highlighting ongoing public safety efforts. Overall, the city is balancing between managing emergency situations and celebrating its cultural vibrancy.\", additional_kwargs={}, response_metadata={})],\n 'output': \"As of October 2023, Los Angeles is facing several challenges, including wildfires fueled by strong Santa Ana winds, leading to evacuation orders for around 4,000 residents. The situation is critical in rural areas affected by the fires. \\n\\nOn a different note, the city is also experiencing a vibrant cultural scene with numerous festivals and events planned throughout the month. The Consumer Price Index indicates a slight decrease in prices over the past month, but a 2.4% increase compared to last year, reflecting ongoing economic trends.\\n\\nAdditionally, the Los Angeles County District Attorney's Office has been awarded a grant for DUI training and prosecution, highlighting ongoing public safety efforts. Overall, the city is balancing between managing emergency situations and celebrating its cultural vibrancy.\",\n 'intermediate_steps': [(AgentActionMessageLog(tool='Search', tool_input='current situation in Los Angeles October 2023', log='\\nInvoking: `Search` with `current situation in Los Angeles October 2023`\\n\\n\\n', message_log=[AIMessage(content='', additional_kwargs={'function_call': {'arguments': '{\"__arg1\":\"current situation in Los Angeles October 2023\"}', 'name': 'Search'}, 'refusal': None}, response_metadata={'token_usage': {'completion_tokens': 24, 'prompt_tokens': 576, 'total_tokens': 600, 'completion_tokens_details': {'audio_tokens': 0, 'reasoning_tokens': 0, 'accepted_prediction_tokens': 0, 'rejected_prediction_tokens': 0}, 'prompt_tokens_details': {'audio_tokens': 0, 'cached_tokens': 0}}, 'model_name': 'gpt-4o-mini-2024-07-18', 'system_fingerprint': 'fp_72ed7ab54c', 'finish_reason': 'function_call', 'logprobs': None}, id='run-f9810138-951f-4585-abe8-fae4149581f9-0', usage_metadata={'input_tokens': 576, 'output_tokens': 24, 'total_tokens': 600, 'input_token_details': {'audio': 0, 'cache_read': 0}, 'output_token_details': {'audio': 0, 'reasoning': 0}})]),\n   '[\"October 2023 · Los Angeles County District Attorney\\'s Office Awarded Grant for DUI Training and Prosecution · Upcoming Forest Prompts Red Flag ...\", \\'Ready to share the best of all the excitement going on this month from new development projects for major city icons tons of festivals and street fairs.\\', \\'Fire whipped by gusty Santa Ana winds tears through rural area with 4000 people under evacuation orders.\\', \\'Consumer Price Index, Los Angeles area — October 2023. Area prices were down 0.1 percent over the past month, up 2.4 percent from a year ago.\\', \\'Los Angeles County District Attorney George Gascón announced today that Xuanhan Zhang is charged with killing three people after he intentionally started a ...\\', \\'October 2023 Weather in Los Angeles — Graph ... Overcast. Humidity: 71%. Barometer: 29.85 \"Hg. W.\\', \\'Los Angeles breaking news and live streaming video. Covering LA, Orange County and Southern California.\\', \\'Wildfires have been rapidly spreading across the Los Angeles area since Jan. 7, displacing upwards of 175,000 people and claiming at least ...\\', \"Watch \\'The Rundown\\' for Monday October 23, 2023.\", \\'Plan your month with our October 2023 events calendar of the best activities, including free things to do, Halloween festivals and our ...\\']')]}"
     },
     "execution_count": 24,
     "metadata": {},
     "output_type": "execute_result"
    }
   ],
   "source": [
    "agent_executor.invoke({\"input\": \"What's the current situation in LA? Please responds within 150 words\"})"
   ],
   "metadata": {
    "collapsed": false,
    "ExecuteTime": {
     "end_time": "2025-01-13T01:29:11.729406Z",
     "start_time": "2025-01-13T01:29:06.317428Z"
    }
   },
   "id": "3aa80e6d4ad4a45f",
   "execution_count": 24
  },
  {
   "cell_type": "code",
   "outputs": [
    {
     "name": "stdout",
     "output_type": "stream",
     "text": [
      "\n",
      "\n",
      "\u001B[1m> Entering new AgentExecutor chain...\u001B[0m\n",
      "\u001B[32;1m\u001B[1;3m\n",
      "Invoking: `Search` with `Los Angeles wildfires update October 23 2023`\n",
      "\n",
      "\n",
      "\u001B[0m\u001B[36;1m\u001B[1;3m['19,300. Total Emergency Responses · 105. Wildfires · 40,300. Acres Burned · 10. Fatalities: Preliminary pending coroner confirmation · 12,300+. Structures Destroyed', 'Wildland firefighters are working to contain large fires in Southern California. The National Interagency Coordination Center at NIFC continues work with all ...', 'Firefighters racing against the arrival of more desert winds made some progress on Sunday against the two biggest fires raging in Los Angeles, ...', 'The 2024 fire year in California was marked by significant wildfire activity, exacerbated by a hotter-than-normal June and an abundance of fine fuels ...', 'Update EVACUATION ORDER DOWNGRADED Brush Fire; INC#0738; 02:54PM; 1190 N Piedra Morada Dr; ...', \"Palisades fire kills 2 people, damages over 5,000 structures, fire chief says. From CNN's Emma Tucker. The wildfire in the Pacific Palisades has ...\", 'According to the California Department of Forestry and Fire Protection (Cal Fire), the fires began at 10:30am (18:30GMT) on Tuesday in Pacific ...', 'New fires: 15. New large incidents: 0. Uncontained large fires: 4. CIMTs committed: 1. Type 1 IMTs committed: 2. Palisades, Los Angeles Fire Department. IMT 1 ...', 'Firefighters look to make progress corralling deadly blazes across Southern California as high winds die down. The Palisades and Eaton fires ...', 'Fueled by powerful winds and dry conditions, a series of ferocious wildfires erupted Tuesday and roared across the Los Angeles area, ...']\u001B[0m\u001B[32;1m\u001B[1;3mAs of October 23, 2023, wildfires in Los Angeles are still a significant concern, with firefighters making progress against major blazes, particularly the Palisades and Eaton fires. These fires have burned over 40,300 acres and resulted in the destruction of more than 12,300 structures, with preliminary reports indicating at least 10 fatalities.\n",
      "\n",
      "Firefighters are racing against the clock as they face the threat of returning desert winds, which could exacerbate the situation. Fortunately, conditions have improved slightly, allowing crews to make headway in containing the fires. \n",
      "\n",
      "Evacuation orders have been adjusted in some areas, reflecting ongoing assessments of the fire's impact. The situation remains dynamic, and authorities continue to monitor and respond to new incidents as they arise. Community safety remains a top priority as efforts to control the wildfires continue.\u001B[0m\n",
      "\n",
      "\u001B[1m> Finished chain.\u001B[0m\n"
     ]
    },
    {
     "data": {
      "text/plain": "{'input': 'How are the wildfires in LA progressing today? Please responds within 150 words',\n 'chat_history': [HumanMessage(content='what can I visit in Tokyo in 3 days? Please responds within 150 words in Korean language', additional_kwargs={}, response_metadata={}),\n  AIMessage(content='도쿄에서 3일 동안 방문할 수 있는 주요 명소는 다음과 같습니다.\\n\\n1일차: 아사쿠사에서 센소지 사원을 방문하고, 나카미세 거리를 걸으며 전통 간식을 즐기세요. 이후 우에노 공원에서 박물관과 동물원을 탐방하세요.\\n\\n2일차: 시부야의 시부야 스크램블 교차로와 하치코 동상을 보고, 하라주쿠의 타케시타 거리를 탐방하세요. 저녁에는 롯폰기 힐즈에서 도쿄 타워의 야경을 감상하세요.\\n\\n3일차: 아키하바라에서 전자제품과 애니메이션 문화를 체험하고, 긴자에서 쇼핑을 즐기세요. 마지막으로, 오다이바에서 레인보우 브리지를 배경으로 멋진 사진을 찍어보세요.\\n\\n이렇게 다양한 명소를 통해 도쿄의 매력을 만끽할 수 있습니다!', additional_kwargs={}, response_metadata={}),\n  HumanMessage(content='what can I visit in Tokyo in 3 days? Please responds within 150 words', additional_kwargs={}, response_metadata={}),\n  AIMessage(content=\"In Tokyo, you can explore a variety of attractions over three days:\\n\\n**Day 1:** Start in Asakusa, visiting the iconic Senso-ji Temple and strolling through Nakamise Street for traditional snacks. Then, head to Ueno Park to enjoy its museums and zoo.\\n\\n**Day 2:** Visit Shibuya to experience the famous Shibuya Crossing and see the Hachiko statue. Explore Harajuku's Takeshita Street for unique fashion and culture. In the evening, enjoy the view from Roppongi Hills or Tokyo Tower.\\n\\n**Day 3:** Discover Akihabara, the hub for electronics and anime culture. Then, spend time in Ginza for upscale shopping and dining. Finally, head to Odaiba for a waterfront experience, where you can take photos with the Rainbow Bridge in the background.\\n\\nThis itinerary offers a mix of traditional and modern Tokyo experiences!\", additional_kwargs={}, response_metadata={}),\n  HumanMessage(content=\"What's the current situation in LA? Please responds within 150 words\", additional_kwargs={}, response_metadata={}),\n  AIMessage(content='', additional_kwargs={'function_call': {'arguments': '{\"__arg1\":\"current situation in Los Angeles October 2023\"}', 'name': 'Search'}, 'refusal': None}, response_metadata={'token_usage': {'completion_tokens': 24, 'prompt_tokens': 576, 'total_tokens': 600, 'completion_tokens_details': {'audio_tokens': 0, 'reasoning_tokens': 0, 'accepted_prediction_tokens': 0, 'rejected_prediction_tokens': 0}, 'prompt_tokens_details': {'audio_tokens': 0, 'cached_tokens': 0}}, 'model_name': 'gpt-4o-mini-2024-07-18', 'system_fingerprint': 'fp_72ed7ab54c', 'finish_reason': 'function_call', 'logprobs': None}, id='run-f9810138-951f-4585-abe8-fae4149581f9-0', usage_metadata={'input_tokens': 576, 'output_tokens': 24, 'total_tokens': 600, 'input_token_details': {'audio': 0, 'cache_read': 0}, 'output_token_details': {'audio': 0, 'reasoning': 0}}),\n  FunctionMessage(content='[\"October 2023 · Los Angeles County District Attorney\\'s Office Awarded Grant for DUI Training and Prosecution · Upcoming Forest Prompts Red Flag ...\", \\'Ready to share the best of all the excitement going on this month from new development projects for major city icons tons of festivals and street fairs.\\', \\'Fire whipped by gusty Santa Ana winds tears through rural area with 4000 people under evacuation orders.\\', \\'Consumer Price Index, Los Angeles area — October 2023. Area prices were down 0.1 percent over the past month, up 2.4 percent from a year ago.\\', \\'Los Angeles County District Attorney George Gascón announced today that Xuanhan Zhang is charged with killing three people after he intentionally started a ...\\', \\'October 2023 Weather in Los Angeles — Graph ... Overcast. Humidity: 71%. Barometer: 29.85 \"Hg. W.\\', \\'Los Angeles breaking news and live streaming video. Covering LA, Orange County and Southern California.\\', \\'Wildfires have been rapidly spreading across the Los Angeles area since Jan. 7, displacing upwards of 175,000 people and claiming at least ...\\', \"Watch \\'The Rundown\\' for Monday October 23, 2023.\", \\'Plan your month with our October 2023 events calendar of the best activities, including free things to do, Halloween festivals and our ...\\']', additional_kwargs={}, response_metadata={}, name='Search'),\n  AIMessage(content=\"As of October 2023, Los Angeles is facing several challenges, including wildfires fueled by strong Santa Ana winds, leading to evacuation orders for around 4,000 residents. The situation is critical in rural areas affected by the fires. \\n\\nOn a different note, the city is also experiencing a vibrant cultural scene with numerous festivals and events planned throughout the month. The Consumer Price Index indicates a slight decrease in prices over the past month, but a 2.4% increase compared to last year, reflecting ongoing economic trends.\\n\\nAdditionally, the Los Angeles County District Attorney's Office has been awarded a grant for DUI training and prosecution, highlighting ongoing public safety efforts. Overall, the city is balancing between managing emergency situations and celebrating its cultural vibrancy.\", additional_kwargs={}, response_metadata={}),\n  HumanMessage(content='How are the wildfires in LA progressing today? Please responds within 150 words', additional_kwargs={}, response_metadata={}),\n  AIMessage(content='', additional_kwargs={'function_call': {'arguments': '{\"__arg1\":\"Los Angeles wildfires update October 23 2023\"}', 'name': 'Search'}, 'refusal': None}, response_metadata={'token_usage': {'completion_tokens': 26, 'prompt_tokens': 1063, 'total_tokens': 1089, 'completion_tokens_details': {'audio_tokens': 0, 'reasoning_tokens': 0, 'accepted_prediction_tokens': 0, 'rejected_prediction_tokens': 0}, 'prompt_tokens_details': {'audio_tokens': 0, 'cached_tokens': 0}}, 'model_name': 'gpt-4o-mini-2024-07-18', 'system_fingerprint': 'fp_72ed7ab54c', 'finish_reason': 'function_call', 'logprobs': None}, id='run-899c1d57-1295-484d-8e18-b17f4eaac7f0-0', usage_metadata={'input_tokens': 1063, 'output_tokens': 26, 'total_tokens': 1089, 'input_token_details': {'audio': 0, 'cache_read': 0}, 'output_token_details': {'audio': 0, 'reasoning': 0}}),\n  FunctionMessage(content='[\\'19,300. Total Emergency Responses · 105. Wildfires · 40,300. Acres Burned · 10. Fatalities: Preliminary pending coroner confirmation · 12,300+. Structures Destroyed\\', \\'Wildland firefighters are working to contain large fires in Southern California. The National Interagency Coordination Center at NIFC continues work with all ...\\', \\'Firefighters racing against the arrival of more desert winds made some progress on Sunday against the two biggest fires raging in Los Angeles, ...\\', \\'The 2024 fire year in California was marked by significant wildfire activity, exacerbated by a hotter-than-normal June and an abundance of fine fuels ...\\', \\'Update EVACUATION ORDER DOWNGRADED Brush Fire; INC#0738; 02:54PM; 1190 N Piedra Morada Dr; ...\\', \"Palisades fire kills 2 people, damages over 5,000 structures, fire chief says. From CNN\\'s Emma Tucker. The wildfire in the Pacific Palisades has ...\", \\'According to the California Department of Forestry and Fire Protection (Cal Fire), the fires began at 10:30am (18:30GMT) on Tuesday in Pacific ...\\', \\'New fires: 15. New large incidents: 0. Uncontained large fires: 4. CIMTs committed: 1. Type 1 IMTs committed: 2. Palisades, Los Angeles Fire Department. IMT 1 ...\\', \\'Firefighters look to make progress corralling deadly blazes across Southern California as high winds die down. The Palisades and Eaton fires ...\\', \\'Fueled by powerful winds and dry conditions, a series of ferocious wildfires erupted Tuesday and roared across the Los Angeles area, ...\\']', additional_kwargs={}, response_metadata={}, name='Search'),\n  AIMessage(content=\"As of October 23, 2023, wildfires in Los Angeles are still a significant concern, with firefighters making progress against major blazes, particularly the Palisades and Eaton fires. These fires have burned over 40,300 acres and resulted in the destruction of more than 12,300 structures, with preliminary reports indicating at least 10 fatalities.\\n\\nFirefighters are racing against the clock as they face the threat of returning desert winds, which could exacerbate the situation. Fortunately, conditions have improved slightly, allowing crews to make headway in containing the fires. \\n\\nEvacuation orders have been adjusted in some areas, reflecting ongoing assessments of the fire's impact. The situation remains dynamic, and authorities continue to monitor and respond to new incidents as they arise. Community safety remains a top priority as efforts to control the wildfires continue.\", additional_kwargs={}, response_metadata={})],\n 'output': \"As of October 23, 2023, wildfires in Los Angeles are still a significant concern, with firefighters making progress against major blazes, particularly the Palisades and Eaton fires. These fires have burned over 40,300 acres and resulted in the destruction of more than 12,300 structures, with preliminary reports indicating at least 10 fatalities.\\n\\nFirefighters are racing against the clock as they face the threat of returning desert winds, which could exacerbate the situation. Fortunately, conditions have improved slightly, allowing crews to make headway in containing the fires. \\n\\nEvacuation orders have been adjusted in some areas, reflecting ongoing assessments of the fire's impact. The situation remains dynamic, and authorities continue to monitor and respond to new incidents as they arise. Community safety remains a top priority as efforts to control the wildfires continue.\",\n 'intermediate_steps': [(AgentActionMessageLog(tool='Search', tool_input='Los Angeles wildfires update October 23 2023', log='\\nInvoking: `Search` with `Los Angeles wildfires update October 23 2023`\\n\\n\\n', message_log=[AIMessage(content='', additional_kwargs={'function_call': {'arguments': '{\"__arg1\":\"Los Angeles wildfires update October 23 2023\"}', 'name': 'Search'}, 'refusal': None}, response_metadata={'token_usage': {'completion_tokens': 26, 'prompt_tokens': 1063, 'total_tokens': 1089, 'completion_tokens_details': {'audio_tokens': 0, 'reasoning_tokens': 0, 'accepted_prediction_tokens': 0, 'rejected_prediction_tokens': 0}, 'prompt_tokens_details': {'audio_tokens': 0, 'cached_tokens': 0}}, 'model_name': 'gpt-4o-mini-2024-07-18', 'system_fingerprint': 'fp_72ed7ab54c', 'finish_reason': 'function_call', 'logprobs': None}, id='run-899c1d57-1295-484d-8e18-b17f4eaac7f0-0', usage_metadata={'input_tokens': 1063, 'output_tokens': 26, 'total_tokens': 1089, 'input_token_details': {'audio': 0, 'cache_read': 0}, 'output_token_details': {'audio': 0, 'reasoning': 0}})]),\n   '[\\'19,300. Total Emergency Responses · 105. Wildfires · 40,300. Acres Burned · 10. Fatalities: Preliminary pending coroner confirmation · 12,300+. Structures Destroyed\\', \\'Wildland firefighters are working to contain large fires in Southern California. The National Interagency Coordination Center at NIFC continues work with all ...\\', \\'Firefighters racing against the arrival of more desert winds made some progress on Sunday against the two biggest fires raging in Los Angeles, ...\\', \\'The 2024 fire year in California was marked by significant wildfire activity, exacerbated by a hotter-than-normal June and an abundance of fine fuels ...\\', \\'Update EVACUATION ORDER DOWNGRADED Brush Fire; INC#0738; 02:54PM; 1190 N Piedra Morada Dr; ...\\', \"Palisades fire kills 2 people, damages over 5,000 structures, fire chief says. From CNN\\'s Emma Tucker. The wildfire in the Pacific Palisades has ...\", \\'According to the California Department of Forestry and Fire Protection (Cal Fire), the fires began at 10:30am (18:30GMT) on Tuesday in Pacific ...\\', \\'New fires: 15. New large incidents: 0. Uncontained large fires: 4. CIMTs committed: 1. Type 1 IMTs committed: 2. Palisades, Los Angeles Fire Department. IMT 1 ...\\', \\'Firefighters look to make progress corralling deadly blazes across Southern California as high winds die down. The Palisades and Eaton fires ...\\', \\'Fueled by powerful winds and dry conditions, a series of ferocious wildfires erupted Tuesday and roared across the Los Angeles area, ...\\']')]}"
     },
     "execution_count": 25,
     "metadata": {},
     "output_type": "execute_result"
    }
   ],
   "source": [
    "agent_executor.invoke({\"input\": \"How are the wildfires in LA progressing today? Please responds within 150 words\"})"
   ],
   "metadata": {
    "collapsed": false,
    "ExecuteTime": {
     "end_time": "2025-01-13T01:29:21.235671Z",
     "start_time": "2025-01-13T01:29:15.962561Z"
    }
   },
   "id": "93f168dba6455aa6",
   "execution_count": 25
  },
  {
   "cell_type": "code",
   "outputs": [
    {
     "name": "stdout",
     "output_type": "stream",
     "text": [
      "\n",
      "\n",
      "\u001B[1m> Entering new AgentExecutor chain...\u001B[0m\n",
      "\u001B[32;1m\u001B[1;3m\n",
      "Invoking: `italy_travel` with `{'query': 'main attractions in Italy'}`\n",
      "\n",
      "\n",
      "\u001B[0m\u001B[33;1m\u001B[1;3mITALY\n",
      "MINUBE TRAVEL GUIDE\n",
      "The best must-see places for your travels, all\n",
      "discovered by real minube users. Enjoy!\n",
      "\n",
      "What to see\n",
      " in Italy\n",
      "Page 10\n",
      "58\n",
      "Gardens\n",
      "Parco Sempione\n",
      " \n",
      "Patricia M. Gómez:\n",
      " \n",
      "This is one of the most important\n",
      "parks in Milan. \n",
      "It was wonderful to visit it this winter all\n",
      "covered in snow and then this spring for our first \"picnic\". The\n",
      "park is very well kept and clean. \n",
      "You can easily go to\n",
      "workout, walk or just have a little taste of green space in this\n",
      "city, which can sometimes be gray. \n",
      "☎\n",
      " 390 277 404 343\n",
      " - \n",
      "Piazza Castello, 20121 Milan, Italy, \n",
      "Milan\n",
      "59\n",
      "Exhibitions\n",
      "Gulf of Naples\n",
      " \n",
      "Carlos Millán Gómez:\n",
      " \n",
      "Is there anywhere in the world\n",
      "more beautiful than the Gulf of Naples? I would say no. It is\n",
      "the very center of Paradise (perhaps it's also by the door of\n",
      "hell, yes, because Mount Vesuvius could erupt at any time).\n",
      "The Gulf smells like sea, lemon, fish, tomato ... and also\n",
      "sounds wonderful, due to Naples' Italian music. \"O sole mio\",\n",
      "\"Torna Surriento\", \"Questa picolissima serenade\" ... Want to\n",
      "know more about Neapolitan music? Well, come here, turn\n",
      "the speakers up and enjoy. http://bit.ly/qOEjiU \n",
      "Napoli, \n",
      "Naples\n",
      "60\n",
      "Historical Monuments\n",
      "Juliet's House (Casa di Giulietta)\n",
      " \n",
      "María Carmen García Moraleda:\n",
      " \n",
      "Verona is a pleasant\n",
      "place. The city itself is very nice and there is romance added\n",
      "thanks to the story of Romeo and Juliet, although the truth is\n",
      "that now it is not very touristy. \n",
      "Although if really what you\n",
      "want is love, poetry and verse, its marvellous. \n",
      " \n",
      "maya menozzi:\n",
      " \n",
      "it’s lovely to see lots of people writing\n",
      "\n",
      "fossis:\n",
      " \n",
      "My experience was amazing. I took a trip through\n",
      "Italy starting in Florence and I'm still amazed at how beautiful\n",
      "it was. I didn't expect it. I recommend that if you go to Italy,\n",
      "pass through Florence and to the Piazzale Michelangelo at\n",
      "night. You won't be sorry. It's beautiful, especially the view of\n",
      "Florence since you see everything from here. All my best!\n",
      "Piazzale Michelangelo, \n",
      "Florence\n",
      "\n",
      "What to see\n",
      " in Italy\n",
      "Page 4\n",
      "Trevi Fountain \n",
      "Trotamundos:\n",
      " The Trevi Fountain has its origins in the year 19BC when a freshwater spring was discovered, supposedly\n",
      "with the help of a Virgin. The discovery of this spring led Romans to build an aqueduct which, as was the tradition of the time,\n",
      "ended with a fountain. And so the Trevi Fountain was built. \n",
      "The monumental fountain we admire today was built in the 18th\n",
      "century by an obscure character named Nicola Salvi. It took 30 years to built and ended up ruining Salvi's health. He died unable\n",
      "to undertake other projects and without seeing his beautiful fountain completed (the work was finished by Pietro Bracci). One of\n",
      "the Trevi Fountain's most outstanding features is the contrast between the fountain's overwhelming grandeur and its location amid\n",
      "narrow alleyways and tiny squares. It was intentionally designed to elicit a surprise from tourists, most of whom are no doubt\n",
      "deeply impressed when they come face to face with it. \n",
      "What I want to talk about, though, are the statues: at the top, the papal\n",
      "shield stands between two winged figures playing trumpets. Below, there are sculptures representing the four seasons and the\n",
      "cyclical nature of time. On either side of the main figure, there are two reliefs that depict the story of Agrippa’s soldiers discovering\n",
      "the spring with a dowsing rod and Agrippa ordering the construction of the aqueduct. \n",
      "Two other large statues tell of the benefits of\u001B[0m\u001B[32;1m\u001B[1;3mHere are some must-see attractions in Italy:\n",
      "\n",
      "1. **Colosseum (Rome)**: An iconic symbol of ancient Rome, this amphitheater is a marvel of engineering and history.\n",
      "\n",
      "2. **Trevi Fountain (Rome)**: A stunning Baroque fountain where visitors toss coins to ensure their return to the city.\n",
      "\n",
      "3. **Piazza San Marco (Venice)**: The main square in Venice, surrounded by beautiful architecture, including St. Mark's Basilica.\n",
      "\n",
      "4. **Leaning Tower of Pisa**: Famous for its unintended tilt, this architectural wonder is a must-visit.\n",
      "\n",
      "5. **Gulf of Naples**: Known for its breathtaking views and delicious cuisine, it's a perfect spot for relaxation.\n",
      "\n",
      "6. **Juliet's House (Verona)**: A romantic site linked to Shakespeare's \"Romeo and Juliet,\" attracting lovers from around the world.\n",
      "\n",
      "7. **Piazzale Michelangelo (Florence)**: Offers panoramic views of Florence, especially beautiful at sunset. \n",
      "\n",
      "Enjoy your trip!\u001B[0m\n",
      "\n",
      "\u001B[1m> Finished chain.\u001B[0m\n"
     ]
    },
    {
     "data": {
      "text/plain": "{'input': 'Today is January 12 in 2025. Could you answer my question again? Please responds within 150 words',\n 'chat_history': [AIMessage(content='Italy is rich in history, culture, and stunning landscapes. Here are some must-see attractions:\\n\\n1. **Colosseum (Rome)**: This iconic ancient amphitheater is a symbol of Rome\\'s grandeur and history.\\n\\n2. **Trevi Fountain (Rome)**: A magnificent Baroque fountain where visitors toss coins to ensure their return to Rome.\\n\\n3. **Piazza San Marco (Venice)**: The main public square in Venice, surrounded by stunning architecture, including St. Mark\\'s Basilica.\\n\\n4. **Leaning Tower of Pisa**: Famous for its unintended tilt, this architectural marvel is a must-visit in Pisa.\\n\\n5. **Florence\\'s Duomo (Cathedral of Santa Maria del Fiore)**: A stunning cathedral known for its impressive dome designed by Brunelleschi.\\n\\n6. **Gulf of Naples**: Renowned for its breathtaking views and delicious cuisine, it\\'s a perfect spot for relaxation and exploration.\\n\\n7. **Juliet\\'s House (Verona)**: A romantic site linked to Shakespeare\\'s \"Romeo and Juliet,\" attracting lovers from around the world.\\n\\n8. **Piazzale Michelangelo (Florence)**: Offers a panoramic view of Florence, especially beautiful at sunset.\\n\\nThese attractions showcase Italy\\'s diverse beauty and rich cultural heritage. Enjoy your trip!', additional_kwargs={}, response_metadata={}),\n  HumanMessage(content='Today is January 12 in 2025. Could you answer my question again? Please responds within 150 words', additional_kwargs={}, response_metadata={}),\n  AIMessage(content='', additional_kwargs={'function_call': {'arguments': '{\"query\":\"main attractions in Italy\"}', 'name': 'italy_travel'}, 'refusal': None}, response_metadata={'token_usage': {'completion_tokens': 21, 'prompt_tokens': 1517, 'total_tokens': 1538, 'completion_tokens_details': {'audio_tokens': 0, 'reasoning_tokens': 0, 'accepted_prediction_tokens': 0, 'rejected_prediction_tokens': 0}, 'prompt_tokens_details': {'audio_tokens': 0, 'cached_tokens': 0}}, 'model_name': 'gpt-4o-mini-2024-07-18', 'system_fingerprint': 'fp_72ed7ab54c', 'finish_reason': 'function_call', 'logprobs': None}, id='run-a71913a6-8b01-468e-884b-696c28ce589d-0', usage_metadata={'input_tokens': 1517, 'output_tokens': 21, 'total_tokens': 1538, 'input_token_details': {'audio': 0, 'cache_read': 0}, 'output_token_details': {'audio': 0, 'reasoning': 0}}),\n  FunctionMessage(content='ITALY\\nMINUBE TRAVEL GUIDE\\nThe best must-see places for your travels, all\\ndiscovered by real minube users. Enjoy!\\n\\nWhat to see\\n in Italy\\nPage 10\\n58\\nGardens\\nParco Sempione\\n \\nPatricia M. Gómez:\\n \\nThis is one of the most important\\nparks in Milan. \\nIt was wonderful to visit it this winter all\\ncovered in snow and then this spring for our first \"picnic\". The\\npark is very well kept and clean. \\nYou can easily go to\\nworkout, walk or just have a little taste of green space in this\\ncity, which can sometimes be gray. \\n☎\\n 390 277 404 343\\n - \\nPiazza Castello, 20121 Milan, Italy, \\nMilan\\n59\\nExhibitions\\nGulf of Naples\\n \\nCarlos Millán Gómez:\\n \\nIs there anywhere in the world\\nmore beautiful than the Gulf of Naples? I would say no. It is\\nthe very center of Paradise (perhaps it\\'s also by the door of\\nhell, yes, because Mount Vesuvius could erupt at any time).\\nThe Gulf smells like sea, lemon, fish, tomato ... and also\\nsounds wonderful, due to Naples\\' Italian music. \"O sole mio\",\\n\"Torna Surriento\", \"Questa picolissima serenade\" ... Want to\\nknow more about Neapolitan music? Well, come here, turn\\nthe speakers up and enjoy. http://bit.ly/qOEjiU \\nNapoli, \\nNaples\\n60\\nHistorical Monuments\\nJuliet\\'s House (Casa di Giulietta)\\n \\nMaría Carmen García Moraleda:\\n \\nVerona is a pleasant\\nplace. The city itself is very nice and there is romance added\\nthanks to the story of Romeo and Juliet, although the truth is\\nthat now it is not very touristy. \\nAlthough if really what you\\nwant is love, poetry and verse, its marvellous. \\n \\nmaya menozzi:\\n \\nit’s lovely to see lots of people writing\\n\\nfossis:\\n \\nMy experience was amazing. I took a trip through\\nItaly starting in Florence and I\\'m still amazed at how beautiful\\nit was. I didn\\'t expect it. I recommend that if you go to Italy,\\npass through Florence and to the Piazzale Michelangelo at\\nnight. You won\\'t be sorry. It\\'s beautiful, especially the view of\\nFlorence since you see everything from here. All my best!\\nPiazzale Michelangelo, \\nFlorence\\n\\nWhat to see\\n in Italy\\nPage 4\\nTrevi Fountain \\nTrotamundos:\\n The Trevi Fountain has its origins in the year 19BC when a freshwater spring was discovered, supposedly\\nwith the help of a Virgin. The discovery of this spring led Romans to build an aqueduct which, as was the tradition of the time,\\nended with a fountain. And so the Trevi Fountain was built. \\nThe monumental fountain we admire today was built in the 18th\\ncentury by an obscure character named Nicola Salvi. It took 30 years to built and ended up ruining Salvi\\'s health. He died unable\\nto undertake other projects and without seeing his beautiful fountain completed (the work was finished by Pietro Bracci). One of\\nthe Trevi Fountain\\'s most outstanding features is the contrast between the fountain\\'s overwhelming grandeur and its location amid\\nnarrow alleyways and tiny squares. It was intentionally designed to elicit a surprise from tourists, most of whom are no doubt\\ndeeply impressed when they come face to face with it. \\nWhat I want to talk about, though, are the statues: at the top, the papal\\nshield stands between two winged figures playing trumpets. Below, there are sculptures representing the four seasons and the\\ncyclical nature of time. On either side of the main figure, there are two reliefs that depict the story of Agrippa’s soldiers discovering\\nthe spring with a dowsing rod and Agrippa ordering the construction of the aqueduct. \\nTwo other large statues tell of the benefits of', additional_kwargs={}, response_metadata={}, name='italy_travel'),\n  AIMessage(content='Here are some must-see attractions in Italy:\\n\\n1. **Colosseum (Rome)**: An iconic symbol of ancient Rome, this amphitheater is a marvel of engineering and history.\\n\\n2. **Trevi Fountain (Rome)**: A stunning Baroque fountain where visitors toss coins to ensure their return to the city.\\n\\n3. **Piazza San Marco (Venice)**: The main square in Venice, surrounded by beautiful architecture, including St. Mark\\'s Basilica.\\n\\n4. **Leaning Tower of Pisa**: Famous for its unintended tilt, this architectural wonder is a must-visit.\\n\\n5. **Gulf of Naples**: Known for its breathtaking views and delicious cuisine, it\\'s a perfect spot for relaxation.\\n\\n6. **Juliet\\'s House (Verona)**: A romantic site linked to Shakespeare\\'s \"Romeo and Juliet,\" attracting lovers from around the world.\\n\\n7. **Piazzale Michelangelo (Florence)**: Offers panoramic views of Florence, especially beautiful at sunset. \\n\\nEnjoy your trip!', additional_kwargs={}, response_metadata={})],\n 'output': 'Here are some must-see attractions in Italy:\\n\\n1. **Colosseum (Rome)**: An iconic symbol of ancient Rome, this amphitheater is a marvel of engineering and history.\\n\\n2. **Trevi Fountain (Rome)**: A stunning Baroque fountain where visitors toss coins to ensure their return to the city.\\n\\n3. **Piazza San Marco (Venice)**: The main square in Venice, surrounded by beautiful architecture, including St. Mark\\'s Basilica.\\n\\n4. **Leaning Tower of Pisa**: Famous for its unintended tilt, this architectural wonder is a must-visit.\\n\\n5. **Gulf of Naples**: Known for its breathtaking views and delicious cuisine, it\\'s a perfect spot for relaxation.\\n\\n6. **Juliet\\'s House (Verona)**: A romantic site linked to Shakespeare\\'s \"Romeo and Juliet,\" attracting lovers from around the world.\\n\\n7. **Piazzale Michelangelo (Florence)**: Offers panoramic views of Florence, especially beautiful at sunset. \\n\\nEnjoy your trip!',\n 'intermediate_steps': [(AgentActionMessageLog(tool='italy_travel', tool_input={'query': 'main attractions in Italy'}, log=\"\\nInvoking: `italy_travel` with `{'query': 'main attractions in Italy'}`\\n\\n\\n\", message_log=[AIMessage(content='', additional_kwargs={'function_call': {'arguments': '{\"query\":\"main attractions in Italy\"}', 'name': 'italy_travel'}, 'refusal': None}, response_metadata={'token_usage': {'completion_tokens': 21, 'prompt_tokens': 1517, 'total_tokens': 1538, 'completion_tokens_details': {'audio_tokens': 0, 'reasoning_tokens': 0, 'accepted_prediction_tokens': 0, 'rejected_prediction_tokens': 0}, 'prompt_tokens_details': {'audio_tokens': 0, 'cached_tokens': 0}}, 'model_name': 'gpt-4o-mini-2024-07-18', 'system_fingerprint': 'fp_72ed7ab54c', 'finish_reason': 'function_call', 'logprobs': None}, id='run-a71913a6-8b01-468e-884b-696c28ce589d-0', usage_metadata={'input_tokens': 1517, 'output_tokens': 21, 'total_tokens': 1538, 'input_token_details': {'audio': 0, 'cache_read': 0}, 'output_token_details': {'audio': 0, 'reasoning': 0}})]),\n   'ITALY\\nMINUBE TRAVEL GUIDE\\nThe best must-see places for your travels, all\\ndiscovered by real minube users. Enjoy!\\n\\nWhat to see\\n in Italy\\nPage 10\\n58\\nGardens\\nParco Sempione\\n \\nPatricia M. Gómez:\\n \\nThis is one of the most important\\nparks in Milan. \\nIt was wonderful to visit it this winter all\\ncovered in snow and then this spring for our first \"picnic\". The\\npark is very well kept and clean. \\nYou can easily go to\\nworkout, walk or just have a little taste of green space in this\\ncity, which can sometimes be gray. \\n☎\\n 390 277 404 343\\n - \\nPiazza Castello, 20121 Milan, Italy, \\nMilan\\n59\\nExhibitions\\nGulf of Naples\\n \\nCarlos Millán Gómez:\\n \\nIs there anywhere in the world\\nmore beautiful than the Gulf of Naples? I would say no. It is\\nthe very center of Paradise (perhaps it\\'s also by the door of\\nhell, yes, because Mount Vesuvius could erupt at any time).\\nThe Gulf smells like sea, lemon, fish, tomato ... and also\\nsounds wonderful, due to Naples\\' Italian music. \"O sole mio\",\\n\"Torna Surriento\", \"Questa picolissima serenade\" ... Want to\\nknow more about Neapolitan music? Well, come here, turn\\nthe speakers up and enjoy. http://bit.ly/qOEjiU \\nNapoli, \\nNaples\\n60\\nHistorical Monuments\\nJuliet\\'s House (Casa di Giulietta)\\n \\nMaría Carmen García Moraleda:\\n \\nVerona is a pleasant\\nplace. The city itself is very nice and there is romance added\\nthanks to the story of Romeo and Juliet, although the truth is\\nthat now it is not very touristy. \\nAlthough if really what you\\nwant is love, poetry and verse, its marvellous. \\n \\nmaya menozzi:\\n \\nit’s lovely to see lots of people writing\\n\\nfossis:\\n \\nMy experience was amazing. I took a trip through\\nItaly starting in Florence and I\\'m still amazed at how beautiful\\nit was. I didn\\'t expect it. I recommend that if you go to Italy,\\npass through Florence and to the Piazzale Michelangelo at\\nnight. You won\\'t be sorry. It\\'s beautiful, especially the view of\\nFlorence since you see everything from here. All my best!\\nPiazzale Michelangelo, \\nFlorence\\n\\nWhat to see\\n in Italy\\nPage 4\\nTrevi Fountain \\nTrotamundos:\\n The Trevi Fountain has its origins in the year 19BC when a freshwater spring was discovered, supposedly\\nwith the help of a Virgin. The discovery of this spring led Romans to build an aqueduct which, as was the tradition of the time,\\nended with a fountain. And so the Trevi Fountain was built. \\nThe monumental fountain we admire today was built in the 18th\\ncentury by an obscure character named Nicola Salvi. It took 30 years to built and ended up ruining Salvi\\'s health. He died unable\\nto undertake other projects and without seeing his beautiful fountain completed (the work was finished by Pietro Bracci). One of\\nthe Trevi Fountain\\'s most outstanding features is the contrast between the fountain\\'s overwhelming grandeur and its location amid\\nnarrow alleyways and tiny squares. It was intentionally designed to elicit a surprise from tourists, most of whom are no doubt\\ndeeply impressed when they come face to face with it. \\nWhat I want to talk about, though, are the statues: at the top, the papal\\nshield stands between two winged figures playing trumpets. Below, there are sculptures representing the four seasons and the\\ncyclical nature of time. On either side of the main figure, there are two reliefs that depict the story of Agrippa’s soldiers discovering\\nthe spring with a dowsing rod and Agrippa ordering the construction of the aqueduct. \\nTwo other large statues tell of the benefits of')]}"
     },
     "execution_count": 28,
     "metadata": {},
     "output_type": "execute_result"
    }
   ],
   "source": [
    "# Agent can search\"today's news when the request includes a specific date - It appears to be collecting occurrences of the term 'today'.\n",
    "agent_executor.invoke({\"input\": \"Today is January 12 in 2025. Could you answer my question again? Please responds within 150 words\"})"
   ],
   "metadata": {
    "collapsed": false,
    "ExecuteTime": {
     "end_time": "2025-01-13T01:30:52.704949Z",
     "start_time": "2025-01-13T01:30:46.048950Z"
    }
   },
   "id": "bdf548032589104d",
   "execution_count": 28
  },
  {
   "cell_type": "code",
   "outputs": [
    {
     "name": "stdout",
     "output_type": "stream",
     "text": [
      "\n",
      "\n",
      "\u001B[1m> Entering new AgentExecutor chain...\u001B[0m\n",
      "\u001B[32;1m\u001B[1;3m\n",
      "Invoking: `italy_travel` with `{'query': 'main attractions in Italy'}`\n",
      "\n",
      "\n",
      "\u001B[0m\u001B[33;1m\u001B[1;3mITALY\n",
      "MINUBE TRAVEL GUIDE\n",
      "The best must-see places for your travels, all\n",
      "discovered by real minube users. Enjoy!\n",
      "\n",
      "What to see\n",
      " in Italy\n",
      "Page 10\n",
      "58\n",
      "Gardens\n",
      "Parco Sempione\n",
      " \n",
      "Patricia M. Gómez:\n",
      " \n",
      "This is one of the most important\n",
      "parks in Milan. \n",
      "It was wonderful to visit it this winter all\n",
      "covered in snow and then this spring for our first \"picnic\". The\n",
      "park is very well kept and clean. \n",
      "You can easily go to\n",
      "workout, walk or just have a little taste of green space in this\n",
      "city, which can sometimes be gray. \n",
      "☎\n",
      " 390 277 404 343\n",
      " - \n",
      "Piazza Castello, 20121 Milan, Italy, \n",
      "Milan\n",
      "59\n",
      "Exhibitions\n",
      "Gulf of Naples\n",
      " \n",
      "Carlos Millán Gómez:\n",
      " \n",
      "Is there anywhere in the world\n",
      "more beautiful than the Gulf of Naples? I would say no. It is\n",
      "the very center of Paradise (perhaps it's also by the door of\n",
      "hell, yes, because Mount Vesuvius could erupt at any time).\n",
      "The Gulf smells like sea, lemon, fish, tomato ... and also\n",
      "sounds wonderful, due to Naples' Italian music. \"O sole mio\",\n",
      "\"Torna Surriento\", \"Questa picolissima serenade\" ... Want to\n",
      "know more about Neapolitan music? Well, come here, turn\n",
      "the speakers up and enjoy. http://bit.ly/qOEjiU \n",
      "Napoli, \n",
      "Naples\n",
      "60\n",
      "Historical Monuments\n",
      "Juliet's House (Casa di Giulietta)\n",
      " \n",
      "María Carmen García Moraleda:\n",
      " \n",
      "Verona is a pleasant\n",
      "place. The city itself is very nice and there is romance added\n",
      "thanks to the story of Romeo and Juliet, although the truth is\n",
      "that now it is not very touristy. \n",
      "Although if really what you\n",
      "want is love, poetry and verse, its marvellous. \n",
      " \n",
      "maya menozzi:\n",
      " \n",
      "it’s lovely to see lots of people writing\n",
      "\n",
      "fossis:\n",
      " \n",
      "My experience was amazing. I took a trip through\n",
      "Italy starting in Florence and I'm still amazed at how beautiful\n",
      "it was. I didn't expect it. I recommend that if you go to Italy,\n",
      "pass through Florence and to the Piazzale Michelangelo at\n",
      "night. You won't be sorry. It's beautiful, especially the view of\n",
      "Florence since you see everything from here. All my best!\n",
      "Piazzale Michelangelo, \n",
      "Florence\n",
      "\n",
      "What to see\n",
      " in Italy\n",
      "Page 4\n",
      "Trevi Fountain \n",
      "Trotamundos:\n",
      " The Trevi Fountain has its origins in the year 19BC when a freshwater spring was discovered, supposedly\n",
      "with the help of a Virgin. The discovery of this spring led Romans to build an aqueduct which, as was the tradition of the time,\n",
      "ended with a fountain. And so the Trevi Fountain was built. \n",
      "The monumental fountain we admire today was built in the 18th\n",
      "century by an obscure character named Nicola Salvi. It took 30 years to built and ended up ruining Salvi's health. He died unable\n",
      "to undertake other projects and without seeing his beautiful fountain completed (the work was finished by Pietro Bracci). One of\n",
      "the Trevi Fountain's most outstanding features is the contrast between the fountain's overwhelming grandeur and its location amid\n",
      "narrow alleyways and tiny squares. It was intentionally designed to elicit a surprise from tourists, most of whom are no doubt\n",
      "deeply impressed when they come face to face with it. \n",
      "What I want to talk about, though, are the statues: at the top, the papal\n",
      "shield stands between two winged figures playing trumpets. Below, there are sculptures representing the four seasons and the\n",
      "cyclical nature of time. On either side of the main figure, there are two reliefs that depict the story of Agrippa’s soldiers discovering\n",
      "the spring with a dowsing rod and Agrippa ordering the construction of the aqueduct. \n",
      "Two other large statues tell of the benefits of\u001B[0m\u001B[32;1m\u001B[1;3mItaly is rich in history, culture, and stunning landscapes. Here are some must-see attractions:\n",
      "\n",
      "1. **Colosseum (Rome)**: This iconic ancient amphitheater is a symbol of Rome's grandeur and history.\n",
      "\n",
      "2. **Trevi Fountain (Rome)**: A magnificent Baroque fountain where visitors toss coins to ensure their return to Rome.\n",
      "\n",
      "3. **Piazza San Marco (Venice)**: The main public square in Venice, surrounded by stunning architecture, including St. Mark's Basilica.\n",
      "\n",
      "4. **Leaning Tower of Pisa**: Famous for its unintended tilt, this architectural marvel is a must-visit in Pisa.\n",
      "\n",
      "5. **Florence's Duomo (Cathedral of Santa Maria del Fiore)**: A stunning cathedral known for its impressive dome designed by Brunelleschi.\n",
      "\n",
      "6. **Gulf of Naples**: Renowned for its breathtaking views and delicious cuisine, it's a perfect spot for relaxation and exploration.\n",
      "\n",
      "7. **Juliet's House (Verona)**: A romantic site linked to Shakespeare's \"Romeo and Juliet,\" attracting lovers from around the world.\n",
      "\n",
      "8. **Piazzale Michelangelo (Florence)**: Offers a panoramic view of Florence, especially beautiful at sunset.\n",
      "\n",
      "These attractions showcase Italy's diverse beauty and rich cultural heritage. Enjoy your trip!\u001B[0m\n",
      "\n",
      "\u001B[1m> Finished chain.\u001B[0m\n"
     ]
    },
    {
     "data": {
      "text/plain": "{'input': \"I'm travelling to Italy, can you give me some suggestions of the main attractions?\",\n 'chat_history': [AIMessage(content=\"As of January 10, 2025, wildfires in Los Angeles are causing significant devastation, with at least 16 reported fatalities linked to the ongoing Palisades and Eaton fires. These blazes have expanded, threatening new communities and leading to widespread evacuations.\\n\\nFirefighters are battling challenging conditions, including high winds and red flag warnings, which complicate containment efforts. The situation remains critical as authorities work to protect residents and manage the fires' spread.\\n\\nThe community is facing severe impacts, with entire neighborhoods affected and many structures destroyed. Emergency services are on high alert, and residents are urged to stay informed about evacuation orders and safety measures.\\n\\nFor the latest updates, you can refer to sources like [ABC News](https://abcnews.go.com/US/live-updates/california-fires-live-updates-santa-ana-winds-rage/?id=117541907) and [CNN](https://www.cnn.com/weather/live-news/los-angeles-wildfires-palisades-eaton-california-01-11-25/index.html).\", additional_kwargs={}, response_metadata={}),\n  HumanMessage(content=\"I'm travelling to Italy, can you give me some suggestions of the main attractions?\", additional_kwargs={}, response_metadata={}),\n  AIMessage(content='', additional_kwargs={'function_call': {'arguments': '{\"query\":\"main attractions in Italy\"}', 'name': 'italy_travel'}, 'refusal': None}, response_metadata={'token_usage': {'completion_tokens': 21, 'prompt_tokens': 2109, 'total_tokens': 2130, 'completion_tokens_details': {'audio_tokens': 0, 'reasoning_tokens': 0, 'accepted_prediction_tokens': 0, 'rejected_prediction_tokens': 0}, 'prompt_tokens_details': {'audio_tokens': 0, 'cached_tokens': 0}}, 'model_name': 'gpt-4o-mini-2024-07-18', 'system_fingerprint': 'fp_bd83329f63', 'finish_reason': 'function_call', 'logprobs': None}, id='run-e3b4f017-8783-4b84-afe8-a8fe62908109-0', usage_metadata={'input_tokens': 2109, 'output_tokens': 21, 'total_tokens': 2130, 'input_token_details': {'audio': 0, 'cache_read': 0}, 'output_token_details': {'audio': 0, 'reasoning': 0}}),\n  FunctionMessage(content='ITALY\\nMINUBE TRAVEL GUIDE\\nThe best must-see places for your travels, all\\ndiscovered by real minube users. Enjoy!\\n\\nWhat to see\\n in Italy\\nPage 10\\n58\\nGardens\\nParco Sempione\\n \\nPatricia M. Gómez:\\n \\nThis is one of the most important\\nparks in Milan. \\nIt was wonderful to visit it this winter all\\ncovered in snow and then this spring for our first \"picnic\". The\\npark is very well kept and clean. \\nYou can easily go to\\nworkout, walk or just have a little taste of green space in this\\ncity, which can sometimes be gray. \\n☎\\n 390 277 404 343\\n - \\nPiazza Castello, 20121 Milan, Italy, \\nMilan\\n59\\nExhibitions\\nGulf of Naples\\n \\nCarlos Millán Gómez:\\n \\nIs there anywhere in the world\\nmore beautiful than the Gulf of Naples? I would say no. It is\\nthe very center of Paradise (perhaps it\\'s also by the door of\\nhell, yes, because Mount Vesuvius could erupt at any time).\\nThe Gulf smells like sea, lemon, fish, tomato ... and also\\nsounds wonderful, due to Naples\\' Italian music. \"O sole mio\",\\n\"Torna Surriento\", \"Questa picolissima serenade\" ... Want to\\nknow more about Neapolitan music? Well, come here, turn\\nthe speakers up and enjoy. http://bit.ly/qOEjiU \\nNapoli, \\nNaples\\n60\\nHistorical Monuments\\nJuliet\\'s House (Casa di Giulietta)\\n \\nMaría Carmen García Moraleda:\\n \\nVerona is a pleasant\\nplace. The city itself is very nice and there is romance added\\nthanks to the story of Romeo and Juliet, although the truth is\\nthat now it is not very touristy. \\nAlthough if really what you\\nwant is love, poetry and verse, its marvellous. \\n \\nmaya menozzi:\\n \\nit’s lovely to see lots of people writing\\n\\nfossis:\\n \\nMy experience was amazing. I took a trip through\\nItaly starting in Florence and I\\'m still amazed at how beautiful\\nit was. I didn\\'t expect it. I recommend that if you go to Italy,\\npass through Florence and to the Piazzale Michelangelo at\\nnight. You won\\'t be sorry. It\\'s beautiful, especially the view of\\nFlorence since you see everything from here. All my best!\\nPiazzale Michelangelo, \\nFlorence\\n\\nWhat to see\\n in Italy\\nPage 4\\nTrevi Fountain \\nTrotamundos:\\n The Trevi Fountain has its origins in the year 19BC when a freshwater spring was discovered, supposedly\\nwith the help of a Virgin. The discovery of this spring led Romans to build an aqueduct which, as was the tradition of the time,\\nended with a fountain. And so the Trevi Fountain was built. \\nThe monumental fountain we admire today was built in the 18th\\ncentury by an obscure character named Nicola Salvi. It took 30 years to built and ended up ruining Salvi\\'s health. He died unable\\nto undertake other projects and without seeing his beautiful fountain completed (the work was finished by Pietro Bracci). One of\\nthe Trevi Fountain\\'s most outstanding features is the contrast between the fountain\\'s overwhelming grandeur and its location amid\\nnarrow alleyways and tiny squares. It was intentionally designed to elicit a surprise from tourists, most of whom are no doubt\\ndeeply impressed when they come face to face with it. \\nWhat I want to talk about, though, are the statues: at the top, the papal\\nshield stands between two winged figures playing trumpets. Below, there are sculptures representing the four seasons and the\\ncyclical nature of time. On either side of the main figure, there are two reliefs that depict the story of Agrippa’s soldiers discovering\\nthe spring with a dowsing rod and Agrippa ordering the construction of the aqueduct. \\nTwo other large statues tell of the benefits of', additional_kwargs={}, response_metadata={}, name='italy_travel'),\n  AIMessage(content='Italy is rich in history, culture, and stunning landscapes. Here are some must-see attractions:\\n\\n1. **Colosseum (Rome)**: This iconic ancient amphitheater is a symbol of Rome\\'s grandeur and history.\\n\\n2. **Trevi Fountain (Rome)**: A magnificent Baroque fountain where visitors toss coins to ensure their return to Rome.\\n\\n3. **Piazza San Marco (Venice)**: The main public square in Venice, surrounded by stunning architecture, including St. Mark\\'s Basilica.\\n\\n4. **Leaning Tower of Pisa**: Famous for its unintended tilt, this architectural marvel is a must-visit in Pisa.\\n\\n5. **Florence\\'s Duomo (Cathedral of Santa Maria del Fiore)**: A stunning cathedral known for its impressive dome designed by Brunelleschi.\\n\\n6. **Gulf of Naples**: Renowned for its breathtaking views and delicious cuisine, it\\'s a perfect spot for relaxation and exploration.\\n\\n7. **Juliet\\'s House (Verona)**: A romantic site linked to Shakespeare\\'s \"Romeo and Juliet,\" attracting lovers from around the world.\\n\\n8. **Piazzale Michelangelo (Florence)**: Offers a panoramic view of Florence, especially beautiful at sunset.\\n\\nThese attractions showcase Italy\\'s diverse beauty and rich cultural heritage. Enjoy your trip!', additional_kwargs={}, response_metadata={})],\n 'output': 'Italy is rich in history, culture, and stunning landscapes. Here are some must-see attractions:\\n\\n1. **Colosseum (Rome)**: This iconic ancient amphitheater is a symbol of Rome\\'s grandeur and history.\\n\\n2. **Trevi Fountain (Rome)**: A magnificent Baroque fountain where visitors toss coins to ensure their return to Rome.\\n\\n3. **Piazza San Marco (Venice)**: The main public square in Venice, surrounded by stunning architecture, including St. Mark\\'s Basilica.\\n\\n4. **Leaning Tower of Pisa**: Famous for its unintended tilt, this architectural marvel is a must-visit in Pisa.\\n\\n5. **Florence\\'s Duomo (Cathedral of Santa Maria del Fiore)**: A stunning cathedral known for its impressive dome designed by Brunelleschi.\\n\\n6. **Gulf of Naples**: Renowned for its breathtaking views and delicious cuisine, it\\'s a perfect spot for relaxation and exploration.\\n\\n7. **Juliet\\'s House (Verona)**: A romantic site linked to Shakespeare\\'s \"Romeo and Juliet,\" attracting lovers from around the world.\\n\\n8. **Piazzale Michelangelo (Florence)**: Offers a panoramic view of Florence, especially beautiful at sunset.\\n\\nThese attractions showcase Italy\\'s diverse beauty and rich cultural heritage. Enjoy your trip!',\n 'intermediate_steps': [(AgentActionMessageLog(tool='italy_travel', tool_input={'query': 'main attractions in Italy'}, log=\"\\nInvoking: `italy_travel` with `{'query': 'main attractions in Italy'}`\\n\\n\\n\", message_log=[AIMessage(content='', additional_kwargs={'function_call': {'arguments': '{\"query\":\"main attractions in Italy\"}', 'name': 'italy_travel'}, 'refusal': None}, response_metadata={'token_usage': {'completion_tokens': 21, 'prompt_tokens': 2109, 'total_tokens': 2130, 'completion_tokens_details': {'audio_tokens': 0, 'reasoning_tokens': 0, 'accepted_prediction_tokens': 0, 'rejected_prediction_tokens': 0}, 'prompt_tokens_details': {'audio_tokens': 0, 'cached_tokens': 0}}, 'model_name': 'gpt-4o-mini-2024-07-18', 'system_fingerprint': 'fp_bd83329f63', 'finish_reason': 'function_call', 'logprobs': None}, id='run-e3b4f017-8783-4b84-afe8-a8fe62908109-0', usage_metadata={'input_tokens': 2109, 'output_tokens': 21, 'total_tokens': 2130, 'input_token_details': {'audio': 0, 'cache_read': 0}, 'output_token_details': {'audio': 0, 'reasoning': 0}})]),\n   'ITALY\\nMINUBE TRAVEL GUIDE\\nThe best must-see places for your travels, all\\ndiscovered by real minube users. Enjoy!\\n\\nWhat to see\\n in Italy\\nPage 10\\n58\\nGardens\\nParco Sempione\\n \\nPatricia M. Gómez:\\n \\nThis is one of the most important\\nparks in Milan. \\nIt was wonderful to visit it this winter all\\ncovered in snow and then this spring for our first \"picnic\". The\\npark is very well kept and clean. \\nYou can easily go to\\nworkout, walk or just have a little taste of green space in this\\ncity, which can sometimes be gray. \\n☎\\n 390 277 404 343\\n - \\nPiazza Castello, 20121 Milan, Italy, \\nMilan\\n59\\nExhibitions\\nGulf of Naples\\n \\nCarlos Millán Gómez:\\n \\nIs there anywhere in the world\\nmore beautiful than the Gulf of Naples? I would say no. It is\\nthe very center of Paradise (perhaps it\\'s also by the door of\\nhell, yes, because Mount Vesuvius could erupt at any time).\\nThe Gulf smells like sea, lemon, fish, tomato ... and also\\nsounds wonderful, due to Naples\\' Italian music. \"O sole mio\",\\n\"Torna Surriento\", \"Questa picolissima serenade\" ... Want to\\nknow more about Neapolitan music? Well, come here, turn\\nthe speakers up and enjoy. http://bit.ly/qOEjiU \\nNapoli, \\nNaples\\n60\\nHistorical Monuments\\nJuliet\\'s House (Casa di Giulietta)\\n \\nMaría Carmen García Moraleda:\\n \\nVerona is a pleasant\\nplace. The city itself is very nice and there is romance added\\nthanks to the story of Romeo and Juliet, although the truth is\\nthat now it is not very touristy. \\nAlthough if really what you\\nwant is love, poetry and verse, its marvellous. \\n \\nmaya menozzi:\\n \\nit’s lovely to see lots of people writing\\n\\nfossis:\\n \\nMy experience was amazing. I took a trip through\\nItaly starting in Florence and I\\'m still amazed at how beautiful\\nit was. I didn\\'t expect it. I recommend that if you go to Italy,\\npass through Florence and to the Piazzale Michelangelo at\\nnight. You won\\'t be sorry. It\\'s beautiful, especially the view of\\nFlorence since you see everything from here. All my best!\\nPiazzale Michelangelo, \\nFlorence\\n\\nWhat to see\\n in Italy\\nPage 4\\nTrevi Fountain \\nTrotamundos:\\n The Trevi Fountain has its origins in the year 19BC when a freshwater spring was discovered, supposedly\\nwith the help of a Virgin. The discovery of this spring led Romans to build an aqueduct which, as was the tradition of the time,\\nended with a fountain. And so the Trevi Fountain was built. \\nThe monumental fountain we admire today was built in the 18th\\ncentury by an obscure character named Nicola Salvi. It took 30 years to built and ended up ruining Salvi\\'s health. He died unable\\nto undertake other projects and without seeing his beautiful fountain completed (the work was finished by Pietro Bracci). One of\\nthe Trevi Fountain\\'s most outstanding features is the contrast between the fountain\\'s overwhelming grandeur and its location amid\\nnarrow alleyways and tiny squares. It was intentionally designed to elicit a surprise from tourists, most of whom are no doubt\\ndeeply impressed when they come face to face with it. \\nWhat I want to talk about, though, are the statues: at the top, the papal\\nshield stands between two winged figures playing trumpets. Below, there are sculptures representing the four seasons and the\\ncyclical nature of time. On either side of the main figure, there are two reliefs that depict the story of Agrippa’s soldiers discovering\\nthe spring with a dowsing rod and Agrippa ordering the construction of the aqueduct. \\nTwo other large statues tell of the benefits of')]}"
     },
     "execution_count": 27,
     "metadata": {},
     "output_type": "execute_result"
    }
   ],
   "source": [
    "agent_executor.invoke({\"input\": \"I'm travelling to Italy, can you give me some suggestions of the main attractions?\"})"
   ],
   "metadata": {
    "collapsed": false,
    "ExecuteTime": {
     "end_time": "2025-01-13T01:30:44.422734Z",
     "start_time": "2025-01-13T01:30:37.684991Z"
    }
   },
   "id": "5ebbbf85eef1492d",
   "execution_count": 27
  }
 ],
 "metadata": {
  "kernelspec": {
   "display_name": "Python 3",
   "language": "python",
   "name": "python3"
  },
  "language_info": {
   "codemirror_mode": {
    "name": "ipython",
    "version": 2
   },
   "file_extension": ".py",
   "mimetype": "text/x-python",
   "name": "python",
   "nbconvert_exporter": "python",
   "pygments_lexer": "ipython2",
   "version": "2.7.6"
  }
 },
 "nbformat": 4,
 "nbformat_minor": 5
}
